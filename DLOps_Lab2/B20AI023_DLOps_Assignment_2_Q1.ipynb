{
  "nbformat": 4,
  "nbformat_minor": 0,
  "metadata": {
    "colab": {
      "provenance": [],
      "gpuType": "T4",
      "collapsed_sections": [
        "t-Q0NbAPtpsX"
      ]
    },
    "kernelspec": {
      "name": "python3",
      "display_name": "Python 3"
    },
    "language_info": {
      "name": "python"
    },
    "accelerator": "GPU",
    "gpuClass": "standard"
  },
  "cells": [
    {
      "cell_type": "code",
      "source": [
        "from google.colab import drive\n",
        "drive.mount('/content/drive')"
      ],
      "metadata": {
        "colab": {
          "base_uri": "https://localhost:8080/"
        },
        "id": "b2unp-p0ypFy",
        "outputId": "5eb92531-9541-4041-a280-d3662764aa32"
      },
      "execution_count": 3,
      "outputs": [
        {
          "output_type": "stream",
          "name": "stdout",
          "text": [
            "Mounted at /content/drive\n"
          ]
        }
      ]
    },
    {
      "cell_type": "markdown",
      "source": [
        "### References\n",
        "https://github.com/bentrevett/pytorch-seq2seq/blob/master/1 - Sequence to Sequence Learning with Neural Networks.ipynb"
      ],
      "metadata": {
        "id": "MvwVaGxg6iQ0"
      }
    },
    {
      "cell_type": "code",
      "source": [
        "import pandas as pd\n",
        "import numpy as np\n",
        "import torch\n",
        "import torch.nn as nn\n",
        "import torch.optim as optim\n",
        "from torch.utils.data import Dataset, DataLoader\n",
        "from sklearn.model_selection import train_test_split\n",
        "\n",
        "train_path = '/content/drive/MyDrive/Deep Learning/DL_ops_A2/Dakshina Dataset/hi/lexicons/hi.translit.sampled.train.tsv'\n",
        "test_path = '/content/drive/MyDrive/Deep Learning/DL_ops_A2/Dakshina Dataset/hi/lexicons/hi.translit.sampled.test.tsv'\n",
        "df_train = pd.read_csv(train_path, sep='\\t', header=None, names=['target', 'source', 'attn'])\n",
        "df_train = df_train.sample(frac=1, random_state=42).reset_index(drop=True)  # shuffle rows\n",
        "df_test = pd.read_csv(test_path, sep='\\t', header=None, names=['target', 'source', 'attn'])\n",
        "df_test = df_test.sample(frac=1, random_state=42).reset_index(drop=True)  # shuffle rows"
      ],
      "metadata": {
        "id": "YnSiF0fgS6JG"
      },
      "execution_count": 4,
      "outputs": []
    },
    {
      "cell_type": "code",
      "source": [
        "import random\n",
        "from tqdm import tqdm\n",
        "import torch.nn.functional as F"
      ],
      "metadata": {
        "id": "VYKaQbdkbnLk"
      },
      "execution_count": 5,
      "outputs": []
    },
    {
      "cell_type": "code",
      "source": [
        "df_train.head()"
      ],
      "metadata": {
        "colab": {
          "base_uri": "https://localhost:8080/",
          "height": 204
        },
        "id": "Jf9tUADkVbxJ",
        "outputId": "cd4d76e2-2208-4819-c0d6-1509313e6a95"
      },
      "execution_count": 6,
      "outputs": [
        {
          "output_type": "execute_result",
          "data": {
            "text/plain": [
              "     target    source  attn\n",
              "0  एमबीबीएस      mbbs     3\n",
              "1     बस्सी     bassi     2\n",
              "2     मानते    manate     1\n",
              "3   देवलिया   devliya     2\n",
              "4  निंबार्क  nimbaark     1"
            ],
            "text/html": [
              "\n",
              "  <div id=\"df-c1d2203f-dc87-4c28-8dbe-e3ccf3c4a291\">\n",
              "    <div class=\"colab-df-container\">\n",
              "      <div>\n",
              "<style scoped>\n",
              "    .dataframe tbody tr th:only-of-type {\n",
              "        vertical-align: middle;\n",
              "    }\n",
              "\n",
              "    .dataframe tbody tr th {\n",
              "        vertical-align: top;\n",
              "    }\n",
              "\n",
              "    .dataframe thead th {\n",
              "        text-align: right;\n",
              "    }\n",
              "</style>\n",
              "<table border=\"1\" class=\"dataframe\">\n",
              "  <thead>\n",
              "    <tr style=\"text-align: right;\">\n",
              "      <th></th>\n",
              "      <th>target</th>\n",
              "      <th>source</th>\n",
              "      <th>attn</th>\n",
              "    </tr>\n",
              "  </thead>\n",
              "  <tbody>\n",
              "    <tr>\n",
              "      <th>0</th>\n",
              "      <td>एमबीबीएस</td>\n",
              "      <td>mbbs</td>\n",
              "      <td>3</td>\n",
              "    </tr>\n",
              "    <tr>\n",
              "      <th>1</th>\n",
              "      <td>बस्सी</td>\n",
              "      <td>bassi</td>\n",
              "      <td>2</td>\n",
              "    </tr>\n",
              "    <tr>\n",
              "      <th>2</th>\n",
              "      <td>मानते</td>\n",
              "      <td>manate</td>\n",
              "      <td>1</td>\n",
              "    </tr>\n",
              "    <tr>\n",
              "      <th>3</th>\n",
              "      <td>देवलिया</td>\n",
              "      <td>devliya</td>\n",
              "      <td>2</td>\n",
              "    </tr>\n",
              "    <tr>\n",
              "      <th>4</th>\n",
              "      <td>निंबार्क</td>\n",
              "      <td>nimbaark</td>\n",
              "      <td>1</td>\n",
              "    </tr>\n",
              "  </tbody>\n",
              "</table>\n",
              "</div>\n",
              "      <button class=\"colab-df-convert\" onclick=\"convertToInteractive('df-c1d2203f-dc87-4c28-8dbe-e3ccf3c4a291')\"\n",
              "              title=\"Convert this dataframe to an interactive table.\"\n",
              "              style=\"display:none;\">\n",
              "        \n",
              "  <svg xmlns=\"http://www.w3.org/2000/svg\" height=\"24px\"viewBox=\"0 0 24 24\"\n",
              "       width=\"24px\">\n",
              "    <path d=\"M0 0h24v24H0V0z\" fill=\"none\"/>\n",
              "    <path d=\"M18.56 5.44l.94 2.06.94-2.06 2.06-.94-2.06-.94-.94-2.06-.94 2.06-2.06.94zm-11 1L8.5 8.5l.94-2.06 2.06-.94-2.06-.94L8.5 2.5l-.94 2.06-2.06.94zm10 10l.94 2.06.94-2.06 2.06-.94-2.06-.94-.94-2.06-.94 2.06-2.06.94z\"/><path d=\"M17.41 7.96l-1.37-1.37c-.4-.4-.92-.59-1.43-.59-.52 0-1.04.2-1.43.59L10.3 9.45l-7.72 7.72c-.78.78-.78 2.05 0 2.83L4 21.41c.39.39.9.59 1.41.59.51 0 1.02-.2 1.41-.59l7.78-7.78 2.81-2.81c.8-.78.8-2.07 0-2.86zM5.41 20L4 18.59l7.72-7.72 1.47 1.35L5.41 20z\"/>\n",
              "  </svg>\n",
              "      </button>\n",
              "      \n",
              "  <style>\n",
              "    .colab-df-container {\n",
              "      display:flex;\n",
              "      flex-wrap:wrap;\n",
              "      gap: 12px;\n",
              "    }\n",
              "\n",
              "    .colab-df-convert {\n",
              "      background-color: #E8F0FE;\n",
              "      border: none;\n",
              "      border-radius: 50%;\n",
              "      cursor: pointer;\n",
              "      display: none;\n",
              "      fill: #1967D2;\n",
              "      height: 32px;\n",
              "      padding: 0 0 0 0;\n",
              "      width: 32px;\n",
              "    }\n",
              "\n",
              "    .colab-df-convert:hover {\n",
              "      background-color: #E2EBFA;\n",
              "      box-shadow: 0px 1px 2px rgba(60, 64, 67, 0.3), 0px 1px 3px 1px rgba(60, 64, 67, 0.15);\n",
              "      fill: #174EA6;\n",
              "    }\n",
              "\n",
              "    [theme=dark] .colab-df-convert {\n",
              "      background-color: #3B4455;\n",
              "      fill: #D2E3FC;\n",
              "    }\n",
              "\n",
              "    [theme=dark] .colab-df-convert:hover {\n",
              "      background-color: #434B5C;\n",
              "      box-shadow: 0px 1px 3px 1px rgba(0, 0, 0, 0.15);\n",
              "      filter: drop-shadow(0px 1px 2px rgba(0, 0, 0, 0.3));\n",
              "      fill: #FFFFFF;\n",
              "    }\n",
              "  </style>\n",
              "\n",
              "      <script>\n",
              "        const buttonEl =\n",
              "          document.querySelector('#df-c1d2203f-dc87-4c28-8dbe-e3ccf3c4a291 button.colab-df-convert');\n",
              "        buttonEl.style.display =\n",
              "          google.colab.kernel.accessAllowed ? 'block' : 'none';\n",
              "\n",
              "        async function convertToInteractive(key) {\n",
              "          const element = document.querySelector('#df-c1d2203f-dc87-4c28-8dbe-e3ccf3c4a291');\n",
              "          const dataTable =\n",
              "            await google.colab.kernel.invokeFunction('convertToInteractive',\n",
              "                                                     [key], {});\n",
              "          if (!dataTable) return;\n",
              "\n",
              "          const docLinkHtml = 'Like what you see? Visit the ' +\n",
              "            '<a target=\"_blank\" href=https://colab.research.google.com/notebooks/data_table.ipynb>data table notebook</a>'\n",
              "            + ' to learn more about interactive tables.';\n",
              "          element.innerHTML = '';\n",
              "          dataTable['output_type'] = 'display_data';\n",
              "          await google.colab.output.renderOutput(dataTable, element);\n",
              "          const docLink = document.createElement('div');\n",
              "          docLink.innerHTML = docLinkHtml;\n",
              "          element.appendChild(docLink);\n",
              "        }\n",
              "      </script>\n",
              "    </div>\n",
              "  </div>\n",
              "  "
            ]
          },
          "metadata": {},
          "execution_count": 6
        }
      ]
    },
    {
      "cell_type": "code",
      "source": [
        "df_train['source'].head()"
      ],
      "metadata": {
        "colab": {
          "base_uri": "https://localhost:8080/"
        },
        "id": "t1b-7sK1VNgB",
        "outputId": "8ead6a6a-7727-4ad2-d847-e5150b02b9b9"
      },
      "execution_count": 7,
      "outputs": [
        {
          "output_type": "execute_result",
          "data": {
            "text/plain": [
              "0        mbbs\n",
              "1       bassi\n",
              "2      manate\n",
              "3     devliya\n",
              "4    nimbaark\n",
              "Name: source, dtype: object"
            ]
          },
          "metadata": {},
          "execution_count": 7
        }
      ]
    },
    {
      "cell_type": "code",
      "source": [
        "df_train['target'].head()"
      ],
      "metadata": {
        "colab": {
          "base_uri": "https://localhost:8080/"
        },
        "id": "Zn5N8fCSVWiP",
        "outputId": "b87f8411-b0e2-4cb6-da6e-c60ce8f3c20d"
      },
      "execution_count": 8,
      "outputs": [
        {
          "output_type": "execute_result",
          "data": {
            "text/plain": [
              "0    एमबीबीएस\n",
              "1       बस्सी\n",
              "2       मानते\n",
              "3     देवलिया\n",
              "4    निंबार्क\n",
              "Name: target, dtype: object"
            ]
          },
          "metadata": {},
          "execution_count": 8
        }
      ]
    },
    {
      "cell_type": "code",
      "source": [
        "print(type(df_train['source']), type(df_train['target']))"
      ],
      "metadata": {
        "colab": {
          "base_uri": "https://localhost:8080/"
        },
        "id": "MWNZX0G9V5df",
        "outputId": "13d18359-94cd-4af4-f8a8-92ea3bab7fc0"
      },
      "execution_count": 9,
      "outputs": [
        {
          "output_type": "stream",
          "name": "stdout",
          "text": [
            "<class 'pandas.core.series.Series'> <class 'pandas.core.series.Series'>\n"
          ]
        }
      ]
    },
    {
      "cell_type": "code",
      "source": [
        "print(type(df_train['source'][0]), type(df_train['target'][0]))"
      ],
      "metadata": {
        "colab": {
          "base_uri": "https://localhost:8080/"
        },
        "id": "pHmpB_E0WWxH",
        "outputId": "fc29ce0a-a446-4196-f9af-edc00c8a3834"
      },
      "execution_count": 10,
      "outputs": [
        {
          "output_type": "stream",
          "name": "stdout",
          "text": [
            "<class 'str'> <class 'str'>\n"
          ]
        }
      ]
    },
    {
      "cell_type": "code",
      "source": [
        "input_chars = np.array(['a', 'b', 'c', 'd', 'e', 'f', 'g', 'h', 'i', 'j',\n",
        "                         'k', 'l', 'm', 'n', 'o', 'p', 'q', 'r', 's', 't',\n",
        "                         'u', 'v', 'w', 'x', 'y', 'z'])\n",
        "output_chars = sorted(list(set(df_train['target'].str.encode('utf-8').sum().decode('utf-8'))))\n",
        "input_char_to_index = {ch: i for i, ch in enumerate(input_chars)}\n",
        "output_char_to_index = {ch: i for i, ch in enumerate(output_chars)}\n",
        "input_vocab_size = len(input_chars)\n",
        "output_vocab_size = len(output_chars)"
      ],
      "metadata": {
        "id": "bCe2QmhTWuFK"
      },
      "execution_count": 11,
      "outputs": []
    },
    {
      "cell_type": "code",
      "source": [
        "print(output_char_to_index)\n",
        "print(output_vocab_size)"
      ],
      "metadata": {
        "colab": {
          "base_uri": "https://localhost:8080/"
        },
        "id": "jLC2fON4ZYK_",
        "outputId": "80e08398-8906-4ac6-a2a8-55ed0312a071"
      },
      "execution_count": 12,
      "outputs": [
        {
          "output_type": "stream",
          "name": "stdout",
          "text": [
            "{'ँ': 0, 'ं': 1, 'ः': 2, 'अ': 3, 'आ': 4, 'इ': 5, 'ई': 6, 'उ': 7, 'ऊ': 8, 'ऋ': 9, 'ए': 10, 'ऐ': 11, 'ऑ': 12, 'ओ': 13, 'औ': 14, 'क': 15, 'ख': 16, 'ग': 17, 'घ': 18, 'ङ': 19, 'च': 20, 'छ': 21, 'ज': 22, 'झ': 23, 'ञ': 24, 'ट': 25, 'ठ': 26, 'ड': 27, 'ढ': 28, 'ण': 29, 'त': 30, 'थ': 31, 'द': 32, 'ध': 33, 'न': 34, 'प': 35, 'फ': 36, 'ब': 37, 'भ': 38, 'म': 39, 'य': 40, 'र': 41, 'ल': 42, 'व': 43, 'श': 44, 'ष': 45, 'स': 46, 'ह': 47, '़': 48, 'ा': 49, 'ि': 50, 'ी': 51, 'ु': 52, 'ू': 53, 'ृ': 54, 'ॅ': 55, 'े': 56, 'ै': 57, 'ॉ': 58, 'ो': 59, 'ौ': 60, '्': 61, 'ॐ': 62}\n",
            "63\n"
          ]
        }
      ]
    },
    {
      "cell_type": "code",
      "source": [
        "print(input_char_to_index)"
      ],
      "metadata": {
        "colab": {
          "base_uri": "https://localhost:8080/"
        },
        "id": "Y2JDlT7ZZics",
        "outputId": "5a24abcd-cc4c-4800-e14f-4182eaf6e3c3"
      },
      "execution_count": 13,
      "outputs": [
        {
          "output_type": "stream",
          "name": "stdout",
          "text": [
            "{'a': 0, 'b': 1, 'c': 2, 'd': 3, 'e': 4, 'f': 5, 'g': 6, 'h': 7, 'i': 8, 'j': 9, 'k': 10, 'l': 11, 'm': 12, 'n': 13, 'o': 14, 'p': 15, 'q': 16, 'r': 17, 's': 18, 't': 19, 'u': 20, 'v': 21, 'w': 22, 'x': 23, 'y': 24, 'z': 25}\n"
          ]
        }
      ]
    },
    {
      "cell_type": "code",
      "source": [
        "class TransliterationDataset(Dataset):\n",
        "    def __init__(self, df, input_char_to_index, output_char_to_index):\n",
        "        self.df = df.dropna()\n",
        "        self.input_char_to_index = input_char_to_index\n",
        "        self.output_char_to_index = output_char_to_index\n",
        "        self.max_len_inp = 25\n",
        "        self.max_len_output = 25\n",
        "        \n",
        "    def __len__(self):\n",
        "        return len(self.df)\n",
        "    \n",
        "    def __getitem__(self, index):\n",
        "        # print(index)\n",
        "        input_seq = [26]\\\n",
        "         + [self.input_char_to_index[ch]\\\n",
        "            for ch in self.df.iloc[index]['source']]\\\n",
        "             + [27] + [28]*(self.max_len_inp - len(self.df.iloc[index]['source']) -2)\n",
        "        output_seq = [63] + [self.output_char_to_index[ch] for ch in self.df.iloc[index]['target']] + [64] + [65]*(self.max_len_output - len(self.df.iloc[index]['target']) -2)\n",
        "        return torch.tensor(input_seq), torch.tensor(output_seq)\n",
        "\n",
        "train_dataset = TransliterationDataset(df_train, input_char_to_index, output_char_to_index)\n",
        "test_dataset = TransliterationDataset(df_test, input_char_to_index, output_char_to_index)\n",
        "train_loader = DataLoader(train_dataset, batch_size=128, shuffle=True)\n",
        "test_loader = DataLoader(test_dataset, batch_size=128, shuffle=False)"
      ],
      "metadata": {
        "id": "KkwVTNMnT4o6"
      },
      "execution_count": 14,
      "outputs": []
    },
    {
      "cell_type": "code",
      "source": [
        "len(train_loader), len(test_loader)"
      ],
      "metadata": {
        "colab": {
          "base_uri": "https://localhost:8080/"
        },
        "id": "GdMjg3KlVFE-",
        "outputId": "31620c85-8eb5-47e4-8a6b-85d3b59efc6e"
      },
      "execution_count": 15,
      "outputs": [
        {
          "output_type": "execute_result",
          "data": {
            "text/plain": [
              "(346, 36)"
            ]
          },
          "metadata": {},
          "execution_count": 15
        }
      ]
    },
    {
      "cell_type": "code",
      "source": [
        "train_dataset[0]"
      ],
      "metadata": {
        "colab": {
          "base_uri": "https://localhost:8080/"
        },
        "id": "Sn4jvcgWoxxX",
        "outputId": "e239ed54-a40b-4999-8d50-dca935a4a84c"
      },
      "execution_count": 16,
      "outputs": [
        {
          "output_type": "execute_result",
          "data": {
            "text/plain": [
              "(tensor([26, 12,  1,  1, 18, 27, 28, 28, 28, 28, 28, 28, 28, 28, 28, 28, 28, 28,\n",
              "         28, 28, 28, 28, 28, 28, 28]),\n",
              " tensor([63, 10, 39, 37, 51, 37, 51, 10, 46, 64, 65, 65, 65, 65, 65, 65, 65, 65,\n",
              "         65, 65, 65, 65, 65, 65, 65]))"
            ]
          },
          "metadata": {},
          "execution_count": 16
        }
      ]
    },
    {
      "cell_type": "code",
      "source": [
        "device = torch.device('cuda' if torch.cuda.is_available() else 'cpu')"
      ],
      "metadata": {
        "id": "lonCDiCfZ6o9"
      },
      "execution_count": 17,
      "outputs": []
    },
    {
      "cell_type": "code",
      "source": [
        "class Encoder(nn.Module):\n",
        "    def __init__(self, input_dim, emb_dim, hid_dim, n_layers, dropout, cell_type='LSTM'):\n",
        "        super().__init__()\n",
        "        \n",
        "        self.hid_dim = hid_dim\n",
        "        self.n_layers = n_layers\n",
        "        self.embedding = nn.Embedding(input_dim, emb_dim)\n",
        "        self.cell_type = cell_type\n",
        "        \n",
        "        if cell_type == 'RNN':\n",
        "            self.rnn = nn.RNN(emb_dim, hid_dim, n_layers, dropout=dropout)\n",
        "        elif cell_type == 'LSTM':\n",
        "            self.lstm = nn.LSTM(emb_dim, hid_dim, n_layers, dropout=dropout)\n",
        "            \n",
        "        self.dropout = nn.Dropout(dropout)\n",
        "        \n",
        "    def forward(self, src):\n",
        "        embedded = self.dropout(self.embedding(src))\n",
        "        if self.cell_type == 'LSTM':\n",
        "            outputs, (hidden, cell) = self.lstm(embedded)\n",
        "            return hidden, cell\n",
        "        else:\n",
        "            outputs, hidden = self.rnn(embedded)\n",
        "            return hidden, None\n"
      ],
      "metadata": {
        "id": "zR9kKiDNal2E"
      },
      "execution_count": 18,
      "outputs": []
    },
    {
      "cell_type": "code",
      "source": [
        "class Decoder(nn.Module):\n",
        "    def __init__(self, output_dim, emb_dim, hid_dim, n_layers, dropout, cell_type='LSTM'):\n",
        "        super().__init__()\n",
        "        \n",
        "        self.output_dim = output_dim\n",
        "        self.hid_dim = hid_dim\n",
        "        self.n_layers = n_layers\n",
        "        self.embedding = nn.Embedding(output_dim, emb_dim)\n",
        "        self.cell_type = cell_type\n",
        "        if cell_type == 'LSTM':\n",
        "            self.lstm = nn.LSTM(emb_dim, hid_dim, n_layers, dropout=dropout)\n",
        "        elif cell_type == 'RNN':\n",
        "            self.rnn = nn.RNN(emb_dim, hid_dim, n_layers, dropout=dropout)\n",
        "        self.fc_out = nn.Linear(hid_dim, output_dim)\n",
        "        self.dropout = nn.Dropout(dropout)\n",
        "        \n",
        "    def forward(self, input, hidden, cell):\n",
        "        input = input.unsqueeze(0)\n",
        "        embedded = self.dropout(self.embedding(input)) \n",
        "        if self.cell_type == 'LSTM':\n",
        "          output, (hidden, cell) = self.lstm(embedded, (hidden, cell))\n",
        "          prediction = self.fc_out(output.squeeze(0))\n",
        "          return prediction, hidden, cell\n",
        "        else:  # Using RNN\n",
        "          output, hidden = self.rnn(embedded, hidden)\n",
        "          prediction = self.fc_out(output.squeeze(0))\n",
        "          return prediction, hidden, None\n",
        "        \n"
      ],
      "metadata": {
        "id": "yylUCIkya6bv"
      },
      "execution_count": 17,
      "outputs": []
    },
    {
      "cell_type": "code",
      "source": [
        "class Seq2Seq(nn.Module):\n",
        "    def __init__(self, encoder, decoder, device):\n",
        "        super().__init__()\n",
        "        self.encoder = encoder\n",
        "        self.decoder = decoder\n",
        "        self.device = device\n",
        "\n",
        "    def forward(self, src, trg ,teacher_forcing_ratio=0.5):\n",
        "        batch_size = trg.shape[1]\n",
        "        trg_len = trg.shape[0]\n",
        "        trg_vocab_size = self.decoder.output_dim\n",
        "        outputs = torch.zeros(trg_len, batch_size, trg_vocab_size, device=self.device)\n",
        "\n",
        "        hidden, cell = self.encoder(src)\n",
        "        input = trg[0, :]\n",
        "\n",
        "        for t in range(1, trg_len):\n",
        "            output, hidden, cell = self.decoder(input, hidden, cell)\n",
        "            outputs[t] = output\n",
        "\n",
        "            teacher_force = random.random() < teacher_forcing_ratio\n",
        "            top1 = output.argmax(1)\n",
        "            input = trg[t] if teacher_force else top1\n",
        "\n",
        "        return outputs\n",
        "\n",
        "    def inference(self, src, max_len):\n",
        "        batch_size = src.shape[1]\n",
        "        trg_vocab_size = self.decoder.output_dim\n",
        "        outputs = torch.zeros(max_len, batch_size, trg_vocab_size, device=self.device)\n",
        "\n",
        "        hidden, cell = self.encoder(src)\n",
        "        input = torch.ones(batch_size, dtype=torch.long, device=self.device)  # Start token\n",
        "\n",
        "        for t in range(max_len):\n",
        "            output, hidden, cell = self.decoder(input, hidden, cell)\n",
        "            outputs[t] = output\n",
        "\n",
        "            top1 = output.argmax(1)\n",
        "            input = top1\n",
        "\n",
        "        return outputs\n"
      ],
      "metadata": {
        "id": "gjHwR6MGnsB-"
      },
      "execution_count": 19,
      "outputs": []
    },
    {
      "cell_type": "code",
      "source": [
        "def train(model, iterator, optimizer, criterion, clip, weight_decay=0.01):\n",
        "    \n",
        "    model.train()\n",
        "    \n",
        "    epoch_loss = 0\n",
        "    \n",
        "    progress_bar = tqdm(iterator)\n",
        "    correct_train = total_train = 0\n",
        "    for i, batch in enumerate(progress_bar):\n",
        "        \n",
        "        src = batch[0].to(device)\n",
        "        trg = batch[1].to(device)\n",
        "        \n",
        "        optimizer.zero_grad()\n",
        "        output = model(src, trg)\n",
        "        output_dim = output.shape[-1]\n",
        "        output = output[1:].view(-1, output_dim)\n",
        "        trg = trg[1:].view(-1)\n",
        "        predicted = torch.argmax(output, 1)\n",
        "        total_train += trg.size(0)\n",
        "        correct_train += (predicted == trg).sum().item()\n",
        "        \n",
        "        loss = criterion(output, trg)\n",
        "        \n",
        "        # # Add L2 regularization\n",
        "        # l2_reg = torch.tensor(0.).to(device)\n",
        "        # for param in model.parameters():\n",
        "        #     l2_reg += torch.norm(param)**2\n",
        "        # loss += weight_decay*l2_reg\n",
        "        \n",
        "        loss.backward()\n",
        "        \n",
        "        torch.nn.utils.clip_grad_norm_(model.parameters(), clip)\n",
        "        \n",
        "        optimizer.step()\n",
        "        \n",
        "        epoch_loss += loss.item()\n",
        " \n",
        "        progress_bar.set_description(f'Epoch {epoch}: Loss: {epoch_loss / len(iterator):.4f}')\n",
        "        \n",
        "    return epoch_loss / len(iterator), 100*(correct_train/total_train)\n"
      ],
      "metadata": {
        "id": "-Hm33e9JxNqJ"
      },
      "execution_count": 20,
      "outputs": []
    },
    {
      "cell_type": "code",
      "source": [
        "def evaluate(model, iterator, criterion):\n",
        "    \n",
        "    model.eval()\n",
        "    \n",
        "    epoch_loss = 0\n",
        "    \n",
        "    with torch.no_grad(), tqdm(iterator, desc='Evaluation') as pbar:\n",
        "\n",
        "         total_test = correct_test = 0\n",
        "         for i, batch in enumerate(pbar):\n",
        "\n",
        "            src = batch[0].to(device)\n",
        "            trg = batch[1].to(device)\n",
        "\n",
        "            output = model(src, trg, 0) #turn off teacher forcing\n",
        "           \n",
        "            output_dim = output.shape[-1]\n",
        "            output = output[1:].view(-1, output_dim)\n",
        "            trg = trg[1:].view(-1)\n",
        "            predicted = torch.argmax(output, 1)\n",
        "            total_test += trg.size(0)\n",
        "            correct_test += (predicted == trg).sum().item()\n",
        "            loss = criterion(output, trg)\n",
        "            \n",
        "            epoch_loss += loss.item()\n",
        "            pbar.set_postfix({'Loss': epoch_loss/(i+1)})\n",
        "        \n",
        "    return epoch_loss / len(iterator), 100*(correct_test/total_test)"
      ],
      "metadata": {
        "id": "tmD4ksVrxWjs"
      },
      "execution_count": 21,
      "outputs": []
    },
    {
      "cell_type": "code",
      "source": [
        "pip install Levenshtein"
      ],
      "metadata": {
        "colab": {
          "base_uri": "https://localhost:8080/"
        },
        "outputId": "057536a9-dccf-4333-df12-8006aefffdd9",
        "id": "IOatvLS0_2uQ"
      },
      "execution_count": 22,
      "outputs": [
        {
          "output_type": "stream",
          "name": "stdout",
          "text": [
            "Looking in indexes: https://pypi.org/simple, https://us-python.pkg.dev/colab-wheels/public/simple/\n",
            "Collecting Levenshtein\n",
            "  Downloading Levenshtein-0.20.9-cp39-cp39-manylinux_2_17_x86_64.manylinux2014_x86_64.whl (175 kB)\n",
            "\u001b[2K     \u001b[90m━━━━━━━━━━━━━━━━━━━━━━━━━━━━━━━━━━━━━━\u001b[0m \u001b[32m175.5/175.5 KB\u001b[0m \u001b[31m10.8 MB/s\u001b[0m eta \u001b[36m0:00:00\u001b[0m\n",
            "\u001b[?25hCollecting rapidfuzz<3.0.0,>=2.3.0\n",
            "  Downloading rapidfuzz-2.15.0-cp39-cp39-manylinux_2_17_x86_64.manylinux2014_x86_64.whl (2.2 MB)\n",
            "\u001b[2K     \u001b[90m━━━━━━━━━━━━━━━━━━━━━━━━━━━━━━━━━━━━━━━━\u001b[0m \u001b[32m2.2/2.2 MB\u001b[0m \u001b[31m80.8 MB/s\u001b[0m eta \u001b[36m0:00:00\u001b[0m\n",
            "\u001b[?25hInstalling collected packages: rapidfuzz, Levenshtein\n",
            "Successfully installed Levenshtein-0.20.9 rapidfuzz-2.15.0\n"
          ]
        }
      ]
    },
    {
      "cell_type": "code",
      "source": [
        "input_chars = np.array(['a', 'b', 'c', 'd', 'e', 'f', 'g', 'h', 'i', 'j',\n",
        "                         'k', 'l', 'm', 'n', 'o', 'p', 'q', 'r', 's', 't',\n",
        "                         'u', 'v', 'w', 'x', 'y', 'z'])\n",
        "output_chars = sorted(list(set(df_train['target'].str.encode('utf-8').sum().decode('utf-8'))))\n",
        "output_chars = ['<SOS>', '<EOS>', '<PAD>'] + output_chars\n",
        "output_char_to_index = {ch: i for i, ch in enumerate(output_chars)}\n",
        "output_vocab_size = len(output_chars)\n",
        "output_index_to_char = {i:ch for ch,i in output_char_to_index.items()}\n",
        "import Levenshtein\n",
        "def levenshtein_distance(preds, targets):\n",
        "    batch_size = preds.shape[0]\n",
        "    seq_len = preds.shape[1]\n",
        "\n",
        "    distances = []\n",
        "    for i in range(batch_size):\n",
        "        pred_str = ''.join([output_index_to_char[pred] for pred in preds[i] if pred not in [output_char_to_index['<SOS>'], output_char_to_index['<PAD>']]])\n",
        "        target_str = ''.join([output_index_to_char[target] for target in targets[i] if target not in [output_char_to_index['<EOS>'], output_char_to_index['<PAD>']]])\n",
        "        distance = Levenshtein.distance(pred_str, target_str)\n",
        "        distances.append(distance)\n",
        "\n",
        "    avg_distance = sum(distances) / batch_size\n",
        "    accuracy = 1 - avg_distance / seq_len\n",
        "    return accuracy\n",
        "\n",
        "\n",
        "def evaluate_acc(model, data_loader):\n",
        "    model.eval()\n",
        "    total_preds = []\n",
        "    total_targets = []\n",
        "\n",
        "    with torch.no_grad():\n",
        "        for batch in data_loader:\n",
        "            input_seqs = batch[0].to(device)\n",
        "            target_seqs = batch[1].to(device)\n",
        "            preds = model(input_seqs, target_seqs, 0) # turn off teacher forcing\n",
        "            preds = torch.argmax(preds, dim=2).detach().cpu().numpy()\n",
        "            total_preds.extend(preds)\n",
        "            total_targets.extend(target_seqs.cpu().numpy())\n",
        "\n",
        "    accuracy = levenshtein_distance(np.array(total_preds), np.array(total_targets))\n",
        "    return accuracy\n"
      ],
      "metadata": {
        "id": "mgmudb2G_2uW"
      },
      "execution_count": 23,
      "outputs": []
    },
    {
      "cell_type": "markdown",
      "source": [
        "## train seq2seq model for LSTM"
      ],
      "metadata": {
        "id": "TkB5_gMebjQt"
      }
    },
    {
      "cell_type": "markdown",
      "source": [
        "### parameters \n",
        "Input embedding size: 16<br>\n",
        "number of encoder layers: 1<br>\n",
        "number of decoder layers: 1<br>\n",
        "hidden layer size: 16"
      ],
      "metadata": {
        "id": "LffGUV2aJ6yh"
      }
    },
    {
      "cell_type": "code",
      "source": [
        "INPUT_DIM = 29\n",
        "OUTPUT_DIM = 66\n",
        "ENC_EMB_DIM = 16\n",
        "DEC_EMB_DIM = 16\n",
        "HID_DIM = 16\n",
        "N_LAYERS = 1\n",
        "ENC_DROPOUT = 0.25\n",
        "DEC_DROPOUT = 0.25\n",
        "\n",
        "enc = Encoder(INPUT_DIM, ENC_EMB_DIM, HID_DIM, N_LAYERS, ENC_DROPOUT, 'LSTM')\n",
        "dec = Decoder(OUTPUT_DIM, DEC_EMB_DIM, HID_DIM, N_LAYERS, DEC_DROPOUT, 'LSTM')\n",
        "\n",
        "model = Seq2Seq(enc, dec, device).to(device)"
      ],
      "metadata": {
        "id": "_NqroBoDblsw",
        "colab": {
          "base_uri": "https://localhost:8080/"
        },
        "outputId": "bf4f0200-6a2c-4fa2-c6f8-2f9a510a6cd0"
      },
      "execution_count": 21,
      "outputs": [
        {
          "output_type": "stream",
          "name": "stderr",
          "text": [
            "/usr/local/lib/python3.9/dist-packages/torch/nn/modules/rnn.py:71: UserWarning: dropout option adds dropout after all but last recurrent layer, so non-zero dropout expects num_layers greater than 1, but got dropout=0.25 and num_layers=1\n",
            "  warnings.warn(\"dropout option adds dropout after all but last \"\n"
          ]
        }
      ]
    },
    {
      "cell_type": "code",
      "source": [
        "optimizer = optim.Adam(model.parameters(), lr = 3e-5)"
      ],
      "metadata": {
        "id": "EDkDxLmmwv0z"
      },
      "execution_count": 22,
      "outputs": []
    },
    {
      "cell_type": "code",
      "source": [
        "criterion = nn.CrossEntropyLoss(ignore_index = 64)  #ignore EOS token"
      ],
      "metadata": {
        "id": "leGBKuNxw5M2"
      },
      "execution_count": 23,
      "outputs": []
    },
    {
      "cell_type": "code",
      "source": [
        "def epoch_time(start_time, end_time):\n",
        "    elapsed_time = end_time - start_time\n",
        "    elapsed_mins = int(elapsed_time / 60)\n",
        "    elapsed_secs = int(elapsed_time - (elapsed_mins * 60))\n",
        "    return elapsed_mins, elapsed_secs"
      ],
      "metadata": {
        "id": "6TwcgeiJxZnd"
      },
      "execution_count": 24,
      "outputs": []
    },
    {
      "cell_type": "code",
      "source": [
        "N_EPOCHS = 20\n",
        "CLIP = 1\n",
        "import time\n",
        "import math\n",
        "best_test_loss = float('inf')\n",
        "train_losses = []\n",
        "test_losses = []\n",
        "for epoch in range(N_EPOCHS):\n",
        "    start_time = time.time()\n",
        "    train_loss = train(model, train_loader, optimizer, criterion, CLIP)\n",
        "    test_loss = evaluate(model, test_loader, criterion)\n",
        "    end_time = time.time()\n",
        "    if test_loss < best_test_loss:\n",
        "        best_test_loss = test_loss\n",
        "        torch.save(model.state_dict(), '/content/drive/MyDrive/Deep Learning/DL_ops_A2/seq2seq-model_lstm_16_3e-5.pt')\n",
        "    train_losses.append(train_loss)\n",
        "    test_losses.append(test_loss)\n",
        "\n",
        "    print(f'\\tTrain Loss: {train_loss:.3f} | Val. Loss: {test_loss:.3f}')"
      ],
      "metadata": {
        "id": "H8swuE1lxb41",
        "colab": {
          "base_uri": "https://localhost:8080/"
        },
        "outputId": "6c3a5abf-f75e-466a-9494-8d74725d05aa"
      },
      "execution_count": 26,
      "outputs": [
        {
          "output_type": "stream",
          "name": "stderr",
          "text": [
            "Epoch 0: Loss: 4.1799: 100%|██████████| 346/346 [01:06<00:00,  5.20it/s]\n",
            "Evaluation: 100%|██████████| 36/36 [00:03<00:00, 11.77it/s, Loss=4.2]\n"
          ]
        },
        {
          "output_type": "stream",
          "name": "stdout",
          "text": [
            "\tTrain Loss: 4.180 | Val. Loss: 4.204\n"
          ]
        },
        {
          "output_type": "stream",
          "name": "stderr",
          "text": [
            "Epoch 1: Loss: 3.9039: 100%|██████████| 346/346 [00:59<00:00,  5.81it/s]\n",
            "Evaluation: 100%|██████████| 36/36 [00:03<00:00, 11.05it/s, Loss=3.59]\n"
          ]
        },
        {
          "output_type": "stream",
          "name": "stdout",
          "text": [
            "\tTrain Loss: 3.904 | Val. Loss: 3.594\n"
          ]
        },
        {
          "output_type": "stream",
          "name": "stderr",
          "text": [
            "Epoch 2: Loss: 3.4226: 100%|██████████| 346/346 [00:58<00:00,  5.91it/s]\n",
            "Evaluation: 100%|██████████| 36/36 [00:03<00:00, 10.73it/s, Loss=3.16]\n"
          ]
        },
        {
          "output_type": "stream",
          "name": "stdout",
          "text": [
            "\tTrain Loss: 3.423 | Val. Loss: 3.156\n"
          ]
        },
        {
          "output_type": "stream",
          "name": "stderr",
          "text": [
            "Epoch 3: Loss: 3.0349: 100%|██████████| 346/346 [00:57<00:00,  5.97it/s]\n",
            "Evaluation: 100%|██████████| 36/36 [00:02<00:00, 12.29it/s, Loss=2.77]\n"
          ]
        },
        {
          "output_type": "stream",
          "name": "stdout",
          "text": [
            "\tTrain Loss: 3.035 | Val. Loss: 2.774\n"
          ]
        },
        {
          "output_type": "stream",
          "name": "stderr",
          "text": [
            "Epoch 4: Loss: 2.6946: 100%|██████████| 346/346 [00:59<00:00,  5.79it/s]\n",
            "Evaluation: 100%|██████████| 36/36 [00:04<00:00,  8.74it/s, Loss=2.47]\n"
          ]
        },
        {
          "output_type": "stream",
          "name": "stdout",
          "text": [
            "\tTrain Loss: 2.695 | Val. Loss: 2.466\n"
          ]
        },
        {
          "output_type": "stream",
          "name": "stderr",
          "text": [
            "Epoch 5: Loss: 2.4080: 100%|██████████| 346/346 [01:01<00:00,  5.62it/s]\n",
            "Evaluation: 100%|██████████| 36/36 [00:04<00:00,  8.29it/s, Loss=2.21]\n"
          ]
        },
        {
          "output_type": "stream",
          "name": "stdout",
          "text": [
            "\tTrain Loss: 2.408 | Val. Loss: 2.208\n"
          ]
        },
        {
          "output_type": "stream",
          "name": "stderr",
          "text": [
            "Epoch 6: Loss: 2.1702: 100%|██████████| 346/346 [01:06<00:00,  5.24it/s]\n",
            "Evaluation: 100%|██████████| 36/36 [00:04<00:00,  8.26it/s, Loss=2.01]\n"
          ]
        },
        {
          "output_type": "stream",
          "name": "stdout",
          "text": [
            "\tTrain Loss: 2.170 | Val. Loss: 2.014\n"
          ]
        },
        {
          "output_type": "stream",
          "name": "stderr",
          "text": [
            "Epoch 7: Loss: 1.9904: 100%|██████████| 346/346 [01:00<00:00,  5.76it/s]\n",
            "Evaluation: 100%|██████████| 36/36 [00:03<00:00, 10.97it/s, Loss=1.87]\n"
          ]
        },
        {
          "output_type": "stream",
          "name": "stdout",
          "text": [
            "\tTrain Loss: 1.990 | Val. Loss: 1.872\n"
          ]
        },
        {
          "output_type": "stream",
          "name": "stderr",
          "text": [
            "Epoch 8: Loss: 1.8477: 100%|██████████| 346/346 [01:00<00:00,  5.73it/s]\n",
            "Evaluation: 100%|██████████| 36/36 [00:03<00:00, 11.24it/s, Loss=1.76]\n"
          ]
        },
        {
          "output_type": "stream",
          "name": "stdout",
          "text": [
            "\tTrain Loss: 1.848 | Val. Loss: 1.764\n"
          ]
        },
        {
          "output_type": "stream",
          "name": "stderr",
          "text": [
            "Epoch 9: Loss: 1.7276: 100%|██████████| 346/346 [01:05<00:00,  5.27it/s]\n",
            "Evaluation: 100%|██████████| 36/36 [00:03<00:00, 11.05it/s, Loss=1.69]\n"
          ]
        },
        {
          "output_type": "stream",
          "name": "stdout",
          "text": [
            "\tTrain Loss: 1.728 | Val. Loss: 1.686\n"
          ]
        },
        {
          "output_type": "stream",
          "name": "stderr",
          "text": [
            "Epoch 10: Loss: 1.6272: 100%|██████████| 346/346 [01:04<00:00,  5.39it/s]\n",
            "Evaluation: 100%|██████████| 36/36 [00:03<00:00, 10.86it/s, Loss=1.62]\n"
          ]
        },
        {
          "output_type": "stream",
          "name": "stdout",
          "text": [
            "\tTrain Loss: 1.627 | Val. Loss: 1.619\n"
          ]
        },
        {
          "output_type": "stream",
          "name": "stderr",
          "text": [
            "Epoch 11: Loss: 1.5426: 100%|██████████| 346/346 [01:03<00:00,  5.44it/s]\n",
            "Evaluation: 100%|██████████| 36/36 [00:03<00:00,  9.17it/s, Loss=1.56]\n"
          ]
        },
        {
          "output_type": "stream",
          "name": "stdout",
          "text": [
            "\tTrain Loss: 1.543 | Val. Loss: 1.563\n"
          ]
        },
        {
          "output_type": "stream",
          "name": "stderr",
          "text": [
            "Epoch 12: Loss: 1.4759: 100%|██████████| 346/346 [01:04<00:00,  5.35it/s]\n",
            "Evaluation: 100%|██████████| 36/36 [00:04<00:00,  8.77it/s, Loss=1.51]\n"
          ]
        },
        {
          "output_type": "stream",
          "name": "stdout",
          "text": [
            "\tTrain Loss: 1.476 | Val. Loss: 1.513\n"
          ]
        },
        {
          "output_type": "stream",
          "name": "stderr",
          "text": [
            "Epoch 13: Loss: 1.4254: 100%|██████████| 346/346 [01:03<00:00,  5.43it/s]\n",
            "Evaluation: 100%|██████████| 36/36 [00:04<00:00,  7.93it/s, Loss=1.44]\n"
          ]
        },
        {
          "output_type": "stream",
          "name": "stdout",
          "text": [
            "\tTrain Loss: 1.425 | Val. Loss: 1.440\n"
          ]
        },
        {
          "output_type": "stream",
          "name": "stderr",
          "text": [
            "Epoch 14: Loss: 1.3859: 100%|██████████| 346/346 [01:03<00:00,  5.42it/s]\n",
            "Evaluation: 100%|██████████| 36/36 [00:04<00:00,  7.61it/s, Loss=1.37]\n"
          ]
        },
        {
          "output_type": "stream",
          "name": "stdout",
          "text": [
            "\tTrain Loss: 1.386 | Val. Loss: 1.370\n"
          ]
        },
        {
          "output_type": "stream",
          "name": "stderr",
          "text": [
            "Epoch 15: Loss: 1.3526: 100%|██████████| 346/346 [01:03<00:00,  5.46it/s]\n",
            "Evaluation: 100%|██████████| 36/36 [00:04<00:00,  8.20it/s, Loss=1.34]\n"
          ]
        },
        {
          "output_type": "stream",
          "name": "stdout",
          "text": [
            "\tTrain Loss: 1.353 | Val. Loss: 1.342\n"
          ]
        },
        {
          "output_type": "stream",
          "name": "stderr",
          "text": [
            "Epoch 16: Loss: 1.3249: 100%|██████████| 346/346 [01:03<00:00,  5.46it/s]\n",
            "Evaluation: 100%|██████████| 36/36 [00:03<00:00,  9.92it/s, Loss=1.32]\n"
          ]
        },
        {
          "output_type": "stream",
          "name": "stdout",
          "text": [
            "\tTrain Loss: 1.325 | Val. Loss: 1.318\n"
          ]
        },
        {
          "output_type": "stream",
          "name": "stderr",
          "text": [
            "Epoch 17: Loss: 1.2997: 100%|██████████| 346/346 [01:04<00:00,  5.36it/s]\n",
            "Evaluation: 100%|██████████| 36/36 [00:03<00:00, 10.83it/s, Loss=1.32]\n"
          ]
        },
        {
          "output_type": "stream",
          "name": "stdout",
          "text": [
            "\tTrain Loss: 1.300 | Val. Loss: 1.317\n"
          ]
        },
        {
          "output_type": "stream",
          "name": "stderr",
          "text": [
            "Epoch 18: Loss: 1.2766: 100%|██████████| 346/346 [01:04<00:00,  5.33it/s]\n",
            "Evaluation: 100%|██████████| 36/36 [00:03<00:00, 10.85it/s, Loss=1.28]\n"
          ]
        },
        {
          "output_type": "stream",
          "name": "stdout",
          "text": [
            "\tTrain Loss: 1.277 | Val. Loss: 1.282\n"
          ]
        },
        {
          "output_type": "stream",
          "name": "stderr",
          "text": [
            "Epoch 19: Loss: 1.2540: 100%|██████████| 346/346 [01:04<00:00,  5.36it/s]\n",
            "Evaluation: 100%|██████████| 36/36 [00:03<00:00, 10.99it/s, Loss=1.25]"
          ]
        },
        {
          "output_type": "stream",
          "name": "stdout",
          "text": [
            "\tTrain Loss: 1.254 | Val. Loss: 1.254\n"
          ]
        },
        {
          "output_type": "stream",
          "name": "stderr",
          "text": [
            "\n"
          ]
        }
      ]
    },
    {
      "cell_type": "code",
      "source": [
        "evaluate_acc(model,test_loader)"
      ],
      "metadata": {
        "colab": {
          "base_uri": "https://localhost:8080/"
        },
        "outputId": "9c7f7b40-7606-41ca-eb37-18f016ea032e",
        "id": "Ac7yOUF4_2uX"
      },
      "execution_count": null,
      "outputs": [
        {
          "output_type": "execute_result",
          "data": {
            "text/plain": [
              "0.719564637938694"
            ]
          },
          "metadata": {},
          "execution_count": 46
        }
      ]
    },
    {
      "cell_type": "code",
      "source": [
        "import matplotlib.pyplot as plt\n",
        "plt.figure(figsize=(4,4))\n",
        "plt.plot(train_losses, 'b-', label='train loss')\n",
        "plt.plot(test_losses , 'r-', label='test loss')\n",
        "plt.legend()\n",
        "plt.xlabel('epoch')\n",
        "plt.ylabel('loss')\n",
        "plt.title('loss v/s epoch')\n",
        "plt.show()"
      ],
      "metadata": {
        "colab": {
          "base_uri": "https://localhost:8080/",
          "height": 410
        },
        "id": "w1IqV4C5-1_C",
        "outputId": "47bc3bc4-aa32-45b3-9327-9830573bef28"
      },
      "execution_count": 27,
      "outputs": [
        {
          "output_type": "display_data",
          "data": {
            "text/plain": [
              "<Figure size 400x400 with 1 Axes>"
            ],
            "image/png": "[encoded data removed]"
          },
          "metadata": {}
        }
      ]
    },
    {
      "cell_type": "code",
      "source": [],
      "metadata": {
        "id": "5q34Lfn1_HvV"
      },
      "execution_count": null,
      "outputs": []
    },
    {
      "cell_type": "markdown",
      "source": [
        "### hyperparams 2"
      ],
      "metadata": {
        "id": "8101QjRjM5c2"
      }
    },
    {
      "cell_type": "code",
      "source": [
        "INPUT_DIM = 29\n",
        "OUTPUT_DIM = 66\n",
        "ENC_EMB_DIM = 64\n",
        "DEC_EMB_DIM = 64\n",
        "HID_DIM = 64\n",
        "N_LAYERS = 3\n",
        "ENC_DROPOUT = 0.25\n",
        "DEC_DROPOUT = 0.25\n",
        "\n",
        "enc = Encoder(INPUT_DIM, ENC_EMB_DIM, HID_DIM, N_LAYERS, ENC_DROPOUT, 'LSTM')\n",
        "dec = Decoder(OUTPUT_DIM, DEC_EMB_DIM, HID_DIM, N_LAYERS, DEC_DROPOUT, 'LSTM')\n",
        "\n",
        "model2 = Seq2Seq(enc, dec, device).to(device)"
      ],
      "metadata": {
        "id": "PFqCeV_-M_BF"
      },
      "execution_count": 28,
      "outputs": []
    },
    {
      "cell_type": "code",
      "source": [
        "optimizer = optim.Adam(model2.parameters(), lr = 3e-5)"
      ],
      "metadata": {
        "id": "7qKVRlKHM_BI"
      },
      "execution_count": 29,
      "outputs": []
    },
    {
      "cell_type": "code",
      "source": [
        "criterion = nn.CrossEntropyLoss(ignore_index = 64)  #ignore EOS token"
      ],
      "metadata": {
        "id": "5muSEEHgM_BI"
      },
      "execution_count": 30,
      "outputs": []
    },
    {
      "cell_type": "code",
      "source": [
        "N_EPOCHS = 20\n",
        "CLIP = 1\n",
        "import time\n",
        "import math\n",
        "best_test_loss = float('inf')\n",
        "train_losses_2 = []\n",
        "test_losses_2 = []\n",
        "for epoch in range(N_EPOCHS):\n",
        "    start_time = time.time()\n",
        "    train_loss = train(model2, train_loader, optimizer, criterion, CLIP)\n",
        "    test_loss = evaluate(model2, test_loader, criterion)\n",
        "    end_time = time.time()\n",
        "    if test_loss < best_test_loss:\n",
        "        best_test_loss = test_loss\n",
        "        torch.save(model2.state_dict(), '/content/drive/MyDrive/Deep Learning/DL_ops_A2/seq2seq-model_lstm_64_3e-5.pt')\n",
        "    train_losses_2.append(train_loss)\n",
        "    test_losses_2.append(test_loss)\n",
        "\n",
        "    print(f'\\tTrain Loss: {train_loss:.3f} | Val. Loss: {test_loss:.3f}')"
      ],
      "metadata": {
        "colab": {
          "base_uri": "https://localhost:8080/"
        },
        "id": "zVOs265iNJso",
        "outputId": "d71f031f-7113-4fa2-fb3f-22420a3b40df"
      },
      "execution_count": 31,
      "outputs": [
        {
          "output_type": "stream",
          "name": "stderr",
          "text": [
            "Epoch 0: Loss: 3.6181: 100%|██████████| 346/346 [01:09<00:00,  4.96it/s]\n",
            "Evaluation: 100%|██████████| 36/36 [00:04<00:00,  8.73it/s, Loss=2.24]\n"
          ]
        },
        {
          "output_type": "stream",
          "name": "stdout",
          "text": [
            "\tTrain Loss: 3.618 | Val. Loss: 2.240\n"
          ]
        },
        {
          "output_type": "stream",
          "name": "stderr",
          "text": [
            "Epoch 1: Loss: 1.7586: 100%|██████████| 346/346 [01:10<00:00,  4.94it/s]\n",
            "Evaluation: 100%|██████████| 36/36 [00:03<00:00, 11.45it/s, Loss=1.63]\n"
          ]
        },
        {
          "output_type": "stream",
          "name": "stdout",
          "text": [
            "\tTrain Loss: 1.759 | Val. Loss: 1.629\n"
          ]
        },
        {
          "output_type": "stream",
          "name": "stderr",
          "text": [
            "Epoch 2: Loss: 1.3394: 100%|██████████| 346/346 [01:09<00:00,  4.97it/s]\n",
            "Evaluation: 100%|██████████| 36/36 [00:04<00:00,  8.21it/s, Loss=1.49]\n"
          ]
        },
        {
          "output_type": "stream",
          "name": "stdout",
          "text": [
            "\tTrain Loss: 1.339 | Val. Loss: 1.493\n"
          ]
        },
        {
          "output_type": "stream",
          "name": "stderr",
          "text": [
            "Epoch 3: Loss: 1.2305: 100%|██████████| 346/346 [01:07<00:00,  5.09it/s]\n",
            "Evaluation: 100%|██████████| 36/36 [00:03<00:00, 11.56it/s, Loss=1.33]\n"
          ]
        },
        {
          "output_type": "stream",
          "name": "stdout",
          "text": [
            "\tTrain Loss: 1.231 | Val. Loss: 1.330\n"
          ]
        },
        {
          "output_type": "stream",
          "name": "stderr",
          "text": [
            "Epoch 4: Loss: 1.1599: 100%|██████████| 346/346 [01:07<00:00,  5.14it/s]\n",
            "Evaluation: 100%|██████████| 36/36 [00:03<00:00, 11.47it/s, Loss=1.11]\n"
          ]
        },
        {
          "output_type": "stream",
          "name": "stdout",
          "text": [
            "\tTrain Loss: 1.160 | Val. Loss: 1.111\n"
          ]
        },
        {
          "output_type": "stream",
          "name": "stderr",
          "text": [
            "Epoch 5: Loss: 1.1162: 100%|██████████| 346/346 [01:07<00:00,  5.15it/s]\n",
            "Evaluation: 100%|██████████| 36/36 [00:04<00:00,  8.70it/s, Loss=1.05]\n"
          ]
        },
        {
          "output_type": "stream",
          "name": "stdout",
          "text": [
            "\tTrain Loss: 1.116 | Val. Loss: 1.047\n"
          ]
        },
        {
          "output_type": "stream",
          "name": "stderr",
          "text": [
            "Epoch 6: Loss: 1.0879: 100%|██████████| 346/346 [01:09<00:00,  4.98it/s]\n",
            "Evaluation: 100%|██████████| 36/36 [00:03<00:00, 10.65it/s, Loss=1.03]\n"
          ]
        },
        {
          "output_type": "stream",
          "name": "stdout",
          "text": [
            "\tTrain Loss: 1.088 | Val. Loss: 1.026\n"
          ]
        },
        {
          "output_type": "stream",
          "name": "stderr",
          "text": [
            "Epoch 7: Loss: 1.0683: 100%|██████████| 346/346 [01:09<00:00,  4.98it/s]\n",
            "Evaluation: 100%|██████████| 36/36 [00:03<00:00, 10.79it/s, Loss=0.989]\n"
          ]
        },
        {
          "output_type": "stream",
          "name": "stdout",
          "text": [
            "\tTrain Loss: 1.068 | Val. Loss: 0.989\n"
          ]
        },
        {
          "output_type": "stream",
          "name": "stderr",
          "text": [
            "Epoch 8: Loss: 1.0539: 100%|██████████| 346/346 [01:08<00:00,  5.06it/s]\n",
            "Evaluation: 100%|██████████| 36/36 [00:03<00:00,  9.33it/s, Loss=0.979]\n"
          ]
        },
        {
          "output_type": "stream",
          "name": "stdout",
          "text": [
            "\tTrain Loss: 1.054 | Val. Loss: 0.979\n"
          ]
        },
        {
          "output_type": "stream",
          "name": "stderr",
          "text": [
            "Epoch 9: Loss: 1.0426: 100%|██████████| 346/346 [01:07<00:00,  5.11it/s]\n",
            "Evaluation: 100%|██████████| 36/36 [00:03<00:00, 11.43it/s, Loss=0.973]\n"
          ]
        },
        {
          "output_type": "stream",
          "name": "stdout",
          "text": [
            "\tTrain Loss: 1.043 | Val. Loss: 0.973\n"
          ]
        },
        {
          "output_type": "stream",
          "name": "stderr",
          "text": [
            "Epoch 10: Loss: 1.0360: 100%|██████████| 346/346 [01:07<00:00,  5.09it/s]\n",
            "Evaluation: 100%|██████████| 36/36 [00:03<00:00, 10.96it/s, Loss=0.956]\n"
          ]
        },
        {
          "output_type": "stream",
          "name": "stdout",
          "text": [
            "\tTrain Loss: 1.036 | Val. Loss: 0.956\n"
          ]
        },
        {
          "output_type": "stream",
          "name": "stderr",
          "text": [
            "Epoch 11: Loss: 1.0298: 100%|██████████| 346/346 [01:08<00:00,  5.05it/s]\n",
            "Evaluation: 100%|██████████| 36/36 [00:03<00:00,  9.68it/s, Loss=0.96]\n"
          ]
        },
        {
          "output_type": "stream",
          "name": "stdout",
          "text": [
            "\tTrain Loss: 1.030 | Val. Loss: 0.960\n"
          ]
        },
        {
          "output_type": "stream",
          "name": "stderr",
          "text": [
            "Epoch 12: Loss: 1.0246: 100%|██████████| 346/346 [01:07<00:00,  5.11it/s]\n",
            "Evaluation: 100%|██████████| 36/36 [00:03<00:00, 11.51it/s, Loss=0.953]\n"
          ]
        },
        {
          "output_type": "stream",
          "name": "stdout",
          "text": [
            "\tTrain Loss: 1.025 | Val. Loss: 0.953\n"
          ]
        },
        {
          "output_type": "stream",
          "name": "stderr",
          "text": [
            "Epoch 13: Loss: 1.0206: 100%|██████████| 346/346 [01:07<00:00,  5.13it/s]\n",
            "Evaluation: 100%|██████████| 36/36 [00:03<00:00, 11.16it/s, Loss=0.947]\n"
          ]
        },
        {
          "output_type": "stream",
          "name": "stdout",
          "text": [
            "\tTrain Loss: 1.021 | Val. Loss: 0.947\n"
          ]
        },
        {
          "output_type": "stream",
          "name": "stderr",
          "text": [
            "Epoch 14: Loss: 1.0180: 100%|██████████| 346/346 [01:08<00:00,  5.06it/s]\n",
            "Evaluation: 100%|██████████| 36/36 [00:03<00:00,  9.17it/s, Loss=0.941]\n"
          ]
        },
        {
          "output_type": "stream",
          "name": "stdout",
          "text": [
            "\tTrain Loss: 1.018 | Val. Loss: 0.941\n"
          ]
        },
        {
          "output_type": "stream",
          "name": "stderr",
          "text": [
            "Epoch 15: Loss: 1.0146: 100%|██████████| 346/346 [01:07<00:00,  5.15it/s]\n",
            "Evaluation: 100%|██████████| 36/36 [00:03<00:00, 11.01it/s, Loss=0.941]\n"
          ]
        },
        {
          "output_type": "stream",
          "name": "stdout",
          "text": [
            "\tTrain Loss: 1.015 | Val. Loss: 0.941\n"
          ]
        },
        {
          "output_type": "stream",
          "name": "stderr",
          "text": [
            "Epoch 16: Loss: 1.0124: 100%|██████████| 346/346 [01:09<00:00,  4.97it/s]\n",
            "Evaluation: 100%|██████████| 36/36 [00:04<00:00,  9.00it/s, Loss=0.937]\n"
          ]
        },
        {
          "output_type": "stream",
          "name": "stdout",
          "text": [
            "\tTrain Loss: 1.012 | Val. Loss: 0.937\n"
          ]
        },
        {
          "output_type": "stream",
          "name": "stderr",
          "text": [
            "Epoch 17: Loss: 1.0096: 100%|██████████| 346/346 [01:09<00:00,  4.98it/s]\n",
            "Evaluation: 100%|██████████| 36/36 [00:03<00:00, 11.31it/s, Loss=0.935]\n"
          ]
        },
        {
          "output_type": "stream",
          "name": "stdout",
          "text": [
            "\tTrain Loss: 1.010 | Val. Loss: 0.935\n"
          ]
        },
        {
          "output_type": "stream",
          "name": "stderr",
          "text": [
            "Epoch 18: Loss: 1.0080: 100%|██████████| 346/346 [01:09<00:00,  5.00it/s]\n",
            "Evaluation: 100%|██████████| 36/36 [00:03<00:00, 10.55it/s, Loss=0.931]\n"
          ]
        },
        {
          "output_type": "stream",
          "name": "stdout",
          "text": [
            "\tTrain Loss: 1.008 | Val. Loss: 0.931\n"
          ]
        },
        {
          "output_type": "stream",
          "name": "stderr",
          "text": [
            "Epoch 19: Loss: 1.0066: 100%|██████████| 346/346 [01:15<00:00,  4.58it/s]\n",
            "Evaluation: 100%|██████████| 36/36 [00:03<00:00, 10.37it/s, Loss=0.932]"
          ]
        },
        {
          "output_type": "stream",
          "name": "stdout",
          "text": [
            "\tTrain Loss: 1.007 | Val. Loss: 0.932\n"
          ]
        },
        {
          "output_type": "stream",
          "name": "stderr",
          "text": [
            "\n"
          ]
        }
      ]
    },
    {
      "cell_type": "code",
      "source": [
        "evaluate_acc(model2,test_loader)"
      ],
      "metadata": {
        "colab": {
          "base_uri": "https://localhost:8080/"
        },
        "outputId": "01262154-5909-40a9-c1f2-0d259ef0330a",
        "id": "uj3f2G87_2uY"
      },
      "execution_count": null,
      "outputs": [
        {
          "output_type": "execute_result",
          "data": {
            "text/plain": [
              "0.7394135939582408"
            ]
          },
          "metadata": {},
          "execution_count": 47
        }
      ]
    },
    {
      "cell_type": "code",
      "source": [
        "import matplotlib.pyplot as plt\n",
        "plt.figure(figsize=(4,4))\n",
        "plt.plot(train_losses_2, 'b-', label='train loss')\n",
        "plt.plot(test_losses_2 , 'r-', label='test loss')\n",
        "plt.legend()\n",
        "plt.xlabel('epoch')\n",
        "plt.ylabel('loss')\n",
        "plt.title('loss v/s epoch')\n",
        "plt.show()"
      ],
      "metadata": {
        "colab": {
          "base_uri": "https://localhost:8080/",
          "height": 410
        },
        "id": "fP7cJhqFNb4r",
        "outputId": "aa6c9e50-b17e-4816-9203-a2fb8f0b8e98"
      },
      "execution_count": 33,
      "outputs": [
        {
          "output_type": "display_data",
          "data": {
            "text/plain": [
              "<Figure size 400x400 with 1 Axes>"
            ],
            "image/png": "[encoded data removed]"
          },
          "metadata": {}
        }
      ]
    },
    {
      "cell_type": "code",
      "source": [
        "# saved_model_path = '/content/drive/MyDrive/Deep Learning/DL_ops_A2/seq2seq-model_hp64.pt'\n",
        "# INPUT_DIM = 29\n",
        "# OUTPUT_DIM = 66\n",
        "# ENC_EMB_DIM = 64\n",
        "# DEC_EMB_DIM = 64\n",
        "# HID_DIM = 64\n",
        "# N_LAYERS = 3\n",
        "# ENC_DROPOUT = 0.25\n",
        "# DEC_DROPOUT = 0.25\n",
        "\n",
        "# enc = Encoder(INPUT_DIM, ENC_EMB_DIM, HID_DIM, N_LAYERS, ENC_DROPOUT)\n",
        "# dec = Decoder(OUTPUT_DIM, DEC_EMB_DIM, HID_DIM, N_LAYERS, DEC_DROPOUT)\n",
        "# model = Seq2Seq(enc, dec, device).to(device)\n",
        "# model.load_state_dict(torch.load(saved_model_path))\n",
        "# model.eval()"
      ],
      "metadata": {
        "colab": {
          "base_uri": "https://localhost:8080/"
        },
        "id": "aKTSsL5VNhcx",
        "outputId": "d652cba3-06fc-47f3-d3aa-38bf514e003e"
      },
      "execution_count": null,
      "outputs": [
        {
          "output_type": "execute_result",
          "data": {
            "text/plain": [
              "Seq2Seq(\n",
              "  (encoder): Encoder(\n",
              "    (embedding): Embedding(29, 64)\n",
              "    (rnn): LSTM(64, 64, num_layers=3, dropout=0.25)\n",
              "    (dropout): Dropout(p=0.25, inplace=False)\n",
              "  )\n",
              "  (decoder): Decoder(\n",
              "    (embedding): Embedding(66, 64)\n",
              "    (rnn): LSTM(64, 64, num_layers=3, dropout=0.25)\n",
              "    (fc_out): Linear(in_features=64, out_features=66, bias=True)\n",
              "    (dropout): Dropout(p=0.25, inplace=False)\n",
              "  )\n",
              ")"
            ]
          },
          "metadata": {},
          "execution_count": 22
        }
      ]
    },
    {
      "cell_type": "markdown",
      "source": [
        "### without dropout"
      ],
      "metadata": {
        "id": "4OFcdjxcCqDm"
      }
    },
    {
      "cell_type": "code",
      "source": [
        "INPUT_DIM = 29\n",
        "OUTPUT_DIM = 66\n",
        "ENC_EMB_DIM = 16\n",
        "DEC_EMB_DIM = 16\n",
        "HID_DIM = 16\n",
        "N_LAYERS = 1\n",
        "ENC_DROPOUT = 0\n",
        "DEC_DROPOUT = 0\n",
        "\n",
        "enc = Encoder(INPUT_DIM, ENC_EMB_DIM, HID_DIM, N_LAYERS, ENC_DROPOUT, 'LSTM')\n",
        "dec = Decoder(OUTPUT_DIM, DEC_EMB_DIM, HID_DIM, N_LAYERS, DEC_DROPOUT, 'LSTM')\n",
        "\n",
        "model5 = Seq2Seq(enc, dec, device).to(device)"
      ],
      "metadata": {
        "id": "rVePLnzsCwYd"
      },
      "execution_count": 34,
      "outputs": []
    },
    {
      "cell_type": "code",
      "source": [
        "optimizer = optim.Adam(model5.parameters(), lr = 3e-5)"
      ],
      "metadata": {
        "id": "5Qal35vjCwYf"
      },
      "execution_count": 35,
      "outputs": []
    },
    {
      "cell_type": "code",
      "source": [
        "criterion = nn.CrossEntropyLoss(ignore_index = 64)  #ignore EOS token"
      ],
      "metadata": {
        "id": "xeDEWl8gCwYf"
      },
      "execution_count": 36,
      "outputs": []
    },
    {
      "cell_type": "code",
      "source": [
        "N_EPOCHS = 20\n",
        "CLIP = 1\n",
        "import time\n",
        "import math\n",
        "best_test_loss = float('inf')\n",
        "train_losses_5 = []\n",
        "test_losses_5 = []\n",
        "for epoch in range(N_EPOCHS):\n",
        "    start_time = time.time()\n",
        "    train_loss = train(model5, train_loader, optimizer, criterion, CLIP)\n",
        "    test_loss = evaluate(model5, test_loader, criterion)\n",
        "    end_time = time.time()\n",
        "    if test_loss < best_test_loss:\n",
        "        best_test_loss = test_loss\n",
        "        torch.save(model5.state_dict(), '/content/drive/MyDrive/Deep Learning/DL_ops_A2/seq2seq-model_lstm_16_without_dropout_3e-5.pt')\n",
        "    train_losses_5.append(train_loss)\n",
        "    test_losses_5.append(test_loss)\n",
        "\n",
        "    print(f'\\tTrain Loss: {train_loss:.3f} | Val. Loss: {test_loss:.3f}')"
      ],
      "metadata": {
        "colab": {
          "base_uri": "https://localhost:8080/"
        },
        "outputId": "becec4ad-940a-43a6-a999-2246ad0c2096",
        "id": "ABS_E6RmCwYf"
      },
      "execution_count": 37,
      "outputs": [
        {
          "output_type": "stream",
          "name": "stderr",
          "text": [
            "Epoch 0: Loss: 4.2113: 100%|██████████| 346/346 [01:00<00:00,  5.70it/s]\n",
            "Evaluation: 100%|██████████| 36/36 [00:03<00:00, 10.15it/s, Loss=4.15]\n"
          ]
        },
        {
          "output_type": "stream",
          "name": "stdout",
          "text": [
            "\tTrain Loss: 4.211 | Val. Loss: 4.145\n"
          ]
        },
        {
          "output_type": "stream",
          "name": "stderr",
          "text": [
            "Epoch 1: Loss: 4.0568: 100%|██████████| 346/346 [01:02<00:00,  5.53it/s]\n",
            "Evaluation: 100%|██████████| 36/36 [00:04<00:00,  7.64it/s, Loss=3.94]\n"
          ]
        },
        {
          "output_type": "stream",
          "name": "stdout",
          "text": [
            "\tTrain Loss: 4.057 | Val. Loss: 3.942\n"
          ]
        },
        {
          "output_type": "stream",
          "name": "stderr",
          "text": [
            "Epoch 2: Loss: 3.8409: 100%|██████████| 346/346 [00:59<00:00,  5.81it/s]\n",
            "Evaluation: 100%|██████████| 36/36 [00:03<00:00, 11.06it/s, Loss=3.69]\n"
          ]
        },
        {
          "output_type": "stream",
          "name": "stdout",
          "text": [
            "\tTrain Loss: 3.841 | Val. Loss: 3.686\n"
          ]
        },
        {
          "output_type": "stream",
          "name": "stderr",
          "text": [
            "Epoch 3: Loss: 3.5234: 100%|██████████| 346/346 [01:01<00:00,  5.66it/s]\n",
            "Evaluation: 100%|██████████| 36/36 [00:03<00:00, 11.37it/s, Loss=3.34]\n"
          ]
        },
        {
          "output_type": "stream",
          "name": "stdout",
          "text": [
            "\tTrain Loss: 3.523 | Val. Loss: 3.338\n"
          ]
        },
        {
          "output_type": "stream",
          "name": "stderr",
          "text": [
            "Epoch 4: Loss: 3.1863: 100%|██████████| 346/346 [00:58<00:00,  5.90it/s]\n",
            "Evaluation: 100%|██████████| 36/36 [00:04<00:00,  7.77it/s, Loss=3.01]\n"
          ]
        },
        {
          "output_type": "stream",
          "name": "stdout",
          "text": [
            "\tTrain Loss: 3.186 | Val. Loss: 3.008\n"
          ]
        },
        {
          "output_type": "stream",
          "name": "stderr",
          "text": [
            "Epoch 5: Loss: 2.8725: 100%|██████████| 346/346 [01:00<00:00,  5.70it/s]\n",
            "Evaluation: 100%|██████████| 36/36 [00:03<00:00, 10.51it/s, Loss=2.71]\n"
          ]
        },
        {
          "output_type": "stream",
          "name": "stdout",
          "text": [
            "\tTrain Loss: 2.872 | Val. Loss: 2.712\n"
          ]
        },
        {
          "output_type": "stream",
          "name": "stderr",
          "text": [
            "Epoch 6: Loss: 2.5933: 100%|██████████| 346/346 [00:59<00:00,  5.78it/s]\n",
            "Evaluation: 100%|██████████| 36/36 [00:03<00:00, 11.44it/s, Loss=2.46]\n"
          ]
        },
        {
          "output_type": "stream",
          "name": "stdout",
          "text": [
            "\tTrain Loss: 2.593 | Val. Loss: 2.460\n"
          ]
        },
        {
          "output_type": "stream",
          "name": "stderr",
          "text": [
            "Epoch 7: Loss: 2.3526: 100%|██████████| 346/346 [01:00<00:00,  5.74it/s]\n",
            "Evaluation: 100%|██████████| 36/36 [00:04<00:00,  7.66it/s, Loss=2.2]\n"
          ]
        },
        {
          "output_type": "stream",
          "name": "stdout",
          "text": [
            "\tTrain Loss: 2.353 | Val. Loss: 2.199\n"
          ]
        },
        {
          "output_type": "stream",
          "name": "stderr",
          "text": [
            "Epoch 8: Loss: 2.1442: 100%|██████████| 346/346 [01:01<00:00,  5.60it/s]\n",
            "Evaluation: 100%|██████████| 36/36 [00:03<00:00, 10.57it/s, Loss=2.01]\n"
          ]
        },
        {
          "output_type": "stream",
          "name": "stdout",
          "text": [
            "\tTrain Loss: 2.144 | Val. Loss: 2.011\n"
          ]
        },
        {
          "output_type": "stream",
          "name": "stderr",
          "text": [
            "Epoch 9: Loss: 1.9596: 100%|██████████| 346/346 [01:00<00:00,  5.69it/s]\n",
            "Evaluation: 100%|██████████| 36/36 [00:03<00:00, 10.68it/s, Loss=1.84]\n"
          ]
        },
        {
          "output_type": "stream",
          "name": "stdout",
          "text": [
            "\tTrain Loss: 1.960 | Val. Loss: 1.845\n"
          ]
        },
        {
          "output_type": "stream",
          "name": "stderr",
          "text": [
            "Epoch 10: Loss: 1.7846: 100%|██████████| 346/346 [01:02<00:00,  5.52it/s]\n",
            "Evaluation: 100%|██████████| 36/36 [00:03<00:00, 10.90it/s, Loss=1.68]\n"
          ]
        },
        {
          "output_type": "stream",
          "name": "stdout",
          "text": [
            "\tTrain Loss: 1.785 | Val. Loss: 1.685\n"
          ]
        },
        {
          "output_type": "stream",
          "name": "stderr",
          "text": [
            "Epoch 11: Loss: 1.6242: 100%|██████████| 346/346 [01:00<00:00,  5.73it/s]\n",
            "Evaluation: 100%|██████████| 36/36 [00:04<00:00,  7.73it/s, Loss=1.56]\n"
          ]
        },
        {
          "output_type": "stream",
          "name": "stdout",
          "text": [
            "\tTrain Loss: 1.624 | Val. Loss: 1.563\n"
          ]
        },
        {
          "output_type": "stream",
          "name": "stderr",
          "text": [
            "Epoch 12: Loss: 1.5144: 100%|██████████| 346/346 [00:59<00:00,  5.82it/s]\n",
            "Evaluation: 100%|██████████| 36/36 [00:03<00:00, 11.01it/s, Loss=1.48]\n"
          ]
        },
        {
          "output_type": "stream",
          "name": "stdout",
          "text": [
            "\tTrain Loss: 1.514 | Val. Loss: 1.480\n"
          ]
        },
        {
          "output_type": "stream",
          "name": "stderr",
          "text": [
            "Epoch 13: Loss: 1.4413: 100%|██████████| 346/346 [01:00<00:00,  5.76it/s]\n",
            "Evaluation: 100%|██████████| 36/36 [00:03<00:00,  9.50it/s, Loss=1.41]\n"
          ]
        },
        {
          "output_type": "stream",
          "name": "stdout",
          "text": [
            "\tTrain Loss: 1.441 | Val. Loss: 1.407\n"
          ]
        },
        {
          "output_type": "stream",
          "name": "stderr",
          "text": [
            "Epoch 14: Loss: 1.3877: 100%|██████████| 346/346 [01:01<00:00,  5.58it/s]\n",
            "Evaluation: 100%|██████████| 36/36 [00:04<00:00,  7.88it/s, Loss=1.35]\n"
          ]
        },
        {
          "output_type": "stream",
          "name": "stdout",
          "text": [
            "\tTrain Loss: 1.388 | Val. Loss: 1.348\n"
          ]
        },
        {
          "output_type": "stream",
          "name": "stderr",
          "text": [
            "Epoch 15: Loss: 1.3454: 100%|██████████| 346/346 [01:00<00:00,  5.69it/s]\n",
            "Evaluation: 100%|██████████| 36/36 [00:03<00:00, 10.80it/s, Loss=1.32]\n"
          ]
        },
        {
          "output_type": "stream",
          "name": "stdout",
          "text": [
            "\tTrain Loss: 1.345 | Val. Loss: 1.318\n"
          ]
        },
        {
          "output_type": "stream",
          "name": "stderr",
          "text": [
            "Epoch 16: Loss: 1.3104: 100%|██████████| 346/346 [01:03<00:00,  5.44it/s]\n",
            "Evaluation: 100%|██████████| 36/36 [00:03<00:00,  9.92it/s, Loss=1.29]\n"
          ]
        },
        {
          "output_type": "stream",
          "name": "stdout",
          "text": [
            "\tTrain Loss: 1.310 | Val. Loss: 1.294\n"
          ]
        },
        {
          "output_type": "stream",
          "name": "stderr",
          "text": [
            "Epoch 17: Loss: 1.2784: 100%|██████████| 346/346 [00:57<00:00,  6.02it/s]\n",
            "Evaluation: 100%|██████████| 36/36 [00:04<00:00,  8.03it/s, Loss=1.26]\n"
          ]
        },
        {
          "output_type": "stream",
          "name": "stdout",
          "text": [
            "\tTrain Loss: 1.278 | Val. Loss: 1.257\n"
          ]
        },
        {
          "output_type": "stream",
          "name": "stderr",
          "text": [
            "Epoch 18: Loss: 1.2498: 100%|██████████| 346/346 [00:57<00:00,  6.07it/s]\n",
            "Evaluation: 100%|██████████| 36/36 [00:03<00:00, 11.82it/s, Loss=1.24]\n"
          ]
        },
        {
          "output_type": "stream",
          "name": "stdout",
          "text": [
            "\tTrain Loss: 1.250 | Val. Loss: 1.240\n"
          ]
        },
        {
          "output_type": "stream",
          "name": "stderr",
          "text": [
            "Epoch 19: Loss: 1.2238: 100%|██████████| 346/346 [00:55<00:00,  6.29it/s]\n",
            "Evaluation: 100%|██████████| 36/36 [00:03<00:00,  9.34it/s, Loss=1.24]"
          ]
        },
        {
          "output_type": "stream",
          "name": "stdout",
          "text": [
            "\tTrain Loss: 1.224 | Val. Loss: 1.239\n"
          ]
        },
        {
          "output_type": "stream",
          "name": "stderr",
          "text": [
            "\n"
          ]
        }
      ]
    },
    {
      "cell_type": "code",
      "source": [
        "evaluate_acc(model5,test_loader)"
      ],
      "metadata": {
        "colab": {
          "base_uri": "https://localhost:8080/"
        },
        "outputId": "f83be250-6820-4472-a586-6d18d2dc961c",
        "id": "LXxz4hYb_2uY"
      },
      "execution_count": null,
      "outputs": [
        {
          "output_type": "execute_result",
          "data": {
            "text/plain": [
              "0.7184895601954686"
            ]
          },
          "metadata": {},
          "execution_count": 48
        }
      ]
    },
    {
      "cell_type": "code",
      "source": [
        "import matplotlib.pyplot as plt\n",
        "plt.figure(figsize=(4,4))\n",
        "plt.plot(train_losses_5, 'b-', label='train loss')\n",
        "plt.plot(test_losses_5 , 'r-', label='test loss')\n",
        "plt.legend()\n",
        "plt.xlabel('epoch')\n",
        "plt.ylabel('loss')\n",
        "plt.title('loss v/s epoch')\n",
        "plt.show()"
      ],
      "metadata": {
        "colab": {
          "base_uri": "https://localhost:8080/",
          "height": 410
        },
        "outputId": "288d5f18-5605-415d-ec45-21fae2a52ca8",
        "id": "PlVFTmYrCwYh"
      },
      "execution_count": 39,
      "outputs": [
        {
          "output_type": "display_data",
          "data": {
            "text/plain": [
              "<Figure size 400x400 with 1 Axes>"
            ],
            "image/png": "[encoded data removed]"
          },
          "metadata": {}
        }
      ]
    },
    {
      "cell_type": "markdown",
      "source": [
        "## For RNN"
      ],
      "metadata": {
        "id": "t-Q0NbAPtpsX"
      }
    },
    {
      "cell_type": "markdown",
      "source": [
        "### with hyperparams 1 -16,16,1"
      ],
      "metadata": {
        "id": "7FRLTp2RtrOr"
      }
    },
    {
      "cell_type": "code",
      "source": [
        "INPUT_DIM = 29\n",
        "OUTPUT_DIM = 66\n",
        "ENC_EMB_DIM = 16\n",
        "DEC_EMB_DIM = 16\n",
        "HID_DIM = 16\n",
        "N_LAYERS = 1\n",
        "ENC_DROPOUT = 0.25\n",
        "DEC_DROPOUT = 0.25\n",
        "\n",
        "enc = Encoder(INPUT_DIM, ENC_EMB_DIM, HID_DIM, N_LAYERS, ENC_DROPOUT, 'RNN')\n",
        "dec = Decoder(OUTPUT_DIM, DEC_EMB_DIM, HID_DIM, N_LAYERS, DEC_DROPOUT, 'RNN')\n",
        "\n",
        "model3 = Seq2Seq(enc, dec, device).to(device)"
      ],
      "metadata": {
        "id": "oGLaZtkntrOs"
      },
      "execution_count": null,
      "outputs": []
    },
    {
      "cell_type": "code",
      "source": [
        "optimizer = optim.Adam(model3.parameters(), lr = 3e-5)"
      ],
      "metadata": {
        "id": "xMcZixAutrOt"
      },
      "execution_count": null,
      "outputs": []
    },
    {
      "cell_type": "code",
      "source": [
        "criterion = nn.CrossEntropyLoss(ignore_index = 64)  #ignore EOS token"
      ],
      "metadata": {
        "id": "6QRHAi-BtrOt"
      },
      "execution_count": null,
      "outputs": []
    },
    {
      "cell_type": "code",
      "source": [
        "N_EPOCHS = 20\n",
        "CLIP = 1\n",
        "import time\n",
        "import math\n",
        "best_test_loss = float('inf')\n",
        "train_losses_3 = []\n",
        "test_losses_3 = []\n",
        "for epoch in range(N_EPOCHS):\n",
        "    start_time = time.time()\n",
        "    train_loss = train(model3, train_loader, optimizer, criterion, CLIP)\n",
        "    test_loss = evaluate(model3, test_loader, criterion)\n",
        "    end_time = time.time()\n",
        "    if test_loss < best_test_loss:\n",
        "        best_test_loss = test_loss\n",
        "        torch.save(model3.state_dict(), '/content/drive/MyDrive/Deep Learning/DL_ops_A2/seq2seq-model_rnn_16_3e-5.pt')\n",
        "    train_losses_3.append(train_loss)\n",
        "    test_losses_3.append(test_loss)\n",
        "\n",
        "    print(f'\\tTrain Loss: {train_loss:.3f} | Val. Loss: {test_loss:.3f}')"
      ],
      "metadata": {
        "colab": {
          "base_uri": "https://localhost:8080/"
        },
        "outputId": "4e0dea66-d6e0-4224-e692-70447fb6ab52",
        "id": "JtzkaclytrOt"
      },
      "execution_count": null,
      "outputs": [
        {
          "output_type": "stream",
          "name": "stderr",
          "text": [
            "Epoch 0: Loss: 4.1844: 100%|██████████| 346/346 [01:02<00:00,  5.57it/s]\n",
            "Evaluation: 100%|██████████| 36/36 [00:03<00:00, 11.98it/s, Loss=4.09]\n"
          ]
        },
        {
          "output_type": "stream",
          "name": "stdout",
          "text": [
            "\tTrain Loss: 4.184 | Val. Loss: 4.089\n"
          ]
        },
        {
          "output_type": "stream",
          "name": "stderr",
          "text": [
            "Epoch 1: Loss: 3.9592: 100%|██████████| 346/346 [01:00<00:00,  5.76it/s]\n",
            "Evaluation: 100%|██████████| 36/36 [00:02<00:00, 12.20it/s, Loss=3.59]\n"
          ]
        },
        {
          "output_type": "stream",
          "name": "stdout",
          "text": [
            "\tTrain Loss: 3.959 | Val. Loss: 3.587\n"
          ]
        },
        {
          "output_type": "stream",
          "name": "stderr",
          "text": [
            "Epoch 2: Loss: 3.5328: 100%|██████████| 346/346 [00:56<00:00,  6.13it/s]\n",
            "Evaluation: 100%|██████████| 36/36 [00:03<00:00,  9.55it/s, Loss=3.13]\n"
          ]
        },
        {
          "output_type": "stream",
          "name": "stdout",
          "text": [
            "\tTrain Loss: 3.533 | Val. Loss: 3.129\n"
          ]
        },
        {
          "output_type": "stream",
          "name": "stderr",
          "text": [
            "Epoch 3: Loss: 3.0759: 100%|██████████| 346/346 [00:56<00:00,  6.17it/s]\n",
            "Evaluation: 100%|██████████| 36/36 [00:03<00:00, 10.83it/s, Loss=2.71]\n"
          ]
        },
        {
          "output_type": "stream",
          "name": "stdout",
          "text": [
            "\tTrain Loss: 3.076 | Val. Loss: 2.715\n"
          ]
        },
        {
          "output_type": "stream",
          "name": "stderr",
          "text": [
            "Epoch 4: Loss: 2.6796: 100%|██████████| 346/346 [00:56<00:00,  6.15it/s]\n",
            "Evaluation: 100%|██████████| 36/36 [00:03<00:00, 10.29it/s, Loss=2.37]\n"
          ]
        },
        {
          "output_type": "stream",
          "name": "stdout",
          "text": [
            "\tTrain Loss: 2.680 | Val. Loss: 2.367\n"
          ]
        },
        {
          "output_type": "stream",
          "name": "stderr",
          "text": [
            "Epoch 5: Loss: 2.3512: 100%|██████████| 346/346 [00:56<00:00,  6.08it/s]\n",
            "Evaluation: 100%|██████████| 36/36 [00:03<00:00, 11.51it/s, Loss=2.11]\n"
          ]
        },
        {
          "output_type": "stream",
          "name": "stdout",
          "text": [
            "\tTrain Loss: 2.351 | Val. Loss: 2.113\n"
          ]
        },
        {
          "output_type": "stream",
          "name": "stderr",
          "text": [
            "Epoch 6: Loss: 2.0994: 100%|██████████| 346/346 [00:56<00:00,  6.17it/s]\n",
            "Evaluation: 100%|██████████| 36/36 [00:03<00:00, 10.68it/s, Loss=1.93]\n"
          ]
        },
        {
          "output_type": "stream",
          "name": "stdout",
          "text": [
            "\tTrain Loss: 2.099 | Val. Loss: 1.933\n"
          ]
        },
        {
          "output_type": "stream",
          "name": "stderr",
          "text": [
            "Epoch 7: Loss: 1.9163: 100%|██████████| 346/346 [00:56<00:00,  6.07it/s]\n",
            "Evaluation: 100%|██████████| 36/36 [00:02<00:00, 12.34it/s, Loss=1.81]\n"
          ]
        },
        {
          "output_type": "stream",
          "name": "stdout",
          "text": [
            "\tTrain Loss: 1.916 | Val. Loss: 1.811\n"
          ]
        },
        {
          "output_type": "stream",
          "name": "stderr",
          "text": [
            "Epoch 8: Loss: 1.7926: 100%|██████████| 346/346 [00:56<00:00,  6.17it/s]\n",
            "Evaluation: 100%|██████████| 36/36 [00:02<00:00, 12.24it/s, Loss=1.74]\n"
          ]
        },
        {
          "output_type": "stream",
          "name": "stdout",
          "text": [
            "\tTrain Loss: 1.793 | Val. Loss: 1.736\n"
          ]
        },
        {
          "output_type": "stream",
          "name": "stderr",
          "text": [
            "Epoch 9: Loss: 1.7179: 100%|██████████| 346/346 [00:57<00:00,  6.06it/s]\n",
            "Evaluation: 100%|██████████| 36/36 [00:03<00:00, 11.50it/s, Loss=1.7]\n"
          ]
        },
        {
          "output_type": "stream",
          "name": "stdout",
          "text": [
            "\tTrain Loss: 1.718 | Val. Loss: 1.696\n"
          ]
        },
        {
          "output_type": "stream",
          "name": "stderr",
          "text": [
            "Epoch 10: Loss: 1.6694: 100%|██████████| 346/346 [00:56<00:00,  6.12it/s]\n",
            "Evaluation: 100%|██████████| 36/36 [00:03<00:00, 11.79it/s, Loss=1.67]\n"
          ]
        },
        {
          "output_type": "stream",
          "name": "stdout",
          "text": [
            "\tTrain Loss: 1.669 | Val. Loss: 1.667\n"
          ]
        },
        {
          "output_type": "stream",
          "name": "stderr",
          "text": [
            "Epoch 11: Loss: 1.6330: 100%|██████████| 346/346 [00:58<00:00,  5.87it/s]\n",
            "Evaluation: 100%|██████████| 36/36 [00:02<00:00, 12.32it/s, Loss=1.65]\n"
          ]
        },
        {
          "output_type": "stream",
          "name": "stdout",
          "text": [
            "\tTrain Loss: 1.633 | Val. Loss: 1.649\n"
          ]
        },
        {
          "output_type": "stream",
          "name": "stderr",
          "text": [
            "Epoch 12: Loss: 1.6045: 100%|██████████| 346/346 [00:56<00:00,  6.17it/s]\n",
            "Evaluation: 100%|██████████| 36/36 [00:02<00:00, 12.31it/s, Loss=1.64]\n"
          ]
        },
        {
          "output_type": "stream",
          "name": "stdout",
          "text": [
            "\tTrain Loss: 1.604 | Val. Loss: 1.639\n"
          ]
        },
        {
          "output_type": "stream",
          "name": "stderr",
          "text": [
            "Epoch 13: Loss: 1.5730: 100%|██████████| 346/346 [00:57<00:00,  6.05it/s]\n",
            "Evaluation: 100%|██████████| 36/36 [00:03<00:00, 11.04it/s, Loss=1.63]\n"
          ]
        },
        {
          "output_type": "stream",
          "name": "stdout",
          "text": [
            "\tTrain Loss: 1.573 | Val. Loss: 1.634\n"
          ]
        },
        {
          "output_type": "stream",
          "name": "stderr",
          "text": [
            "Epoch 14: Loss: 1.5438: 100%|██████████| 346/346 [00:56<00:00,  6.14it/s]\n",
            "Evaluation: 100%|██████████| 36/36 [00:02<00:00, 12.18it/s, Loss=1.63]\n"
          ]
        },
        {
          "output_type": "stream",
          "name": "stdout",
          "text": [
            "\tTrain Loss: 1.544 | Val. Loss: 1.629\n"
          ]
        },
        {
          "output_type": "stream",
          "name": "stderr",
          "text": [
            "Epoch 15: Loss: 1.5101: 100%|██████████| 346/346 [00:56<00:00,  6.08it/s]\n",
            "Evaluation: 100%|██████████| 36/36 [00:03<00:00, 10.57it/s, Loss=1.53]\n"
          ]
        },
        {
          "output_type": "stream",
          "name": "stdout",
          "text": [
            "\tTrain Loss: 1.510 | Val. Loss: 1.528\n"
          ]
        },
        {
          "output_type": "stream",
          "name": "stderr",
          "text": [
            "Epoch 16: Loss: 1.4785: 100%|██████████| 346/346 [00:56<00:00,  6.14it/s]\n",
            "Evaluation: 100%|██████████| 36/36 [00:02<00:00, 12.33it/s, Loss=1.52]\n"
          ]
        },
        {
          "output_type": "stream",
          "name": "stdout",
          "text": [
            "\tTrain Loss: 1.478 | Val. Loss: 1.518\n"
          ]
        },
        {
          "output_type": "stream",
          "name": "stderr",
          "text": [
            "Epoch 17: Loss: 1.4524: 100%|██████████| 346/346 [00:55<00:00,  6.21it/s]\n",
            "Evaluation: 100%|██████████| 36/36 [00:04<00:00,  8.67it/s, Loss=1.51]\n"
          ]
        },
        {
          "output_type": "stream",
          "name": "stdout",
          "text": [
            "\tTrain Loss: 1.452 | Val. Loss: 1.508\n"
          ]
        },
        {
          "output_type": "stream",
          "name": "stderr",
          "text": [
            "Epoch 18: Loss: 1.4294: 100%|██████████| 346/346 [00:55<00:00,  6.22it/s]\n",
            "Evaluation: 100%|██████████| 36/36 [00:02<00:00, 12.50it/s, Loss=1.5]\n"
          ]
        },
        {
          "output_type": "stream",
          "name": "stdout",
          "text": [
            "\tTrain Loss: 1.429 | Val. Loss: 1.504\n"
          ]
        },
        {
          "output_type": "stream",
          "name": "stderr",
          "text": [
            "Epoch 19: Loss: 1.4061: 100%|██████████| 346/346 [00:55<00:00,  6.19it/s]\n",
            "Evaluation: 100%|██████████| 36/36 [00:03<00:00,  9.90it/s, Loss=1.5]"
          ]
        },
        {
          "output_type": "stream",
          "name": "stdout",
          "text": [
            "\tTrain Loss: 1.406 | Val. Loss: 1.502\n"
          ]
        },
        {
          "output_type": "stream",
          "name": "stderr",
          "text": [
            "\n"
          ]
        }
      ]
    },
    {
      "cell_type": "code",
      "source": [
        "import matplotlib.pyplot as plt\n",
        "plt.figure(figsize=(4,4))\n",
        "plt.plot(train_losses_3, 'b-', label='train loss')\n",
        "plt.plot(test_losses_3 , 'r-', label='test loss')\n",
        "plt.legend()\n",
        "plt.xlabel('epoch')\n",
        "plt.ylabel('loss')\n",
        "plt.title('loss v/s epoch for RNN')\n",
        "plt.show()"
      ],
      "metadata": {
        "colab": {
          "base_uri": "https://localhost:8080/",
          "height": 410
        },
        "outputId": "7e9b4ca1-01bf-4ba0-c044-d57f7fe1373f",
        "id": "2llThxjftrOv"
      },
      "execution_count": null,
      "outputs": [
        {
          "output_type": "display_data",
          "data": {
            "text/plain": [
              "<Figure size 400x400 with 1 Axes>"
            ],
            "image/png": "[encoded data removed]"
          },
          "metadata": {}
        }
      ]
    },
    {
      "cell_type": "code",
      "source": [
        "saved_model_path = '/content/drive/MyDrive/Deep Learning/DL_ops_A2/seq2seq-model_rnn_16_3e-5.pt'\n",
        "INPUT_DIM = 29\n",
        "OUTPUT_DIM = 66\n",
        "ENC_EMB_DIM = 16\n",
        "DEC_EMB_DIM = 16\n",
        "HID_DIM = 16\n",
        "N_LAYERS = 1\n",
        "ENC_DROPOUT = 0.25\n",
        "DEC_DROPOUT = 0.25\n",
        "\n",
        "enc = Encoder(INPUT_DIM, ENC_EMB_DIM, HID_DIM, N_LAYERS, ENC_DROPOUT, 'RNN')\n",
        "dec = Decoder(OUTPUT_DIM, DEC_EMB_DIM, HID_DIM, N_LAYERS, DEC_DROPOUT, 'RNN')\n",
        "\n",
        "model3 = Seq2Seq(enc, dec, device).to(device)\n",
        "model3.load_state_dict(torch.load(saved_model_path))\n",
        "model3.eval()"
      ],
      "metadata": {
        "colab": {
          "base_uri": "https://localhost:8080/"
        },
        "id": "CZ_GpuUEAw6f",
        "outputId": "6ac1b73b-143e-42f5-fea8-18dad3ae383b"
      },
      "execution_count": 23,
      "outputs": [
        {
          "output_type": "stream",
          "name": "stderr",
          "text": [
            "/usr/local/lib/python3.9/dist-packages/torch/nn/modules/rnn.py:71: UserWarning: dropout option adds dropout after all but last recurrent layer, so non-zero dropout expects num_layers greater than 1, but got dropout=0.25 and num_layers=1\n",
            "  warnings.warn(\"dropout option adds dropout after all but last \"\n"
          ]
        },
        {
          "output_type": "execute_result",
          "data": {
            "text/plain": [
              "Seq2Seq(\n",
              "  (encoder): Encoder(\n",
              "    (embedding): Embedding(29, 16)\n",
              "    (rnn): RNN(16, 16, dropout=0.25)\n",
              "    (dropout): Dropout(p=0.25, inplace=False)\n",
              "  )\n",
              "  (decoder): Decoder(\n",
              "    (embedding): Embedding(66, 16)\n",
              "    (rnn): RNN(16, 16, dropout=0.25)\n",
              "    (fc_out): Linear(in_features=16, out_features=66, bias=True)\n",
              "    (dropout): Dropout(p=0.25, inplace=False)\n",
              "  )\n",
              ")"
            ]
          },
          "metadata": {},
          "execution_count": 23
        }
      ]
    },
    {
      "cell_type": "code",
      "source": [
        "print('Accuracy : ',evaluate_acc(model3,test_loader))"
      ],
      "metadata": {
        "colab": {
          "base_uri": "https://localhost:8080/"
        },
        "id": "A3CJQInRBB1g",
        "outputId": "f594baf0-ca23-4e7e-b02a-e1db22989f09"
      },
      "execution_count": 26,
      "outputs": [
        {
          "output_type": "stream",
          "name": "stdout",
          "text": [
            "Accuracy :  0.7190670812972012\n"
          ]
        }
      ]
    },
    {
      "cell_type": "markdown",
      "source": [
        "### with hyperparams 2- 64,64,3"
      ],
      "metadata": {
        "id": "bhTim0ngtrOv"
      }
    },
    {
      "cell_type": "code",
      "source": [
        "INPUT_DIM = 29\n",
        "OUTPUT_DIM = 66\n",
        "ENC_EMB_DIM = 64\n",
        "DEC_EMB_DIM = 64\n",
        "HID_DIM = 64\n",
        "N_LAYERS = 3\n",
        "ENC_DROPOUT = 0.25\n",
        "DEC_DROPOUT = 0.25\n",
        "\n",
        "enc = Encoder(INPUT_DIM, ENC_EMB_DIM, HID_DIM, N_LAYERS, ENC_DROPOUT, 'RNN')\n",
        "dec = Decoder(OUTPUT_DIM, DEC_EMB_DIM, HID_DIM, N_LAYERS, DEC_DROPOUT, 'RNN')\n",
        "\n",
        "model4 = Seq2Seq(enc, dec, device).to(device)"
      ],
      "metadata": {
        "id": "AMLfbVB6trOw"
      },
      "execution_count": null,
      "outputs": []
    },
    {
      "cell_type": "code",
      "source": [
        "optimizer = optim.Adam(model4.parameters(), lr = 3e-5)"
      ],
      "metadata": {
        "id": "ueQWrNnWtrOw"
      },
      "execution_count": null,
      "outputs": []
    },
    {
      "cell_type": "code",
      "source": [
        "criterion = nn.CrossEntropyLoss(ignore_index = 64)  #ignore EOS token"
      ],
      "metadata": {
        "id": "Czqp5Nj8trOw"
      },
      "execution_count": null,
      "outputs": []
    },
    {
      "cell_type": "code",
      "source": [
        "N_EPOCHS = 20\n",
        "CLIP = 1\n",
        "import time\n",
        "import math\n",
        "best_test_loss = float('inf')\n",
        "train_losses_4 = []\n",
        "test_losses_4 = []\n",
        "for epoch in range(N_EPOCHS):\n",
        "    start_time = time.time()\n",
        "    train_loss = train(model4, train_loader, optimizer, criterion, CLIP)\n",
        "    test_loss = evaluate(model4, test_loader, criterion)\n",
        "    end_time = time.time()\n",
        "    if test_loss < best_test_loss:\n",
        "        best_test_loss = test_loss\n",
        "        torch.save(model4.state_dict(), '/content/drive/MyDrive/Deep Learning/DL_ops_A2/seq2seq-model_rnn_64_3e-5.pt')\n",
        "    train_losses_4.append(train_loss)\n",
        "    test_losses_4.append(test_loss)\n",
        "\n",
        "    print(f'\\tTrain Loss: {train_loss:.3f} | Val. Loss: {test_loss:.3f}')"
      ],
      "metadata": {
        "colab": {
          "base_uri": "https://localhost:8080/"
        },
        "outputId": "7f945ecd-c35e-437e-bf89-462bb0f85233",
        "id": "Ik50obiztrOx"
      },
      "execution_count": null,
      "outputs": [
        {
          "output_type": "stream",
          "name": "stderr",
          "text": [
            "Epoch 0: Loss: 3.1102: 100%|██████████| 346/346 [01:05<00:00,  5.28it/s]\n",
            "Evaluation: 100%|██████████| 36/36 [00:03<00:00,  9.36it/s, Loss=1.97]\n"
          ]
        },
        {
          "output_type": "stream",
          "name": "stdout",
          "text": [
            "\tTrain Loss: 3.110 | Val. Loss: 1.968\n"
          ]
        },
        {
          "output_type": "stream",
          "name": "stderr",
          "text": [
            "Epoch 1: Loss: 1.7438: 100%|██████████| 346/346 [01:05<00:00,  5.25it/s]\n",
            "Evaluation: 100%|██████████| 36/36 [00:03<00:00, 11.67it/s, Loss=1.62]\n"
          ]
        },
        {
          "output_type": "stream",
          "name": "stdout",
          "text": [
            "\tTrain Loss: 1.744 | Val. Loss: 1.618\n"
          ]
        },
        {
          "output_type": "stream",
          "name": "stderr",
          "text": [
            "Epoch 2: Loss: 1.4889: 100%|██████████| 346/346 [01:06<00:00,  5.22it/s]\n",
            "Evaluation: 100%|██████████| 36/36 [00:03<00:00, 11.53it/s, Loss=1.56]\n"
          ]
        },
        {
          "output_type": "stream",
          "name": "stdout",
          "text": [
            "\tTrain Loss: 1.489 | Val. Loss: 1.560\n"
          ]
        },
        {
          "output_type": "stream",
          "name": "stderr",
          "text": [
            "Epoch 3: Loss: 1.3006: 100%|██████████| 346/346 [01:05<00:00,  5.26it/s]\n",
            "Evaluation: 100%|██████████| 36/36 [00:03<00:00, 11.69it/s, Loss=1.25]\n"
          ]
        },
        {
          "output_type": "stream",
          "name": "stdout",
          "text": [
            "\tTrain Loss: 1.301 | Val. Loss: 1.255\n"
          ]
        },
        {
          "output_type": "stream",
          "name": "stderr",
          "text": [
            "Epoch 4: Loss: 1.2193: 100%|██████████| 346/346 [01:05<00:00,  5.27it/s]\n",
            "Evaluation: 100%|██████████| 36/36 [00:03<00:00,  9.60it/s, Loss=1.25]\n"
          ]
        },
        {
          "output_type": "stream",
          "name": "stdout",
          "text": [
            "\tTrain Loss: 1.219 | Val. Loss: 1.252\n"
          ]
        },
        {
          "output_type": "stream",
          "name": "stderr",
          "text": [
            "Epoch 5: Loss: 1.1597: 100%|██████████| 346/346 [01:05<00:00,  5.28it/s]\n",
            "Evaluation: 100%|██████████| 36/36 [00:04<00:00,  8.51it/s, Loss=1.29]\n"
          ]
        },
        {
          "output_type": "stream",
          "name": "stdout",
          "text": [
            "\tTrain Loss: 1.160 | Val. Loss: 1.287\n"
          ]
        },
        {
          "output_type": "stream",
          "name": "stderr",
          "text": [
            "Epoch 6: Loss: 1.1223: 100%|██████████| 346/346 [01:05<00:00,  5.26it/s]\n",
            "Evaluation: 100%|██████████| 36/36 [00:03<00:00, 11.62it/s, Loss=1.23]\n"
          ]
        },
        {
          "output_type": "stream",
          "name": "stdout",
          "text": [
            "\tTrain Loss: 1.122 | Val. Loss: 1.231\n"
          ]
        },
        {
          "output_type": "stream",
          "name": "stderr",
          "text": [
            "Epoch 7: Loss: 1.0997: 100%|██████████| 346/346 [01:06<00:00,  5.20it/s]\n",
            "Evaluation: 100%|██████████| 36/36 [00:03<00:00, 11.44it/s, Loss=1.22]\n"
          ]
        },
        {
          "output_type": "stream",
          "name": "stdout",
          "text": [
            "\tTrain Loss: 1.100 | Val. Loss: 1.219\n"
          ]
        },
        {
          "output_type": "stream",
          "name": "stderr",
          "text": [
            "Epoch 8: Loss: 1.0830: 100%|██████████| 346/346 [01:06<00:00,  5.21it/s]\n",
            "Evaluation: 100%|██████████| 36/36 [00:03<00:00, 11.64it/s, Loss=1.26]\n"
          ]
        },
        {
          "output_type": "stream",
          "name": "stdout",
          "text": [
            "\tTrain Loss: 1.083 | Val. Loss: 1.256\n"
          ]
        },
        {
          "output_type": "stream",
          "name": "stderr",
          "text": [
            "Epoch 9: Loss: 1.0695: 100%|██████████| 346/346 [01:05<00:00,  5.27it/s]\n",
            "Evaluation: 100%|██████████| 36/36 [00:03<00:00,  9.40it/s, Loss=1.29]\n"
          ]
        },
        {
          "output_type": "stream",
          "name": "stdout",
          "text": [
            "\tTrain Loss: 1.069 | Val. Loss: 1.291\n"
          ]
        },
        {
          "output_type": "stream",
          "name": "stderr",
          "text": [
            "Epoch 10: Loss: 1.0583: 100%|██████████| 346/346 [01:06<00:00,  5.23it/s]\n",
            "Evaluation: 100%|██████████| 36/36 [00:03<00:00,  9.50it/s, Loss=1.36]\n"
          ]
        },
        {
          "output_type": "stream",
          "name": "stdout",
          "text": [
            "\tTrain Loss: 1.058 | Val. Loss: 1.363\n"
          ]
        },
        {
          "output_type": "stream",
          "name": "stderr",
          "text": [
            "Epoch 11: Loss: 1.0491: 100%|██████████| 346/346 [01:06<00:00,  5.23it/s]\n",
            "Evaluation: 100%|██████████| 36/36 [00:03<00:00, 11.57it/s, Loss=1.22]\n"
          ]
        },
        {
          "output_type": "stream",
          "name": "stdout",
          "text": [
            "\tTrain Loss: 1.049 | Val. Loss: 1.218\n"
          ]
        },
        {
          "output_type": "stream",
          "name": "stderr",
          "text": [
            "Epoch 12: Loss: 1.0434: 100%|██████████| 346/346 [01:05<00:00,  5.26it/s]\n",
            "Evaluation: 100%|██████████| 36/36 [00:03<00:00, 11.59it/s, Loss=1.25]\n"
          ]
        },
        {
          "output_type": "stream",
          "name": "stdout",
          "text": [
            "\tTrain Loss: 1.043 | Val. Loss: 1.251\n"
          ]
        },
        {
          "output_type": "stream",
          "name": "stderr",
          "text": [
            "Epoch 13: Loss: 1.0393: 100%|██████████| 346/346 [01:05<00:00,  5.27it/s]\n",
            "Evaluation: 100%|██████████| 36/36 [00:03<00:00, 11.60it/s, Loss=1.13]\n"
          ]
        },
        {
          "output_type": "stream",
          "name": "stdout",
          "text": [
            "\tTrain Loss: 1.039 | Val. Loss: 1.131\n"
          ]
        },
        {
          "output_type": "stream",
          "name": "stderr",
          "text": [
            "Epoch 14: Loss: 1.0350: 100%|██████████| 346/346 [01:06<00:00,  5.24it/s]\n",
            "Evaluation: 100%|██████████| 36/36 [00:03<00:00,  9.34it/s, Loss=1.15]\n"
          ]
        },
        {
          "output_type": "stream",
          "name": "stdout",
          "text": [
            "\tTrain Loss: 1.035 | Val. Loss: 1.148\n"
          ]
        },
        {
          "output_type": "stream",
          "name": "stderr",
          "text": [
            "Epoch 15: Loss: 1.0330: 100%|██████████| 346/346 [01:05<00:00,  5.31it/s]\n",
            "Evaluation: 100%|██████████| 36/36 [00:04<00:00,  8.88it/s, Loss=1.1]\n"
          ]
        },
        {
          "output_type": "stream",
          "name": "stdout",
          "text": [
            "\tTrain Loss: 1.033 | Val. Loss: 1.096\n"
          ]
        },
        {
          "output_type": "stream",
          "name": "stderr",
          "text": [
            "Epoch 16: Loss: 1.0301: 100%|██████████| 346/346 [01:04<00:00,  5.34it/s]\n",
            "Evaluation: 100%|██████████| 36/36 [00:03<00:00, 11.20it/s, Loss=1.11]\n"
          ]
        },
        {
          "output_type": "stream",
          "name": "stdout",
          "text": [
            "\tTrain Loss: 1.030 | Val. Loss: 1.112\n"
          ]
        },
        {
          "output_type": "stream",
          "name": "stderr",
          "text": [
            "Epoch 17: Loss: 1.0291: 100%|██████████| 346/346 [01:06<00:00,  5.24it/s]\n",
            "Evaluation: 100%|██████████| 36/36 [00:03<00:00, 11.49it/s, Loss=1.09]\n"
          ]
        },
        {
          "output_type": "stream",
          "name": "stdout",
          "text": [
            "\tTrain Loss: 1.029 | Val. Loss: 1.085\n"
          ]
        },
        {
          "output_type": "stream",
          "name": "stderr",
          "text": [
            "Epoch 18: Loss: 1.0272: 100%|██████████| 346/346 [01:06<00:00,  5.23it/s]\n",
            "Evaluation: 100%|██████████| 36/36 [00:03<00:00, 11.67it/s, Loss=1.1]\n"
          ]
        },
        {
          "output_type": "stream",
          "name": "stdout",
          "text": [
            "\tTrain Loss: 1.027 | Val. Loss: 1.101\n"
          ]
        },
        {
          "output_type": "stream",
          "name": "stderr",
          "text": [
            "Epoch 19: Loss: 1.0243: 100%|██████████| 346/346 [01:06<00:00,  5.21it/s]\n",
            "Evaluation: 100%|██████████| 36/36 [00:03<00:00, 10.23it/s, Loss=1.11]"
          ]
        },
        {
          "output_type": "stream",
          "name": "stdout",
          "text": [
            "\tTrain Loss: 1.024 | Val. Loss: 1.109\n"
          ]
        },
        {
          "output_type": "stream",
          "name": "stderr",
          "text": [
            "\n"
          ]
        }
      ]
    },
    {
      "cell_type": "code",
      "source": [
        "import matplotlib.pyplot as plt\n",
        "plt.figure(figsize=(4,4))\n",
        "plt.plot(train_losses_4, 'b-', label='train loss')\n",
        "plt.plot(test_losses_4 , 'r-', label='test loss')\n",
        "plt.legend()\n",
        "plt.xlabel('epoch')\n",
        "plt.ylabel('loss')\n",
        "plt.title('loss v/s epoch for RNN')\n",
        "plt.show()"
      ],
      "metadata": {
        "id": "vNe5FifWq1fD",
        "colab": {
          "base_uri": "https://localhost:8080/",
          "height": 410
        },
        "outputId": "fb1d1abf-578b-488b-acdc-f1f5707f3c58"
      },
      "execution_count": null,
      "outputs": [
        {
          "output_type": "display_data",
          "data": {
            "text/plain": [
              "<Figure size 400x400 with 1 Axes>"
            ],
            "image/png": "[encoded data removed]"
          },
          "metadata": {}
        }
      ]
    },
    {
      "cell_type": "code",
      "source": [
        "saved_model_path = '/content/drive/MyDrive/Deep Learning/DL_ops_A2/seq2seq-model_rnn_64_3e-5.pt'\n",
        "INPUT_DIM = 29\n",
        "OUTPUT_DIM = 66\n",
        "ENC_EMB_DIM = 64\n",
        "DEC_EMB_DIM = 64\n",
        "HID_DIM = 64\n",
        "N_LAYERS = 3\n",
        "ENC_DROPOUT = 0.25\n",
        "DEC_DROPOUT = 0.25\n",
        "\n",
        "enc = Encoder(INPUT_DIM, ENC_EMB_DIM, HID_DIM, N_LAYERS, ENC_DROPOUT, 'RNN')\n",
        "dec = Decoder(OUTPUT_DIM, DEC_EMB_DIM, HID_DIM, N_LAYERS, DEC_DROPOUT, 'RNN')\n",
        "\n",
        "model4 = Seq2Seq(enc, dec, device).to(device)\n",
        "model4.load_state_dict(torch.load(saved_model_path))\n",
        "model4.eval()"
      ],
      "metadata": {
        "colab": {
          "base_uri": "https://localhost:8080/"
        },
        "id": "yrOwaOvPBcUW",
        "outputId": "3c2be977-ff1b-489f-fcc1-2f8757ed744b"
      },
      "execution_count": 27,
      "outputs": [
        {
          "output_type": "execute_result",
          "data": {
            "text/plain": [
              "Seq2Seq(\n",
              "  (encoder): Encoder(\n",
              "    (embedding): Embedding(29, 64)\n",
              "    (rnn): RNN(64, 64, num_layers=3, dropout=0.25)\n",
              "    (dropout): Dropout(p=0.25, inplace=False)\n",
              "  )\n",
              "  (decoder): Decoder(\n",
              "    (embedding): Embedding(66, 64)\n",
              "    (rnn): RNN(64, 64, num_layers=3, dropout=0.25)\n",
              "    (fc_out): Linear(in_features=64, out_features=66, bias=True)\n",
              "    (dropout): Dropout(p=0.25, inplace=False)\n",
              "  )\n",
              ")"
            ]
          },
          "metadata": {},
          "execution_count": 27
        }
      ]
    },
    {
      "cell_type": "code",
      "source": [
        "print('Accuracy : ',evaluate_acc(model4,test_loader))"
      ],
      "metadata": {
        "colab": {
          "base_uri": "https://localhost:8080/"
        },
        "id": "OAvsVUcWBvqi",
        "outputId": "17a5f3b9-a459-4561-ad35-c4b8dd3c2d32"
      },
      "execution_count": 28,
      "outputs": [
        {
          "output_type": "stream",
          "name": "stdout",
          "text": [
            "Accuracy :  0.7365881830297646\n"
          ]
        }
      ]
    },
    {
      "cell_type": "markdown",
      "source": [
        "### without dropout"
      ],
      "metadata": {
        "id": "D1P99y7ztrOx"
      }
    },
    {
      "cell_type": "code",
      "source": [
        "INPUT_DIM = 29\n",
        "OUTPUT_DIM = 66\n",
        "ENC_EMB_DIM = 16\n",
        "DEC_EMB_DIM = 16\n",
        "HID_DIM = 16\n",
        "N_LAYERS = 1\n",
        "ENC_DROPOUT = 0\n",
        "DEC_DROPOUT = 0\n",
        "\n",
        "enc = Encoder(INPUT_DIM, ENC_EMB_DIM, HID_DIM, N_LAYERS, ENC_DROPOUT, 'RNN')\n",
        "dec = Decoder(OUTPUT_DIM, DEC_EMB_DIM, HID_DIM, N_LAYERS, DEC_DROPOUT, 'RNN')\n",
        "\n",
        "model6 = Seq2Seq(enc, dec, device).to(device)"
      ],
      "metadata": {
        "id": "vzJZn7PMtrOy"
      },
      "execution_count": null,
      "outputs": []
    },
    {
      "cell_type": "code",
      "source": [
        "optimizer = optim.Adam(model6.parameters(), lr = 3e-5)"
      ],
      "metadata": {
        "id": "O6ZuqLJRtrOy"
      },
      "execution_count": null,
      "outputs": []
    },
    {
      "cell_type": "code",
      "source": [
        "criterion = nn.CrossEntropyLoss(ignore_index = 64)  #ignore EOS token"
      ],
      "metadata": {
        "id": "yMhuao0strOy"
      },
      "execution_count": null,
      "outputs": []
    },
    {
      "cell_type": "code",
      "source": [
        "N_EPOCHS = 20\n",
        "CLIP = 1\n",
        "import time\n",
        "import math\n",
        "best_test_loss = float('inf')\n",
        "train_losses_6 = []\n",
        "test_losses_6 = []\n",
        "for epoch in range(N_EPOCHS):\n",
        "    start_time = time.time()\n",
        "    train_loss = train(model6, train_loader, optimizer, criterion, CLIP)\n",
        "    test_loss = evaluate(model6, test_loader, criterion)\n",
        "    end_time = time.time()\n",
        "    if test_loss < best_test_loss:\n",
        "        best_test_loss = test_loss\n",
        "        torch.save(model6.state_dict(), '/content/drive/MyDrive/Deep Learning/DL_ops_A2/seq2seq-model_rnn_without_dropout_3e-5.pt')\n",
        "    train_losses_6.append(train_loss)\n",
        "    test_losses_6.append(test_loss)\n",
        "\n",
        "    print(f'\\tTrain Loss: {train_loss:.3f} | Val. Loss: {test_loss:.3f}')"
      ],
      "metadata": {
        "colab": {
          "base_uri": "https://localhost:8080/"
        },
        "outputId": "6b2a2c56-b0a3-494f-be7d-10bc2cd9e165",
        "id": "6X6SpDmBtrOy"
      },
      "execution_count": null,
      "outputs": [
        {
          "output_type": "stream",
          "name": "stderr",
          "text": [
            "Epoch 0: Loss: 4.1325: 100%|██████████| 346/346 [00:57<00:00,  5.98it/s]\n",
            "Evaluation: 100%|██████████| 36/36 [00:02<00:00, 12.17it/s, Loss=3.82]\n"
          ]
        },
        {
          "output_type": "stream",
          "name": "stdout",
          "text": [
            "\tTrain Loss: 4.133 | Val. Loss: 3.819\n"
          ]
        },
        {
          "output_type": "stream",
          "name": "stderr",
          "text": [
            "Epoch 1: Loss: 3.8847: 100%|██████████| 346/346 [00:55<00:00,  6.26it/s]\n",
            "Evaluation: 100%|██████████| 36/36 [00:03<00:00,  9.19it/s, Loss=3.73]\n"
          ]
        },
        {
          "output_type": "stream",
          "name": "stdout",
          "text": [
            "\tTrain Loss: 3.885 | Val. Loss: 3.732\n"
          ]
        },
        {
          "output_type": "stream",
          "name": "stderr",
          "text": [
            "Epoch 2: Loss: 3.3168: 100%|██████████| 346/346 [00:57<00:00,  6.03it/s]\n",
            "Evaluation: 100%|██████████| 36/36 [00:02<00:00, 12.08it/s, Loss=3.01]\n"
          ]
        },
        {
          "output_type": "stream",
          "name": "stdout",
          "text": [
            "\tTrain Loss: 3.317 | Val. Loss: 3.006\n"
          ]
        },
        {
          "output_type": "stream",
          "name": "stderr",
          "text": [
            "Epoch 3: Loss: 2.8326: 100%|██████████| 346/346 [00:54<00:00,  6.38it/s]\n",
            "Evaluation: 100%|██████████| 36/36 [00:03<00:00, 10.52it/s, Loss=2.58]\n"
          ]
        },
        {
          "output_type": "stream",
          "name": "stdout",
          "text": [
            "\tTrain Loss: 2.833 | Val. Loss: 2.575\n"
          ]
        },
        {
          "output_type": "stream",
          "name": "stderr",
          "text": [
            "Epoch 4: Loss: 2.4498: 100%|██████████| 346/346 [00:56<00:00,  6.14it/s]\n",
            "Evaluation: 100%|██████████| 36/36 [00:02<00:00, 12.28it/s, Loss=2.24]\n"
          ]
        },
        {
          "output_type": "stream",
          "name": "stdout",
          "text": [
            "\tTrain Loss: 2.450 | Val. Loss: 2.245\n"
          ]
        },
        {
          "output_type": "stream",
          "name": "stderr",
          "text": [
            "Epoch 5: Loss: 2.1619: 100%|██████████| 346/346 [00:55<00:00,  6.27it/s]\n",
            "Evaluation: 100%|██████████| 36/36 [00:02<00:00, 12.15it/s, Loss=2.01]\n"
          ]
        },
        {
          "output_type": "stream",
          "name": "stdout",
          "text": [
            "\tTrain Loss: 2.162 | Val. Loss: 2.008\n"
          ]
        },
        {
          "output_type": "stream",
          "name": "stderr",
          "text": [
            "Epoch 6: Loss: 1.9574: 100%|██████████| 346/346 [00:56<00:00,  6.15it/s]\n",
            "Evaluation: 100%|██████████| 36/36 [00:03<00:00,  9.01it/s, Loss=1.85]\n"
          ]
        },
        {
          "output_type": "stream",
          "name": "stdout",
          "text": [
            "\tTrain Loss: 1.957 | Val. Loss: 1.847\n"
          ]
        },
        {
          "output_type": "stream",
          "name": "stderr",
          "text": [
            "Epoch 7: Loss: 1.8159: 100%|██████████| 346/346 [00:54<00:00,  6.29it/s]\n",
            "Evaluation: 100%|██████████| 36/36 [00:02<00:00, 12.11it/s, Loss=1.74]\n"
          ]
        },
        {
          "output_type": "stream",
          "name": "stdout",
          "text": [
            "\tTrain Loss: 1.816 | Val. Loss: 1.742\n"
          ]
        },
        {
          "output_type": "stream",
          "name": "stderr",
          "text": [
            "Epoch 8: Loss: 1.7254: 100%|██████████| 346/346 [00:54<00:00,  6.32it/s]\n",
            "Evaluation: 100%|██████████| 36/36 [00:02<00:00, 12.36it/s, Loss=1.69]\n"
          ]
        },
        {
          "output_type": "stream",
          "name": "stdout",
          "text": [
            "\tTrain Loss: 1.725 | Val. Loss: 1.686\n"
          ]
        },
        {
          "output_type": "stream",
          "name": "stderr",
          "text": [
            "Epoch 9: Loss: 1.6703: 100%|██████████| 346/346 [00:54<00:00,  6.32it/s]\n",
            "Evaluation: 100%|██████████| 36/36 [00:03<00:00,  9.45it/s, Loss=1.65]\n"
          ]
        },
        {
          "output_type": "stream",
          "name": "stdout",
          "text": [
            "\tTrain Loss: 1.670 | Val. Loss: 1.654\n"
          ]
        },
        {
          "output_type": "stream",
          "name": "stderr",
          "text": [
            "Epoch 10: Loss: 1.6315: 100%|██████████| 346/346 [00:54<00:00,  6.39it/s]\n",
            "Evaluation: 100%|██████████| 36/36 [00:02<00:00, 12.18it/s, Loss=1.63]\n"
          ]
        },
        {
          "output_type": "stream",
          "name": "stdout",
          "text": [
            "\tTrain Loss: 1.631 | Val. Loss: 1.634\n"
          ]
        },
        {
          "output_type": "stream",
          "name": "stderr",
          "text": [
            "Epoch 11: Loss: 1.6002: 100%|██████████| 346/346 [00:53<00:00,  6.47it/s]\n",
            "Evaluation: 100%|██████████| 36/36 [00:03<00:00, 11.85it/s, Loss=1.62]\n"
          ]
        },
        {
          "output_type": "stream",
          "name": "stdout",
          "text": [
            "\tTrain Loss: 1.600 | Val. Loss: 1.620\n"
          ]
        },
        {
          "output_type": "stream",
          "name": "stderr",
          "text": [
            "Epoch 12: Loss: 1.5511: 100%|██████████| 346/346 [00:54<00:00,  6.38it/s]\n",
            "Evaluation: 100%|██████████| 36/36 [00:03<00:00,  9.45it/s, Loss=1.51]\n"
          ]
        },
        {
          "output_type": "stream",
          "name": "stdout",
          "text": [
            "\tTrain Loss: 1.551 | Val. Loss: 1.511\n"
          ]
        },
        {
          "output_type": "stream",
          "name": "stderr",
          "text": [
            "Epoch 13: Loss: 1.5168: 100%|██████████| 346/346 [00:54<00:00,  6.33it/s]\n",
            "Evaluation: 100%|██████████| 36/36 [00:02<00:00, 12.25it/s, Loss=1.49]\n"
          ]
        },
        {
          "output_type": "stream",
          "name": "stdout",
          "text": [
            "\tTrain Loss: 1.517 | Val. Loss: 1.488\n"
          ]
        },
        {
          "output_type": "stream",
          "name": "stderr",
          "text": [
            "Epoch 14: Loss: 1.4927: 100%|██████████| 346/346 [00:54<00:00,  6.39it/s]\n",
            "Evaluation: 100%|██████████| 36/36 [00:02<00:00, 12.29it/s, Loss=1.46]\n"
          ]
        },
        {
          "output_type": "stream",
          "name": "stdout",
          "text": [
            "\tTrain Loss: 1.493 | Val. Loss: 1.464\n"
          ]
        },
        {
          "output_type": "stream",
          "name": "stderr",
          "text": [
            "Epoch 15: Loss: 1.4685: 100%|██████████| 346/346 [00:54<00:00,  6.40it/s]\n",
            "Evaluation: 100%|██████████| 36/36 [00:03<00:00, 11.12it/s, Loss=1.45]\n"
          ]
        },
        {
          "output_type": "stream",
          "name": "stdout",
          "text": [
            "\tTrain Loss: 1.468 | Val. Loss: 1.448\n"
          ]
        },
        {
          "output_type": "stream",
          "name": "stderr",
          "text": [
            "Epoch 16: Loss: 1.4456: 100%|██████████| 346/346 [00:54<00:00,  6.31it/s]\n",
            "Evaluation: 100%|██████████| 36/36 [00:03<00:00, 10.87it/s, Loss=1.44]\n"
          ]
        },
        {
          "output_type": "stream",
          "name": "stdout",
          "text": [
            "\tTrain Loss: 1.446 | Val. Loss: 1.438\n"
          ]
        },
        {
          "output_type": "stream",
          "name": "stderr",
          "text": [
            "Epoch 17: Loss: 1.4233: 100%|██████████| 346/346 [00:54<00:00,  6.40it/s]\n",
            "Evaluation: 100%|██████████| 36/36 [00:02<00:00, 12.45it/s, Loss=1.43]\n"
          ]
        },
        {
          "output_type": "stream",
          "name": "stdout",
          "text": [
            "\tTrain Loss: 1.423 | Val. Loss: 1.430\n"
          ]
        },
        {
          "output_type": "stream",
          "name": "stderr",
          "text": [
            "Epoch 18: Loss: 1.4042: 100%|██████████| 346/346 [00:53<00:00,  6.45it/s]\n",
            "Evaluation: 100%|██████████| 36/36 [00:02<00:00, 12.29it/s, Loss=1.43]\n"
          ]
        },
        {
          "output_type": "stream",
          "name": "stdout",
          "text": [
            "\tTrain Loss: 1.404 | Val. Loss: 1.426\n"
          ]
        },
        {
          "output_type": "stream",
          "name": "stderr",
          "text": [
            "Epoch 19: Loss: 1.3834: 100%|██████████| 346/346 [00:53<00:00,  6.46it/s]\n",
            "Evaluation: 100%|██████████| 36/36 [00:04<00:00,  8.84it/s, Loss=1.41]"
          ]
        },
        {
          "output_type": "stream",
          "name": "stdout",
          "text": [
            "\tTrain Loss: 1.383 | Val. Loss: 1.412\n"
          ]
        },
        {
          "output_type": "stream",
          "name": "stderr",
          "text": [
            "\n"
          ]
        }
      ]
    },
    {
      "cell_type": "code",
      "source": [
        "import matplotlib.pyplot as plt\n",
        "plt.figure(figsize=(4,4))\n",
        "plt.plot(train_losses_6, 'b-', label='train loss')\n",
        "plt.plot(test_losses_6 , 'r-', label='test loss')\n",
        "plt.legend()\n",
        "plt.xlabel('epoch')\n",
        "plt.ylabel('loss')\n",
        "plt.title('loss v/s epoch for RNN')\n",
        "plt.show()"
      ],
      "metadata": {
        "colab": {
          "base_uri": "https://localhost:8080/",
          "height": 410
        },
        "outputId": "9cc6bffa-d793-4896-9544-73b1733fbe65",
        "id": "aFZ_pZzNtrOz"
      },
      "execution_count": null,
      "outputs": [
        {
          "output_type": "display_data",
          "data": {
            "text/plain": [
              "<Figure size 400x400 with 1 Axes>"
            ],
            "image/png": "[encoded data removed]"
          },
          "metadata": {}
        }
      ]
    },
    {
      "cell_type": "code",
      "source": [
        "saved_model_path = '/content/drive/MyDrive/Deep Learning/DL_ops_A2/seq2seq-model_rnn_without_dropout_3e-5.pt'\n",
        "INPUT_DIM = 29\n",
        "OUTPUT_DIM = 66\n",
        "ENC_EMB_DIM = 16\n",
        "DEC_EMB_DIM = 16\n",
        "HID_DIM = 16\n",
        "N_LAYERS = 1\n",
        "ENC_DROPOUT = 0\n",
        "DEC_DROPOUT = 0\n",
        "\n",
        "enc = Encoder(INPUT_DIM, ENC_EMB_DIM, HID_DIM, N_LAYERS, ENC_DROPOUT, 'RNN')\n",
        "dec = Decoder(OUTPUT_DIM, DEC_EMB_DIM, HID_DIM, N_LAYERS, DEC_DROPOUT, 'RNN')\n",
        "\n",
        "model6 = Seq2Seq(enc, dec, device).to(device)\n",
        "model6.load_state_dict(torch.load(saved_model_path))\n",
        "model6.eval()"
      ],
      "metadata": {
        "colab": {
          "base_uri": "https://localhost:8080/"
        },
        "outputId": "6e8641b8-e75f-498c-d20a-04f8c153d487",
        "id": "GMANzYVeB8nD"
      },
      "execution_count": 29,
      "outputs": [
        {
          "output_type": "execute_result",
          "data": {
            "text/plain": [
              "Seq2Seq(\n",
              "  (encoder): Encoder(\n",
              "    (embedding): Embedding(29, 16)\n",
              "    (rnn): RNN(16, 16)\n",
              "    (dropout): Dropout(p=0, inplace=False)\n",
              "  )\n",
              "  (decoder): Decoder(\n",
              "    (embedding): Embedding(66, 16)\n",
              "    (rnn): RNN(16, 16)\n",
              "    (fc_out): Linear(in_features=16, out_features=66, bias=True)\n",
              "    (dropout): Dropout(p=0, inplace=False)\n",
              "  )\n",
              ")"
            ]
          },
          "metadata": {},
          "execution_count": 29
        }
      ]
    },
    {
      "cell_type": "code",
      "source": [
        "print('Accuracy : ',evaluate_acc(model6,test_loader))"
      ],
      "metadata": {
        "colab": {
          "base_uri": "https://localhost:8080/"
        },
        "outputId": "d9245492-d489-4cb3-eb4e-e3cabb8c5824",
        "id": "dYoMSH0iB8nL"
      },
      "execution_count": 30,
      "outputs": [
        {
          "output_type": "stream",
          "name": "stdout",
          "text": [
            "Accuracy :  0.7181252776543758\n"
          ]
        }
      ]
    },
    {
      "cell_type": "markdown",
      "source": [
        "## Adding Attention"
      ],
      "metadata": {
        "id": "NYO5XhEbConI"
      }
    },
    {
      "cell_type": "code",
      "source": [
        "class Decoder(nn.Module):\n",
        "    def __init__(self, output_dim, emb_dim, hid_dim, n_layers, dropout, cell_type='LSTM'):\n",
        "        super().__init__()\n",
        "        \n",
        "        self.output_dim = output_dim\n",
        "        self.hid_dim = hid_dim\n",
        "        self.n_layers = n_layers\n",
        "        self.embedding = nn.Embedding(output_dim, emb_dim)\n",
        "        self.cell_type = cell_type\n",
        "        if cell_type == 'LSTM':\n",
        "            self.lstm = nn.LSTM(emb_dim, hid_dim, n_layers, dropout=dropout)\n",
        "        elif cell_type == 'RNN':\n",
        "            self.rnn = nn.RNN(emb_dim, hid_dim, n_layers, dropout=dropout)\n",
        "        else:\n",
        "            raise ValueError(f\"Invalid cell type: {cell_type}\")\n",
        "        self.fc_out = nn.Linear(hid_dim, output_dim)\n",
        "        self.dropout = nn.Dropout(dropout)\n",
        "\n",
        "        ## attention Linear Layers\n",
        "        self.attention = nn.Linear(hid_dim, 25)\n",
        "        self.attention_combined = nn.Linear(2*hid_dim, hid_dim)\n",
        "        self.softmax = nn.LogSoftmax(dim=1)\n",
        "        \n",
        "    def forward(self, input, hidden, cell):\n",
        "        input = input.unsqueeze(0)\n",
        "        embedded = self.dropout(self.embedding(input)) \n",
        "        if self.cell_type == 'LSTM':\n",
        "          output, (hidden, cell) = self.lstm(embedded, (hidden, cell))\n",
        "\n",
        "          ## attention added\n",
        "          attention_weights = self.attention(output)\n",
        "          attention_weights = self.softmax(attention_weights)\n",
        "          attention_applied = torch.bmm(attention_weights, output)\n",
        "          output_combined = torch.cat([output, attention_applied], dim=2)\n",
        "          output_combined = self.attention_combined(output_combined)\n",
        "\n",
        "          prediction = self.softmax(self.fc_out(output_combined)).squeeze(0)\n",
        "          return prediction, hidden, cell\n",
        "        else:  # Using RNN\n",
        "          output, hidden = self.rnn(embedded, hidden)\n",
        "          prediction = self.fc_out(output.squeeze(0))\n",
        "          return prediction, hidden, None"
      ],
      "metadata": {
        "id": "H_3m63ZtCqxs"
      },
      "execution_count": 24,
      "outputs": []
    },
    {
      "cell_type": "markdown",
      "source": [
        "### LSTM - hyperparams1 (16,16,1)"
      ],
      "metadata": {
        "id": "DBjJQQWJHDVk"
      }
    },
    {
      "cell_type": "code",
      "source": [
        "INPUT_DIM = 29\n",
        "OUTPUT_DIM = 66\n",
        "ENC_EMB_DIM = 16\n",
        "DEC_EMB_DIM = 16\n",
        "HID_DIM = 16\n",
        "N_LAYERS = 1\n",
        "ENC_DROPOUT = 0.25\n",
        "DEC_DROPOUT = 0.25\n",
        "\n",
        "enc = Encoder(INPUT_DIM, ENC_EMB_DIM, HID_DIM, N_LAYERS, ENC_DROPOUT, 'LSTM')\n",
        "dec = Decoder(OUTPUT_DIM, DEC_EMB_DIM, HID_DIM, N_LAYERS, DEC_DROPOUT, 'LSTM')\n",
        "\n",
        "model7 = Seq2Seq(enc, dec, device).to(device)"
      ],
      "metadata": {
        "colab": {
          "base_uri": "https://localhost:8080/"
        },
        "outputId": "c4902515-99f9-457e-d7d0-578dda13bd9c",
        "id": "r6vh0qakEm5P"
      },
      "execution_count": 30,
      "outputs": [
        {
          "output_type": "stream",
          "name": "stderr",
          "text": [
            "/usr/local/lib/python3.9/dist-packages/torch/nn/modules/rnn.py:71: UserWarning: dropout option adds dropout after all but last recurrent layer, so non-zero dropout expects num_layers greater than 1, but got dropout=0.25 and num_layers=1\n",
            "  warnings.warn(\"dropout option adds dropout after all but last \"\n"
          ]
        }
      ]
    },
    {
      "cell_type": "code",
      "source": [
        "optimizer = optim.Adam(model7.parameters(), lr = 3e-5)"
      ],
      "metadata": {
        "id": "nVmDw0PDEm5S"
      },
      "execution_count": 31,
      "outputs": []
    },
    {
      "cell_type": "code",
      "source": [
        "criterion = nn.CrossEntropyLoss(ignore_index = 64)  #ignore EOS token"
      ],
      "metadata": {
        "id": "x4RrrUA1Em5S"
      },
      "execution_count": 32,
      "outputs": []
    },
    {
      "cell_type": "code",
      "source": [
        "N_EPOCHS = 20\n",
        "CLIP = 1\n",
        "import time\n",
        "import math\n",
        "best_test_loss = float('inf')\n",
        "train_losses_7 = []\n",
        "test_losses_7 = []\n",
        "train_accs_7 = []\n",
        "test_accs_7 = []\n",
        "for epoch in range(N_EPOCHS):\n",
        "    start_time = time.time()\n",
        "    train_loss, train_acc = train(model7, train_loader, optimizer, criterion, CLIP)\n",
        "    test_loss, test_acc = evaluate(model7, test_loader, criterion)\n",
        "    end_time = time.time()\n",
        "    if test_loss < best_test_loss:\n",
        "        best_test_loss = test_loss\n",
        "        torch.save(model7.state_dict(), '/content/drive/MyDrive/Deep Learning/DL_ops_A2/seq2seq-model_lstm_16_attn')\n",
        "    train_losses_7.append(train_loss)\n",
        "    test_losses_7.append(test_loss)\n",
        "    train_accs_7.append(train_acc)\n",
        "    test_accs_7.append(test_acc)\n",
        "    print(f'\\tTrain Loss: {train_loss:.3f} | Val. Loss: {test_loss:.3f} | Train acc : {train_acc:.3f}| Test acc : {test_acc:.3f}')"
      ],
      "metadata": {
        "colab": {
          "base_uri": "https://localhost:8080/"
        },
        "outputId": "6e4119b2-45d9-40ea-8dd2-a6d13f80735d",
        "id": "9XylSaTJEm5T"
      },
      "execution_count": 33,
      "outputs": [
        {
          "output_type": "stream",
          "name": "stderr",
          "text": [
            "Epoch 0: Loss: 4.1744: 100%|██████████| 346/346 [01:24<00:00,  4.12it/s]\n",
            "Evaluation: 100%|██████████| 36/36 [00:04<00:00,  8.68it/s, Loss=4.21]\n"
          ]
        },
        {
          "output_type": "stream",
          "name": "stdout",
          "text": [
            "\tTrain Loss: 4.174 | Val. Loss: 4.214 | Train acc : 7.570| Test acc : 8.950\n"
          ]
        },
        {
          "output_type": "stream",
          "name": "stderr",
          "text": [
            "Epoch 1: Loss: 4.0514: 100%|██████████| 346/346 [01:23<00:00,  4.14it/s]\n",
            "Evaluation: 100%|██████████| 36/36 [00:04<00:00,  8.49it/s, Loss=3.92]\n"
          ]
        },
        {
          "output_type": "stream",
          "name": "stdout",
          "text": [
            "\tTrain Loss: 4.051 | Val. Loss: 3.917 | Train acc : 34.875| Test acc : 59.938\n"
          ]
        },
        {
          "output_type": "stream",
          "name": "stderr",
          "text": [
            "Epoch 2: Loss: 3.7333: 100%|██████████| 346/346 [01:21<00:00,  4.23it/s]\n",
            "Evaluation: 100%|██████████| 36/36 [00:03<00:00,  9.44it/s, Loss=3.57]\n"
          ]
        },
        {
          "output_type": "stream",
          "name": "stdout",
          "text": [
            "\tTrain Loss: 3.733 | Val. Loss: 3.565 | Train acc : 31.178| Test acc : 0.477\n"
          ]
        },
        {
          "output_type": "stream",
          "name": "stderr",
          "text": [
            "Epoch 3: Loss: 2.7359: 100%|██████████| 346/346 [01:28<00:00,  3.93it/s]\n",
            "Evaluation: 100%|██████████| 36/36 [00:03<00:00,  9.34it/s, Loss=2.29]\n"
          ]
        },
        {
          "output_type": "stream",
          "name": "stdout",
          "text": [
            "\tTrain Loss: 2.736 | Val. Loss: 2.285 | Train acc : 36.821| Test acc : 56.794\n"
          ]
        },
        {
          "output_type": "stream",
          "name": "stderr",
          "text": [
            "Epoch 4: Loss: 1.8758: 100%|██████████| 346/346 [01:25<00:00,  4.04it/s]\n",
            "Evaluation: 100%|██████████| 36/36 [00:04<00:00,  7.34it/s, Loss=1.9]\n"
          ]
        },
        {
          "output_type": "stream",
          "name": "stdout",
          "text": [
            "\tTrain Loss: 1.876 | Val. Loss: 1.899 | Train acc : 55.689| Test acc : 68.442\n"
          ]
        },
        {
          "output_type": "stream",
          "name": "stderr",
          "text": [
            "Epoch 5: Loss: 1.3970: 100%|██████████| 346/346 [01:21<00:00,  4.25it/s]\n",
            "Evaluation: 100%|██████████| 36/36 [00:03<00:00,  9.62it/s, Loss=1.3]\n"
          ]
        },
        {
          "output_type": "stream",
          "name": "stdout",
          "text": [
            "\tTrain Loss: 1.397 | Val. Loss: 1.299 | Train acc : 67.506| Test acc : 69.787\n"
          ]
        },
        {
          "output_type": "stream",
          "name": "stderr",
          "text": [
            "Epoch 6: Loss: 1.3389: 100%|██████████| 346/346 [01:21<00:00,  4.23it/s]\n",
            "Evaluation: 100%|██████████| 36/36 [00:04<00:00,  8.72it/s, Loss=1.27]\n"
          ]
        },
        {
          "output_type": "stream",
          "name": "stdout",
          "text": [
            "\tTrain Loss: 1.339 | Val. Loss: 1.269 | Train acc : 67.975| Test acc : 69.823\n"
          ]
        },
        {
          "output_type": "stream",
          "name": "stderr",
          "text": [
            "Epoch 7: Loss: 1.3138: 100%|██████████| 346/346 [01:22<00:00,  4.20it/s]\n",
            "Evaluation: 100%|██████████| 36/36 [00:03<00:00,  9.31it/s, Loss=1.27]\n"
          ]
        },
        {
          "output_type": "stream",
          "name": "stdout",
          "text": [
            "\tTrain Loss: 1.314 | Val. Loss: 1.274 | Train acc : 67.972| Test acc : 69.792\n"
          ]
        },
        {
          "output_type": "stream",
          "name": "stderr",
          "text": [
            "Epoch 8: Loss: 1.2976: 100%|██████████| 346/346 [01:21<00:00,  4.27it/s]\n",
            "Evaluation: 100%|██████████| 36/36 [00:03<00:00,  9.67it/s, Loss=1.28]\n"
          ]
        },
        {
          "output_type": "stream",
          "name": "stdout",
          "text": [
            "\tTrain Loss: 1.298 | Val. Loss: 1.282 | Train acc : 67.874| Test acc : 69.704\n"
          ]
        },
        {
          "output_type": "stream",
          "name": "stderr",
          "text": [
            "Epoch 9: Loss: 1.2800: 100%|██████████| 346/346 [01:21<00:00,  4.27it/s]\n",
            "Evaluation: 100%|██████████| 36/36 [00:04<00:00,  7.35it/s, Loss=1.3]\n"
          ]
        },
        {
          "output_type": "stream",
          "name": "stdout",
          "text": [
            "\tTrain Loss: 1.280 | Val. Loss: 1.298 | Train acc : 67.783| Test acc : 69.563\n"
          ]
        },
        {
          "output_type": "stream",
          "name": "stderr",
          "text": [
            "Epoch 10: Loss: 1.2690: 100%|██████████| 346/346 [01:21<00:00,  4.24it/s]\n",
            "Evaluation: 100%|██████████| 36/36 [00:03<00:00,  9.70it/s, Loss=1.34]\n"
          ]
        },
        {
          "output_type": "stream",
          "name": "stdout",
          "text": [
            "\tTrain Loss: 1.269 | Val. Loss: 1.338 | Train acc : 67.688| Test acc : 69.531\n"
          ]
        },
        {
          "output_type": "stream",
          "name": "stderr",
          "text": [
            "Epoch 11: Loss: 1.2599: 100%|██████████| 346/346 [01:21<00:00,  4.26it/s]\n",
            "Evaluation: 100%|██████████| 36/36 [00:03<00:00,  9.19it/s, Loss=1.32]\n"
          ]
        },
        {
          "output_type": "stream",
          "name": "stdout",
          "text": [
            "\tTrain Loss: 1.260 | Val. Loss: 1.318 | Train acc : 67.773| Test acc : 69.414\n"
          ]
        },
        {
          "output_type": "stream",
          "name": "stderr",
          "text": [
            "Epoch 12: Loss: 1.2544: 100%|██████████| 346/346 [01:21<00:00,  4.24it/s]\n",
            "Evaluation: 100%|██████████| 36/36 [00:04<00:00,  8.52it/s, Loss=1.28]\n"
          ]
        },
        {
          "output_type": "stream",
          "name": "stdout",
          "text": [
            "\tTrain Loss: 1.254 | Val. Loss: 1.281 | Train acc : 67.866| Test acc : 69.389\n"
          ]
        },
        {
          "output_type": "stream",
          "name": "stderr",
          "text": [
            "Epoch 13: Loss: 1.2506: 100%|██████████| 346/346 [01:21<00:00,  4.27it/s]\n",
            "Evaluation: 100%|██████████| 36/36 [00:03<00:00,  9.58it/s, Loss=1.26]\n"
          ]
        },
        {
          "output_type": "stream",
          "name": "stdout",
          "text": [
            "\tTrain Loss: 1.251 | Val. Loss: 1.257 | Train acc : 67.909| Test acc : 69.636\n"
          ]
        },
        {
          "output_type": "stream",
          "name": "stderr",
          "text": [
            "Epoch 14: Loss: 1.2472: 100%|██████████| 346/346 [01:21<00:00,  4.24it/s]\n",
            "Evaluation: 100%|██████████| 36/36 [00:04<00:00,  7.50it/s, Loss=1.27]\n"
          ]
        },
        {
          "output_type": "stream",
          "name": "stdout",
          "text": [
            "\tTrain Loss: 1.247 | Val. Loss: 1.275 | Train acc : 67.939| Test acc : 69.446\n"
          ]
        },
        {
          "output_type": "stream",
          "name": "stderr",
          "text": [
            "Epoch 15: Loss: 1.2447: 100%|██████████| 346/346 [01:20<00:00,  4.27it/s]\n",
            "Evaluation: 100%|██████████| 36/36 [00:03<00:00,  9.84it/s, Loss=1.28]\n"
          ]
        },
        {
          "output_type": "stream",
          "name": "stdout",
          "text": [
            "\tTrain Loss: 1.245 | Val. Loss: 1.276 | Train acc : 67.967| Test acc : 69.453\n"
          ]
        },
        {
          "output_type": "stream",
          "name": "stderr",
          "text": [
            "Epoch 16: Loss: 1.2422: 100%|██████████| 346/346 [01:21<00:00,  4.27it/s]\n",
            "Evaluation: 100%|██████████| 36/36 [00:03<00:00,  9.77it/s, Loss=1.27]\n"
          ]
        },
        {
          "output_type": "stream",
          "name": "stdout",
          "text": [
            "\tTrain Loss: 1.242 | Val. Loss: 1.270 | Train acc : 68.004| Test acc : 69.494\n"
          ]
        },
        {
          "output_type": "stream",
          "name": "stderr",
          "text": [
            "Epoch 17: Loss: 1.2401: 100%|██████████| 346/346 [01:21<00:00,  4.27it/s]\n",
            "Evaluation: 100%|██████████| 36/36 [00:04<00:00,  7.29it/s, Loss=1.27]\n"
          ]
        },
        {
          "output_type": "stream",
          "name": "stdout",
          "text": [
            "\tTrain Loss: 1.240 | Val. Loss: 1.268 | Train acc : 68.025| Test acc : 69.514\n"
          ]
        },
        {
          "output_type": "stream",
          "name": "stderr",
          "text": [
            "Epoch 18: Loss: 1.2382: 100%|██████████| 346/346 [01:21<00:00,  4.23it/s]\n",
            "Evaluation: 100%|██████████| 36/36 [00:03<00:00,  9.48it/s, Loss=1.26]\n"
          ]
        },
        {
          "output_type": "stream",
          "name": "stdout",
          "text": [
            "\tTrain Loss: 1.238 | Val. Loss: 1.257 | Train acc : 68.042| Test acc : 69.466\n"
          ]
        },
        {
          "output_type": "stream",
          "name": "stderr",
          "text": [
            "Epoch 19: Loss: 1.2380: 100%|██████████| 346/346 [01:21<00:00,  4.26it/s]\n",
            "Evaluation: 100%|██████████| 36/36 [00:03<00:00,  9.12it/s, Loss=1.25]\n"
          ]
        },
        {
          "output_type": "stream",
          "name": "stdout",
          "text": [
            "\tTrain Loss: 1.238 | Val. Loss: 1.250 | Train acc : 68.040| Test acc : 69.506\n"
          ]
        }
      ]
    },
    {
      "cell_type": "code",
      "source": [
        "print('Accuracy : ',evaluate_acc(model7, test_loader))"
      ],
      "metadata": {
        "colab": {
          "base_uri": "https://localhost:8080/"
        },
        "id": "oXPmL8aIGKBs",
        "outputId": "c9ce935a-6755-463a-e5f6-ec0216da9e80"
      },
      "execution_count": 34,
      "outputs": [
        {
          "output_type": "stream",
          "name": "stdout",
          "text": [
            "Accuracy :  0.6901554864504664\n"
          ]
        }
      ]
    },
    {
      "cell_type": "code",
      "source": [
        "import matplotlib.pyplot as plt\n",
        "\n",
        "fig, axs = plt.subplots(1, 2, figsize=(8, 4))\n",
        "\n",
        "# Plot the first subplot for loss vs epoch\n",
        "axs[0].plot(train_losses_7, 'b-', label='train loss')\n",
        "axs[0].plot(test_losses_7 , 'r-', label='test loss')\n",
        "axs[0].legend()\n",
        "axs[0].set_xlabel('epoch')\n",
        "axs[0].set_ylabel('loss')\n",
        "axs[0].set_title('loss v/s epoch')\n",
        "\n",
        "# Plot the second subplot for acc vs epoch\n",
        "axs[1].plot(train_accs_7, 'b-', label='train acc')\n",
        "axs[1].plot(test_accs_7 , 'r-', label='test acc')\n",
        "axs[1].legend()\n",
        "axs[1].set_xlabel('epoch')\n",
        "axs[1].set_ylabel('acc')\n",
        "axs[1].set_title('acc v/s epoch')\n",
        "\n",
        "# Show the plot\n",
        "plt.show()\n"
      ],
      "metadata": {
        "colab": {
          "base_uri": "https://localhost:8080/",
          "height": 410
        },
        "id": "dhwxpDvJIoAy",
        "outputId": "ed6ea286-2c99-44fe-9fc6-4f7d6752866d"
      },
      "execution_count": 35,
      "outputs": [
        {
          "output_type": "display_data",
          "data": {
            "text/plain": [
              "<Figure size 800x400 with 2 Axes>"
            ],
            "image/png": "[encoded data removed]"
          },
          "metadata": {}
        }
      ]
    },
    {
      "cell_type": "markdown",
      "source": [
        "### LSTM hyperparams2 - 64,64,3"
      ],
      "metadata": {
        "id": "HyMuKZV2HLK8"
      }
    },
    {
      "cell_type": "code",
      "source": [
        "INPUT_DIM = 29\n",
        "OUTPUT_DIM = 66\n",
        "ENC_EMB_DIM = 64\n",
        "DEC_EMB_DIM = 64\n",
        "HID_DIM = 64\n",
        "N_LAYERS = 3\n",
        "ENC_DROPOUT = 0.25\n",
        "DEC_DROPOUT = 0.25\n",
        "\n",
        "enc = Encoder(INPUT_DIM, ENC_EMB_DIM, HID_DIM, N_LAYERS, ENC_DROPOUT, 'LSTM')\n",
        "dec = Decoder(OUTPUT_DIM, DEC_EMB_DIM, HID_DIM, N_LAYERS, DEC_DROPOUT, 'LSTM')\n",
        "\n",
        "model8 = Seq2Seq(enc, dec, device).to(device)"
      ],
      "metadata": {
        "id": "OxdxLzJrHPWM"
      },
      "execution_count": 36,
      "outputs": []
    },
    {
      "cell_type": "code",
      "source": [
        "optimizer = optim.Adam(model8.parameters(), lr = 3e-5)"
      ],
      "metadata": {
        "id": "EVY7uy8rHPWO"
      },
      "execution_count": 37,
      "outputs": []
    },
    {
      "cell_type": "code",
      "source": [
        "criterion = nn.CrossEntropyLoss(ignore_index = 64)  #ignore EOS token"
      ],
      "metadata": {
        "id": "1n0Nwv13HPWO"
      },
      "execution_count": 38,
      "outputs": []
    },
    {
      "cell_type": "code",
      "source": [
        "N_EPOCHS = 20\n",
        "CLIP = 1\n",
        "import time\n",
        "import math\n",
        "best_test_loss = float('inf')\n",
        "train_losses_8 = []\n",
        "test_losses_8 = []\n",
        "train_accs_8 = []\n",
        "test_accs_8 = []\n",
        "for epoch in range(N_EPOCHS):\n",
        "    start_time = time.time()\n",
        "    train_loss, train_acc = train(model8, train_loader, optimizer, criterion, CLIP)\n",
        "    test_loss, test_acc = evaluate(model8, test_loader, criterion)\n",
        "    end_time = time.time()\n",
        "    if test_loss < best_test_loss:\n",
        "        best_test_loss = test_loss\n",
        "        torch.save(model8.state_dict(), '/content/drive/MyDrive/Deep Learning/DL_ops_A2/seq2seq-model_lstm_64_attn')\n",
        "    train_losses_8.append(train_loss)\n",
        "    test_losses_8.append(test_loss)\n",
        "    train_accs_8.append(train_acc)\n",
        "    test_accs_8.append(test_acc)\n",
        "    print(f'\\tTrain Loss: {train_loss:.3f} | Val. Loss: {test_loss:.3f} | Train acc : {train_acc:.3f}| Test acc : {test_acc:.3f}')"
      ],
      "metadata": {
        "colab": {
          "base_uri": "https://localhost:8080/"
        },
        "outputId": "d2b65907-5da7-4310-e5f6-b9a1d82b63ef",
        "id": "xgn6K0P0HPWP"
      },
      "execution_count": 39,
      "outputs": [
        {
          "output_type": "stream",
          "name": "stderr",
          "text": [
            "Epoch 0: Loss: 3.5657: 100%|██████████| 346/346 [01:31<00:00,  3.77it/s]\n",
            "Evaluation: 100%|██████████| 36/36 [00:03<00:00,  9.20it/s, Loss=1.72]\n"
          ]
        },
        {
          "output_type": "stream",
          "name": "stdout",
          "text": [
            "\tTrain Loss: 3.566 | Val. Loss: 1.721 | Train acc : 47.864| Test acc : 68.220\n"
          ]
        },
        {
          "output_type": "stream",
          "name": "stderr",
          "text": [
            "Epoch 1: Loss: 1.3573: 100%|██████████| 346/346 [01:32<00:00,  3.75it/s]\n",
            "Evaluation: 100%|██████████| 36/36 [00:03<00:00,  9.17it/s, Loss=1.4]\n"
          ]
        },
        {
          "output_type": "stream",
          "name": "stdout",
          "text": [
            "\tTrain Loss: 1.357 | Val. Loss: 1.398 | Train acc : 67.924| Test acc : 69.620\n"
          ]
        },
        {
          "output_type": "stream",
          "name": "stderr",
          "text": [
            "Epoch 2: Loss: 1.2361: 100%|██████████| 346/346 [01:32<00:00,  3.76it/s]\n",
            "Evaluation: 100%|██████████| 36/36 [00:03<00:00,  9.31it/s, Loss=1.79]\n"
          ]
        },
        {
          "output_type": "stream",
          "name": "stdout",
          "text": [
            "\tTrain Loss: 1.236 | Val. Loss: 1.791 | Train acc : 68.319| Test acc : 68.055\n"
          ]
        },
        {
          "output_type": "stream",
          "name": "stderr",
          "text": [
            "Epoch 3: Loss: 1.2340: 100%|██████████| 346/346 [01:31<00:00,  3.77it/s]\n",
            "Evaluation: 100%|██████████| 36/36 [00:04<00:00,  8.16it/s, Loss=1.72]\n"
          ]
        },
        {
          "output_type": "stream",
          "name": "stdout",
          "text": [
            "\tTrain Loss: 1.234 | Val. Loss: 1.720 | Train acc : 71.794| Test acc : 68.751\n"
          ]
        },
        {
          "output_type": "stream",
          "name": "stderr",
          "text": [
            "Epoch 4: Loss: 1.2297: 100%|██████████| 346/346 [01:32<00:00,  3.72it/s]\n",
            "Evaluation: 100%|██████████| 36/36 [00:05<00:00,  7.07it/s, Loss=1.5]\n"
          ]
        },
        {
          "output_type": "stream",
          "name": "stdout",
          "text": [
            "\tTrain Loss: 1.230 | Val. Loss: 1.501 | Train acc : 71.006| Test acc : 70.000\n"
          ]
        },
        {
          "output_type": "stream",
          "name": "stderr",
          "text": [
            "Epoch 5: Loss: 1.2253: 100%|██████████| 346/346 [01:35<00:00,  3.63it/s]\n",
            "Evaluation: 100%|██████████| 36/36 [00:03<00:00,  9.19it/s, Loss=1.75]\n"
          ]
        },
        {
          "output_type": "stream",
          "name": "stdout",
          "text": [
            "\tTrain Loss: 1.225 | Val. Loss: 1.753 | Train acc : 69.960| Test acc : 65.222\n"
          ]
        },
        {
          "output_type": "stream",
          "name": "stderr",
          "text": [
            "Epoch 6: Loss: 1.2196: 100%|██████████| 346/346 [01:31<00:00,  3.78it/s]\n",
            "Evaluation: 100%|██████████| 36/36 [00:03<00:00,  9.37it/s, Loss=1.29]\n"
          ]
        },
        {
          "output_type": "stream",
          "name": "stdout",
          "text": [
            "\tTrain Loss: 1.220 | Val. Loss: 1.286 | Train acc : 71.467| Test acc : 73.131\n"
          ]
        },
        {
          "output_type": "stream",
          "name": "stderr",
          "text": [
            "Epoch 7: Loss: 1.2150: 100%|██████████| 346/346 [01:31<00:00,  3.80it/s]\n",
            "Evaluation: 100%|██████████| 36/36 [00:03<00:00,  9.19it/s, Loss=1.24]\n"
          ]
        },
        {
          "output_type": "stream",
          "name": "stdout",
          "text": [
            "\tTrain Loss: 1.215 | Val. Loss: 1.235 | Train acc : 72.202| Test acc : 73.274\n"
          ]
        },
        {
          "output_type": "stream",
          "name": "stderr",
          "text": [
            "Epoch 8: Loss: 1.2119: 100%|██████████| 346/346 [01:33<00:00,  3.71it/s]\n",
            "Evaluation: 100%|██████████| 36/36 [00:05<00:00,  6.98it/s, Loss=1.21]\n"
          ]
        },
        {
          "output_type": "stream",
          "name": "stdout",
          "text": [
            "\tTrain Loss: 1.212 | Val. Loss: 1.214 | Train acc : 72.221| Test acc : 71.783\n"
          ]
        },
        {
          "output_type": "stream",
          "name": "stderr",
          "text": [
            "Epoch 9: Loss: 1.2086: 100%|██████████| 346/346 [01:31<00:00,  3.78it/s]\n",
            "Evaluation: 100%|██████████| 36/36 [00:04<00:00,  7.64it/s, Loss=1.19]\n"
          ]
        },
        {
          "output_type": "stream",
          "name": "stdout",
          "text": [
            "\tTrain Loss: 1.209 | Val. Loss: 1.189 | Train acc : 72.283| Test acc : 73.881\n"
          ]
        },
        {
          "output_type": "stream",
          "name": "stderr",
          "text": [
            "Epoch 10: Loss: 1.2065: 100%|██████████| 346/346 [01:34<00:00,  3.67it/s]\n",
            "Evaluation: 100%|██████████| 36/36 [00:04<00:00,  8.75it/s, Loss=1.2]\n"
          ]
        },
        {
          "output_type": "stream",
          "name": "stdout",
          "text": [
            "\tTrain Loss: 1.206 | Val. Loss: 1.198 | Train acc : 72.348| Test acc : 74.032\n"
          ]
        },
        {
          "output_type": "stream",
          "name": "stderr",
          "text": [
            "Epoch 11: Loss: 1.2041: 100%|██████████| 346/346 [01:36<00:00,  3.59it/s]\n",
            "Evaluation: 100%|██████████| 36/36 [00:05<00:00,  6.60it/s, Loss=1.18]\n"
          ]
        },
        {
          "output_type": "stream",
          "name": "stdout",
          "text": [
            "\tTrain Loss: 1.204 | Val. Loss: 1.177 | Train acc : 72.416| Test acc : 74.073\n"
          ]
        },
        {
          "output_type": "stream",
          "name": "stderr",
          "text": [
            "Epoch 12: Loss: 1.2022: 100%|██████████| 346/346 [01:33<00:00,  3.69it/s]\n",
            "Evaluation: 100%|██████████| 36/36 [00:04<00:00,  7.78it/s, Loss=1.18]\n"
          ]
        },
        {
          "output_type": "stream",
          "name": "stdout",
          "text": [
            "\tTrain Loss: 1.202 | Val. Loss: 1.183 | Train acc : 72.513| Test acc : 74.203\n"
          ]
        },
        {
          "output_type": "stream",
          "name": "stderr",
          "text": [
            "Epoch 13: Loss: 1.2000: 100%|██████████| 346/346 [01:33<00:00,  3.71it/s]\n",
            "Evaluation: 100%|██████████| 36/36 [00:04<00:00,  8.91it/s, Loss=1.19]\n"
          ]
        },
        {
          "output_type": "stream",
          "name": "stdout",
          "text": [
            "\tTrain Loss: 1.200 | Val. Loss: 1.191 | Train acc : 72.558| Test acc : 74.197\n"
          ]
        },
        {
          "output_type": "stream",
          "name": "stderr",
          "text": [
            "Epoch 14: Loss: 1.1980: 100%|██████████| 346/346 [01:35<00:00,  3.64it/s]\n",
            "Evaluation: 100%|██████████| 36/36 [00:04<00:00,  8.07it/s, Loss=1.18]\n"
          ]
        },
        {
          "output_type": "stream",
          "name": "stdout",
          "text": [
            "\tTrain Loss: 1.198 | Val. Loss: 1.184 | Train acc : 72.562| Test acc : 74.172\n"
          ]
        },
        {
          "output_type": "stream",
          "name": "stderr",
          "text": [
            "Epoch 15: Loss: 1.1932: 100%|██████████| 346/346 [01:33<00:00,  3.71it/s]\n",
            "Evaluation: 100%|██████████| 36/36 [00:05<00:00,  6.93it/s, Loss=1.15]\n"
          ]
        },
        {
          "output_type": "stream",
          "name": "stdout",
          "text": [
            "\tTrain Loss: 1.193 | Val. Loss: 1.147 | Train acc : 72.533| Test acc : 74.227\n"
          ]
        },
        {
          "output_type": "stream",
          "name": "stderr",
          "text": [
            "Epoch 16: Loss: 1.1882: 100%|██████████| 346/346 [01:33<00:00,  3.70it/s]\n",
            "Evaluation: 100%|██████████| 36/36 [00:03<00:00,  9.02it/s, Loss=1.14]\n"
          ]
        },
        {
          "output_type": "stream",
          "name": "stdout",
          "text": [
            "\tTrain Loss: 1.188 | Val. Loss: 1.135 | Train acc : 72.510| Test acc : 74.205\n"
          ]
        },
        {
          "output_type": "stream",
          "name": "stderr",
          "text": [
            "Epoch 17: Loss: 1.1795: 100%|██████████| 346/346 [01:32<00:00,  3.73it/s]\n",
            "Evaluation: 100%|██████████| 36/36 [00:03<00:00,  9.16it/s, Loss=1.12]\n"
          ]
        },
        {
          "output_type": "stream",
          "name": "stdout",
          "text": [
            "\tTrain Loss: 1.180 | Val. Loss: 1.116 | Train acc : 72.458| Test acc : 74.115\n"
          ]
        },
        {
          "output_type": "stream",
          "name": "stderr",
          "text": [
            "Epoch 18: Loss: 1.1587: 100%|██████████| 346/346 [01:32<00:00,  3.76it/s]\n",
            "Evaluation: 100%|██████████| 36/36 [00:03<00:00,  9.08it/s, Loss=1.08]\n"
          ]
        },
        {
          "output_type": "stream",
          "name": "stdout",
          "text": [
            "\tTrain Loss: 1.159 | Val. Loss: 1.078 | Train acc : 72.311| Test acc : 73.826\n"
          ]
        },
        {
          "output_type": "stream",
          "name": "stderr",
          "text": [
            "Epoch 19: Loss: 1.0941: 100%|██████████| 346/346 [01:32<00:00,  3.74it/s]\n",
            "Evaluation: 100%|██████████| 36/36 [00:04<00:00,  7.36it/s, Loss=0.997]"
          ]
        },
        {
          "output_type": "stream",
          "name": "stdout",
          "text": [
            "\tTrain Loss: 1.094 | Val. Loss: 0.997 | Train acc : 72.100| Test acc : 73.882\n"
          ]
        },
        {
          "output_type": "stream",
          "name": "stderr",
          "text": [
            "\n"
          ]
        }
      ]
    },
    {
      "cell_type": "code",
      "source": [
        "print('Accuracy : ',evaluate_acc(model8, test_loader))"
      ],
      "metadata": {
        "colab": {
          "base_uri": "https://localhost:8080/"
        },
        "id": "-4Ylm1a7HPWP",
        "outputId": "41f11e38-dc63-42da-c7df-ff6110ddc8ae"
      },
      "execution_count": 40,
      "outputs": [
        {
          "output_type": "stream",
          "name": "stdout",
          "text": [
            "Accuracy :  0.7331674811195024\n"
          ]
        }
      ]
    },
    {
      "cell_type": "code",
      "source": [
        "import matplotlib.pyplot as plt\n",
        "\n",
        "fig, axs = plt.subplots(1, 2, figsize=(8, 4))\n",
        "\n",
        "# Plot the first subplot for loss vs epoch\n",
        "axs[0].plot(train_losses_8, 'b-', label='train loss')\n",
        "axs[0].plot(test_losses_8 , 'r-', label='test loss')\n",
        "axs[0].legend()\n",
        "axs[0].set_xlabel('epoch')\n",
        "axs[0].set_ylabel('loss')\n",
        "axs[0].set_title('loss v/s epoch')\n",
        "\n",
        "# Plot the second subplot for acc vs epoch\n",
        "axs[1].plot(train_accs_8, 'b-', label='train acc')\n",
        "axs[1].plot(test_accs_8 , 'r-', label='test acc')\n",
        "axs[1].legend()\n",
        "axs[1].set_xlabel('epoch')\n",
        "axs[1].set_ylabel('acc')\n",
        "axs[1].set_title('acc v/s epoch')\n",
        "\n",
        "# Show the plot\n",
        "plt.show()\n"
      ],
      "metadata": {
        "colab": {
          "base_uri": "https://localhost:8080/",
          "height": 410
        },
        "id": "GDJqlhSIIqVi",
        "outputId": "3530b6b6-8bc7-487c-87f0-47edec6cdb86"
      },
      "execution_count": 41,
      "outputs": [
        {
          "output_type": "display_data",
          "data": {
            "text/plain": [
              "<Figure size 800x400 with 2 Axes>"
            ],
            "image/png": "[encoded data removed]"
          },
          "metadata": {}
        }
      ]
    },
    {
      "cell_type": "markdown",
      "source": [
        "### without dropout LSTM and attn"
      ],
      "metadata": {
        "id": "KLAFzEPrJKhg"
      }
    },
    {
      "cell_type": "code",
      "source": [
        "INPUT_DIM = 29\n",
        "OUTPUT_DIM = 66\n",
        "ENC_EMB_DIM = 16\n",
        "DEC_EMB_DIM = 16\n",
        "HID_DIM = 16\n",
        "N_LAYERS = 1\n",
        "ENC_DROPOUT = 0\n",
        "DEC_DROPOUT = 0\n",
        "\n",
        "enc = Encoder(INPUT_DIM, ENC_EMB_DIM, HID_DIM, N_LAYERS, ENC_DROPOUT, 'LSTM')\n",
        "dec = Decoder(OUTPUT_DIM, DEC_EMB_DIM, HID_DIM, N_LAYERS, DEC_DROPOUT, 'LSTM')\n",
        "\n",
        "model9 = Seq2Seq(enc, dec, device).to(device)"
      ],
      "metadata": {
        "id": "RxsHiwA7JRXi"
      },
      "execution_count": 42,
      "outputs": []
    },
    {
      "cell_type": "code",
      "source": [
        "optimizer = optim.Adam(model9.parameters(), lr = 3e-5)"
      ],
      "metadata": {
        "id": "vWav5pLWJRXp"
      },
      "execution_count": 43,
      "outputs": []
    },
    {
      "cell_type": "code",
      "source": [
        "criterion = nn.CrossEntropyLoss(ignore_index = 64)  #ignore EOS token"
      ],
      "metadata": {
        "id": "nGfyC6emJRXp"
      },
      "execution_count": 44,
      "outputs": []
    },
    {
      "cell_type": "code",
      "source": [
        "N_EPOCHS = 20\n",
        "CLIP = 1\n",
        "import time\n",
        "import math\n",
        "best_test_loss = float('inf')\n",
        "train_losses_9 = []\n",
        "test_losses_9 = []\n",
        "train_accs_9 = []\n",
        "test_accs_9 = []\n",
        "for epoch in range(N_EPOCHS):\n",
        "    start_time = time.time()\n",
        "    train_loss, train_acc = train(model9, train_loader, optimizer, criterion, CLIP)\n",
        "    test_loss, test_acc = evaluate(model9, test_loader, criterion)\n",
        "    end_time = time.time()\n",
        "    if test_loss < best_test_loss:\n",
        "        best_test_loss = test_loss\n",
        "        torch.save(model9.state_dict(), '/content/drive/MyDrive/Deep Learning/DL_ops_A2/seq2seq-model_lstm_16_no_dropout_attn')\n",
        "    train_losses_9.append(train_loss)\n",
        "    test_losses_9.append(test_loss)\n",
        "    train_accs_9.append(train_acc)\n",
        "    test_accs_9.append(test_acc)\n",
        "    print(f'\\tTrain Loss: {train_loss:.3f} | Val. Loss: {test_loss:.3f} | Train acc : {train_acc:.3f}| Test acc : {test_acc:.3f}')"
      ],
      "metadata": {
        "colab": {
          "base_uri": "https://localhost:8080/"
        },
        "outputId": "b21f5a49-90ae-477e-c468-af69ab5ef0ed",
        "id": "F6Jbu7mIJRXq"
      },
      "execution_count": 45,
      "outputs": [
        {
          "output_type": "stream",
          "name": "stderr",
          "text": [
            "Epoch 0: Loss: 4.1649: 100%|██████████| 346/346 [01:20<00:00,  4.31it/s]\n",
            "Evaluation: 100%|██████████| 36/36 [00:03<00:00,  9.50it/s, Loss=4.14]\n"
          ]
        },
        {
          "output_type": "stream",
          "name": "stdout",
          "text": [
            "\tTrain Loss: 4.165 | Val. Loss: 4.141 | Train acc : 20.343| Test acc : 61.103\n"
          ]
        },
        {
          "output_type": "stream",
          "name": "stderr",
          "text": [
            "Epoch 1: Loss: 4.0264: 100%|██████████| 346/346 [01:19<00:00,  4.33it/s]\n",
            "Evaluation: 100%|██████████| 36/36 [00:04<00:00,  8.61it/s, Loss=3.95]\n"
          ]
        },
        {
          "output_type": "stream",
          "name": "stdout",
          "text": [
            "\tTrain Loss: 4.026 | Val. Loss: 3.953 | Train acc : 54.973| Test acc : 61.117\n"
          ]
        },
        {
          "output_type": "stream",
          "name": "stderr",
          "text": [
            "Epoch 2: Loss: 3.7518: 100%|██████████| 346/346 [01:20<00:00,  4.32it/s]\n",
            "Evaluation: 100%|██████████| 36/36 [00:04<00:00,  7.68it/s, Loss=3.55]\n"
          ]
        },
        {
          "output_type": "stream",
          "name": "stdout",
          "text": [
            "\tTrain Loss: 3.752 | Val. Loss: 3.548 | Train acc : 52.129| Test acc : 58.948\n"
          ]
        },
        {
          "output_type": "stream",
          "name": "stderr",
          "text": [
            "Epoch 3: Loss: 2.9871: 100%|██████████| 346/346 [01:20<00:00,  4.29it/s]\n",
            "Evaluation: 100%|██████████| 36/36 [00:03<00:00,  9.61it/s, Loss=2.75]\n"
          ]
        },
        {
          "output_type": "stream",
          "name": "stdout",
          "text": [
            "\tTrain Loss: 2.987 | Val. Loss: 2.749 | Train acc : 53.380| Test acc : 60.294\n"
          ]
        },
        {
          "output_type": "stream",
          "name": "stderr",
          "text": [
            "Epoch 4: Loss: 1.9137: 100%|██████████| 346/346 [01:20<00:00,  4.31it/s]\n",
            "Evaluation: 100%|██████████| 36/36 [00:03<00:00,  9.43it/s, Loss=1.7]\n"
          ]
        },
        {
          "output_type": "stream",
          "name": "stdout",
          "text": [
            "\tTrain Loss: 1.914 | Val. Loss: 1.704 | Train acc : 61.354| Test acc : 66.277\n"
          ]
        },
        {
          "output_type": "stream",
          "name": "stderr",
          "text": [
            "Epoch 5: Loss: 1.4023: 100%|██████████| 346/346 [01:20<00:00,  4.32it/s]\n",
            "Evaluation: 100%|██████████| 36/36 [00:04<00:00,  7.47it/s, Loss=1.42]\n"
          ]
        },
        {
          "output_type": "stream",
          "name": "stdout",
          "text": [
            "\tTrain Loss: 1.402 | Val. Loss: 1.418 | Train acc : 67.299| Test acc : 69.419\n"
          ]
        },
        {
          "output_type": "stream",
          "name": "stderr",
          "text": [
            "Epoch 6: Loss: 1.3263: 100%|██████████| 346/346 [01:20<00:00,  4.31it/s]\n",
            "Evaluation: 100%|██████████| 36/36 [00:04<00:00,  8.80it/s, Loss=1.37]\n"
          ]
        },
        {
          "output_type": "stream",
          "name": "stdout",
          "text": [
            "\tTrain Loss: 1.326 | Val. Loss: 1.372 | Train acc : 67.892| Test acc : 69.569\n"
          ]
        },
        {
          "output_type": "stream",
          "name": "stderr",
          "text": [
            "Epoch 7: Loss: 1.3060: 100%|██████████| 346/346 [01:20<00:00,  4.28it/s]\n",
            "Evaluation: 100%|██████████| 36/36 [00:03<00:00,  9.21it/s, Loss=1.34]\n"
          ]
        },
        {
          "output_type": "stream",
          "name": "stdout",
          "text": [
            "\tTrain Loss: 1.306 | Val. Loss: 1.339 | Train acc : 67.947| Test acc : 69.625\n"
          ]
        },
        {
          "output_type": "stream",
          "name": "stderr",
          "text": [
            "Epoch 8: Loss: 1.2941: 100%|██████████| 346/346 [01:20<00:00,  4.29it/s]\n",
            "Evaluation: 100%|██████████| 36/36 [00:04<00:00,  8.19it/s, Loss=1.32]\n"
          ]
        },
        {
          "output_type": "stream",
          "name": "stdout",
          "text": [
            "\tTrain Loss: 1.294 | Val. Loss: 1.318 | Train acc : 67.906| Test acc : 69.609\n"
          ]
        },
        {
          "output_type": "stream",
          "name": "stderr",
          "text": [
            "Epoch 9: Loss: 1.2845: 100%|██████████| 346/346 [01:20<00:00,  4.32it/s]\n",
            "Evaluation: 100%|██████████| 36/36 [00:04<00:00,  7.97it/s, Loss=1.31]\n"
          ]
        },
        {
          "output_type": "stream",
          "name": "stdout",
          "text": [
            "\tTrain Loss: 1.284 | Val. Loss: 1.307 | Train acc : 67.875| Test acc : 69.632\n"
          ]
        },
        {
          "output_type": "stream",
          "name": "stderr",
          "text": [
            "Epoch 10: Loss: 1.2753: 100%|██████████| 346/346 [01:19<00:00,  4.33it/s]\n",
            "Evaluation: 100%|██████████| 36/36 [00:03<00:00,  9.44it/s, Loss=1.3]\n"
          ]
        },
        {
          "output_type": "stream",
          "name": "stdout",
          "text": [
            "\tTrain Loss: 1.275 | Val. Loss: 1.302 | Train acc : 67.858| Test acc : 69.648\n"
          ]
        },
        {
          "output_type": "stream",
          "name": "stderr",
          "text": [
            "Epoch 11: Loss: 1.2663: 100%|██████████| 346/346 [01:20<00:00,  4.30it/s]\n",
            "Evaluation: 100%|██████████| 36/36 [00:03<00:00,  9.57it/s, Loss=1.28]\n"
          ]
        },
        {
          "output_type": "stream",
          "name": "stdout",
          "text": [
            "\tTrain Loss: 1.266 | Val. Loss: 1.278 | Train acc : 67.852| Test acc : 69.650\n"
          ]
        },
        {
          "output_type": "stream",
          "name": "stderr",
          "text": [
            "Epoch 12: Loss: 1.2586: 100%|██████████| 346/346 [01:20<00:00,  4.32it/s]\n",
            "Evaluation: 100%|██████████| 36/36 [00:04<00:00,  7.57it/s, Loss=1.24]\n"
          ]
        },
        {
          "output_type": "stream",
          "name": "stdout",
          "text": [
            "\tTrain Loss: 1.259 | Val. Loss: 1.243 | Train acc : 67.824| Test acc : 69.609\n"
          ]
        },
        {
          "output_type": "stream",
          "name": "stderr",
          "text": [
            "Epoch 13: Loss: 1.2489: 100%|██████████| 346/346 [01:20<00:00,  4.32it/s]\n",
            "Evaluation: 100%|██████████| 36/36 [00:04<00:00,  8.98it/s, Loss=1.23]\n"
          ]
        },
        {
          "output_type": "stream",
          "name": "stdout",
          "text": [
            "\tTrain Loss: 1.249 | Val. Loss: 1.234 | Train acc : 67.882| Test acc : 69.590\n"
          ]
        },
        {
          "output_type": "stream",
          "name": "stderr",
          "text": [
            "Epoch 14: Loss: 1.2430: 100%|██████████| 346/346 [01:19<00:00,  4.33it/s]\n",
            "Evaluation: 100%|██████████| 36/36 [00:03<00:00,  9.60it/s, Loss=1.23]\n"
          ]
        },
        {
          "output_type": "stream",
          "name": "stdout",
          "text": [
            "\tTrain Loss: 1.243 | Val. Loss: 1.228 | Train acc : 67.932| Test acc : 69.666\n"
          ]
        },
        {
          "output_type": "stream",
          "name": "stderr",
          "text": [
            "Epoch 15: Loss: 1.2393: 100%|██████████| 346/346 [01:20<00:00,  4.32it/s]\n",
            "Evaluation: 100%|██████████| 36/36 [00:03<00:00,  9.49it/s, Loss=1.24]\n"
          ]
        },
        {
          "output_type": "stream",
          "name": "stdout",
          "text": [
            "\tTrain Loss: 1.239 | Val. Loss: 1.239 | Train acc : 68.032| Test acc : 69.674\n"
          ]
        },
        {
          "output_type": "stream",
          "name": "stderr",
          "text": [
            "Epoch 16: Loss: 1.2362: 100%|██████████| 346/346 [01:20<00:00,  4.31it/s]\n",
            "Evaluation: 100%|██████████| 36/36 [00:04<00:00,  7.31it/s, Loss=1.24]\n"
          ]
        },
        {
          "output_type": "stream",
          "name": "stdout",
          "text": [
            "\tTrain Loss: 1.236 | Val. Loss: 1.237 | Train acc : 68.069| Test acc : 69.689\n"
          ]
        },
        {
          "output_type": "stream",
          "name": "stderr",
          "text": [
            "Epoch 17: Loss: 1.2339: 100%|██████████| 346/346 [01:20<00:00,  4.32it/s]\n",
            "Evaluation: 100%|██████████| 36/36 [00:03<00:00,  9.53it/s, Loss=1.26]\n"
          ]
        },
        {
          "output_type": "stream",
          "name": "stdout",
          "text": [
            "\tTrain Loss: 1.234 | Val. Loss: 1.256 | Train acc : 68.113| Test acc : 69.704\n"
          ]
        },
        {
          "output_type": "stream",
          "name": "stderr",
          "text": [
            "Epoch 18: Loss: 1.2330: 100%|██████████| 346/346 [01:20<00:00,  4.30it/s]\n",
            "Evaluation: 100%|██████████| 36/36 [00:03<00:00,  9.27it/s, Loss=1.25]\n"
          ]
        },
        {
          "output_type": "stream",
          "name": "stdout",
          "text": [
            "\tTrain Loss: 1.233 | Val. Loss: 1.245 | Train acc : 68.092| Test acc : 69.704\n"
          ]
        },
        {
          "output_type": "stream",
          "name": "stderr",
          "text": [
            "Epoch 19: Loss: 1.2311: 100%|██████████| 346/346 [01:20<00:00,  4.32it/s]\n",
            "Evaluation: 100%|██████████| 36/36 [00:04<00:00,  8.34it/s, Loss=1.25]"
          ]
        },
        {
          "output_type": "stream",
          "name": "stdout",
          "text": [
            "\tTrain Loss: 1.231 | Val. Loss: 1.251 | Train acc : 68.114| Test acc : 69.737\n"
          ]
        },
        {
          "output_type": "stream",
          "name": "stderr",
          "text": [
            "\n"
          ]
        }
      ]
    },
    {
      "cell_type": "code",
      "source": [
        "print('Accuracy : ',evaluate_acc(model9, test_loader))"
      ],
      "metadata": {
        "colab": {
          "base_uri": "https://localhost:8080/"
        },
        "id": "iSTtc8B6JRXq",
        "outputId": "1b769e33-a2a7-4c6b-fba5-0d2012aa6ea3"
      },
      "execution_count": 46,
      "outputs": [
        {
          "output_type": "stream",
          "name": "stdout",
          "text": [
            "Accuracy :  0.6922789871168369\n"
          ]
        }
      ]
    },
    {
      "cell_type": "code",
      "source": [
        "import matplotlib.pyplot as plt\n",
        "\n",
        "fig, axs = plt.subplots(1, 2, figsize=(8, 4))\n",
        "\n",
        "# Plot the first subplot for loss vs epoch\n",
        "axs[0].plot(train_losses_9, 'b-', label='train loss')\n",
        "axs[0].plot(test_losses_9 , 'r-', label='test loss')\n",
        "axs[0].legend()\n",
        "axs[0].set_xlabel('epoch')\n",
        "axs[0].set_ylabel('loss')\n",
        "axs[0].set_title('loss v/s epoch')\n",
        "\n",
        "# Plot the second subplot for acc vs epoch\n",
        "axs[1].plot(train_accs_9, 'b-', label='train acc')\n",
        "axs[1].plot(test_accs_9 , 'r-', label='test acc')\n",
        "axs[1].legend()\n",
        "axs[1].set_xlabel('epoch')\n",
        "axs[1].set_ylabel('acc')\n",
        "axs[1].set_title('acc v/s epoch')\n",
        "\n",
        "# Show the plot\n",
        "plt.show()\n"
      ],
      "metadata": {
        "colab": {
          "base_uri": "https://localhost:8080/",
          "height": 410
        },
        "id": "yt-bs8XiJRXq",
        "outputId": "98757782-ea6e-4985-e921-b9612d542fed"
      },
      "execution_count": 47,
      "outputs": [
        {
          "output_type": "display_data",
          "data": {
            "text/plain": [
              "<Figure size 800x400 with 2 Axes>"
            ],
            "image/png": "[encoded data removed]"
          },
          "metadata": {}
        }
      ]
    },
    {
      "cell_type": "markdown",
      "source": [
        "### RNN - hyperparams1 (16,16,1)"
      ],
      "metadata": {
        "id": "TiRpi29k5NwD"
      }
    },
    {
      "cell_type": "code",
      "source": [
        "INPUT_DIM = 29\n",
        "OUTPUT_DIM = 66\n",
        "ENC_EMB_DIM = 16\n",
        "DEC_EMB_DIM = 16\n",
        "HID_DIM = 16\n",
        "N_LAYERS = 1\n",
        "ENC_DROPOUT = 0.25\n",
        "DEC_DROPOUT = 0.25\n",
        "\n",
        "enc = Encoder(INPUT_DIM, ENC_EMB_DIM, HID_DIM, N_LAYERS, ENC_DROPOUT, 'RNN')\n",
        "dec = Decoder(OUTPUT_DIM, DEC_EMB_DIM, HID_DIM, N_LAYERS, DEC_DROPOUT, 'RNN')\n",
        "\n",
        "model10 = Seq2Seq(enc, dec, device).to(device)"
      ],
      "metadata": {
        "colab": {
          "base_uri": "https://localhost:8080/"
        },
        "outputId": "07efbe53-5c1c-4fcf-f4af-1e1594d3ccff",
        "id": "oBhQ48fY5NwF"
      },
      "execution_count": 25,
      "outputs": [
        {
          "output_type": "stream",
          "name": "stderr",
          "text": [
            "/usr/local/lib/python3.9/dist-packages/torch/nn/modules/rnn.py:71: UserWarning: dropout option adds dropout after all but last recurrent layer, so non-zero dropout expects num_layers greater than 1, but got dropout=0.25 and num_layers=1\n",
            "  warnings.warn(\"dropout option adds dropout after all but last \"\n"
          ]
        }
      ]
    },
    {
      "cell_type": "code",
      "source": [
        "optimizer = optim.Adam(model10.parameters(), lr = 3e-5)"
      ],
      "metadata": {
        "id": "cbyl4V515NwH"
      },
      "execution_count": 26,
      "outputs": []
    },
    {
      "cell_type": "code",
      "source": [
        "criterion = nn.CrossEntropyLoss(ignore_index = 64)  #ignore EOS token"
      ],
      "metadata": {
        "id": "5atEoaDh5NwI"
      },
      "execution_count": 27,
      "outputs": []
    },
    {
      "cell_type": "code",
      "source": [
        "N_EPOCHS = 20\n",
        "CLIP = 1\n",
        "import time\n",
        "import math\n",
        "best_test_loss = float('inf')\n",
        "train_losses_10 = []\n",
        "test_losses_10 = []\n",
        "train_accs_10 = []\n",
        "test_accs_10 = []\n",
        "for epoch in range(N_EPOCHS):\n",
        "    start_time = time.time()\n",
        "    train_loss, train_acc = train(model10, train_loader, optimizer, criterion, CLIP)\n",
        "    test_loss, test_acc = evaluate(model10, test_loader, criterion)\n",
        "    end_time = time.time()\n",
        "    if test_loss < best_test_loss:\n",
        "        best_test_loss = test_loss\n",
        "        torch.save(model10.state_dict(), '/content/drive/MyDrive/Deep Learning/DL_ops_A2/seq2seq-model_rnn_16_attn')\n",
        "    train_losses_10.append(train_loss)\n",
        "    test_losses_10.append(test_loss)\n",
        "    train_accs_10.append(train_acc)\n",
        "    test_accs_10.append(test_acc)\n",
        "    print(f'\\tTrain Loss: {train_loss:.3f} | Val. Loss: {test_loss:.3f} | Train acc : {train_acc:.3f}| Test acc : {test_acc:.3f}')"
      ],
      "metadata": {
        "colab": {
          "base_uri": "https://localhost:8080/"
        },
        "outputId": "4a322dc3-3e1b-4bad-d89d-0d971fbfb82e",
        "id": "oxrOswYG5NwI"
      },
      "execution_count": 28,
      "outputs": [
        {
          "output_type": "stream",
          "name": "stderr",
          "text": [
            "Epoch 0: Loss: 3.9747: 100%|██████████| 346/346 [01:13<00:00,  4.68it/s]\n",
            "Evaluation: 100%|██████████| 36/36 [00:02<00:00, 12.00it/s, Loss=4.22]\n"
          ]
        },
        {
          "output_type": "stream",
          "name": "stdout",
          "text": [
            "\tTrain Loss: 3.975 | Val. Loss: 4.216 | Train acc : 3.801| Test acc : 0.262\n"
          ]
        },
        {
          "output_type": "stream",
          "name": "stderr",
          "text": [
            "Epoch 1: Loss: 3.5456: 100%|██████████| 346/346 [00:57<00:00,  6.05it/s]\n",
            "Evaluation: 100%|██████████| 36/36 [00:02<00:00, 12.00it/s, Loss=3.22]\n"
          ]
        },
        {
          "output_type": "stream",
          "name": "stdout",
          "text": [
            "\tTrain Loss: 3.546 | Val. Loss: 3.215 | Train acc : 47.194| Test acc : 66.734\n"
          ]
        },
        {
          "output_type": "stream",
          "name": "stderr",
          "text": [
            "Epoch 2: Loss: 3.0995: 100%|██████████| 346/346 [00:59<00:00,  5.84it/s]\n",
            "Evaluation: 100%|██████████| 36/36 [00:03<00:00, 11.88it/s, Loss=2.8]\n"
          ]
        },
        {
          "output_type": "stream",
          "name": "stdout",
          "text": [
            "\tTrain Loss: 3.099 | Val. Loss: 2.795 | Train acc : 65.385| Test acc : 68.161\n"
          ]
        },
        {
          "output_type": "stream",
          "name": "stderr",
          "text": [
            "Epoch 3: Loss: 2.7385: 100%|██████████| 346/346 [00:57<00:00,  6.06it/s]\n",
            "Evaluation: 100%|██████████| 36/36 [00:03<00:00, 11.91it/s, Loss=2.46]\n"
          ]
        },
        {
          "output_type": "stream",
          "name": "stdout",
          "text": [
            "\tTrain Loss: 2.738 | Val. Loss: 2.457 | Train acc : 66.346| Test acc : 68.288\n"
          ]
        },
        {
          "output_type": "stream",
          "name": "stderr",
          "text": [
            "Epoch 4: Loss: 2.4148: 100%|██████████| 346/346 [00:58<00:00,  5.91it/s]\n",
            "Evaluation: 100%|██████████| 36/36 [00:03<00:00, 11.62it/s, Loss=2.18]\n"
          ]
        },
        {
          "output_type": "stream",
          "name": "stdout",
          "text": [
            "\tTrain Loss: 2.415 | Val. Loss: 2.176 | Train acc : 66.714| Test acc : 68.373\n"
          ]
        },
        {
          "output_type": "stream",
          "name": "stderr",
          "text": [
            "Epoch 5: Loss: 2.1443: 100%|██████████| 346/346 [01:00<00:00,  5.76it/s]\n",
            "Evaluation: 100%|██████████| 36/36 [00:04<00:00,  8.70it/s, Loss=1.96]\n"
          ]
        },
        {
          "output_type": "stream",
          "name": "stdout",
          "text": [
            "\tTrain Loss: 2.144 | Val. Loss: 1.965 | Train acc : 66.904| Test acc : 68.488\n"
          ]
        },
        {
          "output_type": "stream",
          "name": "stderr",
          "text": [
            "Epoch 6: Loss: 1.9428: 100%|██████████| 346/346 [00:56<00:00,  6.09it/s]\n",
            "Evaluation: 100%|██████████| 36/36 [00:02<00:00, 12.01it/s, Loss=1.82]\n"
          ]
        },
        {
          "output_type": "stream",
          "name": "stdout",
          "text": [
            "\tTrain Loss: 1.943 | Val. Loss: 1.822 | Train acc : 66.988| Test acc : 68.490\n"
          ]
        },
        {
          "output_type": "stream",
          "name": "stderr",
          "text": [
            "Epoch 7: Loss: 1.8025: 100%|██████████| 346/346 [00:56<00:00,  6.11it/s]\n",
            "Evaluation: 100%|██████████| 36/36 [00:03<00:00, 10.61it/s, Loss=1.73]\n"
          ]
        },
        {
          "output_type": "stream",
          "name": "stdout",
          "text": [
            "\tTrain Loss: 1.802 | Val. Loss: 1.731 | Train acc : 67.090| Test acc : 68.588\n"
          ]
        },
        {
          "output_type": "stream",
          "name": "stderr",
          "text": [
            "Epoch 8: Loss: 1.7166: 100%|██████████| 346/346 [00:57<00:00,  6.01it/s]\n",
            "Evaluation: 100%|██████████| 36/36 [00:03<00:00, 11.89it/s, Loss=1.69]\n"
          ]
        },
        {
          "output_type": "stream",
          "name": "stdout",
          "text": [
            "\tTrain Loss: 1.717 | Val. Loss: 1.687 | Train acc : 67.315| Test acc : 68.493\n"
          ]
        },
        {
          "output_type": "stream",
          "name": "stderr",
          "text": [
            "Epoch 9: Loss: 1.6632: 100%|██████████| 346/346 [00:56<00:00,  6.17it/s]\n",
            "Evaluation: 100%|██████████| 36/36 [00:03<00:00, 11.88it/s, Loss=1.66]\n"
          ]
        },
        {
          "output_type": "stream",
          "name": "stdout",
          "text": [
            "\tTrain Loss: 1.663 | Val. Loss: 1.662 | Train acc : 68.040| Test acc : 68.493\n"
          ]
        },
        {
          "output_type": "stream",
          "name": "stderr",
          "text": [
            "Epoch 10: Loss: 1.6190: 100%|██████████| 346/346 [00:57<00:00,  6.04it/s]\n",
            "Evaluation: 100%|██████████| 36/36 [00:03<00:00, 10.61it/s, Loss=1.65]\n"
          ]
        },
        {
          "output_type": "stream",
          "name": "stdout",
          "text": [
            "\tTrain Loss: 1.619 | Val. Loss: 1.646 | Train acc : 69.416| Test acc : 68.494\n"
          ]
        },
        {
          "output_type": "stream",
          "name": "stderr",
          "text": [
            "Epoch 11: Loss: 1.5817: 100%|██████████| 346/346 [00:56<00:00,  6.17it/s]\n",
            "Evaluation: 100%|██████████| 36/36 [00:02<00:00, 12.01it/s, Loss=1.55]\n"
          ]
        },
        {
          "output_type": "stream",
          "name": "stdout",
          "text": [
            "\tTrain Loss: 1.582 | Val. Loss: 1.555 | Train acc : 69.787| Test acc : 72.494\n"
          ]
        },
        {
          "output_type": "stream",
          "name": "stderr",
          "text": [
            "Epoch 12: Loss: 1.5466: 100%|██████████| 346/346 [00:56<00:00,  6.12it/s]\n",
            "Evaluation: 100%|██████████| 36/36 [00:04<00:00,  8.24it/s, Loss=1.53]\n"
          ]
        },
        {
          "output_type": "stream",
          "name": "stdout",
          "text": [
            "\tTrain Loss: 1.547 | Val. Loss: 1.532 | Train acc : 70.157| Test acc : 72.493\n"
          ]
        },
        {
          "output_type": "stream",
          "name": "stderr",
          "text": [
            "Epoch 13: Loss: 1.5153: 100%|██████████| 346/346 [00:56<00:00,  6.16it/s]\n",
            "Evaluation: 100%|██████████| 36/36 [00:03<00:00, 11.94it/s, Loss=1.52]\n"
          ]
        },
        {
          "output_type": "stream",
          "name": "stdout",
          "text": [
            "\tTrain Loss: 1.515 | Val. Loss: 1.515 | Train acc : 70.542| Test acc : 72.485\n"
          ]
        },
        {
          "output_type": "stream",
          "name": "stderr",
          "text": [
            "Epoch 14: Loss: 1.4851: 100%|██████████| 346/346 [00:56<00:00,  6.16it/s]\n",
            "Evaluation: 100%|██████████| 36/36 [00:03<00:00, 10.48it/s, Loss=1.5]\n"
          ]
        },
        {
          "output_type": "stream",
          "name": "stdout",
          "text": [
            "\tTrain Loss: 1.485 | Val. Loss: 1.500 | Train acc : 70.784| Test acc : 72.486\n"
          ]
        },
        {
          "output_type": "stream",
          "name": "stderr",
          "text": [
            "Epoch 15: Loss: 1.4599: 100%|██████████| 346/346 [00:56<00:00,  6.08it/s]\n",
            "Evaluation: 100%|██████████| 36/36 [00:02<00:00, 12.03it/s, Loss=1.49]\n"
          ]
        },
        {
          "output_type": "stream",
          "name": "stdout",
          "text": [
            "\tTrain Loss: 1.460 | Val. Loss: 1.491 | Train acc : 70.863| Test acc : 72.486\n"
          ]
        },
        {
          "output_type": "stream",
          "name": "stderr",
          "text": [
            "Epoch 16: Loss: 1.4347: 100%|██████████| 346/346 [00:55<00:00,  6.18it/s]\n",
            "Evaluation: 100%|██████████| 36/36 [00:02<00:00, 12.06it/s, Loss=1.48]\n"
          ]
        },
        {
          "output_type": "stream",
          "name": "stdout",
          "text": [
            "\tTrain Loss: 1.435 | Val. Loss: 1.485 | Train acc : 70.929| Test acc : 72.496\n"
          ]
        },
        {
          "output_type": "stream",
          "name": "stderr",
          "text": [
            "Epoch 17: Loss: 1.4096: 100%|██████████| 346/346 [00:56<00:00,  6.07it/s]\n",
            "Evaluation: 100%|██████████| 36/36 [00:03<00:00,  9.45it/s, Loss=1.49]\n"
          ]
        },
        {
          "output_type": "stream",
          "name": "stdout",
          "text": [
            "\tTrain Loss: 1.410 | Val. Loss: 1.486 | Train acc : 70.955| Test acc : 72.495\n"
          ]
        },
        {
          "output_type": "stream",
          "name": "stderr",
          "text": [
            "Epoch 18: Loss: 1.3821: 100%|██████████| 346/346 [00:56<00:00,  6.14it/s]\n",
            "Evaluation: 100%|██████████| 36/36 [00:03<00:00, 11.89it/s, Loss=1.49]\n"
          ]
        },
        {
          "output_type": "stream",
          "name": "stdout",
          "text": [
            "\tTrain Loss: 1.382 | Val. Loss: 1.486 | Train acc : 71.022| Test acc : 72.495\n"
          ]
        },
        {
          "output_type": "stream",
          "name": "stderr",
          "text": [
            "Epoch 19: Loss: 1.3442: 100%|██████████| 346/346 [00:56<00:00,  6.16it/s]\n",
            "Evaluation: 100%|██████████| 36/36 [00:04<00:00,  8.65it/s, Loss=1.48]"
          ]
        },
        {
          "output_type": "stream",
          "name": "stdout",
          "text": [
            "\tTrain Loss: 1.344 | Val. Loss: 1.477 | Train acc : 71.148| Test acc : 72.511\n"
          ]
        },
        {
          "output_type": "stream",
          "name": "stderr",
          "text": [
            "\n"
          ]
        }
      ]
    },
    {
      "cell_type": "code",
      "source": [
        "print('Accuracy : ',evaluate_acc(model10, test_loader))"
      ],
      "metadata": {
        "colab": {
          "base_uri": "https://localhost:8080/"
        },
        "outputId": "0ca63c2a-5ac7-454a-fe3a-decacbb1a8fb",
        "id": "f8xuZory5NwJ"
      },
      "execution_count": 29,
      "outputs": [
        {
          "output_type": "stream",
          "name": "stdout",
          "text": [
            "Accuracy :  0.7191381608174146\n"
          ]
        }
      ]
    },
    {
      "cell_type": "code",
      "source": [
        "import matplotlib.pyplot as plt\n",
        "\n",
        "fig, axs = plt.subplots(1, 2, figsize=(8, 4))\n",
        "\n",
        "# Plot the first subplot for loss vs epoch\n",
        "axs[0].plot(train_losses_10, 'b-', label='train loss')\n",
        "axs[0].plot(test_losses_10 , 'r-', label='test loss')\n",
        "axs[0].legend()\n",
        "axs[0].set_xlabel('epoch')\n",
        "axs[0].set_ylabel('loss')\n",
        "axs[0].set_title('loss v/s epoch')\n",
        "\n",
        "# Plot the second subplot for acc vs epoch\n",
        "axs[1].plot(train_accs_10, 'b-', label='train acc')\n",
        "axs[1].plot(test_accs_10 , 'r-', label='test acc')\n",
        "axs[1].legend()\n",
        "axs[1].set_xlabel('epoch')\n",
        "axs[1].set_ylabel('acc')\n",
        "axs[1].set_title('acc v/s epoch')\n",
        "\n",
        "# Show the plot\n",
        "plt.show()\n"
      ],
      "metadata": {
        "colab": {
          "base_uri": "https://localhost:8080/",
          "height": 410
        },
        "outputId": "3d7dac25-2364-4162-cb8b-1d0a9e7da210",
        "id": "4akvwIfa5NwJ"
      },
      "execution_count": 30,
      "outputs": [
        {
          "output_type": "display_data",
          "data": {
            "text/plain": [
              "<Figure size 800x400 with 2 Axes>"
            ],
            "image/png": "[encoded data removed]"
          },
          "metadata": {}
        }
      ]
    },
    {
      "cell_type": "markdown",
      "source": [
        "### RNN hyperparams2 - 64,64,3"
      ],
      "metadata": {
        "id": "NlBpkSB65NwK"
      }
    },
    {
      "cell_type": "code",
      "source": [
        "INPUT_DIM = 29\n",
        "OUTPUT_DIM = 66\n",
        "ENC_EMB_DIM = 64\n",
        "DEC_EMB_DIM = 64\n",
        "HID_DIM = 64\n",
        "N_LAYERS = 3\n",
        "ENC_DROPOUT = 0.25\n",
        "DEC_DROPOUT = 0.25\n",
        "\n",
        "enc = Encoder(INPUT_DIM, ENC_EMB_DIM, HID_DIM, N_LAYERS, ENC_DROPOUT, 'RNN')\n",
        "dec = Decoder(OUTPUT_DIM, DEC_EMB_DIM, HID_DIM, N_LAYERS, DEC_DROPOUT, 'RNN')\n",
        "\n",
        "model11 = Seq2Seq(enc, dec, device).to(device)"
      ],
      "metadata": {
        "id": "CEm-SMA75NwK"
      },
      "execution_count": 31,
      "outputs": []
    },
    {
      "cell_type": "code",
      "source": [
        "optimizer = optim.Adam(model11.parameters(), lr = 3e-5)"
      ],
      "metadata": {
        "id": "LndCniZo5NwK"
      },
      "execution_count": 32,
      "outputs": []
    },
    {
      "cell_type": "code",
      "source": [
        "criterion = nn.CrossEntropyLoss(ignore_index = 64)  #ignore EOS token"
      ],
      "metadata": {
        "id": "vordaEK45NwK"
      },
      "execution_count": 33,
      "outputs": []
    },
    {
      "cell_type": "code",
      "source": [
        "N_EPOCHS = 20\n",
        "CLIP = 1\n",
        "import time\n",
        "import math\n",
        "best_test_loss = float('inf')\n",
        "train_losses_11 = []\n",
        "test_losses_11 = []\n",
        "train_accs_11 = []\n",
        "test_accs_11 = []\n",
        "for epoch in range(N_EPOCHS):\n",
        "    start_time = time.time()\n",
        "    train_loss, train_acc = train(model11, train_loader, optimizer, criterion, CLIP)\n",
        "    test_loss, test_acc = evaluate(model11, test_loader, criterion)\n",
        "    end_time = time.time()\n",
        "    if test_loss < best_test_loss:\n",
        "        best_test_loss = test_loss\n",
        "        torch.save(model11.state_dict(), '/content/drive/MyDrive/Deep Learning/DL_ops_A2/seq2seq-model_rnn_64_attn')\n",
        "    train_losses_11.append(train_loss)\n",
        "    test_losses_11.append(test_loss)\n",
        "    train_accs_11.append(train_acc)\n",
        "    test_accs_11.append(test_acc)\n",
        "    print(f'\\tTrain Loss: {train_loss:.3f} | Val. Loss: {test_loss:.3f} | Train acc : {train_acc:.3f}| Test acc : {test_acc:.3f}')"
      ],
      "metadata": {
        "colab": {
          "base_uri": "https://localhost:8080/"
        },
        "outputId": "48a099c3-346e-446e-e8d7-91f0e59bf37f",
        "id": "ES85XxEN5NwL"
      },
      "execution_count": 34,
      "outputs": [
        {
          "output_type": "stream",
          "name": "stderr",
          "text": [
            "Epoch 0: Loss: 2.9051: 100%|██████████| 346/346 [01:06<00:00,  5.22it/s]\n",
            "Evaluation: 100%|██████████| 36/36 [00:03<00:00, 11.42it/s, Loss=1.82]\n"
          ]
        },
        {
          "output_type": "stream",
          "name": "stdout",
          "text": [
            "\tTrain Loss: 2.905 | Val. Loss: 1.820 | Train acc : 56.886| Test acc : 68.494\n"
          ]
        },
        {
          "output_type": "stream",
          "name": "stderr",
          "text": [
            "Epoch 1: Loss: 1.6568: 100%|██████████| 346/346 [01:06<00:00,  5.22it/s]\n",
            "Evaluation: 100%|██████████| 36/36 [00:03<00:00,  9.06it/s, Loss=1.63]\n"
          ]
        },
        {
          "output_type": "stream",
          "name": "stdout",
          "text": [
            "\tTrain Loss: 1.657 | Val. Loss: 1.632 | Train acc : 67.478| Test acc : 68.495\n"
          ]
        },
        {
          "output_type": "stream",
          "name": "stderr",
          "text": [
            "Epoch 2: Loss: 1.3936: 100%|██████████| 346/346 [01:06<00:00,  5.20it/s]\n",
            "Evaluation: 100%|██████████| 36/36 [00:04<00:00,  8.89it/s, Loss=1.5]\n"
          ]
        },
        {
          "output_type": "stream",
          "name": "stdout",
          "text": [
            "\tTrain Loss: 1.394 | Val. Loss: 1.495 | Train acc : 69.946| Test acc : 72.447\n"
          ]
        },
        {
          "output_type": "stream",
          "name": "stderr",
          "text": [
            "Epoch 3: Loss: 1.2758: 100%|██████████| 346/346 [01:06<00:00,  5.22it/s]\n",
            "Evaluation: 100%|██████████| 36/36 [00:03<00:00, 11.34it/s, Loss=1.25]\n"
          ]
        },
        {
          "output_type": "stream",
          "name": "stdout",
          "text": [
            "\tTrain Loss: 1.276 | Val. Loss: 1.248 | Train acc : 70.040| Test acc : 72.172\n"
          ]
        },
        {
          "output_type": "stream",
          "name": "stderr",
          "text": [
            "Epoch 4: Loss: 1.2276: 100%|██████████| 346/346 [01:05<00:00,  5.24it/s]\n",
            "Evaluation: 100%|██████████| 36/36 [00:03<00:00, 11.23it/s, Loss=1.21]\n"
          ]
        },
        {
          "output_type": "stream",
          "name": "stdout",
          "text": [
            "\tTrain Loss: 1.228 | Val. Loss: 1.215 | Train acc : 70.286| Test acc : 72.336\n"
          ]
        },
        {
          "output_type": "stream",
          "name": "stderr",
          "text": [
            "Epoch 5: Loss: 1.1804: 100%|██████████| 346/346 [01:06<00:00,  5.21it/s]\n",
            "Evaluation: 100%|██████████| 36/36 [00:03<00:00, 11.28it/s, Loss=1.24]\n"
          ]
        },
        {
          "output_type": "stream",
          "name": "stdout",
          "text": [
            "\tTrain Loss: 1.180 | Val. Loss: 1.243 | Train acc : 71.195| Test acc : 72.423\n"
          ]
        },
        {
          "output_type": "stream",
          "name": "stderr",
          "text": [
            "Epoch 6: Loss: 1.1273: 100%|██████████| 346/346 [01:06<00:00,  5.22it/s]\n",
            "Evaluation: 100%|██████████| 36/36 [00:03<00:00, 10.95it/s, Loss=1.29]\n"
          ]
        },
        {
          "output_type": "stream",
          "name": "stdout",
          "text": [
            "\tTrain Loss: 1.127 | Val. Loss: 1.294 | Train acc : 71.859| Test acc : 73.034\n"
          ]
        },
        {
          "output_type": "stream",
          "name": "stderr",
          "text": [
            "Epoch 7: Loss: 1.0972: 100%|██████████| 346/346 [01:06<00:00,  5.23it/s]\n",
            "Evaluation: 100%|██████████| 36/36 [00:04<00:00,  8.50it/s, Loss=1.22]\n"
          ]
        },
        {
          "output_type": "stream",
          "name": "stdout",
          "text": [
            "\tTrain Loss: 1.097 | Val. Loss: 1.220 | Train acc : 72.004| Test acc : 73.235\n"
          ]
        },
        {
          "output_type": "stream",
          "name": "stderr",
          "text": [
            "Epoch 8: Loss: 1.0778: 100%|██████████| 346/346 [01:05<00:00,  5.30it/s]\n",
            "Evaluation: 100%|██████████| 36/36 [00:04<00:00,  8.69it/s, Loss=1.13]\n"
          ]
        },
        {
          "output_type": "stream",
          "name": "stdout",
          "text": [
            "\tTrain Loss: 1.078 | Val. Loss: 1.130 | Train acc : 72.108| Test acc : 73.762\n"
          ]
        },
        {
          "output_type": "stream",
          "name": "stderr",
          "text": [
            "Epoch 9: Loss: 1.0643: 100%|██████████| 346/346 [01:05<00:00,  5.25it/s]\n",
            "Evaluation: 100%|██████████| 36/36 [00:03<00:00, 11.36it/s, Loss=1.12]\n"
          ]
        },
        {
          "output_type": "stream",
          "name": "stdout",
          "text": [
            "\tTrain Loss: 1.064 | Val. Loss: 1.122 | Train acc : 72.228| Test acc : 73.663\n"
          ]
        },
        {
          "output_type": "stream",
          "name": "stderr",
          "text": [
            "Epoch 10: Loss: 1.0546: 100%|██████████| 346/346 [01:06<00:00,  5.24it/s]\n",
            "Evaluation: 100%|██████████| 36/36 [00:03<00:00, 11.30it/s, Loss=1.03]\n"
          ]
        },
        {
          "output_type": "stream",
          "name": "stdout",
          "text": [
            "\tTrain Loss: 1.055 | Val. Loss: 1.026 | Train acc : 72.304| Test acc : 74.181\n"
          ]
        },
        {
          "output_type": "stream",
          "name": "stderr",
          "text": [
            "Epoch 11: Loss: 1.0489: 100%|██████████| 346/346 [01:06<00:00,  5.21it/s]\n",
            "Evaluation: 100%|██████████| 36/36 [00:03<00:00, 11.36it/s, Loss=1.01]\n"
          ]
        },
        {
          "output_type": "stream",
          "name": "stdout",
          "text": [
            "\tTrain Loss: 1.049 | Val. Loss: 1.012 | Train acc : 72.343| Test acc : 74.235\n"
          ]
        },
        {
          "output_type": "stream",
          "name": "stderr",
          "text": [
            "Epoch 12: Loss: 1.0430: 100%|██████████| 346/346 [01:06<00:00,  5.23it/s]\n",
            "Evaluation: 100%|██████████| 36/36 [00:03<00:00, 11.32it/s, Loss=1.02]\n"
          ]
        },
        {
          "output_type": "stream",
          "name": "stdout",
          "text": [
            "\tTrain Loss: 1.043 | Val. Loss: 1.016 | Train acc : 72.393| Test acc : 74.220\n"
          ]
        },
        {
          "output_type": "stream",
          "name": "stderr",
          "text": [
            "Epoch 13: Loss: 1.0386: 100%|██████████| 346/346 [01:05<00:00,  5.25it/s]\n",
            "Evaluation: 100%|██████████| 36/36 [00:03<00:00,  9.79it/s, Loss=0.992]\n"
          ]
        },
        {
          "output_type": "stream",
          "name": "stdout",
          "text": [
            "\tTrain Loss: 1.039 | Val. Loss: 0.992 | Train acc : 72.410| Test acc : 74.210\n"
          ]
        },
        {
          "output_type": "stream",
          "name": "stderr",
          "text": [
            "Epoch 14: Loss: 1.0364: 100%|██████████| 346/346 [01:05<00:00,  5.26it/s]\n",
            "Evaluation: 100%|██████████| 36/36 [00:04<00:00,  8.14it/s, Loss=1.08]\n"
          ]
        },
        {
          "output_type": "stream",
          "name": "stdout",
          "text": [
            "\tTrain Loss: 1.036 | Val. Loss: 1.078 | Train acc : 72.430| Test acc : 74.218\n"
          ]
        },
        {
          "output_type": "stream",
          "name": "stderr",
          "text": [
            "Epoch 15: Loss: 1.0337: 100%|██████████| 346/346 [01:06<00:00,  5.24it/s]\n",
            "Evaluation: 100%|██████████| 36/36 [00:03<00:00, 10.09it/s, Loss=1.06]\n"
          ]
        },
        {
          "output_type": "stream",
          "name": "stdout",
          "text": [
            "\tTrain Loss: 1.034 | Val. Loss: 1.059 | Train acc : 72.405| Test acc : 74.248\n"
          ]
        },
        {
          "output_type": "stream",
          "name": "stderr",
          "text": [
            "Epoch 16: Loss: 1.0320: 100%|██████████| 346/346 [01:05<00:00,  5.25it/s]\n",
            "Evaluation: 100%|██████████| 36/36 [00:03<00:00, 11.34it/s, Loss=1]\n"
          ]
        },
        {
          "output_type": "stream",
          "name": "stdout",
          "text": [
            "\tTrain Loss: 1.032 | Val. Loss: 1.004 | Train acc : 72.418| Test acc : 74.258\n"
          ]
        },
        {
          "output_type": "stream",
          "name": "stderr",
          "text": [
            "Epoch 17: Loss: 1.0289: 100%|██████████| 346/346 [01:06<00:00,  5.22it/s]\n",
            "Evaluation: 100%|██████████| 36/36 [00:03<00:00, 11.44it/s, Loss=0.995]\n"
          ]
        },
        {
          "output_type": "stream",
          "name": "stdout",
          "text": [
            "\tTrain Loss: 1.029 | Val. Loss: 0.995 | Train acc : 72.453| Test acc : 74.241\n"
          ]
        },
        {
          "output_type": "stream",
          "name": "stderr",
          "text": [
            "Epoch 18: Loss: 1.0291: 100%|██████████| 346/346 [01:05<00:00,  5.24it/s]\n",
            "Evaluation: 100%|██████████| 36/36 [00:03<00:00, 11.32it/s, Loss=1.05]\n"
          ]
        },
        {
          "output_type": "stream",
          "name": "stdout",
          "text": [
            "\tTrain Loss: 1.029 | Val. Loss: 1.049 | Train acc : 72.454| Test acc : 74.176\n"
          ]
        },
        {
          "output_type": "stream",
          "name": "stderr",
          "text": [
            "Epoch 19: Loss: 1.0261: 100%|██████████| 346/346 [01:05<00:00,  5.24it/s]\n",
            "Evaluation: 100%|██████████| 36/36 [00:03<00:00, 11.06it/s, Loss=1.06]"
          ]
        },
        {
          "output_type": "stream",
          "name": "stdout",
          "text": [
            "\tTrain Loss: 1.026 | Val. Loss: 1.059 | Train acc : 72.463| Test acc : 74.182\n"
          ]
        },
        {
          "output_type": "stream",
          "name": "stderr",
          "text": [
            "\n"
          ]
        }
      ]
    },
    {
      "cell_type": "code",
      "source": [
        "print('Accuracy : ',evaluate_acc(model11, test_loader))"
      ],
      "metadata": {
        "colab": {
          "base_uri": "https://localhost:8080/"
        },
        "outputId": "6488f8ce-816b-4f57-8bce-534bda265283",
        "id": "Z6gJvxba5NwL"
      },
      "execution_count": 35,
      "outputs": [
        {
          "output_type": "stream",
          "name": "stdout",
          "text": [
            "Accuracy :  0.7362327854286983\n"
          ]
        }
      ]
    },
    {
      "cell_type": "code",
      "source": [
        "import matplotlib.pyplot as plt\n",
        "\n",
        "fig, axs = plt.subplots(1, 2, figsize=(8, 4))\n",
        "\n",
        "# Plot the first subplot for loss vs epoch\n",
        "axs[0].plot(train_losses_11, 'b-', label='train loss')\n",
        "axs[0].plot(test_losses_11 , 'r-', label='test loss')\n",
        "axs[0].legend()\n",
        "axs[0].set_xlabel('epoch')\n",
        "axs[0].set_ylabel('loss')\n",
        "axs[0].set_title('loss v/s epoch')\n",
        "\n",
        "# Plot the second subplot for acc vs epoch\n",
        "axs[1].plot(train_accs_11, 'b-', label='train acc')\n",
        "axs[1].plot(test_accs_11 , 'r-', label='test acc')\n",
        "axs[1].legend()\n",
        "axs[1].set_xlabel('epoch')\n",
        "axs[1].set_ylabel('acc')\n",
        "axs[1].set_title('acc v/s epoch')\n",
        "\n",
        "# Show the plot\n",
        "plt.show()\n"
      ],
      "metadata": {
        "colab": {
          "base_uri": "https://localhost:8080/",
          "height": 410
        },
        "outputId": "67f2e2f2-fff4-433f-b7a0-0cb134e06de0",
        "id": "hF2koGDK5NwL"
      },
      "execution_count": 36,
      "outputs": [
        {
          "output_type": "display_data",
          "data": {
            "text/plain": [
              "<Figure size 800x400 with 2 Axes>"
            ],
            "image/png": "[encoded data removed]"
          },
          "metadata": {}
        }
      ]
    },
    {
      "cell_type": "markdown",
      "source": [
        "### without dropout RNN and attn"
      ],
      "metadata": {
        "id": "6Zu7Odag5NwM"
      }
    },
    {
      "cell_type": "code",
      "source": [
        "INPUT_DIM = 29\n",
        "OUTPUT_DIM = 66\n",
        "ENC_EMB_DIM = 16\n",
        "DEC_EMB_DIM = 16\n",
        "HID_DIM = 16\n",
        "N_LAYERS = 1\n",
        "ENC_DROPOUT = 0\n",
        "DEC_DROPOUT = 0\n",
        "\n",
        "enc = Encoder(INPUT_DIM, ENC_EMB_DIM, HID_DIM, N_LAYERS, ENC_DROPOUT, 'RNN')\n",
        "dec = Decoder(OUTPUT_DIM, DEC_EMB_DIM, HID_DIM, N_LAYERS, DEC_DROPOUT, 'RNN')\n",
        "\n",
        "model12 = Seq2Seq(enc, dec, device).to(device)"
      ],
      "metadata": {
        "id": "QS29xSXb5NwM"
      },
      "execution_count": 37,
      "outputs": []
    },
    {
      "cell_type": "code",
      "source": [
        "optimizer = optim.Adam(model12.parameters(), lr = 3e-5)"
      ],
      "metadata": {
        "id": "nmrYWpys5NwN"
      },
      "execution_count": 38,
      "outputs": []
    },
    {
      "cell_type": "code",
      "source": [
        "criterion = nn.CrossEntropyLoss(ignore_index = 64)  #ignore EOS token"
      ],
      "metadata": {
        "id": "vmhdHWTI5NwN"
      },
      "execution_count": 39,
      "outputs": []
    },
    {
      "cell_type": "code",
      "source": [
        "N_EPOCHS = 20\n",
        "CLIP = 1\n",
        "import time\n",
        "import math\n",
        "best_test_loss = float('inf')\n",
        "train_losses_12 = []\n",
        "test_losses_12 = []\n",
        "train_accs_12 = []\n",
        "test_accs_12 = []\n",
        "for epoch in range(N_EPOCHS):\n",
        "    start_time = time.time()\n",
        "    train_loss, train_acc = train(model12, train_loader, optimizer, criterion, CLIP)\n",
        "    test_loss, test_acc = evaluate(model12, test_loader, criterion)\n",
        "    end_time = time.time()\n",
        "    if test_loss < best_test_loss:\n",
        "        best_test_loss = test_loss\n",
        "        torch.save(model12.state_dict(), '/content/drive/MyDrive/Deep Learning/DL_ops_A2/seq2seq-model_rnn_16_no_dropout_attn')\n",
        "    train_losses_12.append(train_loss)\n",
        "    test_losses_12.append(test_loss)\n",
        "    train_accs_12.append(train_acc)\n",
        "    test_accs_12.append(test_acc)\n",
        "    print(f'\\tTrain Loss: {train_loss:.3f} | Val. Loss: {test_loss:.3f} | Train acc : {train_acc:.3f}| Test acc : {test_acc:.3f}')"
      ],
      "metadata": {
        "colab": {
          "base_uri": "https://localhost:8080/"
        },
        "outputId": "a0fb31bd-2b31-488a-d2fb-29e0a4075cb5",
        "id": "goh-HqoS5NwN"
      },
      "execution_count": 40,
      "outputs": [
        {
          "output_type": "stream",
          "name": "stderr",
          "text": [
            "Epoch 0: Loss: 4.2160: 100%|██████████| 346/346 [00:54<00:00,  6.35it/s]\n",
            "Evaluation: 100%|██████████| 36/36 [00:03<00:00, 11.97it/s, Loss=4.29]\n"
          ]
        },
        {
          "output_type": "stream",
          "name": "stdout",
          "text": [
            "\tTrain Loss: 4.216 | Val. Loss: 4.290 | Train acc : 0.449| Test acc : 0.502\n"
          ]
        },
        {
          "output_type": "stream",
          "name": "stderr",
          "text": [
            "Epoch 1: Loss: 3.9325: 100%|██████████| 346/346 [00:54<00:00,  6.38it/s]\n",
            "Evaluation: 100%|██████████| 36/36 [00:02<00:00, 12.06it/s, Loss=3.51]\n"
          ]
        },
        {
          "output_type": "stream",
          "name": "stdout",
          "text": [
            "\tTrain Loss: 3.933 | Val. Loss: 3.514 | Train acc : 7.058| Test acc : 63.293\n"
          ]
        },
        {
          "output_type": "stream",
          "name": "stderr",
          "text": [
            "Epoch 2: Loss: 3.2869: 100%|██████████| 346/346 [00:54<00:00,  6.40it/s]\n",
            "Evaluation: 100%|██████████| 36/36 [00:03<00:00,  9.85it/s, Loss=3.03]\n"
          ]
        },
        {
          "output_type": "stream",
          "name": "stdout",
          "text": [
            "\tTrain Loss: 3.287 | Val. Loss: 3.032 | Train acc : 62.771| Test acc : 66.327\n"
          ]
        },
        {
          "output_type": "stream",
          "name": "stderr",
          "text": [
            "Epoch 3: Loss: 2.8957: 100%|██████████| 346/346 [00:54<00:00,  6.39it/s]\n",
            "Evaluation: 100%|██████████| 36/36 [00:03<00:00, 10.15it/s, Loss=2.6]\n"
          ]
        },
        {
          "output_type": "stream",
          "name": "stdout",
          "text": [
            "\tTrain Loss: 2.896 | Val. Loss: 2.603 | Train acc : 63.999| Test acc : 68.344\n"
          ]
        },
        {
          "output_type": "stream",
          "name": "stderr",
          "text": [
            "Epoch 4: Loss: 2.5544: 100%|██████████| 346/346 [00:54<00:00,  6.41it/s]\n",
            "Evaluation: 100%|██████████| 36/36 [00:02<00:00, 12.04it/s, Loss=2.3]\n"
          ]
        },
        {
          "output_type": "stream",
          "name": "stdout",
          "text": [
            "\tTrain Loss: 2.554 | Val. Loss: 2.297 | Train acc : 64.978| Test acc : 68.377\n"
          ]
        },
        {
          "output_type": "stream",
          "name": "stderr",
          "text": [
            "Epoch 5: Loss: 2.2620: 100%|██████████| 346/346 [00:54<00:00,  6.34it/s]\n",
            "Evaluation: 100%|██████████| 36/36 [00:02<00:00, 12.08it/s, Loss=2.05]\n"
          ]
        },
        {
          "output_type": "stream",
          "name": "stdout",
          "text": [
            "\tTrain Loss: 2.262 | Val. Loss: 2.053 | Train acc : 65.708| Test acc : 68.408\n"
          ]
        },
        {
          "output_type": "stream",
          "name": "stderr",
          "text": [
            "Epoch 6: Loss: 2.0278: 100%|██████████| 346/346 [00:53<00:00,  6.41it/s]\n",
            "Evaluation: 100%|██████████| 36/36 [00:03<00:00,  9.53it/s, Loss=1.88]\n"
          ]
        },
        {
          "output_type": "stream",
          "name": "stdout",
          "text": [
            "\tTrain Loss: 2.028 | Val. Loss: 1.877 | Train acc : 66.379| Test acc : 68.327\n"
          ]
        },
        {
          "output_type": "stream",
          "name": "stderr",
          "text": [
            "Epoch 7: Loss: 1.8586: 100%|██████████| 346/346 [00:53<00:00,  6.42it/s]\n",
            "Evaluation: 100%|██████████| 36/36 [00:03<00:00, 10.07it/s, Loss=1.76]\n"
          ]
        },
        {
          "output_type": "stream",
          "name": "stdout",
          "text": [
            "\tTrain Loss: 1.859 | Val. Loss: 1.755 | Train acc : 66.604| Test acc : 68.455\n"
          ]
        },
        {
          "output_type": "stream",
          "name": "stderr",
          "text": [
            "Epoch 8: Loss: 1.7489: 100%|██████████| 346/346 [00:54<00:00,  6.40it/s]\n",
            "Evaluation: 100%|██████████| 36/36 [00:02<00:00, 12.07it/s, Loss=1.69]\n"
          ]
        },
        {
          "output_type": "stream",
          "name": "stdout",
          "text": [
            "\tTrain Loss: 1.749 | Val. Loss: 1.689 | Train acc : 66.749| Test acc : 68.487\n"
          ]
        },
        {
          "output_type": "stream",
          "name": "stderr",
          "text": [
            "Epoch 9: Loss: 1.6877: 100%|██████████| 346/346 [00:54<00:00,  6.37it/s]\n",
            "Evaluation: 100%|██████████| 36/36 [00:03<00:00, 11.99it/s, Loss=1.65]\n"
          ]
        },
        {
          "output_type": "stream",
          "name": "stdout",
          "text": [
            "\tTrain Loss: 1.688 | Val. Loss: 1.655 | Train acc : 66.845| Test acc : 68.492\n"
          ]
        },
        {
          "output_type": "stream",
          "name": "stderr",
          "text": [
            "Epoch 10: Loss: 1.6491: 100%|██████████| 346/346 [00:53<00:00,  6.42it/s]\n",
            "Evaluation: 100%|██████████| 36/36 [00:03<00:00,  9.74it/s, Loss=1.63]\n"
          ]
        },
        {
          "output_type": "stream",
          "name": "stdout",
          "text": [
            "\tTrain Loss: 1.649 | Val. Loss: 1.635 | Train acc : 66.881| Test acc : 68.494\n"
          ]
        },
        {
          "output_type": "stream",
          "name": "stderr",
          "text": [
            "Epoch 11: Loss: 1.6220: 100%|██████████| 346/346 [00:54<00:00,  6.33it/s]\n",
            "Evaluation: 100%|██████████| 36/36 [00:03<00:00, 10.74it/s, Loss=1.62]\n"
          ]
        },
        {
          "output_type": "stream",
          "name": "stdout",
          "text": [
            "\tTrain Loss: 1.622 | Val. Loss: 1.622 | Train acc : 66.888| Test acc : 68.500\n"
          ]
        },
        {
          "output_type": "stream",
          "name": "stderr",
          "text": [
            "Epoch 12: Loss: 1.5982: 100%|██████████| 346/346 [00:53<00:00,  6.41it/s]\n",
            "Evaluation: 100%|██████████| 36/36 [00:03<00:00, 11.95it/s, Loss=1.61]\n"
          ]
        },
        {
          "output_type": "stream",
          "name": "stdout",
          "text": [
            "\tTrain Loss: 1.598 | Val. Loss: 1.614 | Train acc : 66.910| Test acc : 68.486\n"
          ]
        },
        {
          "output_type": "stream",
          "name": "stderr",
          "text": [
            "Epoch 13: Loss: 1.5766: 100%|██████████| 346/346 [00:53<00:00,  6.42it/s]\n",
            "Evaluation: 100%|██████████| 36/36 [00:02<00:00, 12.16it/s, Loss=1.61]\n"
          ]
        },
        {
          "output_type": "stream",
          "name": "stdout",
          "text": [
            "\tTrain Loss: 1.577 | Val. Loss: 1.610 | Train acc : 66.918| Test acc : 68.479\n"
          ]
        },
        {
          "output_type": "stream",
          "name": "stderr",
          "text": [
            "Epoch 14: Loss: 1.5554: 100%|██████████| 346/346 [00:53<00:00,  6.41it/s]\n",
            "Evaluation: 100%|██████████| 36/36 [00:03<00:00,  9.88it/s, Loss=1.6]\n"
          ]
        },
        {
          "output_type": "stream",
          "name": "stdout",
          "text": [
            "\tTrain Loss: 1.555 | Val. Loss: 1.605 | Train acc : 66.937| Test acc : 68.512\n"
          ]
        },
        {
          "output_type": "stream",
          "name": "stderr",
          "text": [
            "Epoch 15: Loss: 1.5338: 100%|██████████| 346/346 [00:54<00:00,  6.40it/s]\n",
            "Evaluation: 100%|██████████| 36/36 [00:03<00:00, 10.30it/s, Loss=1.6]\n"
          ]
        },
        {
          "output_type": "stream",
          "name": "stdout",
          "text": [
            "\tTrain Loss: 1.534 | Val. Loss: 1.600 | Train acc : 66.948| Test acc : 68.529\n"
          ]
        },
        {
          "output_type": "stream",
          "name": "stderr",
          "text": [
            "Epoch 16: Loss: 1.5130: 100%|██████████| 346/346 [00:54<00:00,  6.35it/s]\n",
            "Evaluation: 100%|██████████| 36/36 [00:03<00:00, 11.84it/s, Loss=1.61]\n"
          ]
        },
        {
          "output_type": "stream",
          "name": "stdout",
          "text": [
            "\tTrain Loss: 1.513 | Val. Loss: 1.607 | Train acc : 66.983| Test acc : 68.528\n"
          ]
        },
        {
          "output_type": "stream",
          "name": "stderr",
          "text": [
            "Epoch 17: Loss: 1.4895: 100%|██████████| 346/346 [00:54<00:00,  6.39it/s]\n",
            "Evaluation: 100%|██████████| 36/36 [00:02<00:00, 12.06it/s, Loss=1.61]\n"
          ]
        },
        {
          "output_type": "stream",
          "name": "stdout",
          "text": [
            "\tTrain Loss: 1.489 | Val. Loss: 1.608 | Train acc : 67.038| Test acc : 68.528\n"
          ]
        },
        {
          "output_type": "stream",
          "name": "stderr",
          "text": [
            "Epoch 18: Loss: 1.4282: 100%|██████████| 346/346 [00:54<00:00,  6.41it/s]\n",
            "Evaluation: 100%|██████████| 36/36 [00:03<00:00,  9.30it/s, Loss=1.52]\n"
          ]
        },
        {
          "output_type": "stream",
          "name": "stdout",
          "text": [
            "\tTrain Loss: 1.428 | Val. Loss: 1.524 | Train acc : 70.331| Test acc : 72.470\n"
          ]
        },
        {
          "output_type": "stream",
          "name": "stderr",
          "text": [
            "Epoch 19: Loss: 1.3799: 100%|██████████| 346/346 [00:53<00:00,  6.41it/s]\n",
            "Evaluation: 100%|██████████| 36/36 [00:03<00:00, 10.62it/s, Loss=1.51]\n"
          ]
        },
        {
          "output_type": "stream",
          "name": "stdout",
          "text": [
            "\tTrain Loss: 1.380 | Val. Loss: 1.514 | Train acc : 71.113| Test acc : 72.445\n"
          ]
        }
      ]
    },
    {
      "cell_type": "code",
      "source": [
        "print('Accuracy : ',evaluate_acc(model12, test_loader))"
      ],
      "metadata": {
        "colab": {
          "base_uri": "https://localhost:8080/"
        },
        "outputId": "bae74c7f-3b4c-40ff-a42a-c5e347624c89",
        "id": "eQoEfzrH5NwN"
      },
      "execution_count": 41,
      "outputs": [
        {
          "output_type": "stream",
          "name": "stdout",
          "text": [
            "Accuracy :  0.7185606397156818\n"
          ]
        }
      ]
    },
    {
      "cell_type": "code",
      "source": [
        "import matplotlib.pyplot as plt\n",
        "\n",
        "fig, axs = plt.subplots(1, 2, figsize=(8, 4))\n",
        "\n",
        "# Plot the first subplot for loss vs epoch\n",
        "axs[0].plot(train_losses_12, 'b-', label='train loss')\n",
        "axs[0].plot(test_losses_12 , 'r-', label='test loss')\n",
        "axs[0].legend()\n",
        "axs[0].set_xlabel('epoch')\n",
        "axs[0].set_ylabel('loss')\n",
        "axs[0].set_title('loss v/s epoch')\n",
        "\n",
        "# Plot the second subplot for acc vs epoch\n",
        "axs[1].plot(train_accs_12, 'b-', label='train acc')\n",
        "axs[1].plot(test_accs_12 , 'r-', label='test acc')\n",
        "axs[1].legend()\n",
        "axs[1].set_xlabel('epoch')\n",
        "axs[1].set_ylabel('acc')\n",
        "axs[1].set_title('acc v/s epoch')\n",
        "\n",
        "# Show the plot\n",
        "plt.show()\n"
      ],
      "metadata": {
        "colab": {
          "base_uri": "https://localhost:8080/",
          "height": 410
        },
        "outputId": "2adad695-6bff-4d80-bce2-b075b8ba785d",
        "id": "0HM3JhFl5NwO"
      },
      "execution_count": 42,
      "outputs": [
        {
          "output_type": "display_data",
          "data": {
            "text/plain": [
              "<Figure size 800x400 with 2 Axes>"
            ],
            "image/png": "[encoded data removed]"
          },
          "metadata": {}
        }
      ]
    },
    {
      "cell_type": "markdown",
      "source": [
        "<h2> <center> ---------------------------------------------------------------- THANK YOU !! ---------------------------------------------------------------- </center></h2>"
      ],
      "metadata": {
        "id": "R_Uu44JZ6gpn"
      }
    }
  ]
}