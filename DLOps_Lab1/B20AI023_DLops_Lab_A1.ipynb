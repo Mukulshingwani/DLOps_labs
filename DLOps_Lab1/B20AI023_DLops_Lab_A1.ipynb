{
  "cells": [
    {
      "cell_type": "code",
      "execution_count": null,
      "metadata": {
        "id": "6i_bRkK3fhVQ"
      },
      "outputs": [],
      "source": [
        "import torch\n",
        "import torchvision.transforms as transforms\n",
        "import torchvision.datasets as datasets\n",
        "import torch.optim as optim\n",
        "import torch.nn as nn\n",
        "import matplotlib.pyplot as plt\n",
        "import torchvision\n",
        "import torch.nn.functional as F\n",
        "import os\n",
        "\n",
        "import shutil\n",
        "\n",
        "import time\n",
        "from tqdm import tqdm\n",
        "from torchvision.datasets import ImageFolder\n",
        "from torchvision.datasets.utils import verify_str_arg\n",
        "from torchvision.datasets.utils import download_and_extract_archive"
      ]
    },
    {
      "cell_type": "code",
      "execution_count": null,
      "metadata": {
        "colab": {
          "base_uri": "https://localhost:8080/"
        },
        "id": "78BMwNdv6yxb",
        "outputId": "a31f1f81-20ef-4a04-a09d-fa5900c8e063"
      },
      "outputs": [
        {
          "output_type": "stream",
          "name": "stdout",
          "text": [
            "Mounted at /content/drive\n"
          ]
        }
      ],
      "source": [
        "from google.colab import drive\n",
        "drive.mount('/content/drive')"
      ]
    },
    {
      "cell_type": "markdown",
      "source": [
        "# Question 1"
      ],
      "metadata": {
        "id": "16basc0TQUwO"
      }
    },
    {
      "cell_type": "code",
      "execution_count": null,
      "metadata": {
        "id": "U3ctv9uyhwpW"
      },
      "outputs": [],
      "source": [
        "# !wget 'http://cs231n.stanford.edu/tiny-imagenet-200.zip'"
      ]
    },
    {
      "cell_type": "code",
      "execution_count": null,
      "metadata": {
        "id": "plMBjxd9jz1Q"
      },
      "outputs": [],
      "source": [
        "# !unzip '/content/tiny-imagenet-200.zip'"
      ]
    },
    {
      "cell_type": "code",
      "execution_count": null,
      "metadata": {
        "id": "Pq0wwi59iqW9"
      },
      "outputs": [],
      "source": [
        "# !cp -r '/content/tiny-imagenet-200' '/content/drive/MyDrive/Deep Learning/DLOps_A1/'"
      ]
    },
    {
      "cell_type": "code",
      "execution_count": null,
      "metadata": {
        "id": "LoO0CBuDntVh"
      },
      "outputs": [],
      "source": [
        "# ls '/content/drive/MyDrive/Deep Learning/DLOps_A1/tiny-imagenet-200'"
      ]
    },
    {
      "cell_type": "code",
      "execution_count": null,
      "metadata": {
        "id": "pZ-X4zP1gdEA"
      },
      "outputs": [],
      "source": [
        "# train_dataset = datasets.ImageFolder('/content/drive/MyDrive/Deep Learning/DLOps_A1/tiny-imagenet-200/train', transform=train_transform)\n",
        "# val_dataset = datasets.ImageFolder('/content/drive/MyDrive/Deep Learning/DLOps_A1/tiny-imagenet-200/val', transform=test_transform)\n",
        "# test_dataset = datasets.ImageFolder('/content/drive/MyDrive/Deep Learning/DLOps_A1/tiny-imagenet-200/test', transform=test_transform)\n",
        "\n",
        "# train_dataloader = torch.utils.data.DataLoader(train_dataset, batch_size=64, shuffle=True)\n",
        "# val_dataloader = torch.utils.data.DataLoader(val_dataset, batch_size=64, shuffle=False)\n",
        "# test_dataloader = torch.utils.data.DataLoader(test_dataset, batch_size=64, shuffle=False)"
      ]
    },
    {
      "cell_type": "code",
      "execution_count": null,
      "metadata": {
        "id": "_Gor3S2JoL27"
      },
      "outputs": [],
      "source": [
        "# val_dataset.__dict__"
      ]
    },
    {
      "cell_type": "markdown",
      "source": [
        "<h3> Note : [Ref link for importing dataset](https://gist.github.com/lromor/bcfc69dcf31b2f3244358aea10b7a11b) </h3>"
      ],
      "metadata": {
        "id": "KtMIo5toZofU"
      }
    },
    {
      "cell_type": "code",
      "execution_count": null,
      "metadata": {
        "id": "YRjvbdrRd97T"
      },
      "outputs": [],
      "source": [
        "def normalize_tin_val_folder_structure(path,\n",
        "                                       images_folder='images',\n",
        "                                       annotations_file='val_annotations.txt'):\n",
        "    # Check if files/annotations are still there to see\n",
        "    # if we already run reorganize the folder structure.\n",
        "    images_folder = os.path.join(path, images_folder)\n",
        "    annotations_file = os.path.join(path, annotations_file)\n",
        "\n",
        "    # Exists\n",
        "    if not os.path.exists(images_folder) \\\n",
        "       and not os.path.exists(annotations_file):\n",
        "        if not os.listdir(path):\n",
        "            raise RuntimeError('Validation folder is empty.')\n",
        "        return\n",
        "\n",
        "    # Parse the annotations\n",
        "    with open(annotations_file) as f:\n",
        "        for line in f:\n",
        "            values = line.split()\n",
        "            img = values[0]\n",
        "            label = values[1]\n",
        "            img_file = os.path.join(images_folder, values[0])\n",
        "            label_folder = os.path.join(path, label)\n",
        "            os.makedirs(label_folder, exist_ok=True)\n",
        "            try:\n",
        "                shutil.move(img_file, os.path.join(label_folder, img))\n",
        "            except FileNotFoundError:\n",
        "                continue\n",
        "\n",
        "    os.sync()\n",
        "    assert not os.listdir(images_folder)\n",
        "    shutil.rmtree(images_folder)\n",
        "    os.remove(annotations_file)\n",
        "    os.sync()"
      ]
    },
    {
      "cell_type": "code",
      "execution_count": null,
      "metadata": {
        "id": "WPDxStPKozlr"
      },
      "outputs": [],
      "source": [
        "# def normalize_tin_val_folder_structure(path, images_folder='images', annotations_file='val_annotations.txt'):\n",
        "#     # Create paths to images folder and annotations file\n",
        "#     images_path = os.path.join(path, images_folder)\n",
        "#     annotations_path = os.path.join(path, annotations_file)\n",
        "\n",
        "#     # If the images folder or annotations file don't exist, or the images folder is empty, raise an error\n",
        "#     if not os.path.exists(images_path) or not os.path.exists(annotations_path):\n",
        "#         if not os.listdir(path):\n",
        "#             raise RuntimeError('Validation folder is empty.')\n",
        "#         return\n",
        "\n",
        "#     # Create dictionary of label to image mappings\n",
        "#     label_to_images = {}\n",
        "#     with open(annotations_path, 'r') as f:\n",
        "#         for line in f:\n",
        "#             img_filename, label = line.strip().split('\\t')\n",
        "#             label_folder = os.path.join(path, label)\n",
        "#             os.makedirs(label_folder, exist_ok=True)\n",
        "#             shutil.move(os.path.join(images_path, img_filename), os.path.join(label_folder, img_filename))\n",
        "#             label_to_images.setdefault(label, []).append(img_filename)\n",
        "\n",
        "#     # Assert that all images have been moved and the images folder is empty\n",
        "#     assert not os.listdir(images_path)\n",
        "#     shutil.rmtree(images_path)\n",
        "#     os.remove(annotations_path)\n",
        "\n",
        "\n",
        "\n",
        "class TinyImageNet(ImageFolder):\n",
        "    \"\"\"Dataset for TinyImageNet-200\"\"\"\n",
        "    base_folder = 'tiny-imagenet-200'\n",
        "    zip_md5 = '90528d7ca1a48142e341f4ef8d21d0de'\n",
        "    splits = ('train', 'val')\n",
        "    filename = 'tiny-imagenet-200.zip'\n",
        "    url = 'http://cs231n.stanford.edu/tiny-imagenet-200.zip'\n",
        "\n",
        "    def __init__(self, root, split='train', download=False, **kwargs):\n",
        "        self.data_root = os.path.expanduser(root)\n",
        "        self.split = verify_str_arg(split, \"split\", self.splits)\n",
        "\n",
        "        if download:\n",
        "            self.download()\n",
        "\n",
        "        if not self._check_exists():\n",
        "            raise RuntimeError('Dataset not found.' +\n",
        "                               ' You can use download=True to download it')\n",
        "        super().__init__(self.split_folder, **kwargs)\n",
        "\n",
        "    @property\n",
        "    def dataset_folder(self):\n",
        "        return os.path.join(self.data_root, self.base_folder)\n",
        "\n",
        "    @property\n",
        "    def split_folder(self):\n",
        "        return os.path.join(self.dataset_folder, self.split)\n",
        "\n",
        "    def _check_exists(self):\n",
        "        return os.path.exists(self.split_folder)\n",
        "\n",
        "    def extra_repr(self):\n",
        "        return \"Split: {split}\".format(**self.__dict__)\n",
        "\n",
        "    def download(self):\n",
        "        if self._check_exists():\n",
        "            return\n",
        "        download_and_extract_archive(\n",
        "            self.url, self.data_root, filename=self.filename,\n",
        "            remove_finished=True, md5=self.zip_md5)\n",
        "        assert 'val' in self.splits\n",
        "        normalize_tin_val_folder_structure(\n",
        "            os.path.join(self.dataset_folder, 'val'))\n",
        "        \n",
        "    # def __len__(self):\n",
        "    #     return 4"
      ]
    },
    {
      "cell_type": "code",
      "execution_count": null,
      "metadata": {
        "id": "d6J0li6-VhJf"
      },
      "outputs": [],
      "source": [
        "\n",
        "# Define transforms for the dataset\n",
        "train_transform = transforms.Compose([\n",
        "    transforms.RandomResizedCrop(224),\n",
        "    transforms.RandomHorizontalFlip(),\n",
        "    transforms.ToTensor(),\n",
        "    transforms.Normalize((0.485, 0.456, 0.406), (0.229, 0.224, 0.225))\n",
        "])\n",
        "\n",
        "test_transform = transforms.Compose([\n",
        "    transforms.Resize(224),\n",
        "    transforms.ToTensor(),\n",
        "    transforms.Normalize((0.485, 0.456, 0.406), (0.229, 0.224, 0.225))\n",
        "])"
      ]
    },
    {
      "cell_type": "code",
      "execution_count": null,
      "metadata": {
        "id": "1S0ZjBYLcBMq",
        "colab": {
          "base_uri": "https://localhost:8080/",
          "height": 83,
          "referenced_widgets": [
            "3fa41f2db0b5482fa94fed86ab2915d8",
            "02562dc89c414e4f8327d54298fb9ae7",
            "b0cff5560d8d4b0b861ac398126ab16b",
            "33afd8ff07434cc6bf2f0056ed240708",
            "bb2735d201b148b0975e1a8eb2122629",
            "3cf60eb57ecd48df9e6f22f801684b62",
            "7e4ac090b0894b98b6e740c88d2b31dd",
            "167dbd564750408384d0aaebb58e2fb0",
            "6d79a2a8148841b08099e0461c54d002",
            "69f2974e48fe4d68856d53a7d35b48f9",
            "8c64d5fd20384cc0991c18500db27c09"
          ]
        },
        "outputId": "d7989a60-de2d-4b24-a2b1-6096fa8d045a"
      },
      "outputs": [
        {
          "output_type": "stream",
          "name": "stdout",
          "text": [
            "Downloading http://cs231n.stanford.edu/tiny-imagenet-200.zip to ./tiny-imagenet-200.zip\n"
          ]
        },
        {
          "output_type": "display_data",
          "data": {
            "text/plain": [
              "  0%|          | 0/248100043 [00:00<?, ?it/s]"
            ],
            "application/vnd.jupyter.widget-view+json": {
              "version_major": 2,
              "version_minor": 0,
              "model_id": "3fa41f2db0b5482fa94fed86ab2915d8"
            }
          },
          "metadata": {}
        },
        {
          "output_type": "stream",
          "name": "stdout",
          "text": [
            "Extracting ./tiny-imagenet-200.zip to .\n"
          ]
        }
      ],
      "source": [
        "train_ds = TinyImageNet('.', download=True, transform = train_transform)"
      ]
    },
    {
      "cell_type": "code",
      "execution_count": null,
      "metadata": {
        "id": "GnLJthiNqxxI"
      },
      "outputs": [],
      "source": [
        "val_ds = TinyImageNet('.', split='val', download=True, transform = test_transform)\n"
      ]
    },
    {
      "cell_type": "code",
      "execution_count": null,
      "metadata": {
        "colab": {
          "base_uri": "https://localhost:8080/"
        },
        "id": "oAIpGb6Vo-T0",
        "outputId": "088ed8d0-aeee-4d64-edb0-945022dd235f"
      },
      "outputs": [
        {
          "output_type": "execute_result",
          "data": {
            "text/plain": [
              "Dataset TinyImageNet\n",
              "    Number of datapoints: 100000\n",
              "    Root location: ./tiny-imagenet-200/train\n",
              "    Split: train\n",
              "    StandardTransform\n",
              "Transform: Compose(\n",
              "               RandomResizedCrop(size=(224, 224), scale=(0.08, 1.0), ratio=(0.75, 1.3333), interpolation=bilinear), antialias=None)\n",
              "               RandomHorizontalFlip(p=0.5)\n",
              "               ToTensor()\n",
              "               Normalize(mean=(0.485, 0.456, 0.406), std=(0.229, 0.224, 0.225))\n",
              "           )"
            ]
          },
          "metadata": {},
          "execution_count": 8
        }
      ],
      "source": [
        "train_ds"
      ]
    },
    {
      "cell_type": "code",
      "execution_count": null,
      "metadata": {
        "colab": {
          "base_uri": "https://localhost:8080/"
        },
        "id": "tuD7XhnTq5wN",
        "outputId": "ae5b8fd6-9f15-4733-88a0-4b4827a02eb8"
      },
      "outputs": [
        {
          "output_type": "execute_result",
          "data": {
            "text/plain": [
              "Dataset TinyImageNet\n",
              "    Number of datapoints: 10000\n",
              "    Root location: ./tiny-imagenet-200/val\n",
              "    Split: val\n",
              "    StandardTransform\n",
              "Transform: Compose(\n",
              "               Resize(size=224, interpolation=bilinear, max_size=None, antialias=None)\n",
              "               ToTensor()\n",
              "               Normalize(mean=(0.485, 0.456, 0.406), std=(0.229, 0.224, 0.225))\n",
              "           )"
            ]
          },
          "metadata": {},
          "execution_count": 9
        }
      ],
      "source": [
        "val_ds"
      ]
    },
    {
      "cell_type": "code",
      "execution_count": null,
      "metadata": {
        "id": "73Fg3SrCrcjl"
      },
      "outputs": [],
      "source": [
        "trainloader = torch.utils.data.DataLoader(train_ds, batch_size=99, shuffle=True, num_workers=2)\n",
        "valloader = torch.utils.data.DataLoader(val_ds, batch_size=99, shuffle=False, num_workers=2, drop_last = True)"
      ]
    },
    {
      "cell_type": "code",
      "execution_count": null,
      "metadata": {
        "id": "L61VwTdXt_Oe"
      },
      "outputs": [],
      "source": [
        "device = torch.device('cuda' if torch.cuda.is_available() else 'cpu')"
      ]
    },
    {
      "cell_type": "code",
      "execution_count": null,
      "metadata": {
        "colab": {
          "base_uri": "https://localhost:8080/"
        },
        "id": "5W-0NKQAkWV7",
        "outputId": "3cd7b71e-628d-456f-c218-53adf5f88aac"
      },
      "outputs": [
        {
          "output_type": "execute_result",
          "data": {
            "text/plain": [
              "device(type='cuda')"
            ]
          },
          "metadata": {},
          "execution_count": 12
        }
      ],
      "source": [
        "device"
      ]
    },
    {
      "cell_type": "code",
      "execution_count": null,
      "metadata": {
        "id": "RWnLV87OajDp"
      },
      "outputs": [],
      "source": [
        "import torch, torchvision\n",
        "import torch.nn as nn\n",
        "import torch.optim as optim\n",
        "from torch.optim import lr_scheduler\n",
        "import torchvision.datasets as datasets\n",
        "import torch.utils.data as data\n",
        "import torchvision.transforms as transforms\n",
        "from torch.autograd import Variable\n",
        "import torchvision.models as models\n",
        "import matplotlib.pyplot as plt\n",
        "import time, os, copy, numpy as np\n",
        "%matplotlib inline"
      ]
    },
    {
      "cell_type": "code",
      "execution_count": null,
      "metadata": {
        "id": "sHhE621OrPME"
      },
      "outputs": [],
      "source": [
        "import torch, torchvision\n",
        "import torch.nn as nn\n",
        "import torch.optim as optim\n",
        "from torch.optim import lr_scheduler\n",
        "import torchvision.datasets as datasets\n",
        "import torch.utils.data as data\n",
        "import torchvision.transforms as transforms\n",
        "from torch.autograd import Variable\n",
        "import torchvision.models as models\n",
        "import matplotlib.pyplot as plt\n",
        "import time, os, copy, numpy as np\n",
        "import sys"
      ]
    },
    {
      "cell_type": "code",
      "execution_count": null,
      "metadata": {
        "colab": {
          "base_uri": "https://localhost:8080/"
        },
        "id": "B3IjW8D0kOi7",
        "outputId": "52bf7b8f-bc2e-4257-b4ce-6991a5e56e60"
      },
      "outputs": [
        {
          "output_type": "execute_result",
          "data": {
            "text/plain": [
              "device(type='cuda')"
            ]
          },
          "metadata": {},
          "execution_count": 15
        }
      ],
      "source": [
        "device"
      ]
    },
    {
      "cell_type": "code",
      "execution_count": null,
      "metadata": {
        "id": "aK-LuAwTvnyA"
      },
      "outputs": [],
      "source": [
        "import torch.nn as nn\n",
        "\n",
        "class BasicBlock(nn.Module):\n",
        "    expansion = 1\n",
        "\n",
        "    def __init__(self, in_planes, planes, stride=1):\n",
        "        super().__init__()\n",
        "        self.conv1 = nn.Conv2d(in_planes, planes, kernel_size=3, stride=stride, padding=1, bias=False)\n",
        "        self.bn1 = nn.BatchNorm2d(planes)\n",
        "        self.conv2 = nn.Conv2d(planes, planes, kernel_size=3, stride=1, padding=1, bias=False)\n",
        "        self.bn2 = nn.BatchNorm2d(planes)\n",
        "\n",
        "        if stride != 1 or in_planes != self.expansion * planes:\n",
        "            self.shortcut = nn.Sequential(\n",
        "                nn.Conv2d(in_planes, self.expansion * planes, kernel_size=1, stride=stride, bias=False),\n",
        "                nn.BatchNorm2d(self.expansion * planes)\n",
        "            )\n",
        "        else:\n",
        "            self.shortcut = nn.Identity()\n",
        "\n",
        "    def forward(self, x):\n",
        "        out = nn.functional.relu(self.bn1(self.conv1(x)))\n",
        "        out = self.bn2(self.conv2(out))\n",
        "        out += self.shortcut(x)\n",
        "        out = nn.functional.relu(out)\n",
        "        return out\n",
        "\n",
        "\n",
        "class ResNet18(nn.Module):\n",
        "    def __init__(self, num_classes=200):\n",
        "        super().__init__()\n",
        "        self.in_planes = 64\n",
        "\n",
        "        self.conv1 = nn.Conv2d(3, 64, kernel_size=7, stride=2, padding=3, bias=False)\n",
        "        self.bn1 = nn.BatchNorm2d(64)\n",
        "        self.layer1 = self._make_layer(BasicBlock, 64, 2, stride=1)\n",
        "        self.layer2 = self._make_layer(BasicBlock, 128, 2, stride=2)\n",
        "        self.layer3 = self._make_layer(BasicBlock, 256, 2, stride=2)\n",
        "        self.layer4 = self._make_layer(BasicBlock, 512, 2, stride=2)\n",
        "        self.avgpool = nn.AdaptiveAvgPool2d((1, 1))\n",
        "        self.fc = nn.Linear(512 * BasicBlock.expansion, num_classes)\n",
        "\n",
        "    def _make_layer(self, block, planes, num_blocks, stride):\n",
        "        layers = []\n",
        "        layers.append(block(self.in_planes, planes, stride))\n",
        "        self.in_planes = planes * block.expansion\n",
        "        for _ in range(1, num_blocks):\n",
        "            layers.append(block(self.in_planes, planes, 1))\n",
        "            self.in_planes = planes * block.expansion\n",
        "        return nn.Sequential(*layers)\n",
        "\n",
        "    def forward(self, x):\n",
        "        out = self.conv1(x)\n",
        "        out = self.bn1(out)\n",
        "        out = nn.functional.relu(out)\n",
        "        out = self.layer1(out)\n",
        "        out = self.layer2(out)\n",
        "        out = self.layer3(out)\n",
        "        out = self.layer4(out)\n",
        "        out = self.avgpool(out)\n",
        "        out = out.view(out.size(0), -1)\n",
        "        out = self.fc(out)\n",
        "        return out\n"
      ]
    },
    {
      "cell_type": "code",
      "execution_count": null,
      "metadata": {
        "id": "d_3sArZpaViv"
      },
      "outputs": [],
      "source": [
        "#Load Resnet18\n",
        "model_ft = ResNet18(num_classes=200).to(device)\n",
        "#Finetune Final few layers to adjust for tiny imagenet input\n",
        "model_ft.avgpool = nn.AdaptiveAvgPool2d(1)\n",
        "num_ftrs = model_ft.fc.in_features\n",
        "model_ft.fc = nn.Linear(num_ftrs, 200)\n",
        "device = torch.device(\"cuda:0\" if torch.cuda.is_available() else \"cpu\")\n",
        "\n",
        "#Loss Function\n",
        "criterion = nn.CrossEntropyLoss()\n",
        "# Observe that all parameters are being optimized\n",
        "optimizer_ft = optim.Adam(model_ft.parameters(), lr=3e-4)\n",
        "\n",
        "# Decay LR by a factor of 0.1 every 7 epochs\n",
        "exp_lr_scheduler = lr_scheduler.StepLR(optimizer_ft, step_size=7, gamma=0.1)"
      ]
    },
    {
      "cell_type": "code",
      "execution_count": null,
      "metadata": {
        "id": "jteR-209r1rH"
      },
      "outputs": [],
      "source": [
        "image_datasets = {'train': train_ds, 'val': val_ds}\n",
        "dataloaders = {'train': trainloader, 'val': valloader}\n",
        "dataset_sizes = {'train': len(train_ds), 'val': len(val_ds)}"
      ]
    },
    {
      "cell_type": "code",
      "execution_count": null,
      "metadata": {
        "colab": {
          "base_uri": "https://localhost:8080/"
        },
        "id": "cLqd8VMXwjQ-",
        "outputId": "9ae3e3fe-205b-426d-fec8-06f5665ec2ac"
      },
      "outputs": [
        {
          "output_type": "execute_result",
          "data": {
            "text/plain": [
              "ResNet18(\n",
              "  (conv1): Conv2d(3, 64, kernel_size=(7, 7), stride=(2, 2), padding=(3, 3), bias=False)\n",
              "  (bn1): BatchNorm2d(64, eps=1e-05, momentum=0.1, affine=True, track_running_stats=True)\n",
              "  (layer1): Sequential(\n",
              "    (0): BasicBlock(\n",
              "      (conv1): Conv2d(64, 64, kernel_size=(3, 3), stride=(1, 1), padding=(1, 1), bias=False)\n",
              "      (bn1): BatchNorm2d(64, eps=1e-05, momentum=0.1, affine=True, track_running_stats=True)\n",
              "      (conv2): Conv2d(64, 64, kernel_size=(3, 3), stride=(1, 1), padding=(1, 1), bias=False)\n",
              "      (bn2): BatchNorm2d(64, eps=1e-05, momentum=0.1, affine=True, track_running_stats=True)\n",
              "      (shortcut): Sequential()\n",
              "    )\n",
              "    (1): BasicBlock(\n",
              "      (conv1): Conv2d(64, 64, kernel_size=(3, 3), stride=(1, 1), padding=(1, 1), bias=False)\n",
              "      (bn1): BatchNorm2d(64, eps=1e-05, momentum=0.1, affine=True, track_running_stats=True)\n",
              "      (conv2): Conv2d(64, 64, kernel_size=(3, 3), stride=(1, 1), padding=(1, 1), bias=False)\n",
              "      (bn2): BatchNorm2d(64, eps=1e-05, momentum=0.1, affine=True, track_running_stats=True)\n",
              "      (shortcut): Sequential()\n",
              "    )\n",
              "  )\n",
              "  (layer2): Sequential(\n",
              "    (0): BasicBlock(\n",
              "      (conv1): Conv2d(64, 128, kernel_size=(3, 3), stride=(2, 2), padding=(1, 1), bias=False)\n",
              "      (bn1): BatchNorm2d(128, eps=1e-05, momentum=0.1, affine=True, track_running_stats=True)\n",
              "      (conv2): Conv2d(128, 128, kernel_size=(3, 3), stride=(1, 1), padding=(1, 1), bias=False)\n",
              "      (bn2): BatchNorm2d(128, eps=1e-05, momentum=0.1, affine=True, track_running_stats=True)\n",
              "      (shortcut): Sequential(\n",
              "        (0): Conv2d(64, 128, kernel_size=(1, 1), stride=(2, 2), bias=False)\n",
              "        (1): BatchNorm2d(128, eps=1e-05, momentum=0.1, affine=True, track_running_stats=True)\n",
              "      )\n",
              "    )\n",
              "    (1): BasicBlock(\n",
              "      (conv1): Conv2d(128, 128, kernel_size=(3, 3), stride=(1, 1), padding=(1, 1), bias=False)\n",
              "      (bn1): BatchNorm2d(128, eps=1e-05, momentum=0.1, affine=True, track_running_stats=True)\n",
              "      (conv2): Conv2d(128, 128, kernel_size=(3, 3), stride=(1, 1), padding=(1, 1), bias=False)\n",
              "      (bn2): BatchNorm2d(128, eps=1e-05, momentum=0.1, affine=True, track_running_stats=True)\n",
              "      (shortcut): Sequential()\n",
              "    )\n",
              "  )\n",
              "  (layer3): Sequential(\n",
              "    (0): BasicBlock(\n",
              "      (conv1): Conv2d(128, 256, kernel_size=(3, 3), stride=(2, 2), padding=(1, 1), bias=False)\n",
              "      (bn1): BatchNorm2d(256, eps=1e-05, momentum=0.1, affine=True, track_running_stats=True)\n",
              "      (conv2): Conv2d(256, 256, kernel_size=(3, 3), stride=(1, 1), padding=(1, 1), bias=False)\n",
              "      (bn2): BatchNorm2d(256, eps=1e-05, momentum=0.1, affine=True, track_running_stats=True)\n",
              "      (shortcut): Sequential(\n",
              "        (0): Conv2d(128, 256, kernel_size=(1, 1), stride=(2, 2), bias=False)\n",
              "        (1): BatchNorm2d(256, eps=1e-05, momentum=0.1, affine=True, track_running_stats=True)\n",
              "      )\n",
              "    )\n",
              "    (1): BasicBlock(\n",
              "      (conv1): Conv2d(256, 256, kernel_size=(3, 3), stride=(1, 1), padding=(1, 1), bias=False)\n",
              "      (bn1): BatchNorm2d(256, eps=1e-05, momentum=0.1, affine=True, track_running_stats=True)\n",
              "      (conv2): Conv2d(256, 256, kernel_size=(3, 3), stride=(1, 1), padding=(1, 1), bias=False)\n",
              "      (bn2): BatchNorm2d(256, eps=1e-05, momentum=0.1, affine=True, track_running_stats=True)\n",
              "      (shortcut): Sequential()\n",
              "    )\n",
              "  )\n",
              "  (layer4): Sequential(\n",
              "    (0): BasicBlock(\n",
              "      (conv1): Conv2d(256, 512, kernel_size=(3, 3), stride=(2, 2), padding=(1, 1), bias=False)\n",
              "      (bn1): BatchNorm2d(512, eps=1e-05, momentum=0.1, affine=True, track_running_stats=True)\n",
              "      (conv2): Conv2d(512, 512, kernel_size=(3, 3), stride=(1, 1), padding=(1, 1), bias=False)\n",
              "      (bn2): BatchNorm2d(512, eps=1e-05, momentum=0.1, affine=True, track_running_stats=True)\n",
              "      (shortcut): Sequential(\n",
              "        (0): Conv2d(256, 512, kernel_size=(1, 1), stride=(2, 2), bias=False)\n",
              "        (1): BatchNorm2d(512, eps=1e-05, momentum=0.1, affine=True, track_running_stats=True)\n",
              "      )\n",
              "    )\n",
              "    (1): BasicBlock(\n",
              "      (conv1): Conv2d(512, 512, kernel_size=(3, 3), stride=(1, 1), padding=(1, 1), bias=False)\n",
              "      (bn1): BatchNorm2d(512, eps=1e-05, momentum=0.1, affine=True, track_running_stats=True)\n",
              "      (conv2): Conv2d(512, 512, kernel_size=(3, 3), stride=(1, 1), padding=(1, 1), bias=False)\n",
              "      (bn2): BatchNorm2d(512, eps=1e-05, momentum=0.1, affine=True, track_running_stats=True)\n",
              "      (shortcut): Sequential()\n",
              "    )\n",
              "  )\n",
              "  (avgpool): AdaptiveAvgPool2d(output_size=1)\n",
              "  (fc): Linear(in_features=512, out_features=200, bias=True)\n",
              ")"
            ]
          },
          "metadata": {},
          "execution_count": 21
        }
      ],
      "source": [
        "model_ft"
      ]
    },
    {
      "cell_type": "markdown",
      "metadata": {
        "id": "lan-P4wiw-Gc"
      },
      "source": [
        "## Q1 part 1"
      ]
    },
    {
      "cell_type": "code",
      "source": [
        "def train(model, dataloader, criterion, optimizer, scheduler, device):\n",
        "    model.train()\n",
        "    running_loss = 0.0\n",
        "    running_corrects_top1 = 0\n",
        "    running_corrects_top5 = 0\n",
        "\n",
        "    for inputs, labels in dataloader:\n",
        "        inputs = inputs.to(device)\n",
        "        labels = labels.to(device)\n",
        "\n",
        "        optimizer.zero_grad()\n",
        "\n",
        "        with torch.set_grad_enabled(True):\n",
        "            outputs = model(inputs)\n",
        "            loss = criterion(outputs, labels)\n",
        "            _, preds = torch.topk(outputs, k=5, dim=1)\n",
        "            loss.backward()\n",
        "            optimizer.step()\n",
        "\n",
        "        running_loss += loss.item() * inputs.size(0)\n",
        "        running_corrects_top1 += torch.sum(preds[:, 0] == labels)\n",
        "        running_corrects_top5 += torch.sum(preds == labels.unsqueeze(1))\n",
        "\n",
        "    epoch_loss = running_loss / len(dataloader.dataset)\n",
        "    epoch_acc_top1 = running_corrects_top1.double() / len(dataloader.dataset)\n",
        "    epoch_acc_top5 = running_corrects_top5.double() / len(dataloader.dataset)\n",
        "    \n",
        "    scheduler.step()\n",
        "\n",
        "    return epoch_loss, epoch_acc_top1, epoch_acc_top5\n",
        "\n",
        "\n",
        "def test(model, dataloader, criterion, device):\n",
        "    model.eval()\n",
        "    running_loss = 0.0\n",
        "    running_corrects_top1 = 0\n",
        "    running_corrects_top5 = 0\n",
        "\n",
        "    with torch.no_grad():\n",
        "        for inputs, labels in dataloader:\n",
        "            inputs = inputs.to(device)\n",
        "            labels = labels.to(device)\n",
        "\n",
        "            outputs = model(inputs)\n",
        "            loss = criterion(outputs, labels)\n",
        "            _, preds = torch.topk(outputs, k=5, dim=1)\n",
        "\n",
        "            running_loss += loss.item() * inputs.size(0)\n",
        "            running_corrects_top1 += torch.sum(preds[:, 0] == labels)\n",
        "            running_corrects_top5 += torch.sum(preds == labels.unsqueeze(1))\n",
        "\n",
        "    epoch_loss = running_loss / len(dataloader.dataset)\n",
        "    epoch_acc_top1 = running_corrects_top1.double() / len(dataloader.dataset)\n",
        "    epoch_acc_top5 = running_corrects_top5.double() / len(dataloader.dataset)\n",
        "\n",
        "    return epoch_loss, epoch_acc_top1, epoch_acc_top5\n"
      ],
      "metadata": {
        "id": "qy7GnEmT3fYb"
      },
      "execution_count": null,
      "outputs": []
    },
    {
      "cell_type": "code",
      "source": [
        "model = model_ft"
      ],
      "metadata": {
        "id": "pS_kTCBJ31Ax"
      },
      "execution_count": null,
      "outputs": []
    },
    {
      "cell_type": "code",
      "source": [
        "# loop for training and testing for specified number of epochs\n",
        "num_epochs = 10\n",
        "device = torch.device('cuda' if torch.cuda.is_available() else 'cpu')\n",
        "model.to(device)\n",
        "\n",
        "best_model_wts = None\n",
        "best_acc_top5 = 0.0\n",
        "\n",
        "train_loss = []\n",
        "test_loss = []\n",
        "train_acc_top1 = []\n",
        "test_acc_top1 = []\n",
        "train_acc_top5 = []\n",
        "test_acc_top5 = []\n",
        "\n",
        "for epoch in range(num_epochs):\n",
        "    print(f'Epoch {epoch+1}/{num_epochs}')\n",
        "    print('-' * 10)\n",
        "\n",
        "    # train\n",
        "    epoch_train_loss, epoch_train_acc_top1, epoch_train_acc_top5 = train(model, trainloader, criterion, optimizer_ft, exp_lr_scheduler, device)\n",
        "    train_loss.append(epoch_train_loss)\n",
        "    train_acc_top1.append(epoch_train_acc_top1)\n",
        "    train_acc_top5.append(epoch_train_acc_top5)\n",
        "    print(f'Train Loss: {epoch_train_loss:.4f} Top-1 Acc: {epoch_train_acc_top1:.4f} Top-5 Acc: {epoch_train_acc_top5:.4f}')\n",
        "\n",
        "    # test\n",
        "    epoch_test_loss, epoch_test_acc_top1, epoch_test_acc_top5 = test(model, valloader, criterion, device)\n",
        "    test_loss.append(epoch_test_loss)\n",
        "    test_acc_top1.append(epoch_test_acc_top1)\n",
        "    test_acc_top5.append(epoch_test_acc_top5)\n",
        "    print(f'Test Loss: {epoch_test_loss:.4f} Top-1 Acc: {epoch_test_acc_top1:.4f} Top-5 Acc: {epoch_test_acc_top5:.4f}')\n",
        "\n",
        "    # check if the model is the best so far based on top-5 accuracy\n",
        "    if epoch_test_acc_top5 > best_acc_top5:\n",
        "        best_acc_top5 = epoch_test_acc_top5\n",
        "        best_model_wts = model.state_dict()\n",
        "\n",
        "# load the best model weights\n",
        "if best_model_wts is not None:\n",
        "    model.load_state_dict(best_model_wts)"
      ],
      "metadata": {
        "colab": {
          "base_uri": "https://localhost:8080/"
        },
        "id": "z59rXXFt3wCN",
        "outputId": "89951dc6-b9c6-429d-c710-e5acb26508f7"
      },
      "execution_count": null,
      "outputs": [
        {
          "output_type": "stream",
          "name": "stdout",
          "text": [
            "Epoch 1/10\n",
            "----------\n",
            "Train Loss: 3.6951 Top-1 Acc: 0.1783 Top-5 Acc: 0.4198\n",
            "Test Loss: 3.4518 Top-1 Acc: 0.2158 Top-5 Acc: 0.4710\n",
            "Epoch 2/10\n",
            "----------\n",
            "Train Loss: 3.0907 Top-1 Acc: 0.2806 Top-5 Acc: 0.5577\n",
            "Test Loss: 3.1405 Top-1 Acc: 0.2661 Top-5 Acc: 0.5417\n",
            "Epoch 3/10\n",
            "----------\n",
            "Train Loss: 2.7170 Top-1 Acc: 0.3510 Top-5 Acc: 0.6352\n",
            "Test Loss: 2.8065 Top-1 Acc: 0.3344 Top-5 Acc: 0.6175\n",
            "Epoch 4/10\n",
            "----------\n",
            "Train Loss: 2.4307 Top-1 Acc: 0.4088 Top-5 Acc: 0.6913\n",
            "Test Loss: 2.7678 Top-1 Acc: 0.3485 Top-5 Acc: 0.6299\n",
            "Epoch 5/10\n",
            "----------\n",
            "Train Loss: 2.1913 Top-1 Acc: 0.4591 Top-5 Acc: 0.7359\n",
            "Test Loss: 2.5191 Top-1 Acc: 0.4028 Top-5 Acc: 0.6779\n",
            "Epoch 6/10\n",
            "----------\n",
            "Train Loss: 1.9773 Top-1 Acc: 0.5036 Top-5 Acc: 0.7736\n",
            "Test Loss: 2.4216 Top-1 Acc: 0.4245 Top-5 Acc: 0.6952\n",
            "Epoch 7/10\n",
            "----------\n",
            "Train Loss: 1.7828 Top-1 Acc: 0.5448 Top-5 Acc: 0.8069\n",
            "Test Loss: 2.4097 Top-1 Acc: 0.4332 Top-5 Acc: 0.7021\n",
            "Epoch 8/10\n",
            "----------\n",
            "Train Loss: 1.3050 Top-1 Acc: 0.6698 Top-5 Acc: 0.8815\n",
            "Test Loss: 2.0709 Top-1 Acc: 0.4972 Top-5 Acc: 0.7544\n",
            "Epoch 9/10\n",
            "----------\n",
            "Train Loss: 1.1829 Top-1 Acc: 0.7028 Top-5 Acc: 0.8986\n",
            "Test Loss: 2.0634 Top-1 Acc: 0.4976 Top-5 Acc: 0.7583\n",
            "Epoch 10/10\n",
            "----------\n",
            "Train Loss: 1.1072 Top-1 Acc: 0.7223 Top-5 Acc: 0.9083\n",
            "Test Loss: 2.0633 Top-1 Acc: 0.5032 Top-5 Acc: 0.7566\n"
          ]
        }
      ]
    },
    {
      "cell_type": "code",
      "execution_count": null,
      "metadata": {
        "id": "qrcv5ekl_QGg"
      },
      "outputs": [],
      "source": [
        "torch.save(model.state_dict(), \"/content/drive/MyDrive/Deep Learning/resnet18_2_cross_entropy_loss_top5_acc.pt\") "
      ]
    },
    {
      "cell_type": "code",
      "execution_count": null,
      "metadata": {
        "colab": {
          "base_uri": "https://localhost:8080/",
          "height": 336
        },
        "id": "DG5MmQROsg5j",
        "outputId": "d1e6312c-422c-4392-b10d-684d8e873ec7"
      },
      "outputs": [
        {
          "output_type": "display_data",
          "data": {
            "text/plain": [
              "<Figure size 1080x360 with 3 Axes>"
            ],
            "image/png": "[encoded data removed]"
          },
          "metadata": {
            "needs_background": "light"
          }
        }
      ],
      "source": [
        "epochs = [x for x in range(1, 11)]\n",
        "\n",
        "train_acc_top1 = [x.cpu().numpy() for x in train_acc_top1]\n",
        "test_acc_top1 = [x.cpu().numpy() for x in test_acc_top1]\n",
        "train_acc_top5 = [x.cpu().numpy() for x in train_acc_top5]\n",
        "test_acc_top5 = [x.cpu().numpy() for x in test_acc_top5]\n",
        "\n",
        "fig, axs = plt.subplots(1, 3, figsize=(15,5))\n",
        "\n",
        "axs[0].plot(epochs, train_loss, label='Train Loss')\n",
        "axs[0].plot(epochs, test_loss, label='Test Loss')\n",
        "axs[0].set_title('Train v/s Test loss')\n",
        "axs[0].legend()\n",
        "\n",
        "axs[1].plot(epochs, train_acc_top1, label='Train Acc')\n",
        "axs[1].plot(epochs, test_acc_top1, label='Test Acc')\n",
        "axs[1].set_title('Train v/s Test Top 1 accuracy')\n",
        "axs[1].legend()\n",
        "\n",
        "axs[2].plot(epochs, train_acc_top5, label='Train Acc')\n",
        "axs[2].plot(epochs, test_acc_top5, label='Test Acc')\n",
        "axs[2].set_title('Train v/s Test Top 5 accuracy')\n",
        "axs[2].legend()\n",
        "\n",
        "plt.show()\n"
      ]
    },
    {
      "cell_type": "markdown",
      "metadata": {
        "id": "tnFIBIsww7wE"
      },
      "source": [
        "## Q1 part 2"
      ]
    },
    {
      "cell_type": "code",
      "source": [
        "# Set up the dataloaders for training and validation\n",
        "trainloader = torch.utils.data.DataLoader(train_ds, batch_size=99, shuffle=True, num_workers=2, drop_last = True)\n",
        "valloader = torch.utils.data.DataLoader(val_ds, batch_size=99, shuffle=False, num_workers=2, drop_last = True)"
      ],
      "metadata": {
        "id": "nGNqRzQZT5P5"
      },
      "execution_count": null,
      "outputs": []
    },
    {
      "cell_type": "code",
      "source": [
        "#Load Resnet18\n",
        "model = ResNet18(num_classes=200)\n",
        "\n",
        "#Finetune Final few layers to adjust for tiny imagenet input\n",
        "model.avgpool = nn.AdaptiveAvgPool2d(1)\n",
        "num_ftrs = model.fc.in_features\n",
        "model.fc = nn.Linear(num_ftrs, 200)\n",
        "model.load_state_dict(torch.load('/content/drive/MyDrive/Deep Learning/resnet18_2_cross_entropy_loss_top5_acc.pt'))\n",
        "optimizer = optim.Adam(model.parameters(), lr = 0.001, weight_decay=1e-4)\n",
        "\n",
        "# Add central loss to the criterion\n",
        "device = torch.device('cuda' if torch.cuda.is_available() else 'cpu')\n",
        "model = model.to(device)"
      ],
      "metadata": {
        "id": "xtxU60CIR90T"
      },
      "execution_count": null,
      "outputs": []
    },
    {
      "cell_type": "code",
      "source": [
        "# import os\n",
        "# os.environ['CUDA_LAUNCH_BLOCKING'] = '1'"
      ],
      "metadata": {
        "id": "GO8XDf1SN7fq"
      },
      "execution_count": null,
      "outputs": []
    },
    {
      "cell_type": "code",
      "source": [
        "class TripletLoss(nn.Module):\n",
        "    \"\"\"\n",
        "    Triplet loss\n",
        "    Takes embeddings of an anchor sample, a positive sample and a negative sample\n",
        "    \"\"\"\n",
        "\n",
        "    def __init__(self, margin):\n",
        "        super(TripletLoss, self).__init__()\n",
        "        self.margin = margin\n",
        "\n",
        "    def forward(self, anchor, positive, negative, size_average=True):\n",
        "        distance_positive = (anchor - positive).pow(2).sum(1)  # .pow(.5)\n",
        "        distance_negative = (anchor - negative).pow(2).sum(1)  # .pow(.5)\n",
        "        losses = F.relu(distance_positive - distance_negative + self.margin)\n",
        "        return losses.mean() if size_average else losses.sum()"
      ],
      "metadata": {
        "id": "KDiJqO1UOAUO"
      },
      "execution_count": null,
      "outputs": []
    },
    {
      "cell_type": "code",
      "source": [
        "criterion = TripletLoss(0.1)\n",
        "from sklearn.metrics.pairwise import pairwise_distances"
      ],
      "metadata": {
        "id": "Y1Dx_CEfOCc-"
      },
      "execution_count": null,
      "outputs": []
    },
    {
      "cell_type": "code",
      "source": [
        "def get_hard_triplet(embeddings, labels):\n",
        "    distances = torch.cdist(embeddings, embeddings, p=2)\n",
        "    mask = (labels == labels.T).float()\n",
        "    pos_distances = mask * distances\n",
        "    neg_distances = (1. - mask) * distances\n",
        "    neg_distances[neg_distances == 0] = distances.max() + 1\n",
        "    \n",
        "    num_labels = len(torch.unique(labels))\n",
        "    num_neg_samples = distances.size(1) - 1\n",
        "    \n",
        "    if num_neg_samples == 0:\n",
        "        return None, None, None\n",
        "    \n",
        "    hard_neg_idx = neg_distances.argmin(-1) # closest to anchor\n",
        "    hard_pos_idx = pos_distances.argmax(-1) # farthest from anchor\n",
        "    \n",
        "    anchor = embeddings\n",
        "    positive = embeddings[hard_pos_idx]\n",
        "    negative = embeddings[hard_neg_idx]\n",
        "    \n",
        "    return anchor, positive, negative\n"
      ],
      "metadata": {
        "id": "_VhaxRCFOFOi"
      },
      "execution_count": null,
      "outputs": []
    },
    {
      "cell_type": "code",
      "source": [
        "# train the model\n",
        "num_epochs = 5\n",
        "tt_loss = []\n",
        "for epoch in range(num_epochs):\n",
        "    running_loss = 0.0\n",
        "    correct_top5 = 0\n",
        "    \n",
        "    for i, (inputs, labels) in enumerate(trainloader):\n",
        "        inputs = inputs.to(device)\n",
        "        labels = labels.to(device)\n",
        "        \n",
        "        # get embeddings from model\n",
        "        model.train()\n",
        "        embeddings = model(inputs)\n",
        "        \n",
        "        # get anchor, positive, negative samples\n",
        "        anchor, positive, negative = get_hard_triplet(embeddings, labels)\n",
        "        \n",
        "        # calculate triplet loss\n",
        "        loss = criterion(anchor, positive, negative)\n",
        "        \n",
        "        # zero the parameter gradients\n",
        "        optimizer.zero_grad()\n",
        "        \n",
        "        # backward + optimize\n",
        "        loss.backward()\n",
        "        optimizer.step()\n",
        "        \n",
        "        # update running loss\n",
        "        running_loss += loss.item() * inputs.size(0)\n",
        "        \n",
        "        # calculate top-5 accuracy\n",
        "        with torch.no_grad():\n",
        "            model.eval()\n",
        "            outputs = model(inputs)\n",
        "            _, preds = torch.topk(outputs, k=5, dim=1)\n",
        "            correct_top5 += torch.any(preds == labels.unsqueeze(1), dim=1).sum().item()\n",
        "    \n",
        "    # calculate training loss and accuracy\n",
        "    epoch_loss = running_loss / len(train_ds)\n",
        "    epoch_acc_top5 = correct_top5 / len(train_ds)\n",
        "    \n",
        "    # print training loss and accuracy\n",
        "    print('Epoch {}/{}'.format(epoch+1, num_epochs))\n",
        "    print('-' * 10)\n",
        "    print('Training Loss: {:.4f}'.format(epoch_loss))\n",
        "    print('Training Top-5 Accuracy: {:.4f}'.format(epoch_acc_top5))\n",
        "    \n",
        "    # calculate validation accuracy\n",
        "    with torch.no_grad():\n",
        "        correct_top5 = 0\n",
        "        for inputs, labels in valloader:\n",
        "            inputs = inputs.cuda()\n",
        "            labels = labels.cuda()\n",
        "            \n",
        "            model.eval()\n",
        "            outputs = model(inputs)\n",
        "            _, preds = torch.topk(outputs, k=5, dim=1)\n",
        "            correct_top5 += torch.any(preds == labels.unsqueeze(1), dim=1).sum().item()\n",
        "        val_acc_top5 = correct_top5 / len(val_ds)\n",
        "        \n",
        "    # print validation accuracy\n",
        "    print('Validation Top-5 Accuracy: {:.4f}'.format(val_acc_top5))\n",
        "    print()\n",
        "    \n"
      ],
      "metadata": {
        "colab": {
          "base_uri": "https://localhost:8080/"
        },
        "outputId": "5da56713-e5dd-4001-f1ee-9902a6fd8239",
        "id": "UFr60AOsM28E"
      },
      "execution_count": null,
      "outputs": [
        {
          "output_type": "stream",
          "name": "stdout",
          "text": [
            "Epoch 1/5\n",
            "----------\n",
            "Training Loss: 15.2568\n",
            "Training Top-5 Accuracy: 0.0273\n",
            "Validation Top-5 Accuracy: 0.0252\n",
            "\n",
            "Epoch 2/5\n",
            "----------\n",
            "Training Loss: 0.1938\n",
            "Training Top-5 Accuracy: 0.0250\n",
            "Validation Top-5 Accuracy: 0.0252\n",
            "\n",
            "Epoch 3/5\n",
            "----------\n",
            "Training Loss: 0.1218\n",
            "Training Top-5 Accuracy: 0.0250\n",
            "Validation Top-5 Accuracy: 0.0259\n",
            "\n",
            "Epoch 4/5\n",
            "----------\n",
            "Training Loss: 0.1119\n",
            "Training Top-5 Accuracy: 0.0254\n",
            "Validation Top-5 Accuracy: 0.0259\n",
            "\n",
            "Epoch 5/5\n",
            "----------\n",
            "Training Loss: 0.1082\n",
            "Training Top-5 Accuracy: 0.0251\n",
            "Validation Top-5 Accuracy: 0.0249\n",
            "\n"
          ]
        }
      ]
    },
    {
      "cell_type": "code",
      "source": [
        "plt.plot(tt_loss)\n",
        "plt.xlabel('epoch')\n",
        "plt.ylabel('loss')\n",
        "plt.title('loss v/s epoch')\n",
        "plt.show()"
      ],
      "metadata": {
        "id": "Lp5kJvm2vxI_"
      },
      "execution_count": null,
      "outputs": []
    },
    {
      "cell_type": "code",
      "source": [
        "torch.save(model.state_dict(), \"/content/drive/MyDrive/Deep Learning/tripletloss_model.pt\") "
      ],
      "metadata": {
        "id": "igeksyvFqI9g"
      },
      "execution_count": null,
      "outputs": []
    },
    {
      "cell_type": "code",
      "source": [
        "model.load_state_dict(torch.load('/content/drive/MyDrive/Deep Learning/tripletloss_model.pt'))"
      ],
      "metadata": {
        "colab": {
          "base_uri": "https://localhost:8080/"
        },
        "id": "1htVFNF3wF1D",
        "outputId": "ccd7786e-f31f-40c4-e0a0-61f0a5c44ac5"
      },
      "execution_count": null,
      "outputs": [
        {
          "output_type": "execute_result",
          "data": {
            "text/plain": [
              "<All keys matched successfully>"
            ]
          },
          "metadata": {},
          "execution_count": 25
        }
      ]
    },
    {
      "cell_type": "code",
      "source": [
        "class NewModel(nn.Module):\n",
        "  def __init__(self):\n",
        "    super().__init__()\n",
        "    self.model = model\n",
        "    # freeze self.model\n",
        "    for params in self.model.parameters():\n",
        "      params.requires_grad = False\n",
        "    self.fc = nn.Linear(200,200)\n",
        "  \n",
        "  def forward(self, x):\n",
        "    x = self.model(x)\n",
        "    return self.fc(x)"
      ],
      "metadata": {
        "id": "AK2RLvg-TK-Q"
      },
      "execution_count": null,
      "outputs": []
    },
    {
      "cell_type": "code",
      "source": [
        "model2 = NewModel().to(device)"
      ],
      "metadata": {
        "id": "QbZU9xj5Z1GL"
      },
      "execution_count": null,
      "outputs": []
    },
    {
      "cell_type": "code",
      "source": [
        "criterion = nn.CrossEntropyLoss()"
      ],
      "metadata": {
        "id": "jRzbgXmzaRhl"
      },
      "execution_count": null,
      "outputs": []
    },
    {
      "cell_type": "code",
      "source": [
        "def train(model, dataloader, criterion, optimizer, scheduler, device):\n",
        "    model.train()\n",
        "    running_loss = 0.0\n",
        "    running_corrects_top1 = 0\n",
        "    running_corrects_top5 = 0\n",
        "\n",
        "    for inputs, labels in dataloader:\n",
        "        inputs = inputs.to(device)\n",
        "        labels = labels.to(device)\n",
        "\n",
        "        optimizer.zero_grad()\n",
        "\n",
        "        with torch.set_grad_enabled(True):\n",
        "            outputs = model(inputs)\n",
        "            loss = criterion(outputs, labels)\n",
        "            _, preds = torch.topk(outputs, k=5, dim=1)\n",
        "            l2_reg = torch.tensor(0., device=device)\n",
        "            for param in model.parameters():\n",
        "              l2_reg += torch.norm(param)\n",
        "            loss = loss + 0.001*l2_reg\n",
        "            loss.backward()\n",
        "            optimizer.step()\n",
        "\n",
        "        running_loss += loss.item() * inputs.size(0)\n",
        "        running_corrects_top1 += torch.sum(preds[:, 0] == labels)\n",
        "        running_corrects_top5 += torch.sum(preds == labels.unsqueeze(1))\n",
        "\n",
        "    epoch_loss = running_loss / len(dataloader.dataset)\n",
        "    epoch_acc_top1 = running_corrects_top1.double() / len(dataloader.dataset)\n",
        "    epoch_acc_top5 = running_corrects_top5.double() / len(dataloader.dataset)\n",
        "\n",
        "    return epoch_loss, epoch_acc_top1, epoch_acc_top5\n",
        "\n",
        "\n",
        "def test(model, dataloader, criterion, device):\n",
        "    model.eval()\n",
        "    running_loss = 0.0\n",
        "    running_corrects_top1 = 0\n",
        "    running_corrects_top5 = 0\n",
        "\n",
        "    with torch.no_grad():\n",
        "        for inputs, labels in dataloader:\n",
        "            inputs = inputs.to(device)\n",
        "            labels = labels.to(device)\n",
        "\n",
        "            outputs = model(inputs)\n",
        "            loss = criterion(outputs, labels)\n",
        "            _, preds = torch.topk(outputs, k=5, dim=1)\n",
        "\n",
        "            running_loss += loss.item() * inputs.size(0)\n",
        "            running_corrects_top1 += torch.sum(preds[:, 0] == labels)\n",
        "            running_corrects_top5 += torch.sum(preds == labels.unsqueeze(1))\n",
        "\n",
        "    epoch_loss = running_loss / len(dataloader.dataset)\n",
        "    epoch_acc_top1 = running_corrects_top1.double() / len(dataloader.dataset)\n",
        "    epoch_acc_top5 = running_corrects_top5.double() / len(dataloader.dataset)\n",
        "\n",
        "    return epoch_loss, epoch_acc_top1, epoch_acc_top5\n"
      ],
      "metadata": {
        "id": "In2SzlF5cEqf"
      },
      "execution_count": null,
      "outputs": []
    },
    {
      "cell_type": "code",
      "source": [
        "optimizer_ft = optim.Adam(model2.parameters(), lr=0.001)\n",
        "exp_lr_scheduler = lr_scheduler.StepLR(optimizer_ft, step_size=7, gamma=0.1)"
      ],
      "metadata": {
        "id": "JrPIzYH5cQCx"
      },
      "execution_count": null,
      "outputs": []
    },
    {
      "cell_type": "code",
      "source": [
        "# loop for training and testing for specified number of epochs\n",
        "num_epochs = 5\n",
        "device = torch.device('cuda' if torch.cuda.is_available() else 'cpu')\n",
        "model2.to(device)\n",
        "\n",
        "best_model_wts = None\n",
        "best_acc_top5 = 0.0\n",
        "\n",
        "train_loss = []\n",
        "test_loss = []\n",
        "train_acc_top1 = []\n",
        "test_acc_top1 = []\n",
        "train_acc_top5 = []\n",
        "test_acc_top5 = []\n",
        "\n",
        "for epoch in range(num_epochs):\n",
        "    print(f'Epoch {epoch+1}/{num_epochs}')\n",
        "    print('-' * 10)\n",
        "\n",
        "    # train\n",
        "    epoch_train_loss, epoch_train_acc_top1, epoch_train_acc_top5 = train(model2, trainloader, criterion, optimizer_ft, exp_lr_scheduler, device)\n",
        "    train_loss.append(epoch_train_loss)\n",
        "    train_acc_top1.append(epoch_train_acc_top1)\n",
        "    train_acc_top5.append(epoch_train_acc_top5)\n",
        "    print(f'Train Loss: {epoch_train_loss:.4f} Top-1 Acc: {epoch_train_acc_top1:.4f} Top-5 Acc: {epoch_train_acc_top5:.4f}')\n",
        "\n",
        "    # test\n",
        "    epoch_test_loss, epoch_test_acc_top1, epoch_test_acc_top5 = test(model2, valloader, criterion, device)\n",
        "    test_loss.append(epoch_test_loss)\n",
        "    test_acc_top1.append(epoch_test_acc_top1)\n",
        "    test_acc_top5.append(epoch_test_acc_top5)\n",
        "    print(f'Test Loss: {epoch_test_loss:.4f} Top-1 Acc: {epoch_test_acc_top1:.4f} Top-5 Acc: {epoch_test_acc_top5:.4f}')\n",
        "\n",
        "    # check if the model is the best so far based on top-5 accuracy\n",
        "    if epoch_test_acc_top5 > best_acc_top5:\n",
        "        best_acc_top5 = epoch_test_acc_top5\n",
        "        best_model_wts = model2.state_dict()\n",
        "\n",
        "# load the best model weights\n",
        "if best_model_wts is not None:\n",
        "    model2.load_state_dict(best_model_wts)"
      ],
      "metadata": {
        "colab": {
          "base_uri": "https://localhost:8080/"
        },
        "id": "l2qlHgWFaWmV",
        "outputId": "782f5f56-f6a6-44be-fb19-7c905c84f3a6"
      },
      "execution_count": null,
      "outputs": [
        {
          "output_type": "stream",
          "name": "stdout",
          "text": [
            "Epoch 1/5\n",
            "----------\n",
            "Train Loss: 6.1141 Top-1 Acc: 0.0050 Top-5 Acc: 0.0251\n",
            "Test Loss: 5.3878 Top-1 Acc: 0.0061 Top-5 Acc: 0.0284\n",
            "Epoch 2/5\n",
            "----------\n",
            "Train Loss: 6.0988 Top-1 Acc: 0.0055 Top-5 Acc: 0.0269\n",
            "Test Loss: 5.3864 Top-1 Acc: 0.0105 Top-5 Acc: 0.0294\n",
            "Epoch 3/5\n",
            "----------\n",
            "Train Loss: 6.0879 Top-1 Acc: 0.0060 Top-5 Acc: 0.0296\n",
            "Test Loss: 5.3696 Top-1 Acc: 0.0081 Top-5 Acc: 0.0332\n",
            "Epoch 4/5\n",
            "----------\n",
            "Train Loss: 6.0771 Top-1 Acc: 0.0066 Top-5 Acc: 0.0307\n",
            "Test Loss: 5.3542 Top-1 Acc: 0.0052 Top-5 Acc: 0.0403\n",
            "Epoch 5/5\n",
            "----------\n",
            "Train Loss: 6.0675 Top-1 Acc: 0.0075 Top-5 Acc: 0.0342\n",
            "Test Loss: 5.3638 Top-1 Acc: 0.0050 Top-5 Acc: 0.0313\n"
          ]
        }
      ]
    },
    {
      "cell_type": "code",
      "source": [
        "epochs = [x for x in range(1, 6)]\n",
        "\n",
        "train_acc_top1 = [x.cpu().numpy() for x in train_acc_top1]\n",
        "test_acc_top1 = [x.cpu().numpy() for x in test_acc_top1]\n",
        "train_acc_top5 = [x.cpu().numpy() for x in train_acc_top5]\n",
        "test_acc_top5 = [x.cpu().numpy() for x in test_acc_top5]\n",
        "\n",
        "fig, axs = plt.subplots(1, 3, figsize=(15,5))\n",
        "\n",
        "axs[0].plot(epochs, train_loss, label='Train Loss')\n",
        "axs[0].plot(epochs, test_loss, label='Test Loss')\n",
        "axs[0].set_title('Train v/s Test loss')\n",
        "axs[0].legend()\n",
        "\n",
        "axs[1].plot(epochs, train_acc_top1, label='Train Acc')\n",
        "axs[1].plot(epochs, test_acc_top1, label='Test Acc')\n",
        "axs[1].set_title('Train v/s Test Top 1 accuracy')\n",
        "axs[1].legend()\n",
        "\n",
        "axs[2].plot(epochs, train_acc_top5, label='Train Acc')\n",
        "axs[2].plot(epochs, test_acc_top5, label='Test Acc')\n",
        "axs[2].set_title('Train v/s Test Top 5 accuracy')\n",
        "axs[2].legend()\n",
        "\n",
        "plt.show()"
      ],
      "metadata": {
        "colab": {
          "base_uri": "https://localhost:8080/",
          "height": 336
        },
        "id": "-ktTjYkJwYYF",
        "outputId": "696a430e-b7fc-4a67-f5f4-a9d2b17ee0f4"
      },
      "execution_count": null,
      "outputs": [
        {
          "output_type": "display_data",
          "data": {
            "text/plain": [
              "<Figure size 1080x360 with 3 Axes>"
            ],
            "image/png": "[encoded data removed]"
          },
          "metadata": {
            "needs_background": "light"
          }
        }
      ]
    },
    {
      "cell_type": "code",
      "source": [
        "torch.save(model2.state_dict(), \"/content/drive/MyDrive/Deep Learning/resnet18_tripletloss_hard.pt\") "
      ],
      "metadata": {
        "id": "geDXYAlFkFby"
      },
      "execution_count": null,
      "outputs": []
    },
    {
      "cell_type": "markdown",
      "source": [
        "## Part 3: Central loss"
      ],
      "metadata": {
        "id": "ZngQtZ3eNfuS"
      }
    },
    {
      "cell_type": "code",
      "source": [
        "class CenterLoss(nn.Module):\n",
        "    def __init__(self, num_classes, feat_dim, alpha=0.5):\n",
        "        super().__init__()\n",
        "        self.num_classes = num_classes\n",
        "        self.feat_dim = feat_dim\n",
        "        self.alpha = alpha\n",
        "        \n",
        "        # create centers parameter and initialize with zeros\n",
        "        self.centers = nn.Parameter(torch.zeros(num_classes, feat_dim))\n",
        "        \n",
        "    def forward(self, x, labels):\n",
        "        batch_size = x.size(0)\n",
        "        \n",
        "        # calculate distance between features and centers\n",
        "        features = x.view(batch_size, -1)\n",
        "        distances = torch.cdist(features, self.centers, p=2)\n",
        "        \n",
        "        # calculate center loss\n",
        "        center_loss = F.cross_entropy(labels, labels)\n",
        "        \n",
        "        # calculate total loss\n",
        "        total_loss = self.alpha * center_loss + distances.mean()\n",
        "        \n",
        "        # update centers\n",
        "        centers_batch = torch.zeros_like(self.centers)\n",
        "        for i in range(self.num_classes):\n",
        "            mask = labels == i\n",
        "            if mask.sum() > 0:\n",
        "                centers_batch[i] = features[mask].mean(0)\n",
        "        \n",
        "        self.centers.data -= centers_batch.data\n",
        "        \n",
        "        return total_loss\n"
      ],
      "metadata": {
        "id": "HJUHW33ih3HN"
      },
      "execution_count": null,
      "outputs": []
    },
    {
      "cell_type": "code",
      "source": [
        "def center_loss(features, labels, num_classes=200, alpha=0.5):\n",
        "    n_features = features.size(1)\n",
        "    centers = torch.zeros(num_classes, n_features, device=features.device)\n",
        "    labels_reshaped = labels.view(-1, 1).long()\n",
        "    centers_batch = centers.index_add(0, labels_reshaped.squeeze(), features)\n",
        "    centers_count = torch.histc(labels_reshaped.float(), bins=num_classes, min=0, max=num_classes-1)\n",
        "    centers_count = torch.clamp(centers_count, min=1)\n",
        "    centers = centers_batch / centers_count.view(-1, 1)\n",
        "    expanded_centers = centers.index_select(dim=0, index=labels.long())\n",
        "    return alpha * F.mse_loss(features, expanded_centers), centers"
      ],
      "metadata": {
        "id": "-hwhDS3GOk4v"
      },
      "execution_count": null,
      "outputs": []
    },
    {
      "cell_type": "code",
      "source": [
        "import os\n",
        "os.environ['CUDA_LAUNCH_BLOCKING'] = '1'"
      ],
      "metadata": {
        "id": "uw7ntLwaUKaV"
      },
      "execution_count": null,
      "outputs": []
    },
    {
      "cell_type": "code",
      "source": [
        "#Load Resnet18\n",
        "model = ResNet18(num_classes=200)\n",
        "\n",
        "#Finetune Final few layers to adjust for tiny imagenet input\n",
        "model.avgpool = nn.AdaptiveAvgPool2d(1)\n",
        "num_ftrs = model.fc.in_features\n",
        "model.fc = nn.Linear(num_ftrs, 200)\n",
        "model.load_state_dict(torch.load('/content/drive/MyDrive/Deep Learning/resnet18_2_cross_entropy_loss_top5_acc.pt'))\n",
        "optimizer = optim.Adam(model.parameters(), lr = 0.001, weight_decay=1e-4)\n",
        "\n",
        "# Add central loss to the criterion\n",
        "criterion = nn.CrossEntropyLoss()\n",
        "device = torch.device('cuda' if torch.cuda.is_available() else 'cpu')\n",
        "model = model.to(device)"
      ],
      "metadata": {
        "id": "WknH3iUUQ8pr"
      },
      "execution_count": null,
      "outputs": []
    },
    {
      "cell_type": "code",
      "source": [
        "weight_decay=1e-4"
      ],
      "metadata": {
        "id": "xr91SAs4bmG6"
      },
      "execution_count": null,
      "outputs": []
    },
    {
      "cell_type": "code",
      "source": [
        "from tqdm import tqdm\n",
        "\n",
        "def train(model, trainloader, optimizer, criterion, center_loss, weight_decay, device):\n",
        "    model.train()\n",
        "    running_loss = 0.0\n",
        "    total = 0\n",
        "    correct = 0\n",
        "    correct_top5 = 0\n",
        "    for inputs, labels in tqdm(trainloader, desc='Training', unit='batch'):\n",
        "        inputs, labels = inputs.to(device), labels.to(device)\n",
        "        optimizer.zero_grad()\n",
        "        outputs = model(inputs)\n",
        "        loss1 = criterion(outputs, labels)\n",
        "        loss2 = center_loss(outputs, labels)\n",
        "        loss2_mean = torch.sum(loss2[0])     \n",
        "        l2_reg = torch.tensor(0., device=device)\n",
        "        for param in model.parameters():\n",
        "            l2_reg += torch.norm(param)\n",
        "        loss = loss1 + 0.01 * loss2_mean + weight_decay * l2_reg\n",
        "        loss.backward()\n",
        "        optimizer.step()\n",
        "        running_loss += loss.item() * inputs.size(0)\n",
        "        predicted = torch.argmax(outputs.data, 1)\n",
        "        total += labels.size(0)\n",
        "        correct += (predicted == labels).sum().item()\n",
        "        _, predicted_top5 = torch.topk(outputs.data, 5, dim=1)\n",
        "        for i in range(predicted_top5.size(0)):\n",
        "            if labels[i] in predicted_top5[i]:\n",
        "                correct_top5 += 1\n",
        "    train_loss = running_loss / len(trainloader.dataset)\n",
        "    train_accuracy = 100 * correct / total\n",
        "    train_top5_accuracy = 100 * correct_top5 / total\n",
        "    return train_loss, train_accuracy, train_top5_accuracy\n",
        "\n",
        "\n",
        "def test(model, valloader, criterion, device):\n",
        "    model.eval()\n",
        "    running_loss = 0.0\n",
        "    total = 0\n",
        "    correct = 0\n",
        "    correct_top5 = 0\n",
        "    with torch.no_grad():\n",
        "        for inputs, labels in tqdm(valloader, desc='Testing', unit='batch'):\n",
        "            inputs, labels = inputs.to(device), labels.to(device)\n",
        "            outputs = model(inputs)\n",
        "            loss = criterion(outputs, labels)\n",
        "            running_loss += loss.item() * inputs.size(0)\n",
        "            predicted = torch.argmax(outputs.data, 1)\n",
        "            total += labels.size(0)\n",
        "            correct += (predicted == labels).sum().item()\n",
        "            _, predicted_top5 = torch.topk(outputs.data, 5, dim=1)\n",
        "            for i in range(predicted_top5.size(0)):\n",
        "                if labels[i] in predicted_top5[i]:\n",
        "                    correct_top5 += 1\n",
        "        val_loss = running_loss / len(valloader.dataset)\n",
        "        val_accuracy = 100 * correct / total\n",
        "        val_top5_accuracy = 100 * correct_top5 / total\n",
        "    return val_loss, val_accuracy, val_top5_accuracy\n"
      ],
      "metadata": {
        "id": "ZbvVl0azRBNS"
      },
      "execution_count": null,
      "outputs": []
    },
    {
      "cell_type": "code",
      "source": [
        "num_epochs = 5\n",
        "train_loss_history = []\n",
        "train_acc_history = []\n",
        "val_acc_history = []\n",
        "train_acc_top5 = []\n",
        "val_acc_top5 = []\n",
        "val_loss_history = []\n",
        "\n",
        "device = torch.device('cuda' if torch.cuda.is_available() else 'cpu')\n",
        "model.to(device)\n",
        "\n",
        "for epoch in range(num_epochs):\n",
        "    print(f'Epoch {epoch+1}/{num_epochs}')\n",
        "    print('-' * 10)\n",
        "\n",
        "    # train\n",
        "    epoch_train_loss, epoch_train_acc, epoch_train_acc_top5 = train(model, trainloader, optimizer, criterion, center_loss, weight_decay, device)\n",
        "    train_loss_history.append(epoch_train_loss)\n",
        "    train_acc_history.append(epoch_train_acc)\n",
        "    train_acc_top5.append(epoch_train_acc_top5)\n",
        "    print(f'Train Loss: {epoch_train_loss:.4f} Top-1 Acc: {epoch_train_acc:.2f}% Top-5 Acc: {epoch_train_acc_top5:.2f}%')\n",
        "\n",
        "    # test\n",
        "    epoch_test_loss, epoch_test_acc, epoch_test_acc_top5 = test(model, valloader, criterion, device)\n",
        "    val_loss_history.append(epoch_test_loss)\n",
        "    val_acc_history.append(epoch_test_acc)\n",
        "    val_acc_top5.append(epoch_test_acc_top5)\n",
        "    print(f'Test Loss: {epoch_test_loss:.4f} Top-1 Acc: {epoch_test_acc:.2f}% Top-5 Acc: {epoch_test_acc_top5:.2f}%')"
      ],
      "metadata": {
        "colab": {
          "base_uri": "https://localhost:8080/"
        },
        "id": "bwLpkj0D_yZN",
        "outputId": "a7881ca3-141a-4f66-fa73-1a271bf03f89"
      },
      "execution_count": null,
      "outputs": [
        {
          "output_type": "stream",
          "name": "stdout",
          "text": [
            "Epoch 1/5\n",
            "----------\n"
          ]
        },
        {
          "output_type": "stream",
          "name": "stderr",
          "text": [
            "Training: 100%|██████████| 1011/1011 [02:00<00:00,  8.36batch/s]\n"
          ]
        },
        {
          "output_type": "stream",
          "name": "stdout",
          "text": [
            "Train Loss: 2.2233 Top-1 Acc: 46.41% Top-5 Acc: 74.60%\n"
          ]
        },
        {
          "output_type": "stream",
          "name": "stderr",
          "text": [
            "Testing: 100%|██████████| 101/101 [00:06<00:00, 14.97batch/s]\n"
          ]
        },
        {
          "output_type": "stream",
          "name": "stdout",
          "text": [
            "Test Loss: 2.5944 Top-1 Acc: 38.38% Top-5 Acc: 66.43%\n",
            "Epoch 2/5\n",
            "----------\n"
          ]
        },
        {
          "output_type": "stream",
          "name": "stderr",
          "text": [
            "Training: 100%|██████████| 1011/1011 [02:00<00:00,  8.41batch/s]\n"
          ]
        },
        {
          "output_type": "stream",
          "name": "stdout",
          "text": [
            "Train Loss: 2.0921 Top-1 Acc: 49.19% Top-5 Acc: 77.06%\n"
          ]
        },
        {
          "output_type": "stream",
          "name": "stderr",
          "text": [
            "Testing: 100%|██████████| 101/101 [00:08<00:00, 11.86batch/s]\n"
          ]
        },
        {
          "output_type": "stream",
          "name": "stdout",
          "text": [
            "Test Loss: 2.4491 Top-1 Acc: 42.08% Top-5 Acc: 69.46%\n",
            "Epoch 3/5\n",
            "----------\n"
          ]
        },
        {
          "output_type": "stream",
          "name": "stderr",
          "text": [
            "Training: 100%|██████████| 1011/1011 [02:00<00:00,  8.37batch/s]\n"
          ]
        },
        {
          "output_type": "stream",
          "name": "stdout",
          "text": [
            "Train Loss: 1.9741 Top-1 Acc: 51.69% Top-5 Acc: 79.04%\n"
          ]
        },
        {
          "output_type": "stream",
          "name": "stderr",
          "text": [
            "Testing: 100%|██████████| 101/101 [00:07<00:00, 13.16batch/s]\n"
          ]
        },
        {
          "output_type": "stream",
          "name": "stdout",
          "text": [
            "Test Loss: 2.5805 Top-1 Acc: 39.74% Top-5 Acc: 66.91%\n",
            "Epoch 4/5\n",
            "----------\n"
          ]
        },
        {
          "output_type": "stream",
          "name": "stderr",
          "text": [
            "Training: 100%|██████████| 1011/1011 [02:00<00:00,  8.37batch/s]\n"
          ]
        },
        {
          "output_type": "stream",
          "name": "stdout",
          "text": [
            "Train Loss: 1.8690 Top-1 Acc: 54.17% Top-5 Acc: 80.92%\n"
          ]
        },
        {
          "output_type": "stream",
          "name": "stderr",
          "text": [
            "Testing: 100%|██████████| 101/101 [00:07<00:00, 13.98batch/s]\n"
          ]
        },
        {
          "output_type": "stream",
          "name": "stdout",
          "text": [
            "Test Loss: 2.4338 Top-1 Acc: 42.58% Top-5 Acc: 70.40%\n",
            "Epoch 5/5\n",
            "----------\n"
          ]
        },
        {
          "output_type": "stream",
          "name": "stderr",
          "text": [
            "Training: 100%|██████████| 1011/1011 [01:59<00:00,  8.45batch/s]\n"
          ]
        },
        {
          "output_type": "stream",
          "name": "stdout",
          "text": [
            "Train Loss: 1.7576 Top-1 Acc: 56.65% Top-5 Acc: 82.74%\n"
          ]
        },
        {
          "output_type": "stream",
          "name": "stderr",
          "text": [
            "Testing: 100%|██████████| 101/101 [00:05<00:00, 17.40batch/s]"
          ]
        },
        {
          "output_type": "stream",
          "name": "stdout",
          "text": [
            "Test Loss: 2.3331 Top-1 Acc: 43.79% Top-5 Acc: 71.61%\n"
          ]
        },
        {
          "output_type": "stream",
          "name": "stderr",
          "text": [
            "\n"
          ]
        }
      ]
    },
    {
      "cell_type": "code",
      "source": [
        "# # Test the model\n",
        "\n",
        "test_loss, test_acc, test_acc_top5 = test(model, valloader, criterion, device)\n",
        "print()\n",
        "print('Test Accuracy Top 1 : {:.2f}%'.format(test_acc))\n",
        "print('Test Accuracy Top 5 : {:.2f}%'.format(test_acc_top5))"
      ],
      "metadata": {
        "colab": {
          "base_uri": "https://localhost:8080/"
        },
        "id": "TmYKS-J4SCPU",
        "outputId": "d5e270ea-e475-4af8-9b7c-a6509008dc12"
      },
      "execution_count": null,
      "outputs": [
        {
          "output_type": "stream",
          "name": "stderr",
          "text": [
            "Testing: 100%|██████████| 101/101 [00:06<00:00, 15.69batch/s]"
          ]
        },
        {
          "output_type": "stream",
          "name": "stdout",
          "text": [
            "\n",
            "Test Accuracy Top 1 : 43.79%\n",
            "Test Accuracy Top 5 : 71.61%\n"
          ]
        },
        {
          "output_type": "stream",
          "name": "stderr",
          "text": [
            "\n"
          ]
        }
      ]
    },
    {
      "cell_type": "code",
      "source": [
        "epochs = [x for x in range(1, 6)]\n",
        "\n",
        "# train_acc_top1 = [x.cpu().numpy() for x in train_acc_top1]\n",
        "# test_acc_top1 = [x.cpu().numpy() for x in test_acc_top1]\n",
        "# train_acc_top5 = [x.cpu().numpy() for x in train_acc_top5]\n",
        "# test_acc_top5 = [x.cpu().numpy() for x in test_acc_top5]\n",
        "\n",
        "fig, axs = plt.subplots(1, 3, figsize=(15,5))\n",
        "\n",
        "axs[0].plot(epochs, train_loss_history, label='Train Loss')\n",
        "axs[0].plot(epochs, val_loss_history, label='Test Loss')\n",
        "axs[0].set_title('Train v/s Test loss')\n",
        "axs[0].legend()\n",
        "\n",
        "axs[1].plot(epochs, train_acc_history, label='Train Acc')\n",
        "axs[1].plot(epochs, val_acc_history, label='Test Acc')\n",
        "axs[1].set_title('Train v/s Test Top 1 accuracy')\n",
        "axs[1].legend()\n",
        "\n",
        "axs[2].plot(epochs, train_acc_top5, label='Train Acc')\n",
        "axs[2].plot(epochs, val_acc_top5, label='Test Acc')\n",
        "axs[2].set_title('Train v/s Test Top 5 accuracy')\n",
        "axs[2].legend()\n",
        "\n",
        "plt.show()"
      ],
      "metadata": {
        "colab": {
          "base_uri": "https://localhost:8080/",
          "height": 336
        },
        "id": "D1o7uLUtgQNq",
        "outputId": "e1c6ffc6-3d90-4291-fc02-31f47d059878"
      },
      "execution_count": null,
      "outputs": [
        {
          "output_type": "display_data",
          "data": {
            "text/plain": [
              "<Figure size 1080x360 with 3 Axes>"
            ],
            "image/png": "[encoded data removed]"
          },
          "metadata": {
            "needs_background": "light"
          }
        }
      ]
    },
    {
      "cell_type": "markdown",
      "source": [
        "# Question 2"
      ],
      "metadata": {
        "id": "DvQS6i4Zf8mm"
      }
    },
    {
      "cell_type": "code",
      "source": [
        "pip install accelerate"
      ],
      "metadata": {
        "colab": {
          "base_uri": "https://localhost:8080/"
        },
        "id": "61w25Ay0R4Ar",
        "outputId": "ca46ac78-eccb-4133-fef9-d6a2c6c9170c"
      },
      "execution_count": null,
      "outputs": [
        {
          "output_type": "stream",
          "name": "stdout",
          "text": [
            "Looking in indexes: https://pypi.org/simple, https://us-python.pkg.dev/colab-wheels/public/simple/\n",
            "Requirement already satisfied: accelerate in /usr/local/lib/python3.8/dist-packages (0.16.0)\n",
            "Requirement already satisfied: torch>=1.4.0 in /usr/local/lib/python3.8/dist-packages (from accelerate) (1.13.1+cu116)\n",
            "Requirement already satisfied: numpy>=1.17 in /usr/local/lib/python3.8/dist-packages (from accelerate) (1.22.4)\n",
            "Requirement already satisfied: psutil in /usr/local/lib/python3.8/dist-packages (from accelerate) (5.4.8)\n",
            "Requirement already satisfied: pyyaml in /usr/local/lib/python3.8/dist-packages (from accelerate) (6.0)\n",
            "Requirement already satisfied: packaging>=20.0 in /usr/local/lib/python3.8/dist-packages (from accelerate) (23.0)\n",
            "Requirement already satisfied: typing-extensions in /usr/local/lib/python3.8/dist-packages (from torch>=1.4.0->accelerate) (4.5.0)\n"
          ]
        }
      ]
    },
    {
      "cell_type": "code",
      "source": [],
      "metadata": {
        "id": "UoUyDMgzzahD"
      },
      "execution_count": null,
      "outputs": []
    },
    {
      "cell_type": "code",
      "execution_count": null,
      "metadata": {
        "id": "lv_nihqDCYzD"
      },
      "outputs": [],
      "source": [
        "import os\n",
        "import torch\n",
        "from torch import nn\n",
        "import torchvision.datasets as datasets\n",
        "from torch.utils.data import DataLoader\n",
        "from torchvision import transforms\n",
        "from collections import OrderedDict\n",
        "from accelerate import Accelerator"
      ]
    },
    {
      "cell_type": "code",
      "execution_count": null,
      "metadata": {
        "id": "nW0L1rAXzsM0"
      },
      "outputs": [],
      "source": [
        "import pandas as pd\n",
        "import numpy as np\n",
        "import torch\n",
        "import torch.nn as nn\n",
        "import torch.optim as optim\n",
        "from torch.optim import lr_scheduler\n",
        "import matplotlib.pyplot as plt"
      ]
    },
    {
      "cell_type": "code",
      "source": [
        "!pip install livelossplot --quiet"
      ],
      "metadata": {
        "id": "4tAVl5B0DLmG"
      },
      "execution_count": null,
      "outputs": []
    },
    {
      "cell_type": "code",
      "source": [
        "import time\n",
        "import copy\n",
        "import sys\n",
        "from livelossplot import PlotLosses\n",
        "import torchvision\n",
        "from torchvision import datasets\n",
        "from torchvision import transforms\n",
        "from torch.utils.data import DataLoader\n",
        "import torch.nn.functional as F"
      ],
      "metadata": {
        "id": "Sj7pgYxxz3u6"
      },
      "execution_count": null,
      "outputs": []
    },
    {
      "cell_type": "code",
      "source": [
        "# Settings\n",
        "RANDOM_SEED = 42\n",
        "BATCH_SIZE = 100\n",
        "NUM_EPOCHS = 10\n",
        "DEVICE = torch.device('cuda:0' if torch.cuda.is_available() else 'cpu')"
      ],
      "metadata": {
        "id": "bfLvep2fEyqT"
      },
      "execution_count": null,
      "outputs": []
    },
    {
      "cell_type": "code",
      "source": [
        "def get_global_configuration():\n",
        "    \"\"\" Retrieve configuration of the training process. \"\"\"\n",
        "\n",
        "    global_config = {\n",
        "      \"num_layers_to_add\": 5,\n",
        "    }\n",
        "\n",
        "    return global_config"
      ],
      "metadata": {
        "id": "3p7CE5ZnC90Q"
      },
      "execution_count": null,
      "outputs": []
    },
    {
      "cell_type": "code",
      "source": [
        "class LayerConfigurableAutoencoder(nn.Module):\n",
        "  '''\n",
        "    Layer-wise configurable Multilayer Perceptron.\n",
        "  '''\n",
        "  def __init__(self, added_layers = 0):\n",
        "    super().__init__()\n",
        "\n",
        "    # Retrieve model configuration\n",
        "    config = get_model_configuration()\n",
        "    shape = 3*96*96\n",
        "    layer_dim = 1024\n",
        "    num_classes = 10\n",
        "\n",
        "    # Create layer structure\n",
        "    layers = [\n",
        "      (str(0), nn.Linear(shape, layer_dim)),\n",
        "      (str(1), nn.Linear(layer_dim, shape)),\n",
        "    ]\n",
        "\n",
        "    # Initialize the Sequential structure\n",
        "    self.layers = nn.Sequential(OrderedDict(layers))\n",
        "\n",
        "\n",
        "  def forward(self, x):\n",
        "    '''Forward pass'''\n",
        "    return self.layers(x)\n",
        "\n",
        "\n",
        "  def set_structure(self, layers):\n",
        "    self.layers = nn.Sequential(OrderedDict(layers))"
      ],
      "metadata": {
        "id": "637K3qzqCcPD"
      },
      "execution_count": null,
      "outputs": []
    },
    {
      "cell_type": "code",
      "source": [
        "def get_model_configuration():\n",
        "    \"\"\" Retrieve configuration for the model. \"\"\"\n",
        "\n",
        "    model_config = {\n",
        "      \"width\": 96,\n",
        "      \"height\": 96,\n",
        "      \"channels\": 3,\n",
        "      \"num_classes\": 10,\n",
        "      \"batch_size\": 100,\n",
        "      \"loss_function\": nn.MSELoss,\n",
        "      \"optimizer\": torch.optim.Adam,\n",
        "      \"num_epochs\": 10,\n",
        "      \"layer_dim\": 1024\n",
        "    }\n",
        "\n",
        "    return model_config"
      ],
      "metadata": {
        "id": "qX74vdUIC-TC"
      },
      "execution_count": null,
      "outputs": []
    },
    {
      "cell_type": "code",
      "source": [
        "# Define transforms\n",
        "train_transforms = transforms.Compose([\n",
        "    transforms.RandomHorizontalFlip(),\n",
        "    transforms.ToTensor(),\n",
        "    transforms.Normalize(mean=(0.5, 0.5, 0.5), std=(0.5, 0.5, 0.5))\n",
        "])\n",
        "\n",
        "test_transforms = transforms.Compose([\n",
        "    transforms.ToTensor(),\n",
        "    transforms.Normalize(mean=(0.5, 0.5, 0.5), std=(0.5, 0.5, 0.5))\n",
        "])"
      ],
      "metadata": {
        "id": "S8q3Mz6SCcfH"
      },
      "execution_count": null,
      "outputs": []
    },
    {
      "cell_type": "code",
      "source": [
        "# Load train and test sets\n",
        "train_set = datasets.STL10(root='./data', split='train', download=True, transform=train_transforms)\n",
        "test_set = datasets.STL10(root='./data', split='test', download=True, transform=test_transforms)\n",
        "\n",
        "train_loader = DataLoader(dataset = train_set, batch_size = BATCH_SIZE, shuffle = True)\n",
        "test_loader = DataLoader(dataset = test_set, batch_size = BATCH_SIZE, shuffle = False)\n"
      ],
      "metadata": {
        "colab": {
          "base_uri": "https://localhost:8080/",
          "height": 100,
          "referenced_widgets": [
            "520b31f2c33349f2b3f4328d38cbbc2f",
            "5a90222d000f404c8903523c59c4f0ba",
            "7eab30edb35d432198dd92c3a474a7a5",
            "ae851516a6c7496197d1a62f1d294d56",
            "8e1e916572d24a358b6930fcb495a199",
            "266a2ff4cad344c988e60624a8b547d6",
            "612ba3256c0e4527a3d40bff7cc87525",
            "a6af653e291841ea81a465cdd3ba6c43",
            "50e62854f4744dd388c84f8c5ab93236",
            "f299cae3ae584ab6b3f337c4530db8db",
            "3a45d7cfc63a4aa0a4be30de3e6d3ea9"
          ]
        },
        "id": "1V8k6ZwECe2x",
        "outputId": "dc4dc073-4278-438d-d0ed-4a2ab5793cfc"
      },
      "execution_count": null,
      "outputs": [
        {
          "output_type": "stream",
          "name": "stdout",
          "text": [
            "Downloading http://ai.stanford.edu/~acoates/stl10/stl10_binary.tar.gz to ./data/stl10_binary.tar.gz\n"
          ]
        },
        {
          "output_type": "display_data",
          "data": {
            "text/plain": [
              "  0%|          | 0/2640397119 [00:00<?, ?it/s]"
            ],
            "application/vnd.jupyter.widget-view+json": {
              "version_major": 2,
              "version_minor": 0,
              "model_id": "520b31f2c33349f2b3f4328d38cbbc2f"
            }
          },
          "metadata": {}
        },
        {
          "output_type": "stream",
          "name": "stdout",
          "text": [
            "Extracting ./data/stl10_binary.tar.gz to ./data\n",
            "Files already downloaded and verified\n"
          ]
        }
      ]
    },
    {
      "cell_type": "code",
      "source": [
        "image_datasets = {'train': train_set, 'val': test_set}\n",
        "dataloaders = {'train': train_loader, 'val': test_loader}\n",
        "dataset_sizes = {'train': len(train_set), 'val': len(test_set)}"
      ],
      "metadata": {
        "id": "5IWES2k9CjNm"
      },
      "execution_count": null,
      "outputs": []
    },
    {
      "cell_type": "code",
      "source": [
        "def add_layer(model, new_layer_dim):\n",
        "    \"\"\" Add a new layer to a model, setting all others to nontrainable. \"\"\"\n",
        "    config = get_model_configuration()\n",
        "\n",
        "    # Retrieve current layers\n",
        "    layers = model.layers\n",
        "    print(\"=\"*50)\n",
        "    print(\"Old structure:\")\n",
        "    print(layers)\n",
        "\n",
        "    # Freeze all previous layers\n",
        "    for layer in layers:\n",
        "        layer.requires_grad = False\n",
        "\n",
        "    # Create new layer and add it to the model\n",
        "    new_layer = nn.Linear(layers[-1].out_features, new_layer_dim)\n",
        "    new_activation = nn.ReLU()\n",
        "    model.add_module(str(len(layers)), new_layer)\n",
        "    model.add_module(str(len(layers)+1), new_activation)\n",
        "\n",
        "    # Unfreeze the new layer\n",
        "    new_layer.requires_grad = True\n",
        "\n",
        "    # Return the model\n",
        "    print(\"=\"*50)\n",
        "    print(\"New structure:\")\n",
        "    print(model.layers)\n",
        "\n",
        "    return model\n"
      ],
      "metadata": {
        "id": "n-NDDiF4FBTE"
      },
      "execution_count": null,
      "outputs": []
    },
    {
      "cell_type": "code",
      "source": [
        "def train_model(model):\n",
        "    # Define loss function and optimizer\n",
        "    criterion = nn.MSELoss()\n",
        "    optimizer = torch.optim.Adam(model.parameters(), lr=3e-5)\n",
        "\n",
        "    # Move model to device\n",
        "    device = torch.device(\"cuda\" if torch.cuda.is_available() else \"cpu\")\n",
        "    model.to(device)\n",
        "\n",
        "    # Iterate over the number of epochs\n",
        "    for epoch in range(num_epochs):\n",
        "        # Set current loss value\n",
        "        running_loss = 0.0\n",
        "\n",
        "        # Iterate over the DataLoader for training data\n",
        "        for i, data in enumerate(train_loader, 0):\n",
        "            # Get inputs\n",
        "            inputs, _ = data\n",
        "            inputs = inputs.to(device)\n",
        "\n",
        "            # Zero the gradients\n",
        "            optimizer.zero_grad()\n",
        "\n",
        "            # Perform forward pass\n",
        "            outputs = model(inputs)\n",
        "\n",
        "            # Compute loss\n",
        "            loss = criterion(outputs, inputs)\n",
        "\n",
        "            # Perform backward pass and optimization\n",
        "            loss.backward()\n",
        "            optimizer.step()\n",
        "\n",
        "            # Print statistics\n",
        "            running_loss += loss.item()\n",
        "\n",
        "        # Compute epoch loss and print it\n",
        "        epoch_loss = running_loss / len(train_loader)\n",
        "        print(f\"Epoch {epoch+1}: {epoch_loss:.6f}\")\n",
        "\n",
        "    # Return trained model and final epoch loss\n",
        "    return model, epoch_loss\n"
      ],
      "metadata": {
        "id": "7jVVpQaiQCpb"
      },
      "execution_count": null,
      "outputs": []
    },
    {
      "cell_type": "code",
      "source": [
        "def greedy_layerwise_training():\n",
        "    \"\"\" Perform greedy layer-wise training. \"\"\"\n",
        "    global_config = get_global_configuration()\n",
        "    torch.manual_seed(42)\n",
        "\n",
        "    # Initialize the model\n",
        "    model = LayerConfigurableAutoencoder()\n",
        "    layer_add_dims = [1200, 728, 512, 128]\n",
        "\n",
        "    # Train the base model\n",
        "    model, base_loss = train_model(model)\n",
        "\n",
        "    # Train models with additional layers\n",
        "    for num_layers in range(1, global_config.get(\"num_layers_to_add\")):\n",
        "        print(\"=\"*100)\n",
        "        print(f\">>> TRAINING THE MODEL WITH {num_layers} ADDITIONAL ENCODER DECODER LAYERS:\")\n",
        "\n",
        "        # Add layer to model\n",
        "        model = add_layer(model, layer_add_dims[num_layers-1])\n",
        "\n",
        "        # Train the model\n",
        "        model, end_loss = train_model(model)\n",
        "\n",
        "        # Compare loss\n",
        "        if end_loss < base_loss:\n",
        "            print(\"=\"*50)\n",
        "            print(f\">>> RESULTS: Adding this layer has improved the model loss from {base_loss} to {end_loss}\")\n",
        "            base_loss = end_loss\n",
        "        else:\n",
        "            print(\"=\"*50)\n",
        "            print(f\">>> RESULTS: Adding this layer did not improve the model loss.\")\n",
        "\n",
        "    # Process is complete\n",
        "    print(\"Training process has finished.\")\n",
        "\n",
        "    return model"
      ],
      "metadata": {
        "id": "mf-9uOGXQcuP"
      },
      "execution_count": null,
      "outputs": []
    },
    {
      "cell_type": "code",
      "source": [
        "greedy_autoencoder = greedy_layerwise_training()"
      ],
      "metadata": {
        "colab": {
          "base_uri": "https://localhost:8080/"
        },
        "id": "jJRfP_gHRdjW",
        "outputId": "b3691e30-d795-49f0-a10d-7b8d11240c93"
      },
      "execution_count": null,
      "outputs": [
        {
          "output_type": "stream",
          "name": "stdout",
          "text": [
            "====================================================================================================\n",
            ">>> TRAINING THE BASE MODEL:\n",
            "Epoch 1: 0.2539008331298828\n",
            "Epoch 2: 0.1734979936480522\n",
            "Epoch 3: 0.1443658095598221\n",
            "Epoch 4: 0.1276245106756687\n",
            "Epoch 5: 0.11793007463216781\n",
            "Epoch 6: 0.11083968684077262\n",
            "Epoch 7: 0.10495283216238022\n",
            "Epoch 8: 0.10003732845187187\n",
            "Epoch 9: 0.09593981266021728\n",
            "Epoch 10: 0.09239505469799042\n",
            "==================================================\n",
            "Old structure:\n",
            "Sequential(\n",
            "  (0): Linear(in_features=27648, out_features=1024, bias=True)\n",
            "  (1): Linear(in_features=1024, out_features=27648, bias=True)\n",
            ")\n",
            "==================================================\n",
            "New structure:\n",
            "Sequential(\n",
            "  (0): Linear(in_features=27648, out_features=1024, bias=True)\n",
            "  (1): ReLU()\n",
            "  (2): Linear(in_features=1024, out_features=1200, bias=True)\n",
            "  (3): Linear(in_features=1200, out_features=1024, bias=True)\n",
            "  (4): ReLU()\n",
            "  (5): Linear(in_features=1024, out_features=27648, bias=True)\n",
            ")\n",
            "====================================================================================================\n",
            ">>> TRAINING THE MODEL WITH 1 ADDITIONAL ENCODER DECODER LAYERS:\n",
            "Epoch 1: 0.2723149639368057\n",
            "Epoch 2: 0.234161097407341\n",
            "Epoch 3: 0.21866608470678328\n",
            "Epoch 4: 0.21003025352954866\n",
            "Epoch 5: 0.20409512668848037\n",
            "Epoch 6: 0.19988645136356353\n",
            "Epoch 7: 0.19694823861122132\n",
            "Epoch 8: 0.19484479546546937\n",
            "Epoch 9: 0.19318676561117173\n",
            "Epoch 10: 0.1919934606552124\n",
            "==================================================\n",
            ">>> RESULTS: Adding this layer did not improve the model loss.\n",
            "==================================================\n",
            "Old structure:\n",
            "Sequential(\n",
            "  (0): Linear(in_features=27648, out_features=1024, bias=True)\n",
            "  (1): ReLU()\n",
            "  (2): Linear(in_features=1024, out_features=1200, bias=True)\n",
            "  (3): Linear(in_features=1200, out_features=1024, bias=True)\n",
            "  (4): ReLU()\n",
            "  (5): Linear(in_features=1024, out_features=27648, bias=True)\n",
            ")\n",
            "==================================================\n",
            "New structure:\n",
            "Sequential(\n",
            "  (0): Linear(in_features=27648, out_features=1024, bias=True)\n",
            "  (1): ReLU()\n",
            "  (2): Linear(in_features=1024, out_features=1200, bias=True)\n",
            "  (3): ReLU()\n",
            "  (4): Linear(in_features=1200, out_features=728, bias=True)\n",
            "  (5): Linear(in_features=728, out_features=1200, bias=True)\n",
            "  (6): ReLU()\n",
            "  (7): Linear(in_features=1200, out_features=1024, bias=True)\n",
            "  (8): ReLU()\n",
            "  (9): Linear(in_features=1024, out_features=27648, bias=True)\n",
            ")\n",
            "====================================================================================================\n",
            ">>> TRAINING THE MODEL WITH 2 ADDITIONAL ENCODER DECODER LAYERS:\n",
            "Epoch 1: 0.278534023463726\n",
            "Epoch 2: 0.24614866971969604\n",
            "Epoch 3: 0.23064216256141662\n",
            "Epoch 4: 0.22247038781642914\n",
            "Epoch 5: 0.2168389481306076\n",
            "Epoch 6: 0.21264121323823928\n",
            "Epoch 7: 0.20970728904008865\n",
            "Epoch 8: 0.20751371383666992\n",
            "Epoch 9: 0.20586677104234696\n",
            "Epoch 10: 0.20449569523334504\n",
            "==================================================\n",
            ">>> RESULTS: Adding this layer did not improve the model loss.\n",
            "==================================================\n",
            "Old structure:\n",
            "Sequential(\n",
            "  (0): Linear(in_features=27648, out_features=1024, bias=True)\n",
            "  (1): ReLU()\n",
            "  (2): Linear(in_features=1024, out_features=1200, bias=True)\n",
            "  (3): ReLU()\n",
            "  (4): Linear(in_features=1200, out_features=728, bias=True)\n",
            "  (5): Linear(in_features=728, out_features=1200, bias=True)\n",
            "  (6): ReLU()\n",
            "  (7): Linear(in_features=1200, out_features=1024, bias=True)\n",
            "  (8): ReLU()\n",
            "  (9): Linear(in_features=1024, out_features=27648, bias=True)\n",
            ")\n",
            "==================================================\n",
            "New structure:\n",
            "Sequential(\n",
            "  (0): Linear(in_features=27648, out_features=1024, bias=True)\n",
            "  (1): ReLU()\n",
            "  (2): Linear(in_features=1024, out_features=1200, bias=True)\n",
            "  (3): ReLU()\n",
            "  (4): Linear(in_features=1200, out_features=728, bias=True)\n",
            "  (5): ReLU()\n",
            "  (6): Linear(in_features=728, out_features=512, bias=True)\n",
            "  (7): Linear(in_features=512, out_features=728, bias=True)\n",
            "  (8): ReLU()\n",
            "  (9): Linear(in_features=728, out_features=1200, bias=True)\n",
            "  (10): ReLU()\n",
            "  (11): Linear(in_features=1200, out_features=1024, bias=True)\n",
            "  (12): ReLU()\n",
            "  (13): Linear(in_features=1024, out_features=27648, bias=True)\n",
            ")\n",
            "====================================================================================================\n",
            ">>> TRAINING THE MODEL WITH 3 ADDITIONAL ENCODER DECODER LAYERS:\n",
            "Epoch 1: 0.28554698944091794\n",
            "Epoch 2: 0.2618279051780701\n",
            "Epoch 3: 0.24521242588758468\n",
            "Epoch 4: 0.23593151658773423\n",
            "Epoch 5: 0.23010257691144942\n",
            "Epoch 6: 0.2262519735097885\n",
            "Epoch 7: 0.22339648723602296\n",
            "Epoch 8: 0.22105413675308228\n",
            "Epoch 9: 0.21900406777858733\n",
            "Epoch 10: 0.21740367889404297\n",
            "==================================================\n",
            ">>> RESULTS: Adding this layer did not improve the model loss.\n",
            "==================================================\n",
            "Old structure:\n",
            "Sequential(\n",
            "  (0): Linear(in_features=27648, out_features=1024, bias=True)\n",
            "  (1): ReLU()\n",
            "  (2): Linear(in_features=1024, out_features=1200, bias=True)\n",
            "  (3): ReLU()\n",
            "  (4): Linear(in_features=1200, out_features=728, bias=True)\n",
            "  (5): ReLU()\n",
            "  (6): Linear(in_features=728, out_features=512, bias=True)\n",
            "  (7): Linear(in_features=512, out_features=728, bias=True)\n",
            "  (8): ReLU()\n",
            "  (9): Linear(in_features=728, out_features=1200, bias=True)\n",
            "  (10): ReLU()\n",
            "  (11): Linear(in_features=1200, out_features=1024, bias=True)\n",
            "  (12): ReLU()\n",
            "  (13): Linear(in_features=1024, out_features=27648, bias=True)\n",
            ")\n",
            "==================================================\n",
            "New structure:\n",
            "Sequential(\n",
            "  (0): Linear(in_features=27648, out_features=1024, bias=True)\n",
            "  (1): ReLU()\n",
            "  (2): Linear(in_features=1024, out_features=1200, bias=True)\n",
            "  (3): ReLU()\n",
            "  (4): Linear(in_features=1200, out_features=728, bias=True)\n",
            "  (5): ReLU()\n",
            "  (6): Linear(in_features=728, out_features=512, bias=True)\n",
            "  (7): ReLU()\n",
            "  (8): Linear(in_features=512, out_features=128, bias=True)\n",
            "  (9): Linear(in_features=128, out_features=512, bias=True)\n",
            "  (10): ReLU()\n",
            "  (11): Linear(in_features=512, out_features=728, bias=True)\n",
            "  (12): ReLU()\n",
            "  (13): Linear(in_features=728, out_features=1200, bias=True)\n",
            "  (14): ReLU()\n",
            "  (15): Linear(in_features=1200, out_features=1024, bias=True)\n",
            "  (16): ReLU()\n",
            "  (17): Linear(in_features=1024, out_features=27648, bias=True)\n",
            ")\n",
            "Training process has finished.\n"
          ]
        }
      ]
    },
    {
      "cell_type": "code",
      "source": [
        "import copy\n",
        "\n",
        "copy_model = copy.deepcopy(greedy_autoencoder)"
      ],
      "metadata": {
        "id": "ObUDjByfWl4z"
      },
      "execution_count": null,
      "outputs": []
    },
    {
      "cell_type": "code",
      "source": [
        "greedy_autoencoder.layers"
      ],
      "metadata": {
        "colab": {
          "base_uri": "https://localhost:8080/"
        },
        "id": "EkTadUQ9jcqt",
        "outputId": "706eff3f-03a2-4b3f-f413-1ecfd7639664"
      },
      "execution_count": null,
      "outputs": [
        {
          "output_type": "execute_result",
          "data": {
            "text/plain": [
              "Sequential(\n",
              "  (0): Linear(in_features=27648, out_features=1024, bias=True)\n",
              "  (1): ReLU()\n",
              "  (2): Linear(in_features=1024, out_features=1200, bias=True)\n",
              "  (3): ReLU()\n",
              "  (4): Linear(in_features=1200, out_features=728, bias=True)\n",
              "  (5): ReLU()\n",
              "  (6): Linear(in_features=728, out_features=512, bias=True)\n",
              "  (7): ReLU()\n",
              "  (8): Linear(in_features=512, out_features=128, bias=True)\n",
              "  (9): Linear(in_features=128, out_features=512, bias=True)\n",
              "  (10): ReLU()\n",
              "  (11): Linear(in_features=512, out_features=728, bias=True)\n",
              "  (12): ReLU()\n",
              "  (13): Linear(in_features=728, out_features=1200, bias=True)\n",
              "  (14): ReLU()\n",
              "  (15): Linear(in_features=1200, out_features=1024, bias=True)\n",
              "  (16): ReLU()\n",
              "  (17): Linear(in_features=1024, out_features=27648, bias=True)\n",
              ")"
            ]
          },
          "metadata": {},
          "execution_count": 33
        }
      ]
    },
    {
      "cell_type": "code",
      "source": [
        "# Define the classifier architecture\n",
        "class Classifier(nn.Module):\n",
        "    def __init__(self, pretrained_model):\n",
        "      super(Classifier, self).__init__()\n",
        "      self.layers = nn.ModuleList()\n",
        "      # Add the layers to the classifier\n",
        "      for i, layer in enumerate(pretrained_model.layers):\n",
        "        if i < 9:\n",
        "          self.layers.append(layer)\n",
        "        else:\n",
        "          break\n",
        "          \n",
        "      # Add Classification Layers\n",
        "      self.layers.append(nn.Linear(128, 64))\n",
        "      self.layers.append(nn.ReLU())\n",
        "      self.layers.append(nn.Linear(64, 10))\n",
        "        \n",
        "    def forward(self, x):\n",
        "      for layer in self.layers:\n",
        "        x = layer(x)\n",
        "      return x"
      ],
      "metadata": {
        "id": "boFHG60njlPt"
      },
      "execution_count": null,
      "outputs": []
    },
    {
      "cell_type": "code",
      "source": [
        "def train_classifer(model, dataloader, criterion, optimizer, scheduler, device):\n",
        "    model.train()\n",
        "    running_loss = 0.0\n",
        "    running_corrects_top1 = 0\n",
        "    running_corrects_top5 = 0\n",
        "\n",
        "    for inputs, labels in dataloader:\n",
        "        inputs = inputs.to(device)\n",
        "        labels = labels.to(device)\n",
        "\n",
        "        optimizer.zero_grad()\n",
        "\n",
        "        with torch.set_grad_enabled(True):\n",
        "            outputs = model(inputs)\n",
        "            loss = criterion(outputs, labels)\n",
        "            _, preds = torch.topk(outputs, k=5, dim=1)\n",
        "            loss.backward()\n",
        "            optimizer.step()\n",
        "\n",
        "        running_loss += loss.item() * inputs.size(0)\n",
        "        running_corrects_top1 += torch.sum(preds[:, 0] == labels)\n",
        "        running_corrects_top5 += torch.sum(preds == labels.unsqueeze(1))\n",
        "\n",
        "    epoch_loss = running_loss / len(dataloader.dataset)\n",
        "    epoch_acc_top1 = running_corrects_top1.double() / len(dataloader.dataset)\n",
        "    epoch_acc_top5 = running_corrects_top5.double() / len(dataloader.dataset)\n",
        "    \n",
        "    scheduler.step()\n",
        "\n",
        "    return epoch_loss, epoch_acc_top1, epoch_acc_top5\n",
        "\n",
        "\n",
        "def test(model, dataloader, criterion, device):\n",
        "    model.eval()\n",
        "    running_loss = 0.0\n",
        "    running_corrects_top1 = 0\n",
        "    running_corrects_top5 = 0\n",
        "\n",
        "    with torch.no_grad():\n",
        "        for inputs, labels in dataloader:\n",
        "            inputs = inputs.to(device)\n",
        "            labels = labels.to(device)\n",
        "\n",
        "            outputs = model(inputs)\n",
        "            loss = criterion(outputs, labels)\n",
        "            _, preds = torch.topk(outputs, k=5, dim=1)\n",
        "\n",
        "            running_loss += loss.item() * inputs.size(0)\n",
        "            running_corrects_top1 += torch.sum(preds[:, 0] == labels)\n",
        "            running_corrects_top5 += torch.sum(preds == labels.unsqueeze(1))\n",
        "\n",
        "    epoch_loss = running_loss / len(dataloader.dataset)\n",
        "    epoch_acc_top1 = running_corrects_top1.double() / len(dataloader.dataset)\n",
        "    epoch_acc_top5 = running_corrects_top5.double() / len(dataloader.dataset)\n",
        "\n",
        "    return epoch_loss, epoch_acc_top1, epoch_acc_top5\n"
      ],
      "metadata": {
        "id": "ov7rGW4BlikA"
      },
      "execution_count": null,
      "outputs": []
    },
    {
      "cell_type": "code",
      "source": [
        "torch.manual_seed(RANDOM_SEED)\n",
        "\n",
        "model_classifier = Classifier(greedy_autoencoder)\n",
        "\n",
        "for layer in model_classifier.layers:\n",
        "  # For all linear layers, set all parameters to trainable\n",
        "  if isinstance(layer, nn.Linear):\n",
        "    for param in layer.parameters():\n",
        "      param.requires_grad = True\n",
        "      \n",
        "criterion = nn.CrossEntropyLoss()\n",
        "learning_rate = 3e-5\n",
        "optimizer = optim.Adam(model_classifier.parameters(), lr=learning_rate)\n",
        "\n",
        "exp_lr_scheduler = lr_scheduler.StepLR(optimizer, step_size=7, gamma=0.1)"
      ],
      "metadata": {
        "id": "alEZbDmxmtbm"
      },
      "execution_count": null,
      "outputs": []
    },
    {
      "cell_type": "code",
      "source": [
        "model_classifier"
      ],
      "metadata": {
        "id": "Jg8--0RhnKdU",
        "colab": {
          "base_uri": "https://localhost:8080/"
        },
        "outputId": "2dcd59da-14ce-4116-fa29-ceffb01bb448"
      },
      "execution_count": null,
      "outputs": [
        {
          "output_type": "execute_result",
          "data": {
            "text/plain": [
              "Classifier(\n",
              "  (layers): ModuleList(\n",
              "    (0): Linear(in_features=27648, out_features=1024, bias=True)\n",
              "    (1): ReLU()\n",
              "    (2): Linear(in_features=1024, out_features=1200, bias=True)\n",
              "    (3): ReLU()\n",
              "    (4): Linear(in_features=1200, out_features=728, bias=True)\n",
              "    (5): ReLU()\n",
              "    (6): Linear(in_features=728, out_features=512, bias=True)\n",
              "    (7): ReLU()\n",
              "    (8): Linear(in_features=512, out_features=128, bias=True)\n",
              "    (9): Linear(in_features=128, out_features=64, bias=True)\n",
              "    (10): ReLU()\n",
              "    (11): Linear(in_features=64, out_features=10, bias=True)\n",
              "  )\n",
              ")"
            ]
          },
          "metadata": {},
          "execution_count": 40
        }
      ]
    },
    {
      "cell_type": "code",
      "source": [
        "#Train\n",
        "model_classifier_trained, train_loss, test_loss, train_acc_top1, test_acc_top1, train_acc_top5, test_acc_top5  = train_classifier(model_classifier, dataloaders, dataset_sizes, criterion, optimizer, exp_lr_scheduler, DEVICE, NUM_EPOCHS)"
      ],
      "metadata": {
        "id": "gEzzx2eXnL14",
        "colab": {
          "base_uri": "https://localhost:8080/",
          "height": 1000
        },
        "outputId": "06d1502d-cd1e-45a2-ba62-9edc3fcf64e7"
      },
      "execution_count": null,
      "outputs": [
        {
          "output_type": "display_data",
          "data": {
            "text/plain": [
              "<Figure size 864x864 with 4 Axes>"
            ],
            "image/png": "[encoded data removed]"
          },
          "metadata": {
            "needs_background": "light"
          }
        },
        {
          "output_type": "stream",
          "name": "stdout",
          "text": [
            "Top-1 accuracy\n",
            "\ttraining         \t (min:    0.204, max:    0.462, cur:    0.462)\n",
            "\tvalidation       \t (min:    0.276, max:    0.398, cur:    0.398)\n",
            "Top-5 accuracy\n",
            "\ttraining         \t (min:    0.681, max:    0.908, cur:    0.907)\n",
            "\tvalidation       \t (min:    0.781, max:    0.882, cur:    0.879)\n",
            "Loss\n",
            "\ttraining         \t (min:    1.486, max:    2.162, cur:    1.486)\n",
            "\tvalidation       \t (min:    1.626, max:    1.955, cur:    1.626)\n",
            "Train Loss: 1.4859 Top-1 Acc: 0.4622 Top-5 Acc: 0.9070\n",
            "Val Loss: 1.6260 Top-1 Acc: 0.3979 Top-5 Acc: 0.8794\n",
            "Best Val Top-5 Accuracy: 0.882375\n",
            "\n",
            "Training complete in 1m 40s\n",
            "Best val Top-5 Acc: 0.882375\n"
          ]
        }
      ]
    },
    {
      "cell_type": "code",
      "source": [
        "epochs = [x for x in range(1, 11)]\n",
        "\n",
        "fig, axs = plt.subplots(1, 3, figsize=(15,5))\n",
        "axs[0].plot(epochs, train_loss, label='Train Loss')\n",
        "axs[0].plot(epochs, test_loss, label='Test Loss')\n",
        "axs[0].set_title('Train v/s Test loss')\n",
        "axs[0].legend()\n",
        "\n",
        "axs[1].plot(epochs, train_acc_top1, label='Train Top-1 Acc')\n",
        "axs[1].plot(epochs, test_acc_top1, label='Test Top-1 Acc')\n",
        "axs[1].set_title('Train v/s Test Top-1 accuracy')\n",
        "axs[1].legend()\n",
        "\n",
        "axs[2].plot(epochs, train_acc_top5, label='Train Top-5 Acc')\n",
        "axs[2].plot(epochs, test_acc_top5, label='Test Top-5 Acc')\n",
        "axs[2].set_title('Train v/s Test Top-5 accuracy')\n",
        "axs[2].legend()\n",
        "\n",
        "fig.suptitle('Classifier with Adam (lr = 3e-4)', fontsize = 15)\n",
        "plt.show()\n"
      ],
      "metadata": {
        "id": "-C12WppknUO2",
        "colab": {
          "base_uri": "https://localhost:8080/",
          "height": 356
        },
        "outputId": "49032573-3460-4c54-e628-cbaf9f69ac6f"
      },
      "execution_count": null,
      "outputs": [
        {
          "output_type": "display_data",
          "data": {
            "text/plain": [
              "<Figure size 1080x360 with 3 Axes>"
            ],
            "image/png": "[encoded data removed]"
          },
          "metadata": {
            "needs_background": "light"
          }
        }
      ]
    },
    {
      "cell_type": "code",
      "source": [
        "from sklearn.metrics import classification_report"
      ],
      "metadata": {
        "id": "MZMfdD1Xs5Vq"
      },
      "execution_count": null,
      "outputs": []
    },
    {
      "cell_type": "code",
      "source": [
        "def evaluate(model, test_loader):\n",
        "    model.eval()  # set the model to evaluation mode\n",
        "    y_true = []\n",
        "    y_pred = []\n",
        "\n",
        "    with torch.no_grad():\n",
        "        for images, labels in test_loader:\n",
        "            images = images.view(-1, 3*96*96)\n",
        "            images, labels = images.to(DEVICE), labels.to(DEVICE)\n",
        "            outputs = model(images)\n",
        "            _, predicted = torch.max(outputs, dim=1)\n",
        "            y_true.append(labels.cpu().numpy())\n",
        "            y_pred.append(predicted.cpu().numpy())\n",
        "\n",
        "    y_true = np.concatenate(y_true)\n",
        "    y_pred = np.concatenate(y_pred)\n",
        "\n",
        "    classwise_accuracy = []\n",
        "    for i in range(10):\n",
        "        indices = np.where(y_true == i)[0]\n",
        "        accuracy = np.mean(y_pred[indices] == y_true[indices])\n",
        "        classwise_accuracy.append(accuracy)\n",
        "\n",
        "    print(\"Classwise Accuracies:\")\n",
        "    for i, accuracy in enumerate(classwise_accuracy):\n",
        "        print(f\"Class {i}: {accuracy}\")\n",
        "\n",
        "    print(\"\\nClassification Report:\")\n",
        "    print(classification_report(y_true, y_pred))\n",
        "\n",
        "evaluate(model_classifier, test_loader)"
      ],
      "metadata": {
        "id": "86VSMP02o3ux",
        "colab": {
          "base_uri": "https://localhost:8080/"
        },
        "outputId": "64f1050b-c22b-4ba9-d515-a8bf091e3883"
      },
      "execution_count": null,
      "outputs": [
        {
          "output_type": "stream",
          "name": "stdout",
          "text": [
            "Classwise Accuracies:\n",
            "Class 0: 0.54375\n",
            "Class 1: 0.29625\n",
            "Class 2: 0.61625\n",
            "Class 3: 0.185\n",
            "Class 4: 0.37375\n",
            "Class 5: 0.14375\n",
            "Class 6: 0.42125\n",
            "Class 7: 0.3875\n",
            "Class 8: 0.59125\n",
            "Class 9: 0.38125\n",
            "\n",
            "Classfication Report:\n",
            "              precision    recall  f1-score   support\n",
            "\n",
            "           0       0.59      0.54      0.57       800\n",
            "           1       0.33      0.30      0.31       800\n",
            "           2       0.49      0.62      0.55       800\n",
            "           3       0.23      0.18      0.21       800\n",
            "           4       0.32      0.37      0.34       800\n",
            "           5       0.22      0.14      0.17       800\n",
            "           6       0.37      0.42      0.39       800\n",
            "           7       0.31      0.39      0.35       800\n",
            "           8       0.58      0.59      0.58       800\n",
            "           9       0.43      0.38      0.40       800\n",
            "\n",
            "    accuracy                           0.39      8000\n",
            "   macro avg       0.39      0.39      0.39      8000\n",
            "weighted avg       0.39      0.39      0.39      8000\n",
            "\n"
          ]
        }
      ]
    },
    {
      "cell_type": "markdown",
      "source": [
        "Using Hook to get output of a particular layer"
      ],
      "metadata": {
        "id": "LQDEB1-twbrZ"
      }
    },
    {
      "cell_type": "code",
      "source": [
        "model_classifier.layers[6]"
      ],
      "metadata": {
        "id": "0eW_vgw8s9he",
        "colab": {
          "base_uri": "https://localhost:8080/"
        },
        "outputId": "7f94cc12-522d-4373-d340-3587c573991a"
      },
      "execution_count": null,
      "outputs": [
        {
          "output_type": "execute_result",
          "data": {
            "text/plain": [
              "Linear(in_features=728, out_features=512, bias=True)"
            ]
          },
          "metadata": {},
          "execution_count": 45
        }
      ]
    },
    {
      "cell_type": "code",
      "source": [],
      "metadata": {
        "id": "uacbAfct5XVk"
      },
      "execution_count": null,
      "outputs": []
    },
    {
      "cell_type": "code",
      "source": [
        "# define a list to store the outputs of the desired layer\n",
        "\n",
        "# define a function that will be called when the desired layer is evaluated\n",
        "embeddings = []\n",
        "def get_layer_outputs(module, input, output):\n",
        "    # print(output.shape)\n",
        "    embeddings.append(output)\n",
        "\n",
        "# register the forward hook for the desired layer\n",
        "hook_handle = model_classifier.layers[6].register_forward_hook(get_layer_outputs)\n",
        "\n",
        "lt_embed = []\n",
        "lt_lb = []\n",
        "with torch.no_grad():\n",
        "  model_classifier.eval()\n",
        "  for images, labels in test_loader:\n",
        "    embeddings = []\n",
        "    # move the data to the GPU if available\n",
        "    images = images.to(DEVICE)\n",
        "    images = images.view(-1, 3*96*96)\n",
        "    # forward pass\n",
        "    outputs = model_classifier(images)\n",
        "\n",
        "    # for tsne plots - 6th Layer outputs\n",
        "    # break\n",
        "    lt_embed.append(torch.from_numpy(embeddings[6]))\n",
        "    lt_lb.append(labels)\n",
        "    print(type(embeddings[6]))\n",
        "    print(embeddings[6].shape)\n",
        "    print(\"\\n\\n\\n\\n\")\n",
        "\n",
        "embed_tensor = torch.cat(lt_embed)\n",
        "label_tensor = torch.cat(lt_lb)\n",
        "\n",
        "# remove the hook\n",
        "hook_handle.remove()"
      ],
      "metadata": {
        "colab": {
          "base_uri": "https://localhost:8080/"
        },
        "id": "CSbUX7Dxwpaq",
        "outputId": "8883d12b-e914-4443-dd15-c8222c13ee60"
      },
      "execution_count": null,
      "outputs": [
        {
          "output_type": "stream",
          "name": "stdout",
          "text": [
            "torch.Size([100, 512])\n",
            "torch.Size([100, 512])\n",
            "<class 'numpy.ndarray'>\n",
            "(100, 512)\n",
            "\n",
            "\n",
            "\n",
            "\n",
            "\n",
            "torch.Size([100, 512])\n",
            "torch.Size([100, 512])\n",
            "<class 'numpy.ndarray'>\n",
            "(100, 512)\n",
            "\n",
            "\n",
            "\n",
            "\n",
            "\n",
            "torch.Size([100, 512])\n",
            "torch.Size([100, 512])\n",
            "<class 'numpy.ndarray'>\n",
            "(100, 512)\n",
            "\n",
            "\n",
            "\n",
            "\n",
            "\n",
            "torch.Size([100, 512])\n",
            "torch.Size([100, 512])\n",
            "<class 'numpy.ndarray'>\n",
            "(100, 512)\n",
            "\n",
            "\n",
            "\n",
            "\n",
            "\n",
            "torch.Size([100, 512])\n",
            "torch.Size([100, 512])\n",
            "<class 'numpy.ndarray'>\n",
            "(100, 512)\n",
            "\n",
            "\n",
            "\n",
            "\n",
            "\n",
            "torch.Size([100, 512])\n",
            "torch.Size([100, 512])\n",
            "<class 'numpy.ndarray'>\n",
            "(100, 512)\n",
            "\n",
            "\n",
            "\n",
            "\n",
            "\n",
            "torch.Size([100, 512])\n",
            "torch.Size([100, 512])\n",
            "<class 'numpy.ndarray'>\n",
            "(100, 512)\n",
            "\n",
            "\n",
            "\n",
            "\n",
            "\n",
            "torch.Size([100, 512])\n",
            "torch.Size([100, 512])\n",
            "<class 'numpy.ndarray'>\n",
            "(100, 512)\n",
            "\n",
            "\n",
            "\n",
            "\n",
            "\n",
            "torch.Size([100, 512])\n",
            "torch.Size([100, 512])\n",
            "<class 'numpy.ndarray'>\n",
            "(100, 512)\n",
            "\n",
            "\n",
            "\n",
            "\n",
            "\n",
            "torch.Size([100, 512])\n",
            "torch.Size([100, 512])\n",
            "<class 'numpy.ndarray'>\n",
            "(100, 512)\n",
            "\n",
            "\n",
            "\n",
            "\n",
            "\n",
            "torch.Size([100, 512])\n",
            "torch.Size([100, 512])\n",
            "<class 'numpy.ndarray'>\n",
            "(100, 512)\n",
            "\n",
            "\n",
            "\n",
            "\n",
            "\n",
            "torch.Size([100, 512])\n",
            "torch.Size([100, 512])\n",
            "<class 'numpy.ndarray'>\n",
            "(100, 512)\n",
            "\n",
            "\n",
            "\n",
            "\n",
            "\n",
            "torch.Size([100, 512])\n",
            "torch.Size([100, 512])\n",
            "<class 'numpy.ndarray'>\n",
            "(100, 512)\n",
            "\n",
            "\n",
            "\n",
            "\n",
            "\n",
            "torch.Size([100, 512])\n",
            "torch.Size([100, 512])\n",
            "<class 'numpy.ndarray'>\n",
            "(100, 512)\n",
            "\n",
            "\n",
            "\n",
            "\n",
            "\n",
            "torch.Size([100, 512])\n",
            "torch.Size([100, 512])\n",
            "<class 'numpy.ndarray'>\n",
            "(100, 512)\n",
            "\n",
            "\n",
            "\n",
            "\n",
            "\n",
            "torch.Size([100, 512])\n",
            "torch.Size([100, 512])\n",
            "<class 'numpy.ndarray'>\n",
            "(100, 512)\n",
            "\n",
            "\n",
            "\n",
            "\n",
            "\n",
            "torch.Size([100, 512])\n",
            "torch.Size([100, 512])\n",
            "<class 'numpy.ndarray'>\n",
            "(100, 512)\n",
            "\n",
            "\n",
            "\n",
            "\n",
            "\n",
            "torch.Size([100, 512])\n",
            "torch.Size([100, 512])\n",
            "<class 'numpy.ndarray'>\n",
            "(100, 512)\n",
            "\n",
            "\n",
            "\n",
            "\n",
            "\n",
            "torch.Size([100, 512])\n",
            "torch.Size([100, 512])\n",
            "<class 'numpy.ndarray'>\n",
            "(100, 512)\n",
            "\n",
            "\n",
            "\n",
            "\n",
            "\n",
            "torch.Size([100, 512])\n",
            "torch.Size([100, 512])\n",
            "<class 'numpy.ndarray'>\n",
            "(100, 512)\n",
            "\n",
            "\n",
            "\n",
            "\n",
            "\n",
            "torch.Size([100, 512])\n",
            "torch.Size([100, 512])\n",
            "<class 'numpy.ndarray'>\n",
            "(100, 512)\n",
            "\n",
            "\n",
            "\n",
            "\n",
            "\n",
            "torch.Size([100, 512])\n",
            "torch.Size([100, 512])\n",
            "<class 'numpy.ndarray'>\n",
            "(100, 512)\n",
            "\n",
            "\n",
            "\n",
            "\n",
            "\n",
            "torch.Size([100, 512])\n",
            "torch.Size([100, 512])\n",
            "<class 'numpy.ndarray'>\n",
            "(100, 512)\n",
            "\n",
            "\n",
            "\n",
            "\n",
            "\n",
            "torch.Size([100, 512])\n",
            "torch.Size([100, 512])\n",
            "<class 'numpy.ndarray'>\n",
            "(100, 512)\n",
            "\n",
            "\n",
            "\n",
            "\n",
            "\n",
            "torch.Size([100, 512])\n",
            "torch.Size([100, 512])\n",
            "<class 'numpy.ndarray'>\n",
            "(100, 512)\n",
            "\n",
            "\n",
            "\n",
            "\n",
            "\n",
            "torch.Size([100, 512])\n",
            "torch.Size([100, 512])\n",
            "<class 'numpy.ndarray'>\n",
            "(100, 512)\n",
            "\n",
            "\n",
            "\n",
            "\n",
            "\n",
            "torch.Size([100, 512])\n",
            "torch.Size([100, 512])\n",
            "<class 'numpy.ndarray'>\n",
            "(100, 512)\n",
            "\n",
            "\n",
            "\n",
            "\n",
            "\n",
            "torch.Size([100, 512])\n",
            "torch.Size([100, 512])\n",
            "<class 'numpy.ndarray'>\n",
            "(100, 512)\n",
            "\n",
            "\n",
            "\n",
            "\n",
            "\n",
            "torch.Size([100, 512])\n",
            "torch.Size([100, 512])\n",
            "<class 'numpy.ndarray'>\n",
            "(100, 512)\n",
            "\n",
            "\n",
            "\n",
            "\n",
            "\n",
            "torch.Size([100, 512])\n",
            "torch.Size([100, 512])\n",
            "<class 'numpy.ndarray'>\n",
            "(100, 512)\n",
            "\n",
            "\n",
            "\n",
            "\n",
            "\n",
            "torch.Size([100, 512])\n",
            "torch.Size([100, 512])\n",
            "<class 'numpy.ndarray'>\n",
            "(100, 512)\n",
            "\n",
            "\n",
            "\n",
            "\n",
            "\n",
            "torch.Size([100, 512])\n",
            "torch.Size([100, 512])\n",
            "<class 'numpy.ndarray'>\n",
            "(100, 512)\n",
            "\n",
            "\n",
            "\n",
            "\n",
            "\n",
            "torch.Size([100, 512])\n",
            "torch.Size([100, 512])\n",
            "<class 'numpy.ndarray'>\n",
            "(100, 512)\n",
            "\n",
            "\n",
            "\n",
            "\n",
            "\n",
            "torch.Size([100, 512])\n",
            "torch.Size([100, 512])\n",
            "<class 'numpy.ndarray'>\n",
            "(100, 512)\n",
            "\n",
            "\n",
            "\n",
            "\n",
            "\n",
            "torch.Size([100, 512])\n",
            "torch.Size([100, 512])\n",
            "<class 'numpy.ndarray'>\n",
            "(100, 512)\n",
            "\n",
            "\n",
            "\n",
            "\n",
            "\n",
            "torch.Size([100, 512])\n",
            "torch.Size([100, 512])\n",
            "<class 'numpy.ndarray'>\n",
            "(100, 512)\n",
            "\n",
            "\n",
            "\n",
            "\n",
            "\n",
            "torch.Size([100, 512])\n",
            "torch.Size([100, 512])\n",
            "<class 'numpy.ndarray'>\n",
            "(100, 512)\n",
            "\n",
            "\n",
            "\n",
            "\n",
            "\n",
            "torch.Size([100, 512])\n",
            "torch.Size([100, 512])\n",
            "<class 'numpy.ndarray'>\n",
            "(100, 512)\n",
            "\n",
            "\n",
            "\n",
            "\n",
            "\n",
            "torch.Size([100, 512])\n",
            "torch.Size([100, 512])\n",
            "<class 'numpy.ndarray'>\n",
            "(100, 512)\n",
            "\n",
            "\n",
            "\n",
            "\n",
            "\n",
            "torch.Size([100, 512])\n",
            "torch.Size([100, 512])\n",
            "<class 'numpy.ndarray'>\n",
            "(100, 512)\n",
            "\n",
            "\n",
            "\n",
            "\n",
            "\n",
            "torch.Size([100, 512])\n",
            "torch.Size([100, 512])\n",
            "<class 'numpy.ndarray'>\n",
            "(100, 512)\n",
            "\n",
            "\n",
            "\n",
            "\n",
            "\n",
            "torch.Size([100, 512])\n",
            "torch.Size([100, 512])\n",
            "<class 'numpy.ndarray'>\n",
            "(100, 512)\n",
            "\n",
            "\n",
            "\n",
            "\n",
            "\n",
            "torch.Size([100, 512])\n",
            "torch.Size([100, 512])\n",
            "<class 'numpy.ndarray'>\n",
            "(100, 512)\n",
            "\n",
            "\n",
            "\n",
            "\n",
            "\n",
            "torch.Size([100, 512])\n",
            "torch.Size([100, 512])\n",
            "<class 'numpy.ndarray'>\n",
            "(100, 512)\n",
            "\n",
            "\n",
            "\n",
            "\n",
            "\n",
            "torch.Size([100, 512])\n",
            "torch.Size([100, 512])\n",
            "<class 'numpy.ndarray'>\n",
            "(100, 512)\n",
            "\n",
            "\n",
            "\n",
            "\n",
            "\n",
            "torch.Size([100, 512])\n",
            "torch.Size([100, 512])\n",
            "<class 'numpy.ndarray'>\n",
            "(100, 512)\n",
            "\n",
            "\n",
            "\n",
            "\n",
            "\n",
            "torch.Size([100, 512])\n",
            "torch.Size([100, 512])\n",
            "<class 'numpy.ndarray'>\n",
            "(100, 512)\n",
            "\n",
            "\n",
            "\n",
            "\n",
            "\n",
            "torch.Size([100, 512])\n",
            "torch.Size([100, 512])\n",
            "<class 'numpy.ndarray'>\n",
            "(100, 512)\n",
            "\n",
            "\n",
            "\n",
            "\n",
            "\n",
            "torch.Size([100, 512])\n",
            "torch.Size([100, 512])\n",
            "<class 'numpy.ndarray'>\n",
            "(100, 512)\n",
            "\n",
            "\n",
            "\n",
            "\n",
            "\n",
            "torch.Size([100, 512])\n",
            "torch.Size([100, 512])\n",
            "<class 'numpy.ndarray'>\n",
            "(100, 512)\n",
            "\n",
            "\n",
            "\n",
            "\n",
            "\n",
            "torch.Size([100, 512])\n",
            "torch.Size([100, 512])\n",
            "<class 'numpy.ndarray'>\n",
            "(100, 512)\n",
            "\n",
            "\n",
            "\n",
            "\n",
            "\n",
            "torch.Size([100, 512])\n",
            "torch.Size([100, 512])\n",
            "<class 'numpy.ndarray'>\n",
            "(100, 512)\n",
            "\n",
            "\n",
            "\n",
            "\n",
            "\n",
            "torch.Size([100, 512])\n",
            "torch.Size([100, 512])\n",
            "<class 'numpy.ndarray'>\n",
            "(100, 512)\n",
            "\n",
            "\n",
            "\n",
            "\n",
            "\n",
            "torch.Size([100, 512])\n",
            "torch.Size([100, 512])\n",
            "<class 'numpy.ndarray'>\n",
            "(100, 512)\n",
            "\n",
            "\n",
            "\n",
            "\n",
            "\n",
            "torch.Size([100, 512])\n",
            "torch.Size([100, 512])\n",
            "<class 'numpy.ndarray'>\n",
            "(100, 512)\n",
            "\n",
            "\n",
            "\n",
            "\n",
            "\n",
            "torch.Size([100, 512])\n",
            "torch.Size([100, 512])\n",
            "<class 'numpy.ndarray'>\n",
            "(100, 512)\n",
            "\n",
            "\n",
            "\n",
            "\n",
            "\n",
            "torch.Size([100, 512])\n",
            "torch.Size([100, 512])\n",
            "<class 'numpy.ndarray'>\n",
            "(100, 512)\n",
            "\n",
            "\n",
            "\n",
            "\n",
            "\n",
            "torch.Size([100, 512])\n",
            "torch.Size([100, 512])\n",
            "<class 'numpy.ndarray'>\n",
            "(100, 512)\n",
            "\n",
            "\n",
            "\n",
            "\n",
            "\n",
            "torch.Size([100, 512])\n",
            "torch.Size([100, 512])\n",
            "<class 'numpy.ndarray'>\n",
            "(100, 512)\n",
            "\n",
            "\n",
            "\n",
            "\n",
            "\n",
            "torch.Size([100, 512])\n",
            "torch.Size([100, 512])\n",
            "<class 'numpy.ndarray'>\n",
            "(100, 512)\n",
            "\n",
            "\n",
            "\n",
            "\n",
            "\n",
            "torch.Size([100, 512])\n",
            "torch.Size([100, 512])\n",
            "<class 'numpy.ndarray'>\n",
            "(100, 512)\n",
            "\n",
            "\n",
            "\n",
            "\n",
            "\n",
            "torch.Size([100, 512])\n",
            "torch.Size([100, 512])\n",
            "<class 'numpy.ndarray'>\n",
            "(100, 512)\n",
            "\n",
            "\n",
            "\n",
            "\n",
            "\n",
            "torch.Size([100, 512])\n",
            "torch.Size([100, 512])\n",
            "<class 'numpy.ndarray'>\n",
            "(100, 512)\n",
            "\n",
            "\n",
            "\n",
            "\n",
            "\n",
            "torch.Size([100, 512])\n",
            "torch.Size([100, 512])\n",
            "<class 'numpy.ndarray'>\n",
            "(100, 512)\n",
            "\n",
            "\n",
            "\n",
            "\n",
            "\n",
            "torch.Size([100, 512])\n",
            "torch.Size([100, 512])\n",
            "<class 'numpy.ndarray'>\n",
            "(100, 512)\n",
            "\n",
            "\n",
            "\n",
            "\n",
            "\n",
            "torch.Size([100, 512])\n",
            "torch.Size([100, 512])\n",
            "<class 'numpy.ndarray'>\n",
            "(100, 512)\n",
            "\n",
            "\n",
            "\n",
            "\n",
            "\n",
            "torch.Size([100, 512])\n",
            "torch.Size([100, 512])\n",
            "<class 'numpy.ndarray'>\n",
            "(100, 512)\n",
            "\n",
            "\n",
            "\n",
            "\n",
            "\n",
            "torch.Size([100, 512])\n",
            "torch.Size([100, 512])\n",
            "<class 'numpy.ndarray'>\n",
            "(100, 512)\n",
            "\n",
            "\n",
            "\n",
            "\n",
            "\n",
            "torch.Size([100, 512])\n",
            "torch.Size([100, 512])\n",
            "<class 'numpy.ndarray'>\n",
            "(100, 512)\n",
            "\n",
            "\n",
            "\n",
            "\n",
            "\n",
            "torch.Size([100, 512])\n",
            "torch.Size([100, 512])\n",
            "<class 'numpy.ndarray'>\n",
            "(100, 512)\n",
            "\n",
            "\n",
            "\n",
            "\n",
            "\n",
            "torch.Size([100, 512])\n",
            "torch.Size([100, 512])\n",
            "<class 'numpy.ndarray'>\n",
            "(100, 512)\n",
            "\n",
            "\n",
            "\n",
            "\n",
            "\n",
            "torch.Size([100, 512])\n",
            "torch.Size([100, 512])\n",
            "<class 'numpy.ndarray'>\n",
            "(100, 512)\n",
            "\n",
            "\n",
            "\n",
            "\n",
            "\n",
            "torch.Size([100, 512])\n",
            "torch.Size([100, 512])\n",
            "<class 'numpy.ndarray'>\n",
            "(100, 512)\n",
            "\n",
            "\n",
            "\n",
            "\n",
            "\n",
            "torch.Size([100, 512])\n",
            "torch.Size([100, 512])\n",
            "<class 'numpy.ndarray'>\n",
            "(100, 512)\n",
            "\n",
            "\n",
            "\n",
            "\n",
            "\n",
            "torch.Size([100, 512])\n",
            "torch.Size([100, 512])\n",
            "<class 'numpy.ndarray'>\n",
            "(100, 512)\n",
            "\n",
            "\n",
            "\n",
            "\n",
            "\n",
            "torch.Size([100, 512])\n",
            "torch.Size([100, 512])\n",
            "<class 'numpy.ndarray'>\n",
            "(100, 512)\n",
            "\n",
            "\n",
            "\n",
            "\n",
            "\n",
            "torch.Size([100, 512])\n",
            "torch.Size([100, 512])\n",
            "<class 'numpy.ndarray'>\n",
            "(100, 512)\n",
            "\n",
            "\n",
            "\n",
            "\n",
            "\n",
            "torch.Size([100, 512])\n",
            "torch.Size([100, 512])\n",
            "<class 'numpy.ndarray'>\n",
            "(100, 512)\n",
            "\n",
            "\n",
            "\n",
            "\n",
            "\n",
            "torch.Size([100, 512])\n",
            "torch.Size([100, 512])\n",
            "<class 'numpy.ndarray'>\n",
            "(100, 512)\n",
            "\n",
            "\n",
            "\n",
            "\n",
            "\n",
            "torch.Size([100, 512])\n",
            "torch.Size([100, 512])\n",
            "<class 'numpy.ndarray'>\n",
            "(100, 512)\n",
            "\n",
            "\n",
            "\n",
            "\n",
            "\n"
          ]
        }
      ]
    },
    {
      "cell_type": "code",
      "source": [
        "from sklearn.manifold import TSNE"
      ],
      "metadata": {
        "id": "g8yigGABZbRn"
      },
      "execution_count": null,
      "outputs": []
    },
    {
      "cell_type": "code",
      "source": [
        "tsne = TSNE(n_components=2, random_state=0)\n",
        "\n",
        "tsne_data = tsne.fit_transform(embed_tensor)"
      ],
      "metadata": {
        "colab": {
          "base_uri": "https://localhost:8080/"
        },
        "outputId": "28d18856-0f09-4ecb-ef06-61d95df6eb59",
        "id": "jPEqTwKy-cpu"
      },
      "execution_count": null,
      "outputs": [
        {
          "output_type": "stream",
          "name": "stderr",
          "text": [
            "/usr/local/lib/python3.8/dist-packages/sklearn/manifold/_t_sne.py:780: FutureWarning: The default initialization in TSNE will change from 'random' to 'pca' in 1.2.\n",
            "  warnings.warn(\n",
            "/usr/local/lib/python3.8/dist-packages/sklearn/manifold/_t_sne.py:790: FutureWarning: The default learning rate in TSNE will change from 200.0 to 'auto' in 1.2.\n",
            "  warnings.warn(\n"
          ]
        }
      ]
    },
    {
      "cell_type": "code",
      "source": [
        "scatter_x = tsne_data[:5000,0]\n",
        "scatter_y = tsne_data[:5000,1]\n",
        "group = label_tensor[:1000]\n",
        "\n",
        "fig, ax = plt.subplots(figsize=(7, 7))\n",
        "for g in np.unique(group):\n",
        "    ix = np.where(group == g)\n",
        "    ax.scatter(scatter_x[ix], scatter_y[ix],  label = g)\n",
        "ax.legend()\n",
        "plt.title('TSNE plot for FC1 model')\n",
        "plt.show()\n"
      ],
      "metadata": {
        "colab": {
          "base_uri": "https://localhost:8080/",
          "height": 444
        },
        "outputId": "bcaa5b83-b22d-4432-dd58-e2890e7bac72",
        "id": "U4Ilud_T-cpx"
      },
      "execution_count": null,
      "outputs": [
        {
          "output_type": "display_data",
          "data": {
            "text/plain": [
              "<Figure size 504x504 with 1 Axes>"
            ],
            "image/png": "[encoded data removed]"
          },
          "metadata": {
            "needs_background": "light"
          }
        }
      ]
    }
  ],
  "metadata": {
    "accelerator": "GPU",
    "colab": {
      "provenance": [],
      "collapsed_sections": [
        "16basc0TQUwO"
      ]
    },
    "gpuClass": "standard",
    "kernelspec": {
      "display_name": "Python 3",
      "name": "python3"
    },
    "language_info": {
      "name": "python"
    },
    "widgets": {
      "application/vnd.jupyter.widget-state+json": {
        "3fa41f2db0b5482fa94fed86ab2915d8": {
          "model_module": "@jupyter-widgets/controls",
          "model_name": "HBoxModel",
          "model_module_version": "1.5.0",
          "state": {
            "_dom_classes": [],
            "_model_module": "@jupyter-widgets/controls",
            "_model_module_version": "1.5.0",
            "_model_name": "HBoxModel",
            "_view_count": null,
            "_view_module": "@jupyter-widgets/controls",
            "_view_module_version": "1.5.0",
            "_view_name": "HBoxView",
            "box_style": "",
            "children": [
              "IPY_MODEL_02562dc89c414e4f8327d54298fb9ae7",
              "IPY_MODEL_b0cff5560d8d4b0b861ac398126ab16b",
              "IPY_MODEL_33afd8ff07434cc6bf2f0056ed240708"
            ],
            "layout": "IPY_MODEL_bb2735d201b148b0975e1a8eb2122629"
          }
        },
        "02562dc89c414e4f8327d54298fb9ae7": {
          "model_module": "@jupyter-widgets/controls",
          "model_name": "HTMLModel",
          "model_module_version": "1.5.0",
          "state": {
            "_dom_classes": [],
            "_model_module": "@jupyter-widgets/controls",
            "_model_module_version": "1.5.0",
            "_model_name": "HTMLModel",
            "_view_count": null,
            "_view_module": "@jupyter-widgets/controls",
            "_view_module_version": "1.5.0",
            "_view_name": "HTMLView",
            "description": "",
            "description_tooltip": null,
            "layout": "IPY_MODEL_3cf60eb57ecd48df9e6f22f801684b62",
            "placeholder": "​",
            "style": "IPY_MODEL_7e4ac090b0894b98b6e740c88d2b31dd",
            "value": "100%"
          }
        },
        "b0cff5560d8d4b0b861ac398126ab16b": {
          "model_module": "@jupyter-widgets/controls",
          "model_name": "FloatProgressModel",
          "model_module_version": "1.5.0",
          "state": {
            "_dom_classes": [],
            "_model_module": "@jupyter-widgets/controls",
            "_model_module_version": "1.5.0",
            "_model_name": "FloatProgressModel",
            "_view_count": null,
            "_view_module": "@jupyter-widgets/controls",
            "_view_module_version": "1.5.0",
            "_view_name": "ProgressView",
            "bar_style": "success",
            "description": "",
            "description_tooltip": null,
            "layout": "IPY_MODEL_167dbd564750408384d0aaebb58e2fb0",
            "max": 248100043,
            "min": 0,
            "orientation": "horizontal",
            "style": "IPY_MODEL_6d79a2a8148841b08099e0461c54d002",
            "value": 248100043
          }
        },
        "33afd8ff07434cc6bf2f0056ed240708": {
          "model_module": "@jupyter-widgets/controls",
          "model_name": "HTMLModel",
          "model_module_version": "1.5.0",
          "state": {
            "_dom_classes": [],
            "_model_module": "@jupyter-widgets/controls",
            "_model_module_version": "1.5.0",
            "_model_name": "HTMLModel",
            "_view_count": null,
            "_view_module": "@jupyter-widgets/controls",
            "_view_module_version": "1.5.0",
            "_view_name": "HTMLView",
            "description": "",
            "description_tooltip": null,
            "layout": "IPY_MODEL_69f2974e48fe4d68856d53a7d35b48f9",
            "placeholder": "​",
            "style": "IPY_MODEL_8c64d5fd20384cc0991c18500db27c09",
            "value": " 248100043/248100043 [00:10&lt;00:00, 39589913.47it/s]"
          }
        },
        "bb2735d201b148b0975e1a8eb2122629": {
          "model_module": "@jupyter-widgets/base",
          "model_name": "LayoutModel",
          "model_module_version": "1.2.0",
          "state": {
            "_model_module": "@jupyter-widgets/base",
            "_model_module_version": "1.2.0",
            "_model_name": "LayoutModel",
            "_view_count": null,
            "_view_module": "@jupyter-widgets/base",
            "_view_module_version": "1.2.0",
            "_view_name": "LayoutView",
            "align_content": null,
            "align_items": null,
            "align_self": null,
            "border": null,
            "bottom": null,
            "display": null,
            "flex": null,
            "flex_flow": null,
            "grid_area": null,
            "grid_auto_columns": null,
            "grid_auto_flow": null,
            "grid_auto_rows": null,
            "grid_column": null,
            "grid_gap": null,
            "grid_row": null,
            "grid_template_areas": null,
            "grid_template_columns": null,
            "grid_template_rows": null,
            "height": null,
            "justify_content": null,
            "justify_items": null,
            "left": null,
            "margin": null,
            "max_height": null,
            "max_width": null,
            "min_height": null,
            "min_width": null,
            "object_fit": null,
            "object_position": null,
            "order": null,
            "overflow": null,
            "overflow_x": null,
            "overflow_y": null,
            "padding": null,
            "right": null,
            "top": null,
            "visibility": null,
            "width": null
          }
        },
        "3cf60eb57ecd48df9e6f22f801684b62": {
          "model_module": "@jupyter-widgets/base",
          "model_name": "LayoutModel",
          "model_module_version": "1.2.0",
          "state": {
            "_model_module": "@jupyter-widgets/base",
            "_model_module_version": "1.2.0",
            "_model_name": "LayoutModel",
            "_view_count": null,
            "_view_module": "@jupyter-widgets/base",
            "_view_module_version": "1.2.0",
            "_view_name": "LayoutView",
            "align_content": null,
            "align_items": null,
            "align_self": null,
            "border": null,
            "bottom": null,
            "display": null,
            "flex": null,
            "flex_flow": null,
            "grid_area": null,
            "grid_auto_columns": null,
            "grid_auto_flow": null,
            "grid_auto_rows": null,
            "grid_column": null,
            "grid_gap": null,
            "grid_row": null,
            "grid_template_areas": null,
            "grid_template_columns": null,
            "grid_template_rows": null,
            "height": null,
            "justify_content": null,
            "justify_items": null,
            "left": null,
            "margin": null,
            "max_height": null,
            "max_width": null,
            "min_height": null,
            "min_width": null,
            "object_fit": null,
            "object_position": null,
            "order": null,
            "overflow": null,
            "overflow_x": null,
            "overflow_y": null,
            "padding": null,
            "right": null,
            "top": null,
            "visibility": null,
            "width": null
          }
        },
        "7e4ac090b0894b98b6e740c88d2b31dd": {
          "model_module": "@jupyter-widgets/controls",
          "model_name": "DescriptionStyleModel",
          "model_module_version": "1.5.0",
          "state": {
            "_model_module": "@jupyter-widgets/controls",
            "_model_module_version": "1.5.0",
            "_model_name": "DescriptionStyleModel",
            "_view_count": null,
            "_view_module": "@jupyter-widgets/base",
            "_view_module_version": "1.2.0",
            "_view_name": "StyleView",
            "description_width": ""
          }
        },
        "167dbd564750408384d0aaebb58e2fb0": {
          "model_module": "@jupyter-widgets/base",
          "model_name": "LayoutModel",
          "model_module_version": "1.2.0",
          "state": {
            "_model_module": "@jupyter-widgets/base",
            "_model_module_version": "1.2.0",
            "_model_name": "LayoutModel",
            "_view_count": null,
            "_view_module": "@jupyter-widgets/base",
            "_view_module_version": "1.2.0",
            "_view_name": "LayoutView",
            "align_content": null,
            "align_items": null,
            "align_self": null,
            "border": null,
            "bottom": null,
            "display": null,
            "flex": null,
            "flex_flow": null,
            "grid_area": null,
            "grid_auto_columns": null,
            "grid_auto_flow": null,
            "grid_auto_rows": null,
            "grid_column": null,
            "grid_gap": null,
            "grid_row": null,
            "grid_template_areas": null,
            "grid_template_columns": null,
            "grid_template_rows": null,
            "height": null,
            "justify_content": null,
            "justify_items": null,
            "left": null,
            "margin": null,
            "max_height": null,
            "max_width": null,
            "min_height": null,
            "min_width": null,
            "object_fit": null,
            "object_position": null,
            "order": null,
            "overflow": null,
            "overflow_x": null,
            "overflow_y": null,
            "padding": null,
            "right": null,
            "top": null,
            "visibility": null,
            "width": null
          }
        },
        "6d79a2a8148841b08099e0461c54d002": {
          "model_module": "@jupyter-widgets/controls",
          "model_name": "ProgressStyleModel",
          "model_module_version": "1.5.0",
          "state": {
            "_model_module": "@jupyter-widgets/controls",
            "_model_module_version": "1.5.0",
            "_model_name": "ProgressStyleModel",
            "_view_count": null,
            "_view_module": "@jupyter-widgets/base",
            "_view_module_version": "1.2.0",
            "_view_name": "StyleView",
            "bar_color": null,
            "description_width": ""
          }
        },
        "69f2974e48fe4d68856d53a7d35b48f9": {
          "model_module": "@jupyter-widgets/base",
          "model_name": "LayoutModel",
          "model_module_version": "1.2.0",
          "state": {
            "_model_module": "@jupyter-widgets/base",
            "_model_module_version": "1.2.0",
            "_model_name": "LayoutModel",
            "_view_count": null,
            "_view_module": "@jupyter-widgets/base",
            "_view_module_version": "1.2.0",
            "_view_name": "LayoutView",
            "align_content": null,
            "align_items": null,
            "align_self": null,
            "border": null,
            "bottom": null,
            "display": null,
            "flex": null,
            "flex_flow": null,
            "grid_area": null,
            "grid_auto_columns": null,
            "grid_auto_flow": null,
            "grid_auto_rows": null,
            "grid_column": null,
            "grid_gap": null,
            "grid_row": null,
            "grid_template_areas": null,
            "grid_template_columns": null,
            "grid_template_rows": null,
            "height": null,
            "justify_content": null,
            "justify_items": null,
            "left": null,
            "margin": null,
            "max_height": null,
            "max_width": null,
            "min_height": null,
            "min_width": null,
            "object_fit": null,
            "object_position": null,
            "order": null,
            "overflow": null,
            "overflow_x": null,
            "overflow_y": null,
            "padding": null,
            "right": null,
            "top": null,
            "visibility": null,
            "width": null
          }
        },
        "8c64d5fd20384cc0991c18500db27c09": {
          "model_module": "@jupyter-widgets/controls",
          "model_name": "DescriptionStyleModel",
          "model_module_version": "1.5.0",
          "state": {
            "_model_module": "@jupyter-widgets/controls",
            "_model_module_version": "1.5.0",
            "_model_name": "DescriptionStyleModel",
            "_view_count": null,
            "_view_module": "@jupyter-widgets/base",
            "_view_module_version": "1.2.0",
            "_view_name": "StyleView",
            "description_width": ""
          }
        },
        "520b31f2c33349f2b3f4328d38cbbc2f": {
          "model_module": "@jupyter-widgets/controls",
          "model_name": "HBoxModel",
          "model_module_version": "1.5.0",
          "state": {
            "_dom_classes": [],
            "_model_module": "@jupyter-widgets/controls",
            "_model_module_version": "1.5.0",
            "_model_name": "HBoxModel",
            "_view_count": null,
            "_view_module": "@jupyter-widgets/controls",
            "_view_module_version": "1.5.0",
            "_view_name": "HBoxView",
            "box_style": "",
            "children": [
              "IPY_MODEL_5a90222d000f404c8903523c59c4f0ba",
              "IPY_MODEL_7eab30edb35d432198dd92c3a474a7a5",
              "IPY_MODEL_ae851516a6c7496197d1a62f1d294d56"
            ],
            "layout": "IPY_MODEL_8e1e916572d24a358b6930fcb495a199"
          }
        },
        "5a90222d000f404c8903523c59c4f0ba": {
          "model_module": "@jupyter-widgets/controls",
          "model_name": "HTMLModel",
          "model_module_version": "1.5.0",
          "state": {
            "_dom_classes": [],
            "_model_module": "@jupyter-widgets/controls",
            "_model_module_version": "1.5.0",
            "_model_name": "HTMLModel",
            "_view_count": null,
            "_view_module": "@jupyter-widgets/controls",
            "_view_module_version": "1.5.0",
            "_view_name": "HTMLView",
            "description": "",
            "description_tooltip": null,
            "layout": "IPY_MODEL_266a2ff4cad344c988e60624a8b547d6",
            "placeholder": "​",
            "style": "IPY_MODEL_612ba3256c0e4527a3d40bff7cc87525",
            "value": "100%"
          }
        },
        "7eab30edb35d432198dd92c3a474a7a5": {
          "model_module": "@jupyter-widgets/controls",
          "model_name": "FloatProgressModel",
          "model_module_version": "1.5.0",
          "state": {
            "_dom_classes": [],
            "_model_module": "@jupyter-widgets/controls",
            "_model_module_version": "1.5.0",
            "_model_name": "FloatProgressModel",
            "_view_count": null,
            "_view_module": "@jupyter-widgets/controls",
            "_view_module_version": "1.5.0",
            "_view_name": "ProgressView",
            "bar_style": "success",
            "description": "",
            "description_tooltip": null,
            "layout": "IPY_MODEL_a6af653e291841ea81a465cdd3ba6c43",
            "max": 2640397119,
            "min": 0,
            "orientation": "horizontal",
            "style": "IPY_MODEL_50e62854f4744dd388c84f8c5ab93236",
            "value": 2640397119
          }
        },
        "ae851516a6c7496197d1a62f1d294d56": {
          "model_module": "@jupyter-widgets/controls",
          "model_name": "HTMLModel",
          "model_module_version": "1.5.0",
          "state": {
            "_dom_classes": [],
            "_model_module": "@jupyter-widgets/controls",
            "_model_module_version": "1.5.0",
            "_model_name": "HTMLModel",
            "_view_count": null,
            "_view_module": "@jupyter-widgets/controls",
            "_view_module_version": "1.5.0",
            "_view_name": "HTMLView",
            "description": "",
            "description_tooltip": null,
            "layout": "IPY_MODEL_f299cae3ae584ab6b3f337c4530db8db",
            "placeholder": "​",
            "style": "IPY_MODEL_3a45d7cfc63a4aa0a4be30de3e6d3ea9",
            "value": " 2640397119/2640397119 [00:34&lt;00:00, 92955537.22it/s]"
          }
        },
        "8e1e916572d24a358b6930fcb495a199": {
          "model_module": "@jupyter-widgets/base",
          "model_name": "LayoutModel",
          "model_module_version": "1.2.0",
          "state": {
            "_model_module": "@jupyter-widgets/base",
            "_model_module_version": "1.2.0",
            "_model_name": "LayoutModel",
            "_view_count": null,
            "_view_module": "@jupyter-widgets/base",
            "_view_module_version": "1.2.0",
            "_view_name": "LayoutView",
            "align_content": null,
            "align_items": null,
            "align_self": null,
            "border": null,
            "bottom": null,
            "display": null,
            "flex": null,
            "flex_flow": null,
            "grid_area": null,
            "grid_auto_columns": null,
            "grid_auto_flow": null,
            "grid_auto_rows": null,
            "grid_column": null,
            "grid_gap": null,
            "grid_row": null,
            "grid_template_areas": null,
            "grid_template_columns": null,
            "grid_template_rows": null,
            "height": null,
            "justify_content": null,
            "justify_items": null,
            "left": null,
            "margin": null,
            "max_height": null,
            "max_width": null,
            "min_height": null,
            "min_width": null,
            "object_fit": null,
            "object_position": null,
            "order": null,
            "overflow": null,
            "overflow_x": null,
            "overflow_y": null,
            "padding": null,
            "right": null,
            "top": null,
            "visibility": null,
            "width": null
          }
        },
        "266a2ff4cad344c988e60624a8b547d6": {
          "model_module": "@jupyter-widgets/base",
          "model_name": "LayoutModel",
          "model_module_version": "1.2.0",
          "state": {
            "_model_module": "@jupyter-widgets/base",
            "_model_module_version": "1.2.0",
            "_model_name": "LayoutModel",
            "_view_count": null,
            "_view_module": "@jupyter-widgets/base",
            "_view_module_version": "1.2.0",
            "_view_name": "LayoutView",
            "align_content": null,
            "align_items": null,
            "align_self": null,
            "border": null,
            "bottom": null,
            "display": null,
            "flex": null,
            "flex_flow": null,
            "grid_area": null,
            "grid_auto_columns": null,
            "grid_auto_flow": null,
            "grid_auto_rows": null,
            "grid_column": null,
            "grid_gap": null,
            "grid_row": null,
            "grid_template_areas": null,
            "grid_template_columns": null,
            "grid_template_rows": null,
            "height": null,
            "justify_content": null,
            "justify_items": null,
            "left": null,
            "margin": null,
            "max_height": null,
            "max_width": null,
            "min_height": null,
            "min_width": null,
            "object_fit": null,
            "object_position": null,
            "order": null,
            "overflow": null,
            "overflow_x": null,
            "overflow_y": null,
            "padding": null,
            "right": null,
            "top": null,
            "visibility": null,
            "width": null
          }
        },
        "612ba3256c0e4527a3d40bff7cc87525": {
          "model_module": "@jupyter-widgets/controls",
          "model_name": "DescriptionStyleModel",
          "model_module_version": "1.5.0",
          "state": {
            "_model_module": "@jupyter-widgets/controls",
            "_model_module_version": "1.5.0",
            "_model_name": "DescriptionStyleModel",
            "_view_count": null,
            "_view_module": "@jupyter-widgets/base",
            "_view_module_version": "1.2.0",
            "_view_name": "StyleView",
            "description_width": ""
          }
        },
        "a6af653e291841ea81a465cdd3ba6c43": {
          "model_module": "@jupyter-widgets/base",
          "model_name": "LayoutModel",
          "model_module_version": "1.2.0",
          "state": {
            "_model_module": "@jupyter-widgets/base",
            "_model_module_version": "1.2.0",
            "_model_name": "LayoutModel",
            "_view_count": null,
            "_view_module": "@jupyter-widgets/base",
            "_view_module_version": "1.2.0",
            "_view_name": "LayoutView",
            "align_content": null,
            "align_items": null,
            "align_self": null,
            "border": null,
            "bottom": null,
            "display": null,
            "flex": null,
            "flex_flow": null,
            "grid_area": null,
            "grid_auto_columns": null,
            "grid_auto_flow": null,
            "grid_auto_rows": null,
            "grid_column": null,
            "grid_gap": null,
            "grid_row": null,
            "grid_template_areas": null,
            "grid_template_columns": null,
            "grid_template_rows": null,
            "height": null,
            "justify_content": null,
            "justify_items": null,
            "left": null,
            "margin": null,
            "max_height": null,
            "max_width": null,
            "min_height": null,
            "min_width": null,
            "object_fit": null,
            "object_position": null,
            "order": null,
            "overflow": null,
            "overflow_x": null,
            "overflow_y": null,
            "padding": null,
            "right": null,
            "top": null,
            "visibility": null,
            "width": null
          }
        },
        "50e62854f4744dd388c84f8c5ab93236": {
          "model_module": "@jupyter-widgets/controls",
          "model_name": "ProgressStyleModel",
          "model_module_version": "1.5.0",
          "state": {
            "_model_module": "@jupyter-widgets/controls",
            "_model_module_version": "1.5.0",
            "_model_name": "ProgressStyleModel",
            "_view_count": null,
            "_view_module": "@jupyter-widgets/base",
            "_view_module_version": "1.2.0",
            "_view_name": "StyleView",
            "bar_color": null,
            "description_width": ""
          }
        },
        "f299cae3ae584ab6b3f337c4530db8db": {
          "model_module": "@jupyter-widgets/base",
          "model_name": "LayoutModel",
          "model_module_version": "1.2.0",
          "state": {
            "_model_module": "@jupyter-widgets/base",
            "_model_module_version": "1.2.0",
            "_model_name": "LayoutModel",
            "_view_count": null,
            "_view_module": "@jupyter-widgets/base",
            "_view_module_version": "1.2.0",
            "_view_name": "LayoutView",
            "align_content": null,
            "align_items": null,
            "align_self": null,
            "border": null,
            "bottom": null,
            "display": null,
            "flex": null,
            "flex_flow": null,
            "grid_area": null,
            "grid_auto_columns": null,
            "grid_auto_flow": null,
            "grid_auto_rows": null,
            "grid_column": null,
            "grid_gap": null,
            "grid_row": null,
            "grid_template_areas": null,
            "grid_template_columns": null,
            "grid_template_rows": null,
            "height": null,
            "justify_content": null,
            "justify_items": null,
            "left": null,
            "margin": null,
            "max_height": null,
            "max_width": null,
            "min_height": null,
            "min_width": null,
            "object_fit": null,
            "object_position": null,
            "order": null,
            "overflow": null,
            "overflow_x": null,
            "overflow_y": null,
            "padding": null,
            "right": null,
            "top": null,
            "visibility": null,
            "width": null
          }
        },
        "3a45d7cfc63a4aa0a4be30de3e6d3ea9": {
          "model_module": "@jupyter-widgets/controls",
          "model_name": "DescriptionStyleModel",
          "model_module_version": "1.5.0",
          "state": {
            "_model_module": "@jupyter-widgets/controls",
            "_model_module_version": "1.5.0",
            "_model_name": "DescriptionStyleModel",
            "_view_count": null,
            "_view_module": "@jupyter-widgets/base",
            "_view_module_version": "1.2.0",
            "_view_name": "StyleView",
            "description_width": ""
          }
        }
      }
    }
  },
  "nbformat": 4,
  "nbformat_minor": 0
}