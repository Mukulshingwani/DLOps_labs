{
  "cells": [
    {
      "cell_type": "markdown",
      "source": [
        "<h3> References <br> </h3>\n",
        "<h4>\n",
        "https://learnopencv.com/conditional-gan-cgan-in-pytorch-and-tensorflow/ <br>\n",
        "https://colab.research.google.com/github/smartgeometry-ucl/dl4g/blob/master/gan.ipynb#scrollTo=5d5IMJTr_tnN\n",
        "<br>\n",
        "https://github.com/elena-ecn/optuna-optimization-for-PyTorch-CNN"
      ],
      "metadata": {
        "id": "QrwKmqRRopY_"
      }
    },
    {
      "cell_type": "code",
      "source": [
        "from google.colab import drive\n",
        "drive.mount('/content/drive')"
      ],
      "metadata": {
        "id": "nlKzYZrYIfKg"
      },
      "execution_count": null,
      "outputs": []
    },
    {
      "cell_type": "code",
      "source": [
        "import matplotlib.pyplot as plt\n",
        "import numpy as np\n",
        "import pandas as pd\n",
        "from PIL import Image\n",
        "from tqdm.notebook import tqdm as tqdm\n",
        "\n",
        "import torch\n",
        "import torch.nn as nn\n",
        "import torch.nn.functional as F\n",
        "import torch.optim as optim\n",
        "from torch.utils.data import DataLoader, Dataset, random_split\n",
        "\n",
        "import torchvision\n",
        "from torchvision import datasets, transforms\n",
        "from torchvision.datasets import ImageFolder\n",
        "from torchvision.models import resnet18\n",
        "from torchvision.transforms import ToTensor"
      ],
      "metadata": {
        "id": "kwvkE2JLvcLm"
      },
      "execution_count": null,
      "outputs": []
    },
    {
      "cell_type": "code",
      "source": [
        "CUDA_LAUNCH_BLOCKING=1"
      ],
      "metadata": {
        "id": "bpm-tsbMcIe-"
      },
      "execution_count": null,
      "outputs": []
    },
    {
      "cell_type": "code",
      "source": [
        "device = torch.device(\"cuda\" if torch.cuda.is_available() else \"mps\" if torch.has_mps else \"cpu\")"
      ],
      "metadata": {
        "id": "6UMcrAP8vY_k"
      },
      "execution_count": null,
      "outputs": []
    },
    {
      "cell_type": "markdown",
      "source": [
        "# Question 1"
      ],
      "metadata": {
        "id": "pNcvT470zbh3"
      }
    },
    {
      "cell_type": "code",
      "source": [
        "df = pd.read_csv('/content/drive/MyDrive/Deep Learning/DLOps_A4/GAN_data.csv')\n",
        "len(df.columns)"
      ],
      "metadata": {
        "colab": {
          "base_uri": "https://localhost:8080/"
        },
        "id": "Gc5LLZG0xrQf",
        "outputId": "e9b34e69-bbe3-462e-ed8a-df3eb100922e"
      },
      "execution_count": null,
      "outputs": [
        {
          "output_type": "execute_result",
          "data": {
            "text/plain": [
              "1025"
            ]
          },
          "metadata": {},
          "execution_count": 5
        }
      ]
    },
    {
      "cell_type": "code",
      "source": [
        "df.columns"
      ],
      "metadata": {
        "colab": {
          "base_uri": "https://localhost:8080/"
        },
        "id": "lHVSfSA2xzBg",
        "outputId": "7518f854-2474-48bc-e4c1-c8bf4569f7e7"
      },
      "execution_count": null,
      "outputs": [
        {
          "output_type": "execute_result",
          "data": {
            "text/plain": [
              "Index(['pixel_0000', 'pixel_0001', 'pixel_0002', 'pixel_0003', 'pixel_0004',\n",
              "       'pixel_0005', 'pixel_0006', 'pixel_0007', 'pixel_0008', 'pixel_0009',\n",
              "       ...\n",
              "       'pixel_1015', 'pixel_1016', 'pixel_1017', 'pixel_1018', 'pixel_1019',\n",
              "       'pixel_1020', 'pixel_1021', 'pixel_1022', 'pixel_1023', 'character'],\n",
              "      dtype='object', length=1025)"
            ]
          },
          "metadata": {},
          "execution_count": 6
        }
      ]
    },
    {
      "cell_type": "code",
      "source": [
        "df['character'].unique()"
      ],
      "metadata": {
        "colab": {
          "base_uri": "https://localhost:8080/"
        },
        "id": "N_XCUeSayE4r",
        "outputId": "442f02e1-c916-406a-a30e-e17019b320f1"
      },
      "execution_count": null,
      "outputs": [
        {
          "output_type": "execute_result",
          "data": {
            "text/plain": [
              "array(['character_01_ka', 'character_02_kha', 'character_03_ga',\n",
              "       'character_04_gha', 'character_05_kna', 'character_06_cha',\n",
              "       'character_07_chha', 'character_08_ja', 'character_09_jha',\n",
              "       'character_10_yna', 'character_11_taamatar', 'character_12_thaa',\n",
              "       'character_13_daa', 'character_14_dhaa', 'character_15_adna',\n",
              "       'character_16_tabala', 'character_17_tha', 'character_18_da',\n",
              "       'character_19_dha', 'character_20_na', 'character_21_pa',\n",
              "       'character_22_pha', 'character_23_ba', 'character_24_bha',\n",
              "       'character_25_ma', 'character_26_yaw', 'character_27_ra',\n",
              "       'character_28_la', 'character_29_waw', 'character_30_motosaw',\n",
              "       'character_31_petchiryakha', 'character_32_patalosaw',\n",
              "       'character_33_ha', 'character_34_chhya', 'character_35_tra',\n",
              "       'character_36_gya', 'digit_0', 'digit_1', 'digit_2', 'digit_3',\n",
              "       'digit_4', 'digit_5', 'digit_6', 'digit_7', 'digit_8', 'digit_9'],\n",
              "      dtype=object)"
            ]
          },
          "metadata": {},
          "execution_count": 7
        }
      ]
    },
    {
      "cell_type": "code",
      "source": [
        "len(df['character'].unique())"
      ],
      "metadata": {
        "colab": {
          "base_uri": "https://localhost:8080/"
        },
        "id": "NyXl1C7lvzVY",
        "outputId": "18dc1277-eaaf-4621-acda-ae3fa7a0f936"
      },
      "execution_count": null,
      "outputs": [
        {
          "output_type": "execute_result",
          "data": {
            "text/plain": [
              "46"
            ]
          },
          "metadata": {},
          "execution_count": 8
        }
      ]
    },
    {
      "cell_type": "code",
      "source": [
        "df['character'].value_counts()"
      ],
      "metadata": {
        "colab": {
          "base_uri": "https://localhost:8080/"
        },
        "id": "JrRG202a06sZ",
        "outputId": "74b6ef6e-b6eb-45a3-b7ef-cc564a533263"
      },
      "execution_count": null,
      "outputs": [
        {
          "output_type": "execute_result",
          "data": {
            "text/plain": [
              "character_01_ka              2000\n",
              "character_35_tra             2000\n",
              "character_26_yaw             2000\n",
              "character_27_ra              2000\n",
              "character_28_la              2000\n",
              "character_29_waw             2000\n",
              "character_30_motosaw         2000\n",
              "character_31_petchiryakha    2000\n",
              "character_32_patalosaw       2000\n",
              "character_33_ha              2000\n",
              "character_34_chhya           2000\n",
              "character_36_gya             2000\n",
              "character_02_kha             2000\n",
              "digit_0                      2000\n",
              "digit_1                      2000\n",
              "digit_2                      2000\n",
              "digit_3                      2000\n",
              "digit_4                      2000\n",
              "digit_5                      2000\n",
              "digit_6                      2000\n",
              "digit_7                      2000\n",
              "digit_8                      2000\n",
              "character_25_ma              2000\n",
              "character_24_bha             2000\n",
              "character_23_ba              2000\n",
              "character_22_pha             2000\n",
              "character_03_ga              2000\n",
              "character_04_gha             2000\n",
              "character_05_kna             2000\n",
              "character_06_cha             2000\n",
              "character_07_chha            2000\n",
              "character_08_ja              2000\n",
              "character_09_jha             2000\n",
              "character_10_yna             2000\n",
              "character_11_taamatar        2000\n",
              "character_12_thaa            2000\n",
              "character_13_daa             2000\n",
              "character_14_dhaa            2000\n",
              "character_15_adna            2000\n",
              "character_16_tabala          2000\n",
              "character_17_tha             2000\n",
              "character_18_da              2000\n",
              "character_19_dha             2000\n",
              "character_20_na              2000\n",
              "character_21_pa              2000\n",
              "digit_9                      2000\n",
              "Name: character, dtype: int64"
            ]
          },
          "metadata": {},
          "execution_count": 9
        }
      ]
    },
    {
      "cell_type": "code",
      "source": [
        "import pandas as pd\n",
        "from sklearn.preprocessing import LabelEncoder\n",
        "from sklearn.model_selection import train_test_split\n",
        "import numpy as np\n",
        "from PIL import Image\n",
        "import torch\n",
        "from torch.utils.data import Dataset, DataLoader\n",
        "from torchvision.transforms import transforms\n",
        "\n",
        "# Step 1: Load the CSV file\n",
        "data = pd.read_csv('/content/drive/MyDrive/Deep Learning/DLOps_A4/GAN_data.csv')\n",
        "X = data.iloc[:, :-1].values  # Features\n",
        "y = data.iloc[:, -1].values  # Labels"
      ],
      "metadata": {
        "id": "0miy0zjtzXEs"
      },
      "execution_count": null,
      "outputs": []
    },
    {
      "cell_type": "code",
      "source": [
        "print(len(X), len(X[0]))"
      ],
      "metadata": {
        "colab": {
          "base_uri": "https://localhost:8080/"
        },
        "id": "xG3ZmEpn1HYu",
        "outputId": "9a8a5981-b7d3-4282-8192-41b08412b018"
      },
      "execution_count": null,
      "outputs": [
        {
          "output_type": "stream",
          "name": "stdout",
          "text": [
            "92000 1024\n"
          ]
        }
      ]
    },
    {
      "cell_type": "code",
      "source": [
        "import matplotlib.pyplot as plt\n",
        "import numpy as np\n",
        "from PIL import Image\n",
        "\n",
        "sample_image = X[0].reshape(32, 32)\n",
        "resized_image = np.array(Image.fromarray(np.uint8(sample_image)).resize((32, 32)))\n",
        "plt.imshow(resized_image)\n",
        "print(y[0])"
      ],
      "metadata": {
        "colab": {
          "base_uri": "https://localhost:8080/",
          "height": 445
        },
        "id": "sTYrJ_mIzYyu",
        "outputId": "a9b250aa-2a55-4dee-8cdc-c39e1986e004"
      },
      "execution_count": null,
      "outputs": [
        {
          "output_type": "stream",
          "name": "stdout",
          "text": [
            "character_01_ka\n"
          ]
        },
        {
          "output_type": "display_data",
          "data": {
            "text/plain": [
              "<Figure size 640x480 with 1 Axes>"
            ],
            "image/png": "[encoded data removed]"
          },
          "metadata": {}
        }
      ]
    },
    {
      "cell_type": "code",
      "source": [
        "import matplotlib.pyplot as plt\n",
        "import numpy as np\n",
        "from PIL import Image\n",
        "\n",
        "sample_image = X[11113].reshape(32, 32)\n",
        "resized_image = np.array(Image.fromarray(np.uint8(sample_image)).resize((32, 32)))\n",
        "plt.imshow(resized_image)\n",
        "print(y[11113])"
      ],
      "metadata": {
        "colab": {
          "base_uri": "https://localhost:8080/",
          "height": 445
        },
        "id": "IxY-Qd5n0qr-",
        "outputId": "412c0e3b-cb50-4974-e467-60b2a2ea9945"
      },
      "execution_count": null,
      "outputs": [
        {
          "output_type": "stream",
          "name": "stdout",
          "text": [
            "character_06_cha\n"
          ]
        },
        {
          "output_type": "display_data",
          "data": {
            "text/plain": [
              "<Figure size 640x480 with 1 Axes>"
            ],
            "image/png": "[encoded data removed]"
          },
          "metadata": {}
        }
      ]
    },
    {
      "cell_type": "code",
      "source": [
        "# Step 2: Label encode the class labels\n",
        "le = LabelEncoder()\n",
        "y = le.fit_transform(y)\n",
        "\n",
        "# Step 3: Split the dataset into training and testing sets\n",
        "X_train, X_test, y_train, y_test = train_test_split(X, y, test_size=0.2, random_state=42)"
      ],
      "metadata": {
        "id": "HxQ9Wv_szeVO"
      },
      "execution_count": null,
      "outputs": []
    },
    {
      "cell_type": "code",
      "source": [
        "len(X_train[0])"
      ],
      "metadata": {
        "colab": {
          "base_uri": "https://localhost:8080/"
        },
        "id": "atfI9USI4I_9",
        "outputId": "27955d9f-219a-44e5-f274-54f5da718b46"
      },
      "execution_count": null,
      "outputs": [
        {
          "output_type": "execute_result",
          "data": {
            "text/plain": [
              "1024"
            ]
          },
          "metadata": {},
          "execution_count": 15
        }
      ]
    },
    {
      "cell_type": "code",
      "source": [
        "# Step 4: Define a custom dataset class\n",
        "class CustomDataset(Dataset):\n",
        "    def __init__(self, X, y, transform=None):\n",
        "        self.X = X\n",
        "        self.y = y\n",
        "        self.transform = transform\n",
        "        \n",
        "    def __len__(self):\n",
        "        return len(self.X)\n",
        "    \n",
        "    def __getitem__(self, idx):\n",
        "        # Load image\n",
        "        img = self.X[idx].reshape(32, 32)  # Reshape the image to (32, 32)\n",
        "        img = np.uint8(img * 255)  # Scale the pixel values to 0-255 and convert to uint8 type\n",
        "        img = Image.fromarray(img)  # Convert the numpy array to PIL Image\n",
        "        \n",
        "        # Apply transformations (if any)\n",
        "        if self.transform is not None:\n",
        "            img = self.transform(img)\n",
        "        \n",
        "        # Get label\n",
        "        label = self.y[idx]\n",
        "        \n",
        "        return img, label"
      ],
      "metadata": {
        "id": "4iRru0VOzhxP"
      },
      "execution_count": null,
      "outputs": []
    },
    {
      "cell_type": "code",
      "source": [
        "batch_size = 64\n",
        "train_transforms = transforms.Compose([\n",
        "    transforms.RandomHorizontalFlip(),\n",
        "    transforms.ToTensor(),\n",
        "    transforms.Normalize(mean=[0.5], std=[0.5])\n",
        "])\n",
        "\n",
        "test_transforms = transforms.Compose([\n",
        "    transforms.ToTensor(),\n",
        "    transforms.Normalize(mean=[0.5], std=[0.5])\n",
        "])\n",
        "\n",
        "train_dataset = CustomDataset(X_train, y_train, transform=train_transforms)\n",
        "test_dataset = CustomDataset(X_test, y_test, transform=test_transforms)\n",
        "\n",
        "train_loader = DataLoader(train_dataset, batch_size=batch_size, shuffle=True)\n",
        "test_loader = DataLoader(test_dataset, batch_size=batch_size)\n"
      ],
      "metadata": {
        "id": "cwoswIqnyfjo"
      },
      "execution_count": null,
      "outputs": []
    },
    {
      "cell_type": "code",
      "source": [
        "sample_train_image, _ = train_dataset[0]\n",
        "print(sample_train_image.shape)  # Output: (channels, height, width)\n",
        "\n",
        "sample_test_image, _ = test_dataset[0]\n",
        "print(sample_test_image.shape)  # Output: (channels, height, width)\n"
      ],
      "metadata": {
        "colab": {
          "base_uri": "https://localhost:8080/"
        },
        "id": "BPCzpWzhIJ7e",
        "outputId": "202ea647-f659-4862-8515-9c98ecf73556"
      },
      "execution_count": null,
      "outputs": [
        {
          "output_type": "stream",
          "name": "stdout",
          "text": [
            "torch.Size([1, 32, 32])\n",
            "torch.Size([1, 32, 32])\n"
          ]
        }
      ]
    },
    {
      "cell_type": "code",
      "source": [
        "import torch.nn as nn\n",
        "\n",
        "# Define the binary cross entropy loss function\n",
        "binary_cross_entropy = nn.BCELoss()\n",
        "celoss = nn.CrossEntropyLoss()\n",
        "def generator_loss(label, fake_output):\n",
        "    gen_loss = binary_cross_entropy(label, fake_output)\n",
        "    #print(gen_loss)\n",
        "    # gen_loss = celoss(label, fake_output)\n",
        "    return gen_loss\n",
        "def discriminator_loss(label, output):\n",
        "    disc_loss = binary_cross_entropy(label, output)\n",
        "    #print(total_loss)\n",
        "    return disc_loss"
      ],
      "metadata": {
        "id": "NMuDtNKA6gU1"
      },
      "execution_count": null,
      "outputs": []
    },
    {
      "cell_type": "code",
      "source": [
        "class Generator(nn.Module):\n",
        "    def __init__(self, n_classes = 46, embedding_dim = 64, latent_dim = 64):\n",
        "        super(Generator, self).__init__()\n",
        "         \n",
        "        # class label as input, embedding layer of 100 output neurons, linear layer with 16 output neurons\n",
        "        self.label_conditioned_generator = \\\n",
        "        nn.Sequential(nn.Embedding(n_classes, embedding_dim),\n",
        "                      nn.Linear(embedding_dim, 16))\n",
        "         \n",
        "        # fed noise or latent vector of 100 input neurons, output 4*4*512 neurons \n",
        "        self.latent = \\\n",
        "        nn.Sequential(nn.Linear(latent_dim, 4*4*512),\n",
        "                                   nn.LeakyReLU(0.2, inplace=True))\n",
        "            \n",
        "        # each block upsamples the input twice \n",
        "        # 513*4*4 --> 512*8*8 --> 64*16*16 --> 1*32*32\n",
        "        self.model = \\\n",
        "        nn.Sequential(nn.ConvTranspose2d(513, 64*8, 4, 2, 1, bias=False),\n",
        "                      nn.BatchNorm2d(64*8, momentum=0.1,  eps=0.8),\n",
        "                      nn.ReLU(True),\n",
        "                      nn.ConvTranspose2d(64*8, 64*1, 4, 2, 1,bias=False),\n",
        "                      nn.BatchNorm2d(64*1, momentum=0.1,  eps=0.8),\n",
        "                      nn.ReLU(True), \n",
        "                      nn.ConvTranspose2d(64*1, 1, 4, 2, 1,bias=False),\n",
        "                      nn.Tanh()\n",
        "                      )\n",
        "        \n",
        "    def forward(self, inputs):\n",
        "        noise_vector, label = inputs\n",
        "        label_output = self.label_conditioned_generator(label)\n",
        "        label_output = label_output.view(-1, 1, 4, 4)\n",
        "        latent_output = self.latent(noise_vector)\n",
        "        latent_output = latent_output.view(-1, 512, 4, 4)\n",
        "        concat = torch.cat((latent_output, label_output), dim=1)\n",
        "        image = self.model(concat)\n",
        "        #print(image.size())\n",
        "        return image"
      ],
      "metadata": {
        "id": "QZUvxDoHqZnP"
      },
      "execution_count": null,
      "outputs": []
    },
    {
      "cell_type": "code",
      "source": [
        "class Discriminator(nn.Module):\n",
        "    def __init__(self, n_classes = 46, embedding_dim = 64):\n",
        "        super(Discriminator, self).__init__()\n",
        "         \n",
        "     \n",
        "        self.label_condition_disc = \\\n",
        "        nn.Sequential(nn.Embedding(n_classes, embedding_dim),\n",
        "                      nn.Linear(embedding_dim, 1*32*32))\n",
        "        \n",
        "        # conncatened real and fake input image, hence input dims = 2*32*32\n",
        "        # outputs if an image is real or fake (0, 1)\n",
        "        # 2*32*32 --> 64*15*15 --> 512*6*6\n",
        "        self.model = \\\n",
        "        nn.Sequential(nn.Conv2d(2, 64, 4, 2, 1, bias=False),\n",
        "                      nn.LeakyReLU(0.2, inplace=True),\n",
        "                      nn.Conv2d(64, 64*8, 4, 3, 2, bias=False),\n",
        "                      nn.BatchNorm2d(64*8, momentum=0.1,  eps=0.8),\n",
        "                      nn.LeakyReLU(0.2, inplace=True),\n",
        "                      nn.Flatten(),\n",
        "                      nn.Dropout(0.4),\n",
        "                      nn.Linear(18432, 1),\n",
        "                      nn.Sigmoid()\n",
        "                     )\n",
        " \n",
        "    def forward(self, inputs):\n",
        "        img, label = inputs\n",
        "        label_output = self.label_condition_disc(label)\n",
        "        label_output = label_output.view(-1, 1, 32, 32)\n",
        "        concat = torch.cat((img, label_output), dim=1)  # 1*32*32 concat with 1*32*32 --> 2*32*32\n",
        "        #print(concat.size())\n",
        "        output = self.model(concat)\n",
        "        return output"
      ],
      "metadata": {
        "id": "G1EegUhIqcN5"
      },
      "execution_count": null,
      "outputs": []
    },
    {
      "cell_type": "code",
      "source": [
        "n_classes = 46\n",
        "embedding_dim = 64\n",
        "latent_dim = 64\n",
        "\n",
        "generator = Generator(n_classes, embedding_dim, latent_dim).to(device)\n",
        "discriminator = Discriminator(n_classes, embedding_dim).to(device)"
      ],
      "metadata": {
        "id": "72vBzyPGJFz9"
      },
      "execution_count": null,
      "outputs": []
    },
    {
      "cell_type": "code",
      "source": [
        "import torch\n",
        "from tqdm import tqdm\n",
        "\n",
        "class GANTrainer:\n",
        "    def __init__(self, discriminator, generator, device=\"cpu\", latent_dim=64):\n",
        "        self.discriminator = discriminator.to(device)\n",
        "        self.generator = generator.to(device)\n",
        "        self.device = device\n",
        "        self.latent_dim = latent_dim\n",
        "    \n",
        "    def train_epochs(self, train_loader, epochs, D_optimizer, G_optimizer):\n",
        "        disc_loss = []\n",
        "        gen_loss = []\n",
        "\n",
        "        for epoch in range(epochs):\n",
        "            epoch_disc_loss = 0\n",
        "            epoch_gen_loss = 0\n",
        "            self.discriminator.train()\n",
        "            self.generator.train()\n",
        "\n",
        "            for real_inputs, labels in tqdm(train_loader, desc=f\"Epoch {epoch+1}/{epochs}\"):\n",
        "                real_inputs, labels = real_inputs.to(self.device), labels.to(self.device)\n",
        "                labels = labels.unsqueeze(1).long()\n",
        "\n",
        "                real_target = torch.ones(real_inputs.size(0), 1).to(self.device)\n",
        "                fake_target = torch.zeros(real_inputs.size(0), 1).to(self.device)\n",
        "\n",
        "                # Train discriminator every even epoch\n",
        "                self.discriminator.zero_grad()\n",
        "                D_real_output = self.discriminator((real_inputs, labels))\n",
        "                D_real_loss = self.discriminator_loss(D_real_output, real_target)\n",
        "\n",
        "                noise_vector = (torch.randn(real_inputs.size(0), self.latent_dim)*0.1).to(self.device)\n",
        "                generated_image = self.generator((noise_vector, labels))\n",
        "                D_fake_output = self.discriminator((generated_image.detach(), labels))\n",
        "                D_fake_loss = self.discriminator_loss(D_fake_output, fake_target)\n",
        "\n",
        "                D_loss = (D_real_loss + D_fake_loss) / 2\n",
        "                #if epoch % 2 == 0:\n",
        "                D_loss.backward()\n",
        "                D_optimizer.step()\n",
        "                epoch_disc_loss += D_loss.item()\n",
        "\n",
        "                # Train generator every epoch\n",
        "                self.generator.zero_grad()\n",
        "                G_output = self.discriminator((generated_image, labels))\n",
        "                G_loss = self.generator_loss(G_output, real_target)\n",
        "\n",
        "                G_loss.backward()\n",
        "                G_optimizer.step()\n",
        "                epoch_gen_loss += G_loss.item()\n",
        "\n",
        "            # Update losses\n",
        "            disc_loss.append(epoch_disc_loss / len(train_loader))\n",
        "            gen_loss.append(epoch_gen_loss / len(train_loader))\n",
        "            print(f\"Epoch {epoch+1}/{epochs} - Discriminator loss: {disc_loss[-1]:.4f} - Generator loss: {gen_loss[-1]:.4f}\")\n",
        "\n",
        "        return disc_loss, gen_loss\n",
        "\n",
        "trainer = GANTrainer(discriminator, generator, device, latent_dim)"
      ],
      "metadata": {
        "id": "Wbc32epzhxFA"
      },
      "execution_count": null,
      "outputs": []
    },
    {
      "cell_type": "code",
      "source": [
        "CUDA_LAUNCH_BLOCKING=1"
      ],
      "metadata": {
        "id": "rW6PyTlwb9ik"
      },
      "execution_count": null,
      "outputs": []
    },
    {
      "cell_type": "code",
      "source": [
        "# for generator loss it is calculated between real target and generated image's output\n",
        "# for discrimator loss it is calculated between discriminator outputs and real/fake targets\n",
        "G_optimizer = torch.optim.Adam(generator.parameters(), lr = 3e-4, weight_decay = 5e-4)\n",
        "D_optimizer = torch.optim.Adam(discriminator.parameters(), lr = 3e-4, weight_decay = 5e-4)\n",
        "\n",
        "epochs = 30\n",
        "disc_loss, gen_loss = trainer.train_epochs(train_loader, epochs, D_optimizer, G_optimizer)"
      ],
      "metadata": {
        "colab": {
          "base_uri": "https://localhost:8080/",
          "height": 1000,
          "referenced_widgets": [
            "6041b07782e24ae2bdc53e0bf03467ce",
            "757c8cd9a8d94612811ec2448e46c66b",
            "62d760ed08c247b3b7965c3e3a1cdcd1",
            "64c1467418cd4d5da3c5bc699b0d7f50",
            "3d1f42510a8545eaa106d48778605031",
            "31256a1a915745289a76a63027fb5a49",
            "391e1e7ea75248b1a1daa7b427ea4bf8",
            "fb08939ae64a4ae79cce1cd1c2df68eb",
            "6634e4f0df97484689a6887c4bd34578",
            "54c4833b14bc4cd4bf9f410331847f87",
            "14a1513d438a4e0bae0a8e9549595646",
            "f111bede8abc4b44aa76923368cafef4",
            "08d1faaebf4b413bafee9ea651d1d595",
            "0454c43b51d34437bfd51de17520dad3",
            "bbb2362bf4794740843ac279e80b6db5",
            "04d4ba1816e4482bb4242379c33c028b",
            "87b6df21af634fffb9722f54fde9d2e1",
            "bda7fc195e7346ab92e1e5f22fcfa128",
            "5f6ca4a2f1ce49dbbef71925f2482e97",
            "b945265a34cb43109069c94cec389390",
            "d42ee231b6c7429c8e55dc6e981d9734",
            "90a0b2a1e41b41a49de141f0a8292d60",
            "03b57441914742269381b3d24aa115a7",
            "5607d217299746f19dd1ec4425d64431",
            "d841d490e1dc4ba0beffdde92214190b",
            "50db2659014f4d93a494185d67a81b10",
            "540d4924a2b74f939b818ce8d22eaa3a",
            "14f1ad0bf5d245a7a26b3b5b0247e44f",
            "f97096d4db1346cea36c06f5e082c75a",
            "03a60433ec8a40309dd836966447e604",
            "6cfcd9432a504b93bc1db97d5da11c83",
            "cc7c2addd19942808ef356f67cb1531e",
            "acc2a7c537a94a06a3d577e382a4b3a6",
            "d350270280f244ab9be4a285235ce827",
            "e2fb660911e54c629eebc211f8a1d0be",
            "58ac37d4b1a14c3a9a2c3a6add14cad6",
            "7a6063e7828e49878fa3580ca3d0c977",
            "90c8abe511f942ffaa6f2763a4c4e837",
            "7a84024f333f4714a906cb7aba7666c8",
            "141980453e964bcf8a6b4aa9c6db3cae",
            "ca94abe5cae145e2b8c5afb512b8d085",
            "0f409eb4d23c4d2dbf6e963ff874a806",
            "3c3ea59d94cc4a2f806e13c7a78ea906",
            "da1e164358c34d4ab9c54e520017e3e3",
            "4294ee0f89794758af7c89b57c1eef76",
            "77f92fc4d9f044e488548faeee1cb18b",
            "d40d2de6b3d14e4db2b8c8dd59a7209c",
            "c3e55a3e06e846989f435394e4aa3a81",
            "8c8fcc85d8b144398d45916840a16a6b",
            "eac9bde9451e43aab59cdab75dd61d1b",
            "8ad1e176fa0e43a39ad2944f09c48c7e",
            "bd117b9ec8134fb9abb02e05fbe88672",
            "0aad63f203034a97be5bb7369c2b17de",
            "04262f7a017846198c124135efc64a4a",
            "231df994ebd74f4f8ae25572a5dad1b4",
            "d3b0a1d1279742c595613a9689dd5656",
            "5cee9a40625a4b0b832e9877e5ada549",
            "77998e015db94b85b3c3179346748cc4",
            "aed0bca5098148f0af9881dd109238a1",
            "6bcb00cc88b54906b87f636e9615fd90",
            "d959ccf2853545ce92b1df9b62f545a5",
            "6967203bf2db41a699fd60a202ae6853",
            "31ed21cbdb6d45e0b172f5ca902e90e6",
            "712275abc46944c3a3cf2d3955c7c974",
            "d4fd2e2a446e4477b4aac6e196b21dfb",
            "a60495c615f545a4bbfa2c3aaa03042d",
            "32d6e663f0824263aad0688eda806416",
            "5cb3ff13a24a44c7b0d33dc28dcfe51c",
            "b1d854338b0d41f8ae53657e72551dcd",
            "893e6291f61c4d36a19666e8b9baa2e4",
            "5c0092f7a25e49008a8f49b51225dea8",
            "ad532e8cd36f47458fcd392e25604b07",
            "4edb6b3fa95a45288aba7312c5c97097",
            "739f6336616b40ffb59e2701d45abae7",
            "6ab70ec8274240cab6b5031a662e3e88",
            "63187fe421b64d4bb41f62d8723e3ac8",
            "9c180c18014b46e6b398ad2b764f851b",
            "d9e1b8429e434d0f9dc5fab2afeeb7f6",
            "9556bd7a85894aa7ab4615246adb8796",
            "cbb949473c754d3d8877b7d1ca5b3e1b",
            "be78d00e281e4837bb5f3118a32d8849",
            "1ce3c45716474cfba603f7bd7cb09218",
            "1b2822edf7b9499da8808025f81b0500",
            "51364d5eebc14921bd479b073a27422d",
            "6f7571a1f0fa40c9ae3a819d737b310c",
            "4f1cd8f7dc484cacb39b9b65cd4d4f79",
            "e07004df2dc14785887a15be66186c3b",
            "050086bc8d694cd9b36079e805e7bf2b",
            "dc5a67471d1b4d0582d84e824c09c0cf",
            "02c843efa57f4e348c324a8b8ca54e15",
            "a0bd843f69ca43039e22290e0e747e94",
            "ed009dce47984a5887a6b470d07cf682",
            "ed97869c20734b6194bde4c4b8b4b4a2",
            "ddd25a7bac664041bf4f8f89a840e057",
            "748c8b989a0849d5a683c18c2f7e0d5c",
            "1d9aaf6633e54bef8edfdfa1aab5a782",
            "a8ee700e335b4cf2bd290050fdc0fcfe",
            "a5e14b2357fc4de3a0de3a1751b6ac74",
            "db4a8e3622d4454fbd55ac2fb7db3f4b",
            "d3a3d5c058b8416b93a569b10889bf88",
            "e8e0b7a7583f472fa3892524532efbd4",
            "ca6fe60b3a3946adb967be97f46ca5bb",
            "042af7e7d15b4e3eb79ac8350f2796d1",
            "f5a23c416c2c437ea248764d387b4d88",
            "fff0f3019806496e82b2ce623e014b64",
            "2fbd75d16114472a9bbf7f5b7b752104",
            "c514e8f106c44e90a4f3963502067eec",
            "4478cd9f7e684e988f21c715b1bb117d",
            "bc956136a9e14b72befa7c42a2188eaf",
            "0caa4f25e9e44bf9858ed0fd4510852b",
            "46fea7aad8024bfd9a2f95a78bbea59c",
            "629aa61040a74859bae6396fe7e8e1be",
            "13a090814bfa44c58e9e071dd8c93f35",
            "65f7878daf7241c3b6297d2e73ed6cc5",
            "58d606a3d6a2427a8c1bbed2fabb4568",
            "0b06fdc703c94794937f305e17e29f1c",
            "eb66b1536f7b492a818e97ff65d0dfb6",
            "f89b9efa1b25452cb77c488c01ccf44f",
            "3ede116b468046ccac7b1757349ff530",
            "310ee7c76f6d4ce2a563010013b2e23c",
            "699ea9a6e20e405684da55d290ab85f8",
            "fcc1f02d26c54ebd9d14be282ac91df3",
            "d54470d40db2427bb59020aed44e11ef",
            "ab45046c581942b9b91e0de7dceab75a",
            "bf10b58bcd344ebcac22a0be0e93e417",
            "a228f536e39c493bbb7584310518adf6",
            "a33a4e7b10b04b27978b45fa6989ec21",
            "f08bda7f28b942ad9400e4d50b4ea511",
            "4f6c99329971406d9f4abe983a798324",
            "426c60aae27e49f19fa79aecf29628e4",
            "975ca7b6aee149349c82aa470b999875",
            "6566ddc354e646ae852de07cbe006558",
            "cf4136f409c44db29b75bd7ae9301564",
            "e74c22aa33b740c9b2668c11f28c56e0",
            "b00f04846adf4aeca6a0f52fbb05f88c",
            "fd9b40ea87c0455097c1b6b365367bf0",
            "b0e89ca645b645d4b0f3ce6f1e5aed20",
            "15b7f848f7094fafb60b0db4341e574c",
            "8d345939b901443a845557d5255d57f4",
            "fd30081c2f96445abe67016ceb5a2798",
            "6e710a17197a47c6888c81381bff9932",
            "ccf567333ac74381a430df62ef540ee0",
            "f73bac8fd8a34d98bff7a65ce1fa829b",
            "5aa50f17977f42f89f6c3fc13cc17b26",
            "a4c070b127524217b90f30f2579c579d",
            "de5d377eca4442e3a4b6e34d83c54c38",
            "1349a4503afc43b5ba8b3ec053e7315f",
            "45459561a21343aba676ac4bc16bd2cd",
            "fa0c9fc3a5694149a17e95dc60f508d4",
            "a5c6dab7ea5b4020813c12c91af07469",
            "c6ed0a1d4a5848eebb1f94ec14cca216",
            "adcca2280f8141a3bbc1f55d31db55c8",
            "f7c47181182b4307bd7686324b87c2fd",
            "d393f0a9ef7a4c41aca200b2e84dac54",
            "b4e930c8bf1d4d5c8993559e9f1bc742",
            "dcfb4e4a477f4e58b41524976f45ae6d",
            "d277cee55ca54083913b39f501adfbfa",
            "d1804819becd43bb959db34179ac24d6",
            "4be21b3e565c44b6a42cf2076824044f",
            "7636882a420e41e19ad8925a1b9e283b",
            "96e74ad6ce9e4a7ebcc1239f032e6b54",
            "fd68c0a39a5d4810a74cf464ba6a0556",
            "8f3ed6c4fefd4709af9015781bf6887c",
            "f9c712d850854a0aab6acb20bce0198a",
            "58082b94924d4320ae3f8f62d301885e",
            "9cb1a04a725f445e9eb4ffdb3d14366c",
            "129df3fe38184611978745641acd5c24",
            "b8f1d200483642828c4675403148f069",
            "b2823e8b8447494a85e8fed91649580a",
            "b4242a79dcc047f6a7b0fa508f9327cd",
            "116879946e5747feb3608d1aaf9f6ed2",
            "4635985d56014d35bd138b867b51cb50",
            "e39958fb66d1448fb2b733b8a8bb619a",
            "9b84fc5a38b54eeb8b24d520d90422d4",
            "0f62ca2ef4d64955b2a03cd7b5b205b5",
            "e74d29650c364cadb4ebd0db5846b626",
            "690da04ade2a49b6ac6ed0f301724d54",
            "ac0eacab9e6a44a983a3c5086b8bd2df",
            "71761bc1d91a42439f514ba016b6fb8e",
            "76dcebbae90d4189b714100f0942acd2",
            "678fc62525454e3ba27f77f427832930",
            "a00830a46b5f4ed59568cccb81b2f3c0",
            "e0988e0953464053964a019f82f82892",
            "d45511c4a09a4c519322341f36e08a61",
            "e49bed1482fe4f64a4d69985136db083",
            "9e1b673a438840b68c232d9414d88912",
            "68e0cdc71041414cb31aedcc55f63173",
            "4f1815791ad148d59fd356910b1c00b9",
            "a1b35e98eefa4c88a22c1ac6e8ec4e8a",
            "a4fe1167dc9045aeacce6347cf890071",
            "f6932d74cc3f4287af9a824d258fc00b",
            "f061a68ac1c743dbb95d16f7ed540dbc",
            "2eeaa0856a8340c0bc70eb0a046d326a",
            "3faf0dec61a94ad6aa5dce511d0f0c48",
            "2c86478baecb4094871b389f4f133317",
            "a5617f6a13f34273b6f372bafdc84512",
            "c0eee51be5974ac8a9c435e62dcbf3a9",
            "19d8fde6ce9840459925b2f49985a69a",
            "0a1bc6331f2d49a6acc31a3de7cc1164",
            "ba15d001398844b296cc33a7daf073b7",
            "f93e586ea5744d37a4559c5f4daa8fe4",
            "ec84b3c6eebe4b2a95b0e3502024601f",
            "2759643fb26041829f165632d8b3096d",
            "e263e52dd2b84eabb9b3acbad118dbd0",
            "475391e16e8847338ee1e13917bd450c",
            "3d0975a4df844793878482f69798c90a",
            "b4f873b975074a2faf23e8be425e9fc6",
            "8709c0d1cc494620b97ba66dea300f30",
            "31b06459164b4339a4d563e1a5f1d2c7",
            "bcade519c5ce435dac3b33dfd509eae5",
            "ae70ceacc10c437fa37bc8bd57b4c86d",
            "22d464930318482baa0d895a09d66bce",
            "100989700da8418aab5f9900ed80deac",
            "b71997ba049f49fbbc0e735c9251b4be",
            "41d752d268c9482d9987e7eb37e2383e",
            "f91a68c046f04e12b3da0674d66aff0f",
            "337cb8c0cce74cd9948312535f65532c",
            "a89b2c360c74438087b123128dafe1ac",
            "8452a1a87e4449b9952790597a06c421",
            "e3f0d1109e1f4215b605fc36c2290eb0",
            "bced3a304d824967bc24d03f41234344",
            "58fad730ec904047adee11be8e3817a0",
            "91ba51925904464abb39d2ecb4da556d",
            "3f50097c0d0b43ae8ad6f4bd64b42a48",
            "333c6bd36c754c3fafd423dabdd407fe",
            "b781a2f7885643a081c9dc4ee00f3e53",
            "4d1e4afd17b84c7eac7090517fd89c05",
            "bef1bae31965442d9bd3ef8cf74d2f28",
            "37cb832051b8492286a97ed80e81e24e",
            "10122b3ca7b3470f80c3b761ea953293",
            "7061c1201afd42e686773797d8b3e210",
            "ac28a3033f484e48bf26609c43957931",
            "601483a4f24f487fa60905e365bc41aa",
            "3e088d22ce364df18ce3f3e49d77e69f",
            "2f747953d7a64d9a892be9edfc2a42f3",
            "98c6359c998a4ed9bc65bc1e7247ce95",
            "b5bca14f63d54216836340393b10c0c1",
            "82bf15ea53f04befbe2bb27d271f8f50",
            "8e26e42cbe1249d29b6ddd330ae55923",
            "ed1b2510b49649b185c0dd31556dcc51",
            "d5fcbf8341b3480eb831edb2b96dec18",
            "5d4b6282e033481f9fd14f3d1a6ffa2a",
            "e105e645d1a54daa92dd5f21ef4a45a7",
            "864b5d44ce6142248950384ad2f008d8",
            "4def7f9b3c9d462b818c32393f834f19",
            "396a8f932bfa4232a1f8a0cfa5214603",
            "e54543e277274b7d95d6eddf0d74088d",
            "4d0dcdf87186459fa8737eae5b26b23c",
            "0667d534d0bd48d986daf5c8004f7828",
            "406b2968fee144dfa85649d74d3a4f17",
            "00bd07d0535549d19910aa7b7fa67499",
            "0830d7ac14714113b115064ee4511fc1",
            "6448d8a38938464392d0339b2dc66feb",
            "9a29d7d53af049ceb41263f0ec0d718a",
            "a9d6bf6c7b914b71807dc89abcf0b6ca",
            "36123d4eb0ea4a29bb393ea057a53633",
            "b2ced80905924d0ebf43fa05bc01166f",
            "a2b52686f5fb45b7a2a2e7e9ce93ff71",
            "c921d8ca896a452c96d23186a834d2a3",
            "99583c33f44645d08fb103b594b8146e",
            "07f8634bf3354b2d90b95fb12adda170",
            "3a8deb80904242be99de7c5225d2cdaa",
            "fce6fa8aebdb4d2ea3a9e31be7b401f4",
            "3aa662f2a539497397029c3938046b82",
            "203e01499409456baad39d36f8d26543",
            "8339ac928d984d20a0f271d92b1c88c1",
            "1422e9a1c47d40c7a27e51cf76a31354",
            "2f022e8f13b94e59aeb71f13536bb3a7",
            "d8d241027d554951b202a855f2ea27b1",
            "5c7d13e7d0dd40959784bcc8a7daf9aa",
            "0e33c6171d344873987597a884b4a9f8",
            "61034687189a40b38ac4864051d70df3",
            "9af06d9f978542819592d600a7572abe",
            "fa2cd076eea64d7a882bbe0e6c04fddd",
            "69739074d9f54506ba6fad6b42f6031c",
            "69575ef503cd45f2b7db075311f5bd86",
            "03ed30eea76e4012ace1533e69afb261",
            "94c8106af4b2413f942da19d6805bcc9",
            "65f3ce1a6e8f4e3fa44bf017ff44402c",
            "063f0dda76694eacad06eb5cc0408a33",
            "c0fd816882e744bebaaa0df7b142d79a",
            "43f5aa6676494a91bc2a84a75b97adf9",
            "95ef42b02afa4f2a965133e6631c5015",
            "7ddd1f6b7517497da6b8347f1f3f7dd4",
            "87a8b839435a4fe6abd345ebeb2c8af2",
            "6cf7e60a6ad34caa9811b89de54639de",
            "cbc12c7b14dd42469b6188b30e2b3955",
            "7ffdef5677c7464bb92b979f38fdba06",
            "2dbb015ed178441082d7f381ffc7f048",
            "321a70c6ff134a5983bd9630134c68bd",
            "8073e66697024d09bd598b8f49e26e7b",
            "ba348dde2c244b2783338f0efcf5fb08",
            "1e5cb516b30c486da6d5e59b98c94265",
            "9d9ffadedffa4364a1b348d56d12d59e",
            "398cbae1af4d49a28ae25d2197b514a2",
            "0b9eafb507984be7b4c254ce57e8354a",
            "da97965561a841a896713d67f701dbde",
            "ba9fdecc99bd4de8bcd3cdb027844f2b",
            "e84e838680e3487c96bb7366085aa312",
            "c85b324958f142cf95cfaa8aa668bcd1",
            "b982e32ad70b4a24999008ef7d34f096",
            "32f2e5dd1764441b9551d37a11891bc2",
            "bc42cb9391614971b410be998d3b0eaa",
            "fab2a9643e2b44a5ab363fe3dc1a2ffc",
            "faf903456c274ee3a0f049e5af0baf63",
            "db9f5e763ee7496b970750c5c89f4535",
            "4294324922a2418aa3ee5f62f5501ff1",
            "06425372c49e483f8c770a17a8927e5b",
            "e1502d6b49f54a3cac23ff8a5d742db9",
            "adcec1eca7604c52987fe68363331ce4",
            "a01823d3f45f4de8ba310a833a69ad40",
            "34fb242c236f4a57a46d20ffb0f425af",
            "04bc137606984d87aff798077a888317",
            "575e5f11c77f497e83fdfa93041e8850",
            "a8e0dcaf5dc0490ea7c4f4135d392be0",
            "22321719d773464d97e0b7f569d9d7dd",
            "5e9af9ba210241b88a137d2e1c8d3c82",
            "0d0b4236924044b9bf8ec3c2e8ee715a",
            "9830510d59a048d09749bbc0ece41fa2",
            "026318d0919c4d2faa68cef9bfccf1f0",
            "41c0095fd17c4076a9f57fa1fa6f4c67",
            "a82f716e606b4ca092f700c20cb1ec65",
            "d1f994fb0aad4ed8a51ac2b72ac793d0",
            "3bba260a8dc94a29984788ce232355da",
            "53ba2111b3b24c2f87a17fe610fac0fc",
            "cfea962f7dab457fb976a145ab037dc8",
            "780cda0988c94a82aadb92a476ec1462",
            "9cacc3d1ed2d46b69bb5de8f7bd0dd9a",
            "1712ff5bbcd84f7ab3911367b519405e",
            "a5e55cea55b8404287b8de2744811878"
          ]
        },
        "id": "9xrZ-eW59beK",
        "outputId": "42c30880-c438-4d05-b50e-ba33d4fb5670"
      },
      "execution_count": null,
      "outputs": [
        {
          "output_type": "display_data",
          "data": {
            "text/plain": [
              "Epoch 1/30:   0%|          | 0/1150 [00:00<?, ?it/s]"
            ],
            "application/vnd.jupyter.widget-view+json": {
              "version_major": 2,
              "version_minor": 0,
              "model_id": "6041b07782e24ae2bdc53e0bf03467ce"
            }
          },
          "metadata": {}
        },
        {
          "output_type": "stream",
          "name": "stdout",
          "text": [
            "Epoch 1/30 - Discriminator loss: 0.1427 - Generator loss: 4.4348\n"
          ]
        },
        {
          "output_type": "display_data",
          "data": {
            "text/plain": [
              "Epoch 2/30:   0%|          | 0/1150 [00:00<?, ?it/s]"
            ],
            "application/vnd.jupyter.widget-view+json": {
              "version_major": 2,
              "version_minor": 0,
              "model_id": "f111bede8abc4b44aa76923368cafef4"
            }
          },
          "metadata": {}
        },
        {
          "output_type": "stream",
          "name": "stdout",
          "text": [
            "Epoch 2/30 - Discriminator loss: 0.0663 - Generator loss: 5.6347\n"
          ]
        },
        {
          "output_type": "display_data",
          "data": {
            "text/plain": [
              "Epoch 3/30:   0%|          | 0/1150 [00:00<?, ?it/s]"
            ],
            "application/vnd.jupyter.widget-view+json": {
              "version_major": 2,
              "version_minor": 0,
              "model_id": "03b57441914742269381b3d24aa115a7"
            }
          },
          "metadata": {}
        },
        {
          "output_type": "stream",
          "name": "stdout",
          "text": [
            "Epoch 3/30 - Discriminator loss: 0.0257 - Generator loss: 5.8138\n"
          ]
        },
        {
          "output_type": "display_data",
          "data": {
            "text/plain": [
              "Epoch 4/30:   0%|          | 0/1150 [00:00<?, ?it/s]"
            ],
            "application/vnd.jupyter.widget-view+json": {
              "version_major": 2,
              "version_minor": 0,
              "model_id": "d350270280f244ab9be4a285235ce827"
            }
          },
          "metadata": {}
        },
        {
          "output_type": "stream",
          "name": "stdout",
          "text": [
            "Epoch 4/30 - Discriminator loss: 0.0164 - Generator loss: 6.3222\n"
          ]
        },
        {
          "output_type": "display_data",
          "data": {
            "text/plain": [
              "Epoch 5/30:   0%|          | 0/1150 [00:00<?, ?it/s]"
            ],
            "application/vnd.jupyter.widget-view+json": {
              "version_major": 2,
              "version_minor": 0,
              "model_id": "4294ee0f89794758af7c89b57c1eef76"
            }
          },
          "metadata": {}
        },
        {
          "output_type": "stream",
          "name": "stdout",
          "text": [
            "Epoch 5/30 - Discriminator loss: 0.0113 - Generator loss: 6.1382\n"
          ]
        },
        {
          "output_type": "display_data",
          "data": {
            "text/plain": [
              "Epoch 6/30:   0%|          | 0/1150 [00:00<?, ?it/s]"
            ],
            "application/vnd.jupyter.widget-view+json": {
              "version_major": 2,
              "version_minor": 0,
              "model_id": "d3b0a1d1279742c595613a9689dd5656"
            }
          },
          "metadata": {}
        },
        {
          "output_type": "stream",
          "name": "stdout",
          "text": [
            "Epoch 6/30 - Discriminator loss: 0.0117 - Generator loss: 6.4326\n"
          ]
        },
        {
          "output_type": "display_data",
          "data": {
            "text/plain": [
              "Epoch 7/30:   0%|          | 0/1150 [00:00<?, ?it/s]"
            ],
            "application/vnd.jupyter.widget-view+json": {
              "version_major": 2,
              "version_minor": 0,
              "model_id": "32d6e663f0824263aad0688eda806416"
            }
          },
          "metadata": {}
        },
        {
          "output_type": "stream",
          "name": "stdout",
          "text": [
            "Epoch 7/30 - Discriminator loss: 0.0095 - Generator loss: 6.5607\n"
          ]
        },
        {
          "output_type": "display_data",
          "data": {
            "text/plain": [
              "Epoch 8/30:   0%|          | 0/1150 [00:00<?, ?it/s]"
            ],
            "application/vnd.jupyter.widget-view+json": {
              "version_major": 2,
              "version_minor": 0,
              "model_id": "d9e1b8429e434d0f9dc5fab2afeeb7f6"
            }
          },
          "metadata": {}
        },
        {
          "output_type": "stream",
          "name": "stdout",
          "text": [
            "Epoch 8/30 - Discriminator loss: 0.0047 - Generator loss: 6.7786\n"
          ]
        },
        {
          "output_type": "display_data",
          "data": {
            "text/plain": [
              "Epoch 9/30:   0%|          | 0/1150 [00:00<?, ?it/s]"
            ],
            "application/vnd.jupyter.widget-view+json": {
              "version_major": 2,
              "version_minor": 0,
              "model_id": "dc5a67471d1b4d0582d84e824c09c0cf"
            }
          },
          "metadata": {}
        },
        {
          "output_type": "stream",
          "name": "stdout",
          "text": [
            "Epoch 9/30 - Discriminator loss: 0.0048 - Generator loss: 6.9990\n"
          ]
        },
        {
          "output_type": "display_data",
          "data": {
            "text/plain": [
              "Epoch 10/30:   0%|          | 0/1150 [00:00<?, ?it/s]"
            ],
            "application/vnd.jupyter.widget-view+json": {
              "version_major": 2,
              "version_minor": 0,
              "model_id": "d3a3d5c058b8416b93a569b10889bf88"
            }
          },
          "metadata": {}
        },
        {
          "output_type": "stream",
          "name": "stdout",
          "text": [
            "Epoch 10/30 - Discriminator loss: 0.0043 - Generator loss: 7.2120\n"
          ]
        },
        {
          "output_type": "display_data",
          "data": {
            "text/plain": [
              "Epoch 11/30:   0%|          | 0/1150 [00:00<?, ?it/s]"
            ],
            "application/vnd.jupyter.widget-view+json": {
              "version_major": 2,
              "version_minor": 0,
              "model_id": "46fea7aad8024bfd9a2f95a78bbea59c"
            }
          },
          "metadata": {}
        },
        {
          "output_type": "stream",
          "name": "stdout",
          "text": [
            "Epoch 11/30 - Discriminator loss: 0.0042 - Generator loss: 7.2117\n"
          ]
        },
        {
          "output_type": "display_data",
          "data": {
            "text/plain": [
              "Epoch 12/30:   0%|          | 0/1150 [00:00<?, ?it/s]"
            ],
            "application/vnd.jupyter.widget-view+json": {
              "version_major": 2,
              "version_minor": 0,
              "model_id": "fcc1f02d26c54ebd9d14be282ac91df3"
            }
          },
          "metadata": {}
        },
        {
          "output_type": "stream",
          "name": "stdout",
          "text": [
            "Epoch 12/30 - Discriminator loss: 0.0030 - Generator loss: 7.3120\n"
          ]
        },
        {
          "output_type": "display_data",
          "data": {
            "text/plain": [
              "Epoch 13/30:   0%|          | 0/1150 [00:00<?, ?it/s]"
            ],
            "application/vnd.jupyter.widget-view+json": {
              "version_major": 2,
              "version_minor": 0,
              "model_id": "cf4136f409c44db29b75bd7ae9301564"
            }
          },
          "metadata": {}
        },
        {
          "output_type": "stream",
          "name": "stdout",
          "text": [
            "Epoch 13/30 - Discriminator loss: 0.0054 - Generator loss: 7.3951\n"
          ]
        },
        {
          "output_type": "display_data",
          "data": {
            "text/plain": [
              "Epoch 14/30:   0%|          | 0/1150 [00:00<?, ?it/s]"
            ],
            "application/vnd.jupyter.widget-view+json": {
              "version_major": 2,
              "version_minor": 0,
              "model_id": "5aa50f17977f42f89f6c3fc13cc17b26"
            }
          },
          "metadata": {}
        },
        {
          "output_type": "stream",
          "name": "stdout",
          "text": [
            "Epoch 14/30 - Discriminator loss: 0.0125 - Generator loss: 6.8597\n"
          ]
        },
        {
          "output_type": "display_data",
          "data": {
            "text/plain": [
              "Epoch 15/30:   0%|          | 0/1150 [00:00<?, ?it/s]"
            ],
            "application/vnd.jupyter.widget-view+json": {
              "version_major": 2,
              "version_minor": 0,
              "model_id": "b4e930c8bf1d4d5c8993559e9f1bc742"
            }
          },
          "metadata": {}
        },
        {
          "output_type": "stream",
          "name": "stdout",
          "text": [
            "Epoch 15/30 - Discriminator loss: 0.0039 - Generator loss: 7.2925\n"
          ]
        },
        {
          "output_type": "display_data",
          "data": {
            "text/plain": [
              "Epoch 16/30:   0%|          | 0/1150 [00:00<?, ?it/s]"
            ],
            "application/vnd.jupyter.widget-view+json": {
              "version_major": 2,
              "version_minor": 0,
              "model_id": "9cb1a04a725f445e9eb4ffdb3d14366c"
            }
          },
          "metadata": {}
        },
        {
          "output_type": "stream",
          "name": "stdout",
          "text": [
            "Epoch 16/30 - Discriminator loss: 0.0055 - Generator loss: 7.0916\n"
          ]
        },
        {
          "output_type": "display_data",
          "data": {
            "text/plain": [
              "Epoch 17/30:   0%|          | 0/1150 [00:00<?, ?it/s]"
            ],
            "application/vnd.jupyter.widget-view+json": {
              "version_major": 2,
              "version_minor": 0,
              "model_id": "690da04ade2a49b6ac6ed0f301724d54"
            }
          },
          "metadata": {}
        },
        {
          "output_type": "stream",
          "name": "stdout",
          "text": [
            "Epoch 17/30 - Discriminator loss: 0.0039 - Generator loss: 7.0458\n"
          ]
        },
        {
          "output_type": "display_data",
          "data": {
            "text/plain": [
              "Epoch 18/30:   0%|          | 0/1150 [00:00<?, ?it/s]"
            ],
            "application/vnd.jupyter.widget-view+json": {
              "version_major": 2,
              "version_minor": 0,
              "model_id": "4f1815791ad148d59fd356910b1c00b9"
            }
          },
          "metadata": {}
        },
        {
          "output_type": "stream",
          "name": "stdout",
          "text": [
            "Epoch 18/30 - Discriminator loss: 0.0023 - Generator loss: 7.0805\n"
          ]
        },
        {
          "output_type": "display_data",
          "data": {
            "text/plain": [
              "Epoch 19/30:   0%|          | 0/1150 [00:00<?, ?it/s]"
            ],
            "application/vnd.jupyter.widget-view+json": {
              "version_major": 2,
              "version_minor": 0,
              "model_id": "0a1bc6331f2d49a6acc31a3de7cc1164"
            }
          },
          "metadata": {}
        },
        {
          "output_type": "stream",
          "name": "stdout",
          "text": [
            "Epoch 19/30 - Discriminator loss: 0.0030 - Generator loss: 7.1383\n"
          ]
        },
        {
          "output_type": "display_data",
          "data": {
            "text/plain": [
              "Epoch 20/30:   0%|          | 0/1150 [00:00<?, ?it/s]"
            ],
            "application/vnd.jupyter.widget-view+json": {
              "version_major": 2,
              "version_minor": 0,
              "model_id": "bcade519c5ce435dac3b33dfd509eae5"
            }
          },
          "metadata": {}
        },
        {
          "output_type": "stream",
          "name": "stdout",
          "text": [
            "Epoch 20/30 - Discriminator loss: 0.0029 - Generator loss: 7.3233\n"
          ]
        },
        {
          "output_type": "display_data",
          "data": {
            "text/plain": [
              "Epoch 21/30:   0%|          | 0/1150 [00:00<?, ?it/s]"
            ],
            "application/vnd.jupyter.widget-view+json": {
              "version_major": 2,
              "version_minor": 0,
              "model_id": "bced3a304d824967bc24d03f41234344"
            }
          },
          "metadata": {}
        },
        {
          "output_type": "stream",
          "name": "stdout",
          "text": [
            "Epoch 21/30 - Discriminator loss: 0.0016 - Generator loss: 7.3106\n"
          ]
        },
        {
          "output_type": "display_data",
          "data": {
            "text/plain": [
              "Epoch 22/30:   0%|          | 0/1150 [00:00<?, ?it/s]"
            ],
            "application/vnd.jupyter.widget-view+json": {
              "version_major": 2,
              "version_minor": 0,
              "model_id": "ac28a3033f484e48bf26609c43957931"
            }
          },
          "metadata": {}
        },
        {
          "output_type": "stream",
          "name": "stdout",
          "text": [
            "Epoch 22/30 - Discriminator loss: 0.0040 - Generator loss: 7.2259\n"
          ]
        },
        {
          "output_type": "display_data",
          "data": {
            "text/plain": [
              "Epoch 23/30:   0%|          | 0/1150 [00:00<?, ?it/s]"
            ],
            "application/vnd.jupyter.widget-view+json": {
              "version_major": 2,
              "version_minor": 0,
              "model_id": "e105e645d1a54daa92dd5f21ef4a45a7"
            }
          },
          "metadata": {}
        },
        {
          "output_type": "stream",
          "name": "stdout",
          "text": [
            "Epoch 23/30 - Discriminator loss: 0.0023 - Generator loss: 7.2005\n"
          ]
        },
        {
          "output_type": "display_data",
          "data": {
            "text/plain": [
              "Epoch 24/30:   0%|          | 0/1150 [00:00<?, ?it/s]"
            ],
            "application/vnd.jupyter.widget-view+json": {
              "version_major": 2,
              "version_minor": 0,
              "model_id": "9a29d7d53af049ceb41263f0ec0d718a"
            }
          },
          "metadata": {}
        },
        {
          "output_type": "stream",
          "name": "stdout",
          "text": [
            "Epoch 24/30 - Discriminator loss: 0.0021 - Generator loss: 7.2462\n"
          ]
        },
        {
          "output_type": "display_data",
          "data": {
            "text/plain": [
              "Epoch 25/30:   0%|          | 0/1150 [00:00<?, ?it/s]"
            ],
            "application/vnd.jupyter.widget-view+json": {
              "version_major": 2,
              "version_minor": 0,
              "model_id": "203e01499409456baad39d36f8d26543"
            }
          },
          "metadata": {}
        },
        {
          "output_type": "stream",
          "name": "stdout",
          "text": [
            "Epoch 25/30 - Discriminator loss: 0.0019 - Generator loss: 7.3677\n"
          ]
        },
        {
          "output_type": "display_data",
          "data": {
            "text/plain": [
              "Epoch 26/30:   0%|          | 0/1150 [00:00<?, ?it/s]"
            ],
            "application/vnd.jupyter.widget-view+json": {
              "version_major": 2,
              "version_minor": 0,
              "model_id": "69575ef503cd45f2b7db075311f5bd86"
            }
          },
          "metadata": {}
        },
        {
          "output_type": "stream",
          "name": "stdout",
          "text": [
            "Epoch 26/30 - Discriminator loss: 0.0022 - Generator loss: 7.3668\n"
          ]
        },
        {
          "output_type": "display_data",
          "data": {
            "text/plain": [
              "Epoch 27/30:   0%|          | 0/1150 [00:00<?, ?it/s]"
            ],
            "application/vnd.jupyter.widget-view+json": {
              "version_major": 2,
              "version_minor": 0,
              "model_id": "cbc12c7b14dd42469b6188b30e2b3955"
            }
          },
          "metadata": {}
        },
        {
          "output_type": "stream",
          "name": "stdout",
          "text": [
            "Epoch 27/30 - Discriminator loss: 0.0090 - Generator loss: 7.5462\n"
          ]
        },
        {
          "output_type": "display_data",
          "data": {
            "text/plain": [
              "Epoch 28/30:   0%|          | 0/1150 [00:00<?, ?it/s]"
            ],
            "application/vnd.jupyter.widget-view+json": {
              "version_major": 2,
              "version_minor": 0,
              "model_id": "ba9fdecc99bd4de8bcd3cdb027844f2b"
            }
          },
          "metadata": {}
        },
        {
          "output_type": "stream",
          "name": "stdout",
          "text": [
            "Epoch 28/30 - Discriminator loss: 0.0043 - Generator loss: 7.1337\n"
          ]
        },
        {
          "output_type": "display_data",
          "data": {
            "text/plain": [
              "Epoch 29/30:   0%|          | 0/1150 [00:00<?, ?it/s]"
            ],
            "application/vnd.jupyter.widget-view+json": {
              "version_major": 2,
              "version_minor": 0,
              "model_id": "e1502d6b49f54a3cac23ff8a5d742db9"
            }
          },
          "metadata": {}
        },
        {
          "output_type": "stream",
          "name": "stdout",
          "text": [
            "Epoch 29/30 - Discriminator loss: 0.0027 - Generator loss: 7.3228\n"
          ]
        },
        {
          "output_type": "display_data",
          "data": {
            "text/plain": [
              "Epoch 30/30:   0%|          | 0/1150 [00:00<?, ?it/s]"
            ],
            "application/vnd.jupyter.widget-view+json": {
              "version_major": 2,
              "version_minor": 0,
              "model_id": "026318d0919c4d2faa68cef9bfccf1f0"
            }
          },
          "metadata": {}
        },
        {
          "output_type": "stream",
          "name": "stdout",
          "text": [
            "Epoch 30/30 - Discriminator loss: 0.0025 - Generator loss: 7.1825\n"
          ]
        }
      ]
    },
    {
      "cell_type": "code",
      "source": [
        "torch.save(generator.state_dict(), '/content/drive/MyDrive/Deep Learning/DLOps_A4/generator_weights_4.pth')\n",
        "torch.save(discriminator.state_dict(), '/content/drive/MyDrive/Deep Learning/DLOps_A4/discriminator_weights_4.pth')"
      ],
      "metadata": {
        "id": "4-z7YKx18xlx"
      },
      "execution_count": null,
      "outputs": []
    },
    {
      "cell_type": "code",
      "source": [
        "plt.plot(gen_loss, 'b-', label='generator loss')\n",
        "plt.plot(disc_loss, 'r-', label='discriminator loss')\n",
        "plt.legend()\n",
        "plt.xlabel('Epochs')\n",
        "plt.ylabel('Loss')\n",
        "plt.title('gen v/s disc loss curve')\n",
        "plt.show()"
      ],
      "metadata": {
        "colab": {
          "base_uri": "https://localhost:8080/",
          "height": 471
        },
        "id": "BKD6EqzO--s4",
        "outputId": "94046a64-691f-4acf-bad5-63a6f1999e89"
      },
      "execution_count": null,
      "outputs": [
        {
          "output_type": "display_data",
          "data": {
            "text/plain": [
              "<Figure size 640x480 with 1 Axes>"
            ],
            "image/png": "[encoded data removed]"
          },
          "metadata": {}
        }
      ]
    },
    {
      "cell_type": "markdown",
      "source": [
        "### load model"
      ],
      "metadata": {
        "id": "cjkrVHBOx6jF"
      }
    },
    {
      "cell_type": "code",
      "source": [
        "n_classes = 46\n",
        "embedding_dim = 64\n",
        "latent_dim = 64\n",
        "generator = Generator(n_classes, embedding_dim, latent_dim).to(device)\n",
        "discriminator = Discriminator(n_classes, embedding_dim).to(device)\n",
        "\n",
        "generator.load_state_dict(torch.load('/content/drive/MyDrive/Deep Learning/DLOps_A4/generator_weights_4.pth'))\n",
        "discriminator.load_state_dict(torch.load('/content/drive/MyDrive/Deep Learning/DLOps_A4/discriminator_weights_4.pth'))\n"
      ],
      "metadata": {
        "colab": {
          "base_uri": "https://localhost:8080/"
        },
        "id": "JZ_O02bxx2FG",
        "outputId": "c5a79253-84e9-4a73-f935-e82c305be915"
      },
      "execution_count": null,
      "outputs": [
        {
          "output_type": "execute_result",
          "data": {
            "text/plain": [
              "<All keys matched successfully>"
            ]
          },
          "metadata": {},
          "execution_count": 23
        }
      ]
    },
    {
      "cell_type": "code",
      "source": [
        "class ImageGenerator:\n",
        "    def __init__(self, model):\n",
        "        self.model = model.eval()\n",
        "        \n",
        "    def generate_images(self, noise_vector, n_classes):\n",
        "        self.model.eval()\n",
        "        output = None\n",
        "        for label in range(n_classes):\n",
        "            labels = torch.ones(noise_vector.shape[0], 1) * label\n",
        "            labels = labels.long()\n",
        "            labels = labels.to(device)\n",
        "            with torch.no_grad():\n",
        "                predictions = self.model((noise_vector, labels))\n",
        "            pred = ((predictions[0][0] + 1)*127.5).cpu().detach()\n",
        "            plt.imshow(pred.permute(1,2,0))\n",
        "            plt.show()\n",
        "\n",
        "ig = ImageGenerator(generator)"
      ],
      "metadata": {
        "id": "f0KD0SrPifux"
      },
      "execution_count": null,
      "outputs": []
    },
    {
      "cell_type": "code",
      "source": [
        "images_to_generate = 10\n",
        "noise = torch.randn(images_to_generate, latent_dim).to(device)\n",
        "ig.generate_images(noise, n_classes)"
      ],
      "metadata": {
        "colab": {
          "base_uri": "https://localhost:8080/",
          "height": 1000
        },
        "id": "2VNNeH4AFROK",
        "outputId": "c47652b0-8018-44ff-a2df-0dd7beaef243"
      },
      "execution_count": null,
      "outputs": [
        {
          "output_type": "stream",
          "name": "stdout",
          "text": [
            "tensor([[[-0.9446, -0.9838, -0.9484,  ..., -1.0000, -0.9967, -0.9992],\n",
            "         [-0.9938, -0.9996, -0.9979,  ..., -1.0000, -0.9999, -0.9999],\n",
            "         [-0.9958, -0.9968, -0.4378,  ..., -0.9999, -1.0000, -0.9926],\n",
            "         ...,\n",
            "         [-1.0000, -1.0000, -0.9837,  ..., -0.9999, -0.9794, -0.9994],\n",
            "         [-0.9984, -0.9999, -0.9914,  ..., -0.9826, -0.9989, -0.9972],\n",
            "         [-0.9985, -0.9999, -0.9907,  ..., -0.9994, -0.9947, -0.9946]]],\n",
            "       device='cuda:0', grad_fn=<SelectBackward0>)\n",
            "tensor([[[-0.8897, -0.9697, -0.9568,  ..., -0.9999, -0.9787, -0.9886],\n",
            "         [-0.9837, -0.9994, -0.9958,  ..., -1.0000, -0.9944, -0.9986],\n",
            "         [-0.9929, -0.9984, -0.7491,  ..., -0.9656, -0.9988, -0.9722],\n",
            "         ...,\n",
            "         [-1.0000, -1.0000, -0.9969,  ..., -0.9954, -0.9437, -0.9939],\n",
            "         [-0.9989, -1.0000, -0.9943,  ..., -0.9793, -0.9975, -0.9913],\n",
            "         [-0.9984, -0.9999, -0.9913,  ..., -0.9992, -0.9892, -0.9881]]],\n",
            "       device='cuda:0', grad_fn=<SelectBackward0>)\n"
          ]
        },
        {
          "output_type": "display_data",
          "data": {
            "text/plain": [
              "<Figure size 640x480 with 1 Axes>"
            ],
            "image/png": "[encoded data removed]"
          },
          "metadata": {}
        },
        {
          "output_type": "stream",
          "name": "stdout",
          "text": [
            "tensor([[[-0.9445, -0.9838, -0.9481,  ..., -1.0000, -0.9967, -0.9992],\n",
            "         [-0.9937, -0.9996, -0.9979,  ..., -1.0000, -0.9999, -0.9999],\n",
            "         [-0.9958, -0.9968, -0.4396,  ..., -0.9999, -1.0000, -0.9926],\n",
            "         ...,\n",
            "         [-1.0000, -1.0000, -0.9837,  ..., -0.9999, -0.9795, -0.9994],\n",
            "         [-0.9984, -0.9999, -0.9914,  ..., -0.9827, -0.9989, -0.9972],\n",
            "         [-0.9985, -0.9999, -0.9908,  ..., -0.9994, -0.9948, -0.9946]]],\n",
            "       device='cuda:0', grad_fn=<SelectBackward0>)\n",
            "tensor([[[-0.8895, -0.9697, -0.9566,  ..., -0.9999, -0.9787, -0.9886],\n",
            "         [-0.9836, -0.9994, -0.9957,  ..., -1.0000, -0.9944, -0.9986],\n",
            "         [-0.9929, -0.9984, -0.7496,  ..., -0.9656, -0.9988, -0.9722],\n",
            "         ...,\n",
            "         [-1.0000, -1.0000, -0.9969,  ..., -0.9955, -0.9439, -0.9939],\n",
            "         [-0.9989, -1.0000, -0.9943,  ..., -0.9794, -0.9975, -0.9913],\n",
            "         [-0.9984, -0.9999, -0.9913,  ..., -0.9992, -0.9892, -0.9882]]],\n",
            "       device='cuda:0', grad_fn=<SelectBackward0>)\n"
          ]
        },
        {
          "output_type": "display_data",
          "data": {
            "text/plain": [
              "<Figure size 640x480 with 1 Axes>"
            ],
            "image/png": "[encoded data removed]"
          },
          "metadata": {}
        },
        {
          "output_type": "stream",
          "name": "stdout",
          "text": [
            "tensor([[[-0.9446, -0.9838, -0.9483,  ..., -1.0000, -0.9967, -0.9992],\n",
            "         [-0.9938, -0.9996, -0.9979,  ..., -1.0000, -0.9999, -0.9999],\n",
            "         [-0.9958, -0.9968, -0.4384,  ..., -0.9999, -1.0000, -0.9926],\n",
            "         ...,\n",
            "         [-1.0000, -1.0000, -0.9837,  ..., -0.9999, -0.9795, -0.9994],\n",
            "         [-0.9984, -0.9999, -0.9914,  ..., -0.9826, -0.9989, -0.9972],\n",
            "         [-0.9985, -0.9999, -0.9908,  ..., -0.9994, -0.9948, -0.9946]]],\n",
            "       device='cuda:0', grad_fn=<SelectBackward0>)\n",
            "tensor([[[-0.8896, -0.9697, -0.9568,  ..., -0.9999, -0.9787, -0.9886],\n",
            "         [-0.9837, -0.9994, -0.9958,  ..., -1.0000, -0.9944, -0.9986],\n",
            "         [-0.9929, -0.9984, -0.7492,  ..., -0.9656, -0.9988, -0.9722],\n",
            "         ...,\n",
            "         [-1.0000, -1.0000, -0.9969,  ..., -0.9955, -0.9437, -0.9939],\n",
            "         [-0.9989, -1.0000, -0.9943,  ..., -0.9794, -0.9975, -0.9913],\n",
            "         [-0.9984, -0.9999, -0.9913,  ..., -0.9992, -0.9892, -0.9881]]],\n",
            "       device='cuda:0', grad_fn=<SelectBackward0>)\n"
          ]
        },
        {
          "output_type": "display_data",
          "data": {
            "text/plain": [
              "<Figure size 640x480 with 1 Axes>"
            ],
            "image/png": "[encoded data removed]"
          },
          "metadata": {}
        }
      ]
    },
    {
      "cell_type": "code",
      "source": [
        "num_classes = 46\n",
        "num_samples_per_class = 50\n",
        "latent_dim = 64\n",
        "\n",
        "generated_samples = []\n",
        "\n",
        "# Generate 50 samples for each class\n",
        "for class_idx in range(num_classes):\n",
        "    for i in range(num_samples_per_class):\n",
        "        # generate random latent vector\n",
        "        latent_vector = torch.randn(1, latent_dim, device=device)\n",
        "        \n",
        "        # generate sample\n",
        "        label = torch.tensor([class_idx], device=device)\n",
        "        sample = generator((latent_vector, label)).detach().cpu().numpy().squeeze()\n",
        "        \n",
        "        generated_samples.append(sample)"
      ],
      "metadata": {
        "id": "pLPKiNOp8gGh"
      },
      "execution_count": null,
      "outputs": []
    },
    {
      "cell_type": "code",
      "source": [
        "len(generated_samples)"
      ],
      "metadata": {
        "colab": {
          "base_uri": "https://localhost:8080/"
        },
        "id": "ZuHoif40CdZ8",
        "outputId": "9ef2eabd-f15e-4975-e1c8-db091dfc8d09"
      },
      "execution_count": null,
      "outputs": [
        {
          "output_type": "execute_result",
          "data": {
            "text/plain": [
              "2300"
            ]
          },
          "metadata": {},
          "execution_count": 27
        }
      ]
    },
    {
      "cell_type": "code",
      "source": [
        "import pandas as pd\n",
        "\n",
        "num_classes = 46\n",
        "num_samples_per_class = 50\n",
        "latent_dim = 64\n",
        "\n",
        "generated_samples = []\n",
        "\n",
        "# Generate 50 samples for each class\n",
        "for class_idx in range(num_classes):\n",
        "    for i in range(num_samples_per_class):\n",
        "        # generate random latent vector\n",
        "        latent_vector = torch.randn(1, latent_dim, device=device)\n",
        "        \n",
        "        # generate sample\n",
        "        label = torch.tensor([class_idx], device=device)\n",
        "        sample = generator((latent_vector, label)).detach().cpu().numpy().squeeze()\n",
        "        \n",
        "        generated_samples.append(sample)\n",
        "\n",
        "# Convert the list of samples into a NumPy array\n",
        "generated_samples = np.array(generated_samples)\n",
        "\n",
        "# Reshape the samples to have a single row for each image\n",
        "flattened_samples = generated_samples.reshape(num_classes*num_samples_per_class, -1)\n",
        "\n",
        "# Create a data frame with the flattened samples\n",
        "df = pd.DataFrame(flattened_samples)\n",
        "\n",
        "# Add a column for the labels\n",
        "labels = np.repeat(range(num_classes), num_samples_per_class)\n",
        "df['label'] = labels\n",
        "\n",
        "# Print the data frame\n",
        "print(df.head())\n"
      ],
      "metadata": {
        "colab": {
          "base_uri": "https://localhost:8080/"
        },
        "id": "Oqm9CQdSO6zi",
        "outputId": "f73b274e-ded5-458b-a0a9-01ea5c986a97"
      },
      "execution_count": null,
      "outputs": [
        {
          "output_type": "stream",
          "name": "stdout",
          "text": [
            "          0         1         2         3         4         5         6  \\\n",
            "0 -0.995078 -0.998657 -0.993308 -0.997326 -0.995462 -0.999999 -0.999782   \n",
            "1 -0.997747 -0.999687 -0.998250 -0.997514 -0.995922 -1.000000 -0.999991   \n",
            "2 -0.975141 -0.992393 -0.970528 -0.988191 -0.990594 -0.999969 -0.998281   \n",
            "3 -0.941502 -0.983429 -0.977765 -0.986128 -0.991590 -0.999659 -0.990084   \n",
            "4 -0.916018 -0.971498 -0.923518 -0.944990 -0.969678 -0.998815 -0.987045   \n",
            "\n",
            "          7         8         9  ...      1015      1016      1017      1018  \\\n",
            "0 -1.000000 -0.994198 -0.999998  ... -0.999978 -0.999087 -0.999860 -0.989910   \n",
            "1 -1.000000 -0.995818 -1.000000  ... -0.999978 -0.999533 -0.999970 -0.994863   \n",
            "2 -0.999980 -0.989897 -0.999919  ... -0.999992 -0.998981 -0.999809 -0.989059   \n",
            "3 -0.998625 -0.985334 -0.997564  ... -0.999963 -0.999063 -0.999866 -0.991473   \n",
            "4 -0.998873 -0.977485 -0.997607  ... -0.999990 -0.998757 -0.999872 -0.989588   \n",
            "\n",
            "       1019      1020      1021      1022      1023  label  \n",
            "0 -0.994699 -0.997571 -0.999342 -0.990988 -0.990182      0  \n",
            "1 -0.997165 -0.998540 -0.999561 -0.994368 -0.993844      0  \n",
            "2 -0.995017 -0.997651 -0.999406 -0.991664 -0.991204      0  \n",
            "3 -0.995654 -0.997925 -0.999429 -0.991389 -0.990284      0  \n",
            "4 -0.995310 -0.996716 -0.998895 -0.992505 -0.992745      0  \n",
            "\n",
            "[5 rows x 1025 columns]\n"
          ]
        }
      ]
    },
    {
      "cell_type": "code",
      "source": [
        "X_test = df.iloc[:, :-1].values  # Features\n",
        "y_test = df.iloc[:, -1].values  # Labels"
      ],
      "metadata": {
        "id": "eGkooPhWODhy"
      },
      "execution_count": null,
      "outputs": []
    },
    {
      "cell_type": "code",
      "source": [
        "# Step 5: Define PyTorch data loaders\n",
        "batch_size = 64\n",
        "\n",
        "train_transforms = transforms.Compose([\n",
        "    transforms.RandomHorizontalFlip(),\n",
        "    transforms.Grayscale(num_output_channels=3),  # convert to 3-channel images\n",
        "    transforms.ToTensor(),\n",
        "    transforms.Normalize(mean=[0.5, 0.5, 0.5], std=[0.5, 0.5, 0.5])\n",
        "])\n",
        "\n",
        "test_transforms = transforms.Compose([\n",
        "    transforms.Grayscale(num_output_channels=3),  # convert to 3-channel images\n",
        "    transforms.ToTensor(),\n",
        "    transforms.Normalize(mean=[0.5, 0.5, 0.5], std=[0.5, 0.5, 0.5])\n",
        "])\n",
        "\n",
        "train_dataset = CustomDataset(X_train, y_train, transform=train_transforms)\n",
        "test_dataset = CustomDataset(X_test, y_test, transform=test_transforms)\n",
        "\n",
        "train_loader = DataLoader(train_dataset, batch_size=batch_size, shuffle=True)\n",
        "test_loader = DataLoader(test_dataset, batch_size=batch_size)\n",
        "\n"
      ],
      "metadata": {
        "id": "x0ZAxeLECo2n"
      },
      "execution_count": null,
      "outputs": []
    },
    {
      "cell_type": "code",
      "source": [
        "# define model\n",
        "resnet = torchvision.models.resnet18(pretrained=False)\n",
        "num_ftrs = resnet.fc.in_features\n",
        "resnet.fc = torch.nn.Linear(num_ftrs, 46)\n",
        "\n",
        "# define loss and optimizer\n",
        "criterion = torch.nn.CrossEntropyLoss()\n",
        "optimizer = optim.Adam(resnet.parameters(), lr=2e-3, weight_decay = 5e-4)"
      ],
      "metadata": {
        "colab": {
          "base_uri": "https://localhost:8080/"
        },
        "id": "ujiC-aDaDhO0",
        "outputId": "60b8e70a-2350-41b1-fb39-770470d136fc"
      },
      "execution_count": null,
      "outputs": [
        {
          "output_type": "stream",
          "name": "stderr",
          "text": [
            "/usr/local/lib/python3.9/dist-packages/torchvision/models/_utils.py:208: UserWarning: The parameter 'pretrained' is deprecated since 0.13 and may be removed in the future, please use 'weights' instead.\n",
            "  warnings.warn(\n",
            "/usr/local/lib/python3.9/dist-packages/torchvision/models/_utils.py:223: UserWarning: Arguments other than a weight enum or `None` for 'weights' are deprecated since 0.13 and may be removed in the future. The current behavior is equivalent to passing `weights=ResNet18_Weights.IMAGENET1K_V1`. You can also use `weights=ResNet18_Weights.DEFAULT` to get the most up-to-date weights.\n",
            "  warnings.warn(msg)\n",
            "Downloading: \"https://download.pytorch.org/models/resnet18-f37072fd.pth\" to /root/.cache/torch/hub/checkpoints/resnet18-f37072fd.pth\n",
            "100%|██████████| 44.7M/44.7M [00:00<00:00, 96.1MB/s]\n"
          ]
        }
      ]
    },
    {
      "cell_type": "code",
      "source": [
        "resnet = resnet.to(device)"
      ],
      "metadata": {
        "id": "ElmeJVh_EVmN"
      },
      "execution_count": null,
      "outputs": []
    },
    {
      "cell_type": "code",
      "source": [
        "def train(model, device, train_loader, optimizer, epoch, reg_strength=0.001):\n",
        "    model.train()\n",
        "    train_loss = 0\n",
        "    train_correct_top1 = 0\n",
        "    train_correct_top5 = 0\n",
        "    num_batches = len(train_loader)\n",
        "    with tqdm(total=num_batches, desc=f'Training Epoch {epoch}', unit='batch') as pbar:\n",
        "        for batch_idx, (data, target) in enumerate(train_loader):\n",
        "            data, target = data.to(device), target.to(device)\n",
        "            optimizer.zero_grad()\n",
        "            # print(data.shape)\n",
        "            output = model(data)\n",
        "            loss = F.cross_entropy(output, target)\n",
        "\n",
        "            # L2 regularization\n",
        "            reg_loss = sum(param.norm(2) ** 2 for param in model.parameters())\n",
        "            loss += reg_strength * reg_loss\n",
        "\n",
        "            loss.backward()\n",
        "            optimizer.step()\n",
        "            train_loss += loss.item()\n",
        "\n",
        "            # Calculate top-1 and top-5 accuracy\n",
        "            _, predicted = torch.topk(output, k=5, dim=1)\n",
        "            train_correct_top1 += torch.sum(predicted[:, 0] == target)\n",
        "            train_correct_top5 += torch.sum(predicted == target.unsqueeze(1))\n",
        "\n",
        "            # Update progress bar\n",
        "            pbar.set_postfix({'loss': train_loss / (batch_idx + 1)})\n",
        "            pbar.update()\n",
        "\n",
        "    train_loss /= len(train_loader.dataset)\n",
        "    train_acc_top1 = train_correct_top1.double() / len(train_loader.dataset)\n",
        "    train_acc_top5 = train_correct_top5.double() / len(train_loader.dataset)\n",
        "    return train_loss, train_acc_top1, train_acc_top5\n",
        "    \n",
        "def test(model, device, test_loader, reg_strength=0.001):\n",
        "    model.eval()\n",
        "    test_loss = 0\n",
        "    test_correct = 0\n",
        "    test_total = 0\n",
        "    test_correct_top5 = 0\n",
        "    num_batches = len(test_loader)\n",
        "    with tqdm(total=num_batches, desc='Testing', unit='batch') as pbar:\n",
        "        with torch.no_grad():\n",
        "            for batch_idx, (data, target) in enumerate(test_loader):\n",
        "                data, target = data.to(device), target.to(device)\n",
        "                output = model(data)\n",
        "                loss = F.cross_entropy(output, target, reduction='sum')\n",
        "\n",
        "                # L2 regularization\n",
        "                reg_loss = sum(param.norm(2) ** 2 for param in model.parameters())\n",
        "                loss += reg_strength * reg_loss\n",
        "\n",
        "                test_loss += loss.item()\n",
        "                _, predicted = torch.max(output.data, 1)\n",
        "                test_total += target.size(0)\n",
        "                test_correct += (predicted == target).sum().item()\n",
        "\n",
        "                # Top-5 accuracy\n",
        "                _, top5_predicted = torch.topk(output.data, 5, dim=1)\n",
        "                for i in range(len(target)):\n",
        "                    if target[i] in top5_predicted[i]:\n",
        "                        test_correct_top5 += 1\n",
        "\n",
        "                # Update progress bar\n",
        "                pbar.set_postfix({'loss': test_loss / (batch_idx + 1)})\n",
        "                pbar.update()\n",
        "\n",
        "    test_loss /= len(test_loader.dataset)\n",
        "    test_acc = test_correct / test_total\n",
        "    test_acc_top5 = test_correct_top5 / test_total\n",
        "    return test_loss, test_acc, test_acc_top5\n"
      ],
      "metadata": {
        "id": "SAVyvaA9DrVf"
      },
      "execution_count": null,
      "outputs": []
    },
    {
      "cell_type": "code",
      "source": [
        "# He weight initialization\n",
        "for name, param in resnet.named_parameters():\n",
        "    if 'weight' in name:\n",
        "        if len(param.shape) < 2:\n",
        "          continue\n",
        "        nn.init.kaiming_normal_(param)\n"
      ],
      "metadata": {
        "id": "QHB7wAppELHG"
      },
      "execution_count": null,
      "outputs": []
    },
    {
      "cell_type": "code",
      "source": [
        "test_losses = []\n",
        "test_accuracies_top1 = []\n",
        "test_accuracies_top5 = []\n",
        "train_losses = []\n",
        "train_accuracies_top1 = []\n",
        "train_accuracied_top5 = []\n",
        "num_epochs = 15\n",
        "# Train and test the model\n",
        "for epoch in range(num_epochs):\n",
        "    train_loss, train_acc_top1, train_acc_top5 = train(resnet, device, train_loader, optimizer, epoch)\n",
        "    test_loss, test_acc_top1, test_acc_top5 = test(resnet, device, test_loader)\n",
        "    train_losses.append(train_loss)\n",
        "    train_accuracies_top1.append(train_acc_top1)\n",
        "    train_accuracied_top5.append(train_acc_top5)\n",
        "    test_losses.append(test_loss)\n",
        "    test_accuracies_top1.append(test_acc_top1)\n",
        "    test_accuracies_top5.append(test_acc_top5)\n",
        "    print()\n",
        "    print(\"Epoch: \", epoch + 1, \"Train Loss: \", train_loss, \"Train Acc top 1: \", train_acc_top1.item(), \"Test Loss: \", test_loss, \"Test Acc top 1: \", test_acc_top1)\n",
        "    print(\"Train Acc top 5: \", train_acc_top5.item(), \"Test Acc top 5: \", test_acc_top5)\n",
        "    print()\n",
        "\n",
        "train_losses = torch.tensor(train_losses)\n",
        "train_accuracies_top1 = torch.tensor(train_accuracies_top1)\n",
        "train_accuracied_top5 = torch.tensor(train_accuracied_top5)\n",
        "test_losses = torch.tensor(test_losses)\n",
        "test_accuracies_top1 = torch.tensor(test_accuracies_top1)\n",
        "test_accuracies_top5 = torch.tensor(test_accuracies_top5)\n",
        "\n",
        "train_losses = train_losses.cpu().numpy()\n",
        "train_accuracies_top1 = train_accuracies_top1.cpu().numpy()\n",
        "train_accuracied_top5 = train_accuracied_top5.cpu().numpy()\n",
        "test_losses = test_losses.cpu().numpy()\n",
        "test_accuracies_top1 = test_accuracies_top1.cpu().numpy()\n",
        "test_accuracies_top5 = test_accuracies_top5.cpu().numpy()\n"
      ],
      "metadata": {
        "colab": {
          "base_uri": "https://localhost:8080/",
          "height": 1000,
          "referenced_widgets": [
            "73d6889c2abf496e8427f39e208292dc",
            "7b350eeb6f05420ca96c35c8384e76d0",
            "755356f0b86247e0ad9fe2c864e78ab5",
            "d9a4df476f204739984248f02105c835",
            "8874037468a2450181eca51366164220",
            "9b4d702ae4b54e9990b4d4589b0dc49f",
            "de3f0f3d334a46c9b422ddeab154ef40",
            "8324350409cd40e380183375e0124f36",
            "3614e02346ec4d898298687340b1b602",
            "ee3349c0b82e4481b48f71637c798d4d",
            "9aeaff6e3f6241e987f0b7fc0056b294",
            "4f4580db535443bc92b01251b6c36bd7",
            "09de18ac3f0c4fb1b4252064ac08b837",
            "b5d995a2d01d4abcb8ce9d93c85de7ed",
            "3a0bef0055e54bb0b2d884ea16aede71",
            "6aad75eaf45a441fa3e4b31faa87916a",
            "a305f714b77b4a40a295ca5cc82692d2",
            "ca3b2f3341bf49c493141eebde581d77",
            "bb675d203b6f4668acbd1ce2eeeed061",
            "37f7ad442ed346c0a5b12783e70ba46a",
            "9fc7dc4b2ad14b5bb1cf10b9929cd9a4",
            "b962fa44879d4c5abb04cabb8466f9ce",
            "83d6c02cf1714d018a1f93b0734339e8",
            "0041c768226547308ea5292844383eb2",
            "8b57fa4c7e1a4fbf92a9bc84e5550ff9",
            "9fb9c27fc9cd4ec698829fbb56698a53",
            "1f0b833c6c3e4c6fb2669892dab0f481",
            "708099f5ab394afc9a135e6d98061d0c",
            "33bfdaf39c954cf0a17fa90bd8e68b18",
            "c6f30b018bf848fd97e06c102be919c3",
            "027e8037736e47bca4539ed919ee06c9",
            "2b4b839cc5b24e9ba09e84c8550abcd0",
            "5ac8dc661f6544738fc566a2e4d160af",
            "98fe17a3afd64fbfb57ca46aa7814d34",
            "e878085f5b85419da0313b7df1717eda",
            "7611c5bec49c47558522551a80cebeb9",
            "40bf99172b6f464d90e8fc970ea7ce02",
            "2d39d69315f44f03aa8c0d9c49d7a753",
            "b09b21f8580f4243a222fb752134265d",
            "c21955acec654217bac5889f0f8f7a20",
            "5bdb0ca9bfef4b35b6a48710c9f57c26",
            "ec10a4653a7c433aa818b178e3eff9a7",
            "fcc038f8a08c4f1b912c2a7043669297",
            "c767e3f3538a4a9eb4928d88dc302908",
            "957b82985d8e4f3ab97eca05686b3b12",
            "745aa1b4f26f4317a1ee600bc11cf2be",
            "acffbeb15b404cb98c9c7c3de6be7dcb",
            "87268ffeacc74e46b8984252ba98ebab",
            "2d5d438c146546dfb2fc7c6ae9dca12d",
            "78c8fb75f19b4c018b4c313cfde05487",
            "11ae575538d3418bbf50d3c5ebb8b16e",
            "d9587a3924c343c68a7f94699ae9e8c2",
            "59f5b63fe3ba4e7aa03decde49c9cb50",
            "478b8371defc49df812e8bb43f87bf1c",
            "27161f0644004953b28fc6978429ef4d",
            "c038958fcd984141ae317230cd847612",
            "fb113b1c13844957b478244045a22cd4",
            "5dc50b39ae834eb7833833e1358db588",
            "3d4974123ffd4a4d9a2e635f27abb503",
            "095724c597f14cf98932f1939889d71d",
            "18198582aba441f482449f756d6bc928",
            "94eedc253b3a4e5a91df839bf3c79573",
            "2249209a035e46578f91e60e369ee773",
            "214e6400cdef430b88c786884b28ccc7",
            "70e47e24ab464462ae5ab1682dacf0b9",
            "4b61d6390fa94d55bcc72d00a835210a",
            "997db8da650c4ea4b79b7c828f622546",
            "f4afc6dbf6a048edb440bda37f89783b",
            "7036cb0831d843a2afad418e909134f4",
            "1efc6b0f72c840c8a67e6f4f4e2e5174",
            "9b038005772745d9a44e018ce9c09bcc",
            "a1a9fceca4964937a07a2b928e6f5d6c",
            "df370ac7fe5640cabf2e4d790c23f44d",
            "74b12ec098b44cd385f75d0e63a424f0",
            "fbf758f53a7a4604b71931c14d9a1a2d",
            "7a48dee5667b43c4b4293b114b3394f2",
            "b4e8b5005129476f85245988cd629354",
            "a79091e406744f6697f5141857832b5e",
            "21048b7179004d9a8b937c47fcf5f346",
            "bce314f9670d4f299d70b179b4bbc10d",
            "17a53909f6134f41a1464a4811d24b8e",
            "710a3803ef3c4c2e8d0ea82b53532100",
            "91c4d194c33a44d9ad98aecab6d00433",
            "f021b3aeb12a4ac59949b4f01a82c3bc",
            "deb5a087ea8b484b979af2e5b11dcbbb",
            "96a7101bd9f84a428b9e26c9782de354",
            "be5f937e04c547fb85833475bf6abae2",
            "ab5f55af7e114a028b718afb6806b01c",
            "7ea856dfca9e432d935efd32ab1248c0",
            "ec5dad3900a24e548922a4c33ea71647",
            "cbad3bffa49546709c954b19ff773c56",
            "43bb001a89fd484a86181ebdc7f824a9",
            "a66d8458c49c4bea8f8e5a9104cd7e3d",
            "173da4bdd0244d9997a7b4dd1e3fc5c3",
            "ce1b113ffe744ce5966b8aec9fdef61f",
            "af314be838624bebb37c258250628c45",
            "ffde84655b3b4187b81ad9880e23b74e",
            "ad29dca28beb4a44a7f8ac5f18eeb557",
            "88d14e1508f14ccebeb10dcd5747cc4c",
            "b3f7896ffdc8466f87b13487764de8e1",
            "41bba456344243aba558026567e4c6c5",
            "4f49b0594eae46debcfd8bc9ff87dc9a",
            "692857a4e0a847c98714eddc8a7a743e",
            "90a68be8e0f14b79863e99a5d3928a9e",
            "403b2ccf6f324bda9032591d225006c9",
            "f56089905ad64dd7b3f5aa68e85a6ad4",
            "a3d2d369c9b1465b9f09f5a490c9e597",
            "274f099e81144ca3ab92c9e5ed26fb36",
            "a0ca95f7afd1492f93e8a5fbff25b8af",
            "dfd4d1aeb9a245e0b936daba993c4001",
            "640f4a0b16aa44fa86d4db00d954971d",
            "73cc79ebeabe44b199563b035672fb77",
            "cf731d89d625444997fbdf720dccf78b",
            "ca90c4cdf26d407d9616352da770eed0",
            "b2439d19789f477bbe268219f456a5f8",
            "1ac90c4b934846e4ace39292da05f528",
            "3581ddbce41749cb925fca1f545097ea",
            "52a0b67e8f2746db9d1b52e31065194c",
            "7e444ca3a726493aa88981b28c0a4511",
            "670a7a1d85e742408234617e2a6f7565",
            "92905507e7b54ab0b26c5aa6e5d8a01d",
            "dc250fd396ec421aa82b712d9f3e40c2",
            "5e3a505f09c54b9581cfbff6c6515bf3",
            "03c305dd73c8474c8acba8fbc8c4eddb",
            "8f4a558db9c4454fbed54b53a59c1c1e",
            "d38d86a06b3548429c6589218c00c673",
            "5f018adef8a9412784311edf061a615c",
            "8850c59087124574bfbefa5470a7b99a",
            "f5d1beec39d64a4eaef0aca04f526ee6",
            "126a550675864eacb33f52f27569a2db",
            "ae702402e05c4f39a629d49bf2380860",
            "591aee598d57408dab9022837586caf0",
            "9de00a347a5f4535aa26d85bc8dda82c",
            "64634aaa3cd84e4da43aa55f5fb262a2",
            "9b9d137e1793450a82fa7760ac70d7ce",
            "63f74d5974a240be861c0487207eb4a0",
            "6db5b0ebf3e94bbd8a4e9f82863613c9",
            "911987df0dde4b87ba3271b7d6429139",
            "d7e45eca78c640b99cb8a14a358b3181",
            "ef184a271c3844b6886e7ad6456671fe",
            "ee21a31e060641c8afe7075a20720efc",
            "88e2d8a1a95f4f49adeb7ef17a114924",
            "a6a80fbd96fe4aa08a6ef68591d73b0c",
            "c7636c8228d34c8e90e49fc920cd1c62",
            "dfb5e3dfd17d496fb8b9df27715a446b",
            "8a8c1d32407548c8b7dc9e42e5859a42",
            "8397a0330cb147cdbf0cf6112d398f6f",
            "5e043fe5bfa2434d9226a2ef9bb01b2e",
            "5247233654e648679488b30826611c5a",
            "9101b6d7ecc34c979ff6a1eaadb6e4b8",
            "a76672e80583457c99bc87e8e1325c23",
            "68b9f3aa064e43fd8943633827d61495",
            "7d9af71e568943e28e954f347f30a468",
            "6408920d968b45958b18c6797c86d0bc",
            "aaaaf3207c5f4b18b9f8cf9d12a0aa05",
            "406881620cb54dbbb72d943f2d7de07c",
            "b5e4412700024261bb52a4bab94213f1",
            "9dab376fd43044f58bc3378d4ab98b0b",
            "c02e849e461845b2856a3a23a1d8060a",
            "49258308e9544c0f993a8b26470de702",
            "dc0531d97e484892866e870213e5112e",
            "21873c39ad2d41c997bb53c0be68b4d5",
            "7e0906eb58a84b30be5bd2127f7097cd",
            "1bb602b4eefc4f1095cc94d86a55a962",
            "f56d5e4e956144ccb08db6c0998a2c79",
            "705f5502794f46bcb936af96b512c32d",
            "84ba039f426948408b88f267f35450db",
            "94130dfd8b294fb08e6fd51bd68a8161",
            "e14669f2c4464538bdea8bc0572a50d2",
            "d58da2c988e14d9eb218c4332ec38b1e",
            "6b51721c02004303a7406039f378ecd3",
            "18726f39746748e486e11c75b0fb990d",
            "4ae3cc5948c04a1782eb24173279eef0",
            "87a7601bae914deba9682c12e6374d82",
            "e1d1c59ba60d4fce9a10e1c2978144b4",
            "706102f2820c4142bc95e3ab0e53ee22",
            "bcc3d607b87444d297fea369033a3170",
            "8dcaf98167d74a999eb92e53e20e85a6",
            "f30b76964b8d4ba798e6c1596ca83acc",
            "07e92e4f4c9e46eba999358f3bacb4e7",
            "b9c6151c07dc423b9606facd3fdcca06",
            "f5f2fa3d4a804d7188a7b87a1add43e3",
            "e6420a6f2c284c12bdd9db01cbd73e33",
            "f7f3db9769504e17a7c07839872a71fe",
            "dae21c5e0f944571a140b17394640026",
            "34098795798647a4a7daace727c98c8b",
            "f7f95d03fafb4e878c539a96017c68b2",
            "f3c4cd43403c48cf9fcf9a7616f5aecf",
            "a4ae9377a9c9429b8edb7fbbb5e94086",
            "b4e49045d1ca4001aed7339f1f11b2b2",
            "e9cef924042046a58c55713aa9143691",
            "21df64e4077c432e9d8d04317008b342",
            "aa32ef70480049239e97484f7f147a8c",
            "442a6a9b1c1149ce8012c699482ea710",
            "9237bdacf86648a69caeaca41548c477",
            "7d644c09dc604aac8d1967680514e8c1",
            "3dbef99368714d5e94ee1c8d2439df22",
            "f351ec1dbe204535b3b1264c6105948b",
            "568c1002b82a4d7eb0e168310d9cf5d8",
            "395693375a4c47af88fa306dca8dd9a4",
            "8ee189da17f24a6cb8adfb513370c6d6",
            "6dea47a5e93e489981535a3b35bf36b5",
            "4c2bd668b666408e8f794e6e3c534aae",
            "f8124437662b4c3db2a37db5f123aba2",
            "05b735ca954f494eac0d94979d28a41a",
            "56dc29601098471eb2aa6d3d721f70fb",
            "e6b99cf70a0546b19a4e23291c2a1e52",
            "d2dd9c5337b24a5f9060985096bf8c6d",
            "cf8824b40aac46d097f4944a15efd864",
            "b1a4ee9c16e6471aac64b0dd51eea15f",
            "3b1e2ff355c340be9e7c7fa5cd7319b2",
            "4fd05c65730d4af2b89a8a6e65aa4b81",
            "e7390a64993043638027b122ff49ebd2",
            "70e5617fa434499e8178be725f324aa3",
            "9dba5a8bcb96497fb72fac7cf8b7b3ae",
            "4950361c0a1d48bf97f97b6ccb9e94ab",
            "2a4883ef535e4160a2c53efe29050562",
            "bd9c004863f9471bae4448248bcd6851",
            "8a0aa56c6f83436f9ab4732a80073da9",
            "55d734a08a1948719a612011cd7dedbc",
            "fd47408a3c814610ba28802bf00c0dc1",
            "baf7da9446bb4261bb0379004bd286a5",
            "95e09f2577c0430995ed28cc23c1645f",
            "009b6b7a235443a4a4579fa2130dfff2",
            "4466955de1bb4274a6c2be8b2879f560",
            "4fb1d33e147b4dd2b089bf79c3c92a5d",
            "5adfa7e0f32b41c1921e93bea970035a",
            "b9018575d5974490a655c5195011c6f2",
            "8044b48b906c4de68ec2995d8f0a2e6d",
            "bf7962ea2fcd452fa946ec8e9ef09b24",
            "916363ccc7a8457ba2c9032ce3d3e1f1",
            "200c6dc7b444419889e6a280460ab86f",
            "7074a8e7596b462a81390414a1e155bf",
            "68d4f76ad4e8483d91ee72e7d3ecdd3e",
            "5bd738a5fa92430f8323241614504a76",
            "9d6ecfac37e94a6abf9a72238074714d",
            "0e2a3dfc90694196932a3b6b58fa19c9",
            "a53ab91832494c1eb32c7b21c5208ecf",
            "9c6bd3a556fc45deaa3c80b92d8dae2b",
            "b49816a4690f4b76b26c1a3865406652",
            "693448e725174e659e2e5a8a67bc82e3",
            "d84f832b2bc847b285b0fb6372796e4d",
            "1511e093ea354ab6835070dc14bd97d0",
            "03376d4f2d734f1d97ad89362ae8ffda",
            "9ce79522f81c455d86f53cb7a643e154",
            "88ebbfb2f1e841aab29c9c33e044e67a",
            "e849fa4748e4498a924948253dd97906",
            "fa3c6b55f0c5412188487fdddc4597c8",
            "c29f958abe634b0e93fa184925372d6f",
            "bebd95df5e05417c8b56fd7d3667d9d0",
            "10aaf04ca1d440cf9ed08654a114d52f",
            "62bfae6daa574fa281a7de791163e3e6",
            "0f70c7cc9d79438f9b962214e8a52ed1",
            "82ae4aa610ce4b19a5f141f0c847d23d",
            "7623b5e90ce045b2ab5c0eea27050fd1",
            "16d14308658b42bd9c4a31d199994b75",
            "558f7f284f27487d93bf574df14ed023",
            "6397b4c54f094047a8d060312579814d",
            "6106a7c59ca74f8b814a6d9bd9d82acd",
            "a0e10bcfdbe8409ab3d88f1ba91a1552",
            "b8186608834f4cea8aa9fa7d64efdee2",
            "3b4de08681f441bfab3749d12604b872",
            "7edde3c8d0774d56ade8548e0aef6bf1",
            "b9400299e6d1430684edbbcf2061573e",
            "eb6b5fb56f0a4da598346458250bdf0e",
            "cb160900fd704e709148a1ac3130f1d8",
            "394a3afbf9f64239b4d24fc58e6dfc41",
            "bbcb00edeb4445a088587f9166fb01f2",
            "4dc687e017744e97a841adc18b70a0f6",
            "6bac3ca9dd2e477a8b2f20bc525fbd5b",
            "4f23e1b984364054bb143e88b03bb889",
            "2001f192a8484984a69c83cde0444a5a",
            "da11ffa6ec0b46039139325d0cdea8d3",
            "009a05ae440a4e518209e5cf7834b5db",
            "015a35fe225f40d8a80eb23bf5ba58d0",
            "29fcbb28880842c78cabc03166a69b0e",
            "270351f2a2784d42aea3f1cd9b81f881",
            "5f49b0d5604441468a43f245fbcc8534",
            "7b9ba279495548c9bd613144ca3c3d69",
            "e5c40db034f24da59189190bce9b0d6b",
            "cf53043718b64069ab75c37db09f5c3c",
            "ce6eade2705b4277b4aba49978aba054",
            "56c2f39c860843a19fb52046b3ed3313",
            "b1d47d27eaab4fc3ab5bbaa229d7535a",
            "5b917b923eb443bb81e0e889d28195bc",
            "6c4c96aa265c47d1aeab49d137664a5c",
            "039a41da62b5454e9ac33831dd5d4def",
            "6d71a7e205fd431e8e12f8852baffe0a",
            "6284236960c0435595229badd25814ce",
            "1effce34f6de428eba175d0192e35a14",
            "643905b15d2f4be4a5723939b5098a19",
            "c4f7cd8027534bd79dfc2dc2a95210c7",
            "4dba36c1daad4768907dd1eab3f7010d",
            "bbc5fa02eea64052ba8136b1afc2f284",
            "19369d9dce0842aba3d17acad8e9230a",
            "c2a11b2fe5884b0b9af17d9ce8a2228a",
            "9a544ab2255145f68589d3a4b0c9accb",
            "1ee60f81884542d5afdc5123b7425966",
            "f523476eb8c6489fa8b33f426c3bd707",
            "00f25c1b749046e18feafdc837172f93",
            "28775b5ab9294249bfa249a36bc21531",
            "6a6e8b1ba9274ed9add22388543c7303",
            "c100f36f8d1a4150a8da029ed69f09c0",
            "ec958be02dbc4fa0b598118453510764",
            "0be68873acd942c6ae3d500a1eef8401",
            "d5dc5a1ca3ed441d9d1e7cbda49313ef",
            "339c76eaa1384e069a1ef2512496ad2c",
            "8baa6919da914b81a36681eb5795f35a",
            "c7e759d1dfea4ae2bab65561d2c40820",
            "5425375de646416eb1984fb5585bebf5",
            "a1107c9d9b494212b07a83b565a877c5",
            "bdf71c0243484ba69f14bcba3921c526",
            "aafe0feeb8844691837897aa645b37e3",
            "c3221e31f83a4b1c84d3e2c6556035fe",
            "5d59b56134c2484ba9d80c1b40a03094",
            "c15a93d070f04bbf9cc5830657460562",
            "90466f8985ee456eb99c4c0f1904d265",
            "cde1acf82285432e9140523be6cb15b8",
            "04492217ae524a68b309bb9d771e39c9",
            "739ac04d4a75419383e072438f384fbd",
            "f8a4655d75594508b1ed3584b12e38c8",
            "4b7da0f674054d44a54ae936662fd95c",
            "51333844935c4b8dbeda0bfa1c5e8494",
            "b68b11dab2744540860b3976b3cf834f",
            "77e0170608e1490c9ade7b5b6a77012e",
            "e4e16eaa70fc4250ae8b28c5b742b285",
            "3eb9cfbdcf5144408d8e693e31c8c1c7",
            "8444a67f371c4b88aaa4699cb275f405",
            "f334dd8e8b8045cda76458dcb8a5a448",
            "d7891e8323574c729a38efe8b3d3403d"
          ]
        },
        "id": "y5hsL-ulFYxk",
        "outputId": "ba5023c0-f783-4a75-c0f6-694308568289"
      },
      "execution_count": null,
      "outputs": [
        {
          "output_type": "display_data",
          "data": {
            "text/plain": [
              "Training Epoch 0:   0%|          | 0/1150 [00:00<?, ?batch/s]"
            ],
            "application/vnd.jupyter.widget-view+json": {
              "version_major": 2,
              "version_minor": 0,
              "model_id": "73d6889c2abf496e8427f39e208292dc"
            }
          },
          "metadata": {}
        },
        {
          "output_type": "display_data",
          "data": {
            "text/plain": [
              "Testing:   0%|          | 0/36 [00:00<?, ?batch/s]"
            ],
            "application/vnd.jupyter.widget-view+json": {
              "version_major": 2,
              "version_minor": 0,
              "model_id": "4f4580db535443bc92b01251b6c36bd7"
            }
          },
          "metadata": {}
        },
        {
          "output_type": "stream",
          "name": "stdout",
          "text": [
            "\n",
            "Epoch:  1 Train Loss:  0.08562802945952053 Train Acc top 1:  0.4154483695652174 Test Loss:  5.605498060143512 Test Acc top 1:  0.02043478260869565\n",
            "Train Acc top 5:  0.6871195652173914 Test Acc top 5:  0.10739130434782608\n",
            "\n"
          ]
        },
        {
          "output_type": "display_data",
          "data": {
            "text/plain": [
              "Training Epoch 1:   0%|          | 0/1150 [00:00<?, ?batch/s]"
            ],
            "application/vnd.jupyter.widget-view+json": {
              "version_major": 2,
              "version_minor": 0,
              "model_id": "83d6c02cf1714d018a1f93b0734339e8"
            }
          },
          "metadata": {}
        },
        {
          "output_type": "display_data",
          "data": {
            "text/plain": [
              "Testing:   0%|          | 0/36 [00:00<?, ?batch/s]"
            ],
            "application/vnd.jupyter.widget-view+json": {
              "version_major": 2,
              "version_minor": 0,
              "model_id": "98fe17a3afd64fbfb57ca46aa7814d34"
            }
          },
          "metadata": {}
        },
        {
          "output_type": "stream",
          "name": "stdout",
          "text": [
            "\n",
            "Epoch:  2 Train Loss:  0.02430873003990754 Train Acc top 1:  0.8185597826086957 Test Loss:  6.685581320057745 Test Acc top 1:  0.023043478260869565\n",
            "Train Acc top 5:  0.9761005434782609 Test Acc top 5:  0.10869565217391304\n",
            "\n"
          ]
        },
        {
          "output_type": "display_data",
          "data": {
            "text/plain": [
              "Training Epoch 2:   0%|          | 0/1150 [00:00<?, ?batch/s]"
            ],
            "application/vnd.jupyter.widget-view+json": {
              "version_major": 2,
              "version_minor": 0,
              "model_id": "957b82985d8e4f3ab97eca05686b3b12"
            }
          },
          "metadata": {}
        },
        {
          "output_type": "display_data",
          "data": {
            "text/plain": [
              "Testing:   0%|          | 0/36 [00:00<?, ?batch/s]"
            ],
            "application/vnd.jupyter.widget-view+json": {
              "version_major": 2,
              "version_minor": 0,
              "model_id": "c038958fcd984141ae317230cd847612"
            }
          },
          "metadata": {}
        },
        {
          "output_type": "stream",
          "name": "stdout",
          "text": [
            "\n",
            "Epoch:  3 Train Loss:  0.01867250526404899 Train Acc top 1:  0.8598777173913044 Test Loss:  5.777871100384256 Test Acc top 1:  0.022608695652173914\n",
            "Train Acc top 5:  0.9835733695652175 Test Acc top 5:  0.1117391304347826\n",
            "\n"
          ]
        },
        {
          "output_type": "display_data",
          "data": {
            "text/plain": [
              "Training Epoch 3:   0%|          | 0/1150 [00:00<?, ?batch/s]"
            ],
            "application/vnd.jupyter.widget-view+json": {
              "version_major": 2,
              "version_minor": 0,
              "model_id": "997db8da650c4ea4b79b7c828f622546"
            }
          },
          "metadata": {}
        },
        {
          "output_type": "display_data",
          "data": {
            "text/plain": [
              "Testing:   0%|          | 0/36 [00:00<?, ?batch/s]"
            ],
            "application/vnd.jupyter.widget-view+json": {
              "version_major": 2,
              "version_minor": 0,
              "model_id": "a79091e406744f6697f5141857832b5e"
            }
          },
          "metadata": {}
        },
        {
          "output_type": "stream",
          "name": "stdout",
          "text": [
            "\n",
            "Epoch:  4 Train Loss:  0.016361140989415025 Train Acc top 1:  0.8808831521739131 Test Loss:  7.131308480967646 Test Acc top 1:  0.021304347826086957\n",
            "Train Acc top 5:  0.9862771739130435 Test Acc top 5:  0.10782608695652174\n",
            "\n"
          ]
        },
        {
          "output_type": "display_data",
          "data": {
            "text/plain": [
              "Training Epoch 4:   0%|          | 0/1150 [00:00<?, ?batch/s]"
            ],
            "application/vnd.jupyter.widget-view+json": {
              "version_major": 2,
              "version_minor": 0,
              "model_id": "7ea856dfca9e432d935efd32ab1248c0"
            }
          },
          "metadata": {}
        },
        {
          "output_type": "display_data",
          "data": {
            "text/plain": [
              "Testing:   0%|          | 0/36 [00:00<?, ?batch/s]"
            ],
            "application/vnd.jupyter.widget-view+json": {
              "version_major": 2,
              "version_minor": 0,
              "model_id": "b3f7896ffdc8466f87b13487764de8e1"
            }
          },
          "metadata": {}
        },
        {
          "output_type": "stream",
          "name": "stdout",
          "text": [
            "\n",
            "Epoch:  5 Train Loss:  0.014638036795608376 Train Acc top 1:  0.8932744565217392 Test Loss:  7.295217318327531 Test Acc top 1:  0.023478260869565216\n",
            "Train Acc top 5:  0.9884103260869566 Test Acc top 5:  0.10521739130434783\n",
            "\n"
          ]
        },
        {
          "output_type": "display_data",
          "data": {
            "text/plain": [
              "Training Epoch 5:   0%|          | 0/1150 [00:00<?, ?batch/s]"
            ],
            "application/vnd.jupyter.widget-view+json": {
              "version_major": 2,
              "version_minor": 0,
              "model_id": "640f4a0b16aa44fa86d4db00d954971d"
            }
          },
          "metadata": {}
        },
        {
          "output_type": "display_data",
          "data": {
            "text/plain": [
              "Testing:   0%|          | 0/36 [00:00<?, ?batch/s]"
            ],
            "application/vnd.jupyter.widget-view+json": {
              "version_major": 2,
              "version_minor": 0,
              "model_id": "dc250fd396ec421aa82b712d9f3e40c2"
            }
          },
          "metadata": {}
        },
        {
          "output_type": "stream",
          "name": "stdout",
          "text": [
            "\n",
            "Epoch:  6 Train Loss:  0.013603295948680328 Train Acc top 1:  0.8999184782608696 Test Loss:  7.587859264871349 Test Acc top 1:  0.02\n",
            "Train Acc top 5:  0.9898233695652174 Test Acc top 5:  0.1091304347826087\n",
            "\n"
          ]
        },
        {
          "output_type": "display_data",
          "data": {
            "text/plain": [
              "Training Epoch 6:   0%|          | 0/1150 [00:00<?, ?batch/s]"
            ],
            "application/vnd.jupyter.widget-view+json": {
              "version_major": 2,
              "version_minor": 0,
              "model_id": "9de00a347a5f4535aa26d85bc8dda82c"
            }
          },
          "metadata": {}
        },
        {
          "output_type": "display_data",
          "data": {
            "text/plain": [
              "Testing:   0%|          | 0/36 [00:00<?, ?batch/s]"
            ],
            "application/vnd.jupyter.widget-view+json": {
              "version_major": 2,
              "version_minor": 0,
              "model_id": "c7636c8228d34c8e90e49fc920cd1c62"
            }
          },
          "metadata": {}
        },
        {
          "output_type": "stream",
          "name": "stdout",
          "text": [
            "\n",
            "Epoch:  7 Train Loss:  0.012984035580378512 Train Acc top 1:  0.9037907608695652 Test Loss:  7.058696043595024 Test Acc top 1:  0.02043478260869565\n",
            "Train Acc top 5:  0.9908016304347826 Test Acc top 5:  0.11347826086956522\n",
            "\n"
          ]
        },
        {
          "output_type": "display_data",
          "data": {
            "text/plain": [
              "Training Epoch 7:   0%|          | 0/1150 [00:00<?, ?batch/s]"
            ],
            "application/vnd.jupyter.widget-view+json": {
              "version_major": 2,
              "version_minor": 0,
              "model_id": "aaaaf3207c5f4b18b9f8cf9d12a0aa05"
            }
          },
          "metadata": {}
        },
        {
          "output_type": "display_data",
          "data": {
            "text/plain": [
              "Testing:   0%|          | 0/36 [00:00<?, ?batch/s]"
            ],
            "application/vnd.jupyter.widget-view+json": {
              "version_major": 2,
              "version_minor": 0,
              "model_id": "705f5502794f46bcb936af96b512c32d"
            }
          },
          "metadata": {}
        },
        {
          "output_type": "stream",
          "name": "stdout",
          "text": [
            "\n",
            "Epoch:  8 Train Loss:  0.01247500410789381 Train Acc top 1:  0.9069701086956522 Test Loss:  7.868236044178838 Test Acc top 1:  0.02391304347826087\n",
            "Train Acc top 5:  0.9907744565217391 Test Acc top 5:  0.11347826086956522\n",
            "\n"
          ]
        },
        {
          "output_type": "display_data",
          "data": {
            "text/plain": [
              "Training Epoch 8:   0%|          | 0/1150 [00:00<?, ?batch/s]"
            ],
            "application/vnd.jupyter.widget-view+json": {
              "version_major": 2,
              "version_minor": 0,
              "model_id": "bcc3d607b87444d297fea369033a3170"
            }
          },
          "metadata": {}
        },
        {
          "output_type": "display_data",
          "data": {
            "text/plain": [
              "Testing:   0%|          | 0/36 [00:00<?, ?batch/s]"
            ],
            "application/vnd.jupyter.widget-view+json": {
              "version_major": 2,
              "version_minor": 0,
              "model_id": "f3c4cd43403c48cf9fcf9a7616f5aecf"
            }
          },
          "metadata": {}
        },
        {
          "output_type": "stream",
          "name": "stdout",
          "text": [
            "\n",
            "Epoch:  9 Train Loss:  0.012146308166987222 Train Acc top 1:  0.9087228260869565 Test Loss:  6.857432158096977 Test Acc top 1:  0.02391304347826087\n",
            "Train Acc top 5:  0.9914945652173913 Test Acc top 5:  0.1108695652173913\n",
            "\n"
          ]
        },
        {
          "output_type": "display_data",
          "data": {
            "text/plain": [
              "Training Epoch 9:   0%|          | 0/1150 [00:00<?, ?batch/s]"
            ],
            "application/vnd.jupyter.widget-view+json": {
              "version_major": 2,
              "version_minor": 0,
              "model_id": "568c1002b82a4d7eb0e168310d9cf5d8"
            }
          },
          "metadata": {}
        },
        {
          "output_type": "display_data",
          "data": {
            "text/plain": [
              "Testing:   0%|          | 0/36 [00:00<?, ?batch/s]"
            ],
            "application/vnd.jupyter.widget-view+json": {
              "version_major": 2,
              "version_minor": 0,
              "model_id": "b1a4ee9c16e6471aac64b0dd51eea15f"
            }
          },
          "metadata": {}
        },
        {
          "output_type": "stream",
          "name": "stdout",
          "text": [
            "\n",
            "Epoch:  10 Train Loss:  0.011871003050195134 Train Acc top 1:  0.9122010869565218 Test Loss:  6.963844432001529 Test Acc top 1:  0.015217391304347827\n",
            "Train Acc top 5:  0.9915353260869566 Test Acc top 5:  0.10782608695652174\n",
            "\n"
          ]
        },
        {
          "output_type": "display_data",
          "data": {
            "text/plain": [
              "Training Epoch 10:   0%|          | 0/1150 [00:00<?, ?batch/s]"
            ],
            "application/vnd.jupyter.widget-view+json": {
              "version_major": 2,
              "version_minor": 0,
              "model_id": "fd47408a3c814610ba28802bf00c0dc1"
            }
          },
          "metadata": {}
        },
        {
          "output_type": "display_data",
          "data": {
            "text/plain": [
              "Testing:   0%|          | 0/36 [00:00<?, ?batch/s]"
            ],
            "application/vnd.jupyter.widget-view+json": {
              "version_major": 2,
              "version_minor": 0,
              "model_id": "200c6dc7b444419889e6a280460ab86f"
            }
          },
          "metadata": {}
        },
        {
          "output_type": "stream",
          "name": "stdout",
          "text": [
            "\n",
            "Epoch:  11 Train Loss:  0.01171559139519282 Train Acc top 1:  0.912241847826087 Test Loss:  7.193378415315047 Test Acc top 1:  0.02391304347826087\n",
            "Train Acc top 5:  0.9921467391304348 Test Acc top 5:  0.10782608695652174\n",
            "\n"
          ]
        },
        {
          "output_type": "display_data",
          "data": {
            "text/plain": [
              "Training Epoch 11:   0%|          | 0/1150 [00:00<?, ?batch/s]"
            ],
            "application/vnd.jupyter.widget-view+json": {
              "version_major": 2,
              "version_minor": 0,
              "model_id": "1511e093ea354ab6835070dc14bd97d0"
            }
          },
          "metadata": {}
        },
        {
          "output_type": "display_data",
          "data": {
            "text/plain": [
              "Testing:   0%|          | 0/36 [00:00<?, ?batch/s]"
            ],
            "application/vnd.jupyter.widget-view+json": {
              "version_major": 2,
              "version_minor": 0,
              "model_id": "82ae4aa610ce4b19a5f141f0c847d23d"
            }
          },
          "metadata": {}
        },
        {
          "output_type": "stream",
          "name": "stdout",
          "text": [
            "\n",
            "Epoch:  12 Train Loss:  0.011549517107398613 Train Acc top 1:  0.9146875 Test Loss:  7.447001183551291 Test Acc top 1:  0.02391304347826087\n",
            "Train Acc top 5:  0.9919972826086957 Test Acc top 5:  0.10869565217391304\n",
            "\n"
          ]
        },
        {
          "output_type": "display_data",
          "data": {
            "text/plain": [
              "Training Epoch 12:   0%|          | 0/1150 [00:00<?, ?batch/s]"
            ],
            "application/vnd.jupyter.widget-view+json": {
              "version_major": 2,
              "version_minor": 0,
              "model_id": "eb6b5fb56f0a4da598346458250bdf0e"
            }
          },
          "metadata": {}
        },
        {
          "output_type": "display_data",
          "data": {
            "text/plain": [
              "Testing:   0%|          | 0/36 [00:00<?, ?batch/s]"
            ],
            "application/vnd.jupyter.widget-view+json": {
              "version_major": 2,
              "version_minor": 0,
              "model_id": "29fcbb28880842c78cabc03166a69b0e"
            }
          },
          "metadata": {}
        },
        {
          "output_type": "stream",
          "name": "stdout",
          "text": [
            "\n",
            "Epoch:  13 Train Loss:  0.011466608824127394 Train Acc top 1:  0.9138722826086957 Test Loss:  7.006751954451851 Test Acc top 1:  0.021304347826086957\n",
            "Train Acc top 5:  0.9926222826086957 Test Acc top 5:  0.10608695652173913\n",
            "\n"
          ]
        },
        {
          "output_type": "display_data",
          "data": {
            "text/plain": [
              "Training Epoch 13:   0%|          | 0/1150 [00:00<?, ?batch/s]"
            ],
            "application/vnd.jupyter.widget-view+json": {
              "version_major": 2,
              "version_minor": 0,
              "model_id": "039a41da62b5454e9ac33831dd5d4def"
            }
          },
          "metadata": {}
        },
        {
          "output_type": "display_data",
          "data": {
            "text/plain": [
              "Testing:   0%|          | 0/36 [00:00<?, ?batch/s]"
            ],
            "application/vnd.jupyter.widget-view+json": {
              "version_major": 2,
              "version_minor": 0,
              "model_id": "1ee60f81884542d5afdc5123b7425966"
            }
          },
          "metadata": {}
        },
        {
          "output_type": "stream",
          "name": "stdout",
          "text": [
            "\n",
            "Epoch:  14 Train Loss:  0.011466781249998705 Train Acc top 1:  0.9150135869565218 Test Loss:  7.775950755243716 Test Acc top 1:  0.01956521739130435\n",
            "Train Acc top 5:  0.9918070652173914 Test Acc top 5:  0.10695652173913044\n",
            "\n"
          ]
        },
        {
          "output_type": "display_data",
          "data": {
            "text/plain": [
              "Training Epoch 14:   0%|          | 0/1150 [00:00<?, ?batch/s]"
            ],
            "application/vnd.jupyter.widget-view+json": {
              "version_major": 2,
              "version_minor": 0,
              "model_id": "c7e759d1dfea4ae2bab65561d2c40820"
            }
          },
          "metadata": {}
        },
        {
          "output_type": "display_data",
          "data": {
            "text/plain": [
              "Testing:   0%|          | 0/36 [00:00<?, ?batch/s]"
            ],
            "application/vnd.jupyter.widget-view+json": {
              "version_major": 2,
              "version_minor": 0,
              "model_id": "739ac04d4a75419383e072438f384fbd"
            }
          },
          "metadata": {}
        },
        {
          "output_type": "stream",
          "name": "stdout",
          "text": [
            "\n",
            "Epoch:  15 Train Loss:  0.011305790386446144 Train Acc top 1:  0.916983695652174 Test Loss:  7.006416990860648 Test Acc top 1:  0.023478260869565216\n",
            "Train Acc top 5:  0.9926766304347826 Test Acc top 5:  0.10695652173913044\n",
            "\n"
          ]
        }
      ]
    },
    {
      "cell_type": "code",
      "source": [
        "torch.save(resnet.state_dict(), '/content/drive/MyDrive/Deep Learning/DLOps_A4/resnet_dlops_a4_4.pth')"
      ],
      "metadata": {
        "id": "V3Mi_nyLFb4t"
      },
      "execution_count": null,
      "outputs": []
    },
    {
      "cell_type": "code",
      "source": [
        "fig, axs = plt.subplots(1, 3, figsize=(15, 4))\n",
        "\n",
        "# Plot train and test loss\n",
        "axs[0].plot(train_losses,'b-', label='Train Loss')\n",
        "axs[0].plot(test_losses,'r-', label='Test Loss')\n",
        "axs[0].set_title('Train v/s Test loss')\n",
        "axs[0].legend()\n",
        "\n",
        "# Plot top 1 train and test accuracy\n",
        "axs[1].plot(train_accuracies_top1,'b-', label='Train Acc top 1')\n",
        "axs[1].plot(test_accuracies_top1,'r-', label='Test Acc top 1')\n",
        "axs[1].set_title('Train v/s Test accuracy (top 1)')\n",
        "axs[1].legend()\n",
        "\n",
        "# Plot top 5 train and test accuracy\n",
        "axs[2].plot(train_accuracied_top5,'b-', label='Train Acc top 5')\n",
        "axs[2].plot(test_accuracies_top5,'r-', label='Test Acc top 5')\n",
        "axs[2].set_title('Train v/s Test accuracy (top 5)')\n",
        "axs[2].legend()\n",
        "\n",
        "plt.tight_layout()\n",
        "plt.show()\n"
      ],
      "metadata": {
        "colab": {
          "base_uri": "https://localhost:8080/",
          "height": 407
        },
        "id": "P_Tg9X9LFZUR",
        "outputId": "fb3b8958-40d1-4440-e678-6607a9135779"
      },
      "execution_count": null,
      "outputs": [
        {
          "output_type": "display_data",
          "data": {
            "text/plain": [
              "<Figure size 1500x400 with 3 Axes>"
            ],
            "image/png": "[encoded data removed]"
          },
          "metadata": {}
        }
      ]
    },
    {
      "cell_type": "markdown",
      "source": [
        "### load model"
      ],
      "metadata": {
        "id": "hXlsCWGHygGI"
      }
    },
    {
      "cell_type": "code",
      "source": [
        "# resnet.load_state_dict(torch.load('/content/drive/MyDrive/Deep Learning/DLOps_A4/resnet_dlops_a4.pth'))"
      ],
      "metadata": {
        "colab": {
          "base_uri": "https://localhost:8080/"
        },
        "id": "uVKSaosIyhVf",
        "outputId": "3470d124-9c02-4cb8-8f40-60e133fc242a"
      },
      "execution_count": null,
      "outputs": [
        {
          "output_type": "execute_result",
          "data": {
            "text/plain": [
              "<All keys matched successfully>"
            ]
          },
          "metadata": {},
          "execution_count": 35
        }
      ]
    },
    {
      "cell_type": "code",
      "source": [
        "from sklearn.metrics import f1_score, confusion_matrix\n",
        "\n",
        "resnet.eval()\n",
        "true_labels = []\n",
        "predicted_labels = []\n",
        "num_batches = len(test_loader)\n",
        "with tqdm(total=num_batches, desc='Testing', unit='batch') as pbar:\n",
        "    with torch.no_grad():\n",
        "        for batch_idx, (data, target) in enumerate(test_loader):\n",
        "            data, target = data.to(device), target.to(device)\n",
        "            output = resnet(data)\n",
        "            loss = F.cross_entropy(output, target, reduction='sum')\n",
        "            predicted = torch.argmax(output.data, 1)\n",
        "            predicted_labels.extend(predicted.cpu().numpy())\n",
        "            true_labels.extend(target.cpu().numpy())\n",
        "            # Update progress bar\n",
        "            pbar.update()\n"
      ],
      "metadata": {
        "colab": {
          "base_uri": "https://localhost:8080/",
          "height": 49,
          "referenced_widgets": [
            "09662f6162074649b1571a31b4993899",
            "26c72e5e7c084b19afb9f965a3d73403",
            "68bc854440e648a29bbe0f9f3b8369f3",
            "d629752fe2064657b09fd220be033853",
            "471bbb495630409aa4104032a6e61a55",
            "8625404c2bc24c19beb8c8633c766b13",
            "d7f1063dd25a4a1dac11fbf420f70d86",
            "ebb13be9bd7949c78f701d11751769b2",
            "84378bc8a4eb447fb1ae6ebc89766dd4",
            "36172fb61bed4338b3bac100c9289648",
            "364ed10ecd254466a0d5e70d7f9a0c5c"
          ]
        },
        "id": "u1DN9s5zyqDI",
        "outputId": "865dc74e-a4cc-4d0c-e576-09beab8b918d"
      },
      "execution_count": null,
      "outputs": [
        {
          "output_type": "display_data",
          "data": {
            "text/plain": [
              "Testing:   0%|          | 0/36 [00:00<?, ?batch/s]"
            ],
            "application/vnd.jupyter.widget-view+json": {
              "version_major": 2,
              "version_minor": 0,
              "model_id": "09662f6162074649b1571a31b4993899"
            }
          },
          "metadata": {}
        }
      ]
    },
    {
      "cell_type": "code",
      "source": [
        "# Create a list of unique labels in the dataset\n",
        "labels = []\n",
        "for data, target in test_loader:\n",
        "    labels += target.numpy().tolist()\n",
        "classes = list(set(labels))\n"
      ],
      "metadata": {
        "id": "fzNdvIoL1tk2"
      },
      "execution_count": null,
      "outputs": []
    },
    {
      "cell_type": "code",
      "source": [
        "# Calculate F1 score for each class\n",
        "f1_scores = f1_score(true_labels, predicted_labels, average=None, labels=classes)\n",
        "\n",
        "# Print F1 score for each class\n",
        "for i, f1_score in enumerate(f1_scores):\n",
        "    print(f'F1 Score for {classes[i]}: {f1_score:.4f}')\n"
      ],
      "metadata": {
        "colab": {
          "base_uri": "https://localhost:8080/"
        },
        "id": "yIFeYS1-12L5",
        "outputId": "27127344-c853-47ee-ce58-0279f326539a"
      },
      "execution_count": null,
      "outputs": [
        {
          "output_type": "stream",
          "name": "stdout",
          "text": [
            "F1 Score for 0: 0.0656\n",
            "F1 Score for 1: 0.0000\n",
            "F1 Score for 2: 0.0000\n",
            "F1 Score for 3: 0.0000\n",
            "F1 Score for 4: 0.0000\n",
            "F1 Score for 5: 0.0000\n",
            "F1 Score for 6: 0.0000\n",
            "F1 Score for 7: 0.0000\n",
            "F1 Score for 8: 0.0435\n",
            "F1 Score for 9: 0.0000\n",
            "F1 Score for 10: 0.0000\n",
            "F1 Score for 11: 0.0000\n",
            "F1 Score for 12: 0.0000\n",
            "F1 Score for 13: 0.0000\n",
            "F1 Score for 14: 0.0000\n",
            "F1 Score for 15: 0.0000\n",
            "F1 Score for 16: 0.0000\n",
            "F1 Score for 17: 0.0000\n",
            "F1 Score for 18: 0.0000\n",
            "F1 Score for 19: 0.0000\n",
            "F1 Score for 20: 0.0000\n",
            "F1 Score for 21: 0.0323\n",
            "F1 Score for 22: 0.0000\n",
            "F1 Score for 23: 0.0000\n",
            "F1 Score for 24: 0.0000\n",
            "F1 Score for 25: 0.0000\n",
            "F1 Score for 26: 0.0000\n",
            "F1 Score for 27: 0.0000\n",
            "F1 Score for 28: 0.0000\n",
            "F1 Score for 29: 0.0000\n",
            "F1 Score for 30: 0.0000\n",
            "F1 Score for 31: 0.0377\n",
            "F1 Score for 32: 0.0000\n",
            "F1 Score for 33: 0.0000\n",
            "F1 Score for 34: 0.0000\n",
            "F1 Score for 35: 0.0000\n",
            "F1 Score for 36: 0.0000\n",
            "F1 Score for 37: 0.0000\n",
            "F1 Score for 38: 0.0000\n",
            "F1 Score for 39: 0.0000\n",
            "F1 Score for 40: 0.0000\n",
            "F1 Score for 41: 0.0000\n",
            "F1 Score for 42: 0.0000\n",
            "F1 Score for 43: 0.0000\n",
            "F1 Score for 44: 0.0000\n",
            "F1 Score for 45: 0.0000\n"
          ]
        }
      ]
    },
    {
      "cell_type": "code",
      "source": [
        "import numpy as np\n",
        "from sklearn.metrics import confusion_matrix\n",
        "\n",
        "confusion_mat = confusion_matrix(true_labels, predicted_labels)\n",
        "np.set_printoptions(threshold=np.inf)\n",
        "print(\"Confusion Matrix:\\n\", confusion_mat)\n"
      ],
      "metadata": {
        "colab": {
          "base_uri": "https://localhost:8080/"
        },
        "id": "rnJS4c0qzG-6",
        "outputId": "83b046c7-ed5e-46ae-f3a5-1fde10b7a074"
      },
      "execution_count": null,
      "outputs": [
        {
          "output_type": "stream",
          "name": "stdout",
          "text": [
            "Confusion Matrix:\n",
            " [[ 4  0  0  0  0  0  0  0 42  0  0  0  0  0  0  0  0  0  0  0  0  4  0  0\n",
            "   0  0  0  0  0  0  0  0  0  0  0  0  0  0  0  0  0  0  0  0  0  0]\n",
            " [ 1  0  0  0  0  0  0  0 47  0  0  0  0  0  0  0  0  0  0  0  0  2  0  0\n",
            "   0  0  0  0  0  0  0  0  0  0  0  0  0  0  0  0  0  0  0  0  0  0]\n",
            " [ 2  0  0  0  0  0  0  0 44  0  0  0  0  0  0  0  0  0  0  0  0  3  0  0\n",
            "   0  0  0  0  0  0  0  0  0  1  0  0  0  0  0  0  0  0  0  0  0  0]\n",
            " [ 1  0  0  0  0  0  0  0 47  0  0  0  0  0  0  0  0  0  0  0  0  2  0  0\n",
            "   0  0  0  0  0  0  0  0  0  0  0  0  0  0  0  0  0  0  0  0  0  0]\n",
            " [ 3  0  0  0  0  0  0  0 43  0  0  0  0  0  0  0  0  0  0  0  0  4  0  0\n",
            "   0  0  0  0  0  0  0  0  0  0  0  0  0  0  0  0  0  0  0  0  0  0]\n",
            " [ 1  0  0  0  0  0  0  0 45  0  0  0  0  0  0  0  0  0  0  0  0  4  0  0\n",
            "   0  0  0  0  0  0  0  0  0  0  0  0  0  0  0  0  0  0  0  0  0  0]\n",
            " [ 0  0  0  0  0  0  0  0 49  0  0  0  0  0  0  0  0  0  0  0  0  1  0  0\n",
            "   0  0  0  0  0  0  0  0  0  0  0  0  0  0  0  0  0  0  0  0  0  0]\n",
            " [ 3  0  0  0  0  0  0  0 43  0  0  0  0  0  0  0  0  0  0  0  0  4  0  0\n",
            "   0  0  0  0  0  0  0  0  0  0  0  0  0  0  0  0  0  0  0  0  0  0]\n",
            " [ 1  0  0  0  0  0  0  0 46  0  0  0  0  0  0  0  0  0  0  0  0  3  0  0\n",
            "   0  0  0  0  0  0  0  0  0  0  0  0  0  0  0  0  0  0  0  0  0  0]\n",
            " [ 2  2  0  0  1  0  0  0 42  0  0  0  0  0  0  0  0  0  0  0  0  3  0  0\n",
            "   0  0  0  0  0  0  0  0  0  0  0  0  0  0  0  0  0  0  0  0  0  0]\n",
            " [ 3  0  0  0  0  0  0  0 43  0  0  0  0  0  0  0  0  0  0  0  0  3  0  0\n",
            "   0  0  0  0  0  0  0  0  0  1  0  0  0  0  0  0  0  0  0  0  0  0]\n",
            " [ 2  2  0  0  0  0  0  0 43  0  0  0  0  0  0  0  0  0  0  0  0  2  0  0\n",
            "   0  0  0  0  0  0  0  1  0  0  0  0  0  0  0  0  0  0  0  0  0  0]\n",
            " [ 1  0  0  0  0  0  0  0 45  0  0  0  0  0  0  0  0  0  0  0  0  4  0  0\n",
            "   0  0  0  0  0  0  0  0  0  0  0  0  0  0  0  0  0  0  0  0  0  0]\n",
            " [ 1  0  0  0  0  0  0  0 45  0  0  0  0  0  0  0  0  0  0  0  0  4  0  0\n",
            "   0  0  0  0  0  0  0  0  0  0  0  0  0  0  0  0  0  0  0  0  0  0]\n",
            " [ 2  1  0  0  0  0  0  0 44  0  0  0  0  0  0  0  0  0  0  0  0  3  0  0\n",
            "   0  0  0  0  0  0  0  0  0  0  0  0  0  0  0  0  0  0  0  0  0  0]\n",
            " [ 1  0  0  0  0  0  0  0 44  0  0  0  0  0  0  0  0  0  0  0  0  4  0  0\n",
            "   0  0  0  0  0  0  0  0  0  1  0  0  0  0  0  0  0  0  0  0  0  0]\n",
            " [ 3  1  0  0  0  0  0  0 40  0  0  0  0  0  0  0  0  0  0  0  0  4  0  0\n",
            "   0  0  0  0  0  0  0  1  0  1  0  0  0  0  0  0  0  0  0  0  0  0]\n",
            " [ 3  0  0  0  0  0  0  0 46  0  0  0  0  0  0  0  0  0  0  0  0  1  0  0\n",
            "   0  0  0  0  0  0  0  0  0  0  0  0  0  0  0  0  0  0  0  0  0  0]\n",
            " [ 3  0  0  0  1  0  0  0 43  0  0  0  0  0  0  0  0  0  0  0  0  3  0  0\n",
            "   0  0  0  0  0  0  0  0  0  0  0  0  0  0  0  0  0  0  0  0  0  0]\n",
            " [ 2  1  0  0  0  0  0  0 44  0  0  0  0  0  0  0  0  0  0  0  0  3  0  0\n",
            "   0  0  0  0  0  0  0  0  0  0  0  0  0  0  0  0  0  0  0  0  0  0]\n",
            " [ 0  0  0  0  0  0  0  0 46  0  0  0  0  0  0  0  0  0  0  0  0  4  0  0\n",
            "   0  0  0  0  0  0  0  0  0  0  0  0  0  0  0  0  0  0  0  0  0  0]\n",
            " [ 0  0  0  0  0  0  0  0 47  0  0  0  0  0  0  0  0  0  0  0  0  3  0  0\n",
            "   0  0  0  0  0  0  0  0  0  0  0  0  0  0  0  0  0  0  0  0  0  0]\n",
            " [ 1  0  0  0  0  0  0  0 47  0  0  0  0  0  0  0  0  0  0  0  0  2  0  0\n",
            "   0  0  0  0  0  0  0  0  0  0  0  0  0  0  0  0  0  0  0  0  0  0]\n",
            " [ 1  0  0  0  0  0  0  0 46  0  0  0  0  0  0  0  0  0  0  0  0  3  0  0\n",
            "   0  0  0  0  0  0  0  0  0  0  0  0  0  0  0  0  0  0  0  0  0  0]\n",
            " [ 1  0  0  0  0  0  0  0 45  0  0  0  0  0  0  0  0  0  0  0  0  4  0  0\n",
            "   0  0  0  0  0  0  0  0  0  0  0  0  0  0  0  0  0  0  0  0  0  0]\n",
            " [ 0  1  0  0  1  0  0  0 45  0  0  0  0  0  0  0  0  0  0  0  0  3  0  0\n",
            "   0  0  0  0  0  0  0  0  0  0  0  0  0  0  0  0  0  0  0  0  0  0]\n",
            " [ 2  1  0  0  0  0  0  0 46  0  0  0  0  0  0  0  0  0  0  0  0  1  0  0\n",
            "   0  0  0  0  0  0  0  0  0  0  0  0  0  0  0  0  0  0  0  0  0  0]\n",
            " [ 2  0  0  0  0  0  0  0 43  0  0  0  0  0  0  0  0  0  0  0  0  5  0  0\n",
            "   0  0  0  0  0  0  0  0  0  0  0  0  0  0  0  0  0  0  0  0  0  0]\n",
            " [ 2  1  0  0  0  0  0  0 46  0  0  0  0  0  0  0  0  0  0  0  0  1  0  0\n",
            "   0  0  0  0  0  0  0  0  0  0  0  0  0  0  0  0  0  0  0  0  0  0]\n",
            " [ 2  0  0  0  0  0  0  0 40  0  0  0  0  0  0  0  0  0  0  0  0  8  0  0\n",
            "   0  0  0  0  0  0  0  0  0  0  0  0  0  0  0  0  0  0  0  0  0  0]\n",
            " [ 3  0  0  0  0  0  0  0 47  0  0  0  0  0  0  0  0  0  0  0  0  0  0  0\n",
            "   0  0  0  0  0  0  0  0  0  0  0  0  0  0  0  0  0  0  0  0  0  0]\n",
            " [ 2  0  0  0  0  0  0  0 43  0  0  0  0  0  0  0  0  0  0  0  0  4  0  0\n",
            "   0  0  0  0  0  0  0  1  0  0  0  0  0  0  0  0  0  0  0  0  0  0]\n",
            " [ 1  1  0  0  0  0  0  0 47  0  0  0  0  0  0  0  0  0  0  0  0  1  0  0\n",
            "   0  0  0  0  0  0  0  0  0  0  0  0  0  0  0  0  0  0  0  0  0  0]\n",
            " [ 0  0  0  0  0  0  0  0 49  0  0  0  0  0  0  0  0  0  0  0  0  1  0  0\n",
            "   0  0  0  0  0  0  0  0  0  0  0  0  0  0  0  0  0  0  0  0  0  0]\n",
            " [ 1  1  0  0  0  0  0  0 46  0  0  0  0  0  0  0  0  0  0  0  0  2  0  0\n",
            "   0  0  0  0  0  0  0  0  0  0  0  0  0  0  0  0  0  0  0  0  0  0]\n",
            " [ 1  0  0  0  1  0  0  0 45  0  0  0  0  0  0  0  0  0  0  0  0  2  0  0\n",
            "   0  0  0  0  0  0  0  0  0  1  0  0  0  0  0  0  0  0  0  0  0  0]\n",
            " [ 1  0  0  0  0  0  0  0 44  0  0  0  0  0  0  0  0  0  0  0  0  5  0  0\n",
            "   0  0  0  0  0  0  0  0  0  0  0  0  0  0  0  0  0  0  0  0  0  0]\n",
            " [ 1  0  0  0  0  0  0  0 47  0  0  0  0  0  0  0  0  0  0  0  0  1  0  0\n",
            "   1  0  0  0  0  0  0  0  0  0  0  0  0  0  0  0  0  0  0  0  0  0]\n",
            " [ 0  1  0  0  0  0  0  0 45  0  0  0  0  0  0  0  0  0  0  0  0  4  0  0\n",
            "   0  0  0  0  0  0  0  0  0  0  0  0  0  0  0  0  0  0  0  0  0  0]\n",
            " [ 1  1  0  0  0  0  0  0 47  0  0  0  0  0  0  0  0  0  0  0  0  1  0  0\n",
            "   0  0  0  0  0  0  0  0  0  0  0  0  0  0  0  0  0  0  0  0  0  0]\n",
            " [ 1  0  0  0  0  0  0  0 46  0  0  0  0  0  0  0  0  0  0  0  0  3  0  0\n",
            "   0  0  0  0  0  0  0  0  0  0  0  0  0  0  0  0  0  0  0  0  0  0]\n",
            " [ 2  1  0  0  0  0  0  0 42  0  0  0  0  0  0  0  0  0  0  0  0  5  0  0\n",
            "   0  0  0  0  0  0  0  0  0  0  0  0  0  0  0  0  0  0  0  0  0  0]\n",
            " [ 4  0  0  0  0  0  0  0 43  0  0  0  0  0  0  0  0  0  0  0  0  3  0  0\n",
            "   0  0  0  0  0  0  0  0  0  0  0  0  0  0  0  0  0  0  0  0  0  0]\n",
            " [ 1  0  0  0  0  0  0  0 44  0  0  0  0  0  0  0  0  0  0  0  0  4  0  0\n",
            "   0  0  0  0  0  0  0  0  0  1  0  0  0  0  0  0  0  0  0  0  0  0]\n",
            " [ 2  0  0  0  0  0  0  0 45  0  0  0  0  0  0  0  0  0  0  0  0  3  0  0\n",
            "   0  0  0  0  0  0  0  0  0  0  0  0  0  0  0  0  0  0  0  0  0  0]\n",
            " [ 1  0  0  0  0  0  0  0 47  0  0  0  0  0  0  0  0  0  0  0  0  2  0  0\n",
            "   0  0  0  0  0  0  0  0  0  0  0  0  0  0  0  0  0  0  0  0  0  0]]\n"
          ]
        }
      ]
    },
    {
      "cell_type": "code",
      "source": [
        "import matplotlib.pyplot as plt\n",
        "import seaborn as sns\n",
        "\n",
        "# Plot confusion matrix as a heat map\n",
        "fig, ax = plt.subplots(figsize=(10,10))\n",
        "sns.heatmap(confusion_mat, annot=True, fmt='d', xticklabels=classes, yticklabels=classes, cmap='Blues', ax=ax)\n",
        "plt.xlabel('Predicted Label')\n",
        "plt.ylabel('True Label')\n",
        "plt.title('Confusion Matrix')\n",
        "plt.show()\n"
      ],
      "metadata": {
        "colab": {
          "base_uri": "https://localhost:8080/",
          "height": 875
        },
        "id": "NOChuypj1vwo",
        "outputId": "0d41ef38-06ce-4e72-f3bc-fbf969f7fc31"
      },
      "execution_count": null,
      "outputs": [
        {
          "output_type": "display_data",
          "data": {
            "text/plain": [
              "<Figure size 1000x1000 with 2 Axes>"
            ],
            "image/png": "[encoded data removed]"
          },
          "metadata": {}
        }
      ]
    },
    {
      "cell_type": "markdown",
      "source": [
        "#Question 2"
      ],
      "metadata": {
        "id": "T0pbQ5APINsM"
      }
    },
    {
      "cell_type": "markdown",
      "source": [
        "<h3> References : <br>\n",
        "https://github.com/elena-ecn/optuna-optimization-for-PyTorch-CNN"
      ],
      "metadata": {
        "id": "tFj6f7qe_RVq"
      }
    },
    {
      "cell_type": "code",
      "execution_count": 1,
      "metadata": {
        "id": "Z9foUyAmwcMo",
        "outputId": "ddacd175-2543-4172-8911-688a22d979f9",
        "colab": {
          "base_uri": "https://localhost:8080/"
        }
      },
      "outputs": [
        {
          "output_type": "stream",
          "name": "stdout",
          "text": [
            "Looking in indexes: https://pypi.org/simple, https://us-python.pkg.dev/colab-wheels/public/simple/\n",
            "Collecting optuna\n",
            "  Downloading optuna-3.1.1-py3-none-any.whl (365 kB)\n",
            "\u001b[2K     \u001b[90m━━━━━━━━━━━━━━━━━━━━━━━━━━━━━━━━━━━━━━━\u001b[0m \u001b[32m365.7/365.7 kB\u001b[0m \u001b[31m6.4 MB/s\u001b[0m eta \u001b[36m0:00:00\u001b[0m\n",
            "\u001b[?25hCollecting colorlog\n",
            "  Downloading colorlog-6.7.0-py2.py3-none-any.whl (11 kB)\n",
            "Collecting alembic>=1.5.0\n",
            "  Downloading alembic-1.10.4-py3-none-any.whl (212 kB)\n",
            "\u001b[2K     \u001b[90m━━━━━━━━━━━━━━━━━━━━━━━━━━━━━━━━━━━━━━━\u001b[0m \u001b[32m212.9/212.9 kB\u001b[0m \u001b[31m8.9 MB/s\u001b[0m eta \u001b[36m0:00:00\u001b[0m\n",
            "\u001b[?25hRequirement already satisfied: packaging>=20.0 in /usr/local/lib/python3.9/dist-packages (from optuna) (23.1)\n",
            "Requirement already satisfied: sqlalchemy>=1.3.0 in /usr/local/lib/python3.9/dist-packages (from optuna) (2.0.10)\n",
            "Requirement already satisfied: tqdm in /usr/local/lib/python3.9/dist-packages (from optuna) (4.65.0)\n",
            "Requirement already satisfied: PyYAML in /usr/local/lib/python3.9/dist-packages (from optuna) (6.0)\n",
            "Collecting cmaes>=0.9.1\n",
            "  Downloading cmaes-0.9.1-py3-none-any.whl (21 kB)\n",
            "Requirement already satisfied: numpy in /usr/local/lib/python3.9/dist-packages (from optuna) (1.22.4)\n",
            "Collecting Mako\n",
            "  Downloading Mako-1.2.4-py3-none-any.whl (78 kB)\n",
            "\u001b[2K     \u001b[90m━━━━━━━━━━━━━━━━━━━━━━━━━━━━━━━━━━━━━━━━\u001b[0m \u001b[32m78.7/78.7 kB\u001b[0m \u001b[31m4.4 MB/s\u001b[0m eta \u001b[36m0:00:00\u001b[0m\n",
            "\u001b[?25hRequirement already satisfied: typing-extensions>=4 in /usr/local/lib/python3.9/dist-packages (from alembic>=1.5.0->optuna) (4.5.0)\n",
            "Requirement already satisfied: greenlet!=0.4.17 in /usr/local/lib/python3.9/dist-packages (from sqlalchemy>=1.3.0->optuna) (2.0.2)\n",
            "Requirement already satisfied: MarkupSafe>=0.9.2 in /usr/local/lib/python3.9/dist-packages (from Mako->alembic>=1.5.0->optuna) (2.1.2)\n",
            "Installing collected packages: Mako, colorlog, cmaes, alembic, optuna\n",
            "Successfully installed Mako-1.2.4 alembic-1.10.4 cmaes-0.9.1 colorlog-6.7.0 optuna-3.1.1\n"
          ]
        }
      ],
      "source": [
        "pip install optuna "
      ]
    },
    {
      "cell_type": "code",
      "execution_count": 3,
      "metadata": {
        "id": "mPWqW-ujE7by",
        "outputId": "1c04eca2-6eeb-481c-bb2d-a4b7bddcfe1e",
        "colab": {
          "base_uri": "https://localhost:8080/"
        }
      },
      "outputs": [
        {
          "output_type": "stream",
          "name": "stdout",
          "text": [
            "Looking in indexes: https://pypi.org/simple, https://us-python.pkg.dev/colab-wheels/public/simple/\n",
            "Requirement already satisfied: torch in /usr/local/lib/python3.9/dist-packages (2.0.0+cu118)\n",
            "Requirement already satisfied: triton==2.0.0 in /usr/local/lib/python3.9/dist-packages (from torch) (2.0.0)\n",
            "Requirement already satisfied: networkx in /usr/local/lib/python3.9/dist-packages (from torch) (3.1)\n",
            "Requirement already satisfied: typing-extensions in /usr/local/lib/python3.9/dist-packages (from torch) (4.5.0)\n",
            "Requirement already satisfied: jinja2 in /usr/local/lib/python3.9/dist-packages (from torch) (3.1.2)\n",
            "Requirement already satisfied: sympy in /usr/local/lib/python3.9/dist-packages (from torch) (1.11.1)\n",
            "Requirement already satisfied: filelock in /usr/local/lib/python3.9/dist-packages (from torch) (3.12.0)\n",
            "Requirement already satisfied: lit in /usr/local/lib/python3.9/dist-packages (from triton==2.0.0->torch) (16.0.2)\n",
            "Requirement already satisfied: cmake in /usr/local/lib/python3.9/dist-packages (from triton==2.0.0->torch) (3.25.2)\n",
            "Requirement already satisfied: MarkupSafe>=2.0 in /usr/local/lib/python3.9/dist-packages (from jinja2->torch) (2.1.2)\n",
            "Requirement already satisfied: mpmath>=0.19 in /usr/local/lib/python3.9/dist-packages (from sympy->torch) (1.3.0)\n",
            "Looking in indexes: https://pypi.org/simple, https://us-python.pkg.dev/colab-wheels/public/simple/\n",
            "Requirement already satisfied: torchvision in /usr/local/lib/python3.9/dist-packages (0.15.1+cu118)\n",
            "Requirement already satisfied: torch==2.0.0 in /usr/local/lib/python3.9/dist-packages (from torchvision) (2.0.0+cu118)\n",
            "Requirement already satisfied: pillow!=8.3.*,>=5.3.0 in /usr/local/lib/python3.9/dist-packages (from torchvision) (8.4.0)\n",
            "Requirement already satisfied: requests in /usr/local/lib/python3.9/dist-packages (from torchvision) (2.27.1)\n",
            "Requirement already satisfied: numpy in /usr/local/lib/python3.9/dist-packages (from torchvision) (1.22.4)\n",
            "Requirement already satisfied: sympy in /usr/local/lib/python3.9/dist-packages (from torch==2.0.0->torchvision) (1.11.1)\n",
            "Requirement already satisfied: filelock in /usr/local/lib/python3.9/dist-packages (from torch==2.0.0->torchvision) (3.12.0)\n",
            "Requirement already satisfied: typing-extensions in /usr/local/lib/python3.9/dist-packages (from torch==2.0.0->torchvision) (4.5.0)\n",
            "Requirement already satisfied: triton==2.0.0 in /usr/local/lib/python3.9/dist-packages (from torch==2.0.0->torchvision) (2.0.0)\n",
            "Requirement already satisfied: networkx in /usr/local/lib/python3.9/dist-packages (from torch==2.0.0->torchvision) (3.1)\n",
            "Requirement already satisfied: jinja2 in /usr/local/lib/python3.9/dist-packages (from torch==2.0.0->torchvision) (3.1.2)\n",
            "Requirement already satisfied: lit in /usr/local/lib/python3.9/dist-packages (from triton==2.0.0->torch==2.0.0->torchvision) (16.0.2)\n",
            "Requirement already satisfied: cmake in /usr/local/lib/python3.9/dist-packages (from triton==2.0.0->torch==2.0.0->torchvision) (3.25.2)\n",
            "Requirement already satisfied: urllib3<1.27,>=1.21.1 in /usr/local/lib/python3.9/dist-packages (from requests->torchvision) (1.26.15)\n",
            "Requirement already satisfied: idna<4,>=2.5 in /usr/local/lib/python3.9/dist-packages (from requests->torchvision) (3.4)\n",
            "Requirement already satisfied: certifi>=2017.4.17 in /usr/local/lib/python3.9/dist-packages (from requests->torchvision) (2022.12.7)\n",
            "Requirement already satisfied: charset-normalizer~=2.0.0 in /usr/local/lib/python3.9/dist-packages (from requests->torchvision) (2.0.12)\n",
            "Requirement already satisfied: MarkupSafe>=2.0 in /usr/local/lib/python3.9/dist-packages (from jinja2->torch==2.0.0->torchvision) (2.1.2)\n",
            "Requirement already satisfied: mpmath>=0.19 in /usr/local/lib/python3.9/dist-packages (from sympy->torch==2.0.0->torchvision) (1.3.0)\n"
          ]
        }
      ],
      "source": [
        "!pip install torch\n",
        "!pip install torchvision"
      ]
    },
    {
      "cell_type": "code",
      "execution_count": 4,
      "metadata": {
        "id": "NXdfeN7RE7bz"
      },
      "outputs": [],
      "source": [
        "import os\n",
        "import torch\n",
        "import torchvision\n",
        "import torch.nn as nn\n",
        "import torch.nn.functional as F\n",
        "import torch.optim as optim\n",
        "import optuna\n",
        "from optuna.trial import TrialState\n"
      ]
    },
    {
      "cell_type": "code",
      "execution_count": 5,
      "metadata": {
        "id": "IhUSCNTHE7bz"
      },
      "outputs": [],
      "source": [
        "device = torch.device(\"cuda\" if torch.cuda.is_available() else \"cpu\")\n"
      ]
    },
    {
      "cell_type": "code",
      "source": [
        "class Net(nn.Module):\n",
        "\n",
        "    def __init__(self, trial, num_conv_layers, num_filters, num_neurons=256, drop_conv2=0.3, drop_fc1=0.3):\n",
        "\n",
        "        super().__init__()\n",
        "        # Initialize parent class\n",
        "\n",
        "        in_size = 28\n",
        "        kernel_size = 3\n",
        "\n",
        "        # Define the convolutional layers\n",
        "        self.convs = nn.Sequential(\n",
        "            nn.Conv2d(1, num_filters[0], kernel_size=(3, 3), padding=1),\n",
        "            *[nn.Sequential(\n",
        "                nn.Conv2d(num_filters[i - 1], num_filters[i], kernel_size=(3, 3), padding=1),\n",
        "                nn.ReLU(),\n",
        "                nn.MaxPool2d(kernel_size=2)) if i % 2 == 1 else nn.Sequential(\n",
        "                nn.Conv2d(num_filters[i - 1], num_filters[i], kernel_size=(3, 3), padding=1),\n",
        "                nn.ReLU())\n",
        "              for i in range(1, num_conv_layers)\n",
        "            ]\n",
        "        )\n",
        "\n",
        "        out_size = (in_size - kernel_size + 2) + 1  # Size of the output kernel\n",
        "        out_size = out_size // 2  # Size after pooling\n",
        "\n",
        "        self.conv2_drop = nn.Dropout2d(p=drop_conv2)  # Dropout for conv2\n",
        "        self.out_feature = num_filters[-1] * out_size * out_size  # Size of flattened features\n",
        "        self.fc1 = nn.Linear(self.out_feature, num_neurons)  # Fully Connected layer 1\n",
        "        self.fc2 = nn.Linear(num_neurons, 10)  # Fully Connected layer 2\n",
        "        self.p1 = drop_fc1  # Dropout ratio for FC1\n",
        "\n",
        "        # Initialize weights with the He initialization\n",
        "        for conv in self.convs:\n",
        "            if isinstance(conv, nn.Conv2d):\n",
        "                nn.init.kaiming_normal_(conv.weight, nonlinearity='relu')\n",
        "                if conv.bias is not None:\n",
        "                    nn.init.constant_(conv.bias, 0)\n",
        "        nn.init.kaiming_normal_(self.fc1.weight, nonlinearity='relu')\n",
        "\n",
        "    def forward(self, x):\n",
        "        \"\"\"Forward propagation.\n",
        "\n",
        "        Parameters:\n",
        "            - x (torch.Tensor): Input tensor of size [N,1,28,28]\n",
        "        Returns:\n",
        "            - (torch.Tensor): The output tensor after forward propagation [N,10]\n",
        "        \"\"\"\n",
        "\n",
        "        x = self.convs(x)  # Convolution layers\n",
        "\n",
        "        x = self.conv2_drop(x[2])  # Dropout for Conv2\n",
        "        x = F.relu(F.max_pool2d(x, 2))  # Max pooling after Conv2\n",
        "        x = x.view(-1, self.out_feature)  # Flatten tensor\n",
        "        x = F.relu(self.fc1(x))  # Fully Connected layer 1\n",
        "        x = F.dropout(x, p=self.p1, training=self.training)  # Dropout after FC1\n",
        "        x = self.fc2(x)  # Fully Connected layer 2\n",
        "\n",
        "        return F.log_softmax(x, dim=1)  # log(softmax(x))\n"
      ],
      "metadata": {
        "id": "a_RnPWWsFpmD"
      },
      "execution_count": 6,
      "outputs": []
    },
    {
      "cell_type": "code",
      "source": [
        "def train(network, optimizer, train_loader, device, max_batches):\n",
        "\n",
        "    network.train()  # Set the module in training mode (only affects certain modules)\n",
        "\n",
        "    total_loss = 0.0\n",
        "    num_batches = 0\n",
        "\n",
        "    for data, target in train_loader:  # For each batch\n",
        "        if num_batches >= max_batches:\n",
        "            break\n",
        "\n",
        "        data, target = data.to(device), target.to(device)  # Move data to device\n",
        "\n",
        "        optimizer.zero_grad()  # Clear gradients\n",
        "\n",
        "        output = network(data)  # Forward propagation\n",
        "        loss = F.nll_loss(output, target)  # Compute loss\n",
        "        loss.backward()  # Compute gradients\n",
        "        optimizer.step()  # Update weights\n",
        "\n",
        "        total_loss += loss.item()\n",
        "        num_batches += 1\n",
        "\n",
        "    avg_loss = total_loss / num_batches\n",
        "    return avg_loss\n",
        "                                  # Update weights\n",
        "\n",
        "def test(network):\n",
        "    \n",
        "    network.eval()  # Set the module in evaluation mode (only affects certain modules)\n",
        "    correct = 0\n",
        "    num_batches = min(len(test_loader), (number_of_test_examples + batch_size_test - 1) // batch_size_test)\n",
        "    for batch_i in range(num_batches):\n",
        "        start_idx = batch_i * batch_size_test\n",
        "        end_idx = min(start_idx + batch_size_test, number_of_test_examples)\n",
        "        data, target = test_loader[start_idx:end_idx]\n",
        "        with torch.no_grad():  # Disable gradient calculation (when you are sure that you will not call Tensor.backward())\n",
        "            output = network(data.to(device))  # Forward propagation\n",
        "            pred = output.argmax(dim=1, keepdim=True)  # Find max value in each row, return indexes of max values\n",
        "            correct += pred.eq(target.to(device)).sum().item()  # Compute correct predictions\n",
        "    accuracy_test = correct / number_of_test_examples\n",
        "    return accuracy_test\n",
        "\n",
        "\n"
      ],
      "metadata": {
        "id": "6JRoe6AQFrEm"
      },
      "execution_count": null,
      "outputs": []
    },
    {
      "cell_type": "code",
      "source": [
        "def objective(trial, number_of_train_samples):\n",
        "    # Define range of values to be tested for the hyperparameters\n",
        "    num_conv_layers = trial.suggest_int(\"num_conv_layers\", 3, 6)  # Number of convolutional layers\n",
        "\n",
        "    num_filters = []\n",
        "    for i in range(num_conv_layers):\n",
        "        num_filters_i = trial.suggest_discrete_uniform(\"num_filter_\" + str(i), 16, 128, 16)\n",
        "        num_filters.append(int(num_filters_i))\n",
        "\n",
        "    model = Net(trial, num_conv_layers, num_filters).to(device)\n",
        "\n",
        "    n_epochs = trial.suggest_int(\"n_epochs\", 10, 50, 10)\n",
        "    lr = trial.suggest_loguniform(\"lr\", 0.0001, 0.1)\n",
        "    optimizer = torch.optim.Adam(model.parameters(), lr=lr)\n",
        "\n",
        "    for epoch in range(n_epochs):\n",
        "        train(model, optimizer, train_loader, device, number_of_train_samples)\n",
        "        accuracy = test(model)\n",
        "        trial.report(accuracy, epoch)\n",
        "        if trial.should_prune():\n",
        "            raise optuna.exceptions.TrialPruned()\n",
        "\n",
        "    return accuracy\n"
      ],
      "metadata": {
        "id": "rNLvHxYFFt7C"
      },
      "execution_count": null,
      "outputs": []
    },
    {
      "cell_type": "code",
      "source": [
        "import torch\n",
        "import os\n",
        "\n",
        "def initialize():\n",
        "    device = torch.device(\"cuda\" if torch.cuda.is_available() else \"cpu\")\n",
        "    batch_size_train = 64\n",
        "    batch_size_test = 64\n",
        "    number_of_trials = 100\n",
        "    limit_obs = False\n",
        "    \n",
        "    if limit_obs:\n",
        "        number_of_train_examples = 256 * batch_size_train\n",
        "        number_of_test_examples = 64 * batch_size_test\n",
        "    else:\n",
        "        number_of_train_examples = 60000\n",
        "        number_of_test_examples = 10000\n",
        "    \n",
        "    # Make runs repeatable\n",
        "    random_seed = 42\n",
        "    torch.backends.cudnn.enabled = False\n",
        "    torch.manual_seed(random_seed)\n",
        "\n",
        "    directory_name = 'files'\n",
        "    if not os.path.exists(directory_name):\n",
        "        os.mkdir(directory_name)\n",
        "\n",
        "    return device, batch_size_train, batch_size_test, number_of_trials, limit_obs, number_of_train_examples, number_of_test_examples, random_seed, directory_name\n"
      ],
      "metadata": {
        "id": "leIO3mNSFuUO"
      },
      "execution_count": null,
      "outputs": []
    },
    {
      "cell_type": "code",
      "source": [
        "device, batch_size_train, batch_size_test, number_of_trials, limit_obs, number_of_train_examples, number_of_test_examples, random_seed, directory_name = initialize()"
      ],
      "metadata": {
        "id": "RaunI3LhFwaf"
      },
      "execution_count": null,
      "outputs": []
    },
    {
      "cell_type": "code",
      "execution_count": null,
      "metadata": {
        "colab": {
          "base_uri": "https://localhost:8080/"
        },
        "id": "7Rj3KhjDAJ3p",
        "outputId": "d654bd79-4a75-409e-979d-2e8673fa7c03"
      },
      "outputs": [
        {
          "name": "stderr",
          "output_type": "stream",
          "text": [
            "\u001b[32m[I 2023-04-26 14:22:08,690]\u001b[0m A new study created in memory with name: no-name-e6d66408-f9f7-4e04-bf62-afc3e1f03b38\u001b[0m\n",
            "/tmp/ipykernel_8500/2728841743.py:151: FutureWarning: suggest_discrete_uniform has been deprecated in v3.0.0. This feature will be removed in v6.0.0. See https://github.com/optuna/optuna/releases/tag/v3.0.0. Use :func:`~optuna.trial.Trial.suggest_float` instead.\n",
            "  num_filters = [int(trial.suggest_discrete_uniform(\"num_filter_\"+str(i), 16, 128, 16))\n",
            "\u001b[32m[I 2023-04-26 14:33:28,548]\u001b[0m Trial 0 finished with value: 0.924299955368042 and parameters: {'num_conv_layers': 5, 'num_filter_0': 16.0, 'num_filter_1': 32.0, 'num_filter_2': 96.0, 'num_filter_3': 32.0, 'num_filter_4': 112.0, 'n_epochs': 30, 'lr': 0.0009838455970613026}. Best is trial 0 with value: 0.924299955368042.\u001b[0m\n",
            "\u001b[32m[I 2023-04-26 14:36:31,781]\u001b[0m Trial 1 finished with value: 0.9264999628067017 and parameters: {'num_conv_layers': 3, 'num_filter_0': 16.0, 'num_filter_1': 96.0, 'num_filter_2': 112.0, 'n_epochs': 10, 'lr': 0.00017870356629340242}. Best is trial 1 with value: 0.9264999628067017.\u001b[0m\n",
            "\u001b[32m[I 2023-04-26 14:40:23,131]\u001b[0m Trial 2 finished with value: 0.8748999834060669 and parameters: {'num_conv_layers': 5, 'num_filter_0': 48.0, 'num_filter_1': 32.0, 'num_filter_2': 32.0, 'num_filter_3': 80.0, 'num_filter_4': 112.0, 'n_epochs': 10, 'lr': 0.005475551463623531}. Best is trial 1 with value: 0.9264999628067017.\u001b[0m\n",
            "\u001b[32m[I 2023-04-26 14:47:20,919]\u001b[0m Trial 3 finished with value: 0.09999999403953552 and parameters: {'num_conv_layers': 4, 'num_filter_0': 32.0, 'num_filter_1': 32.0, 'num_filter_2': 48.0, 'num_filter_3': 80.0, 'n_epochs': 20, 'lr': 0.08449348513847796}. Best is trial 1 with value: 0.9264999628067017.\u001b[0m\n",
            "\u001b[32m[I 2023-04-26 14:51:10,418]\u001b[0m Trial 4 finished with value: 0.09999999403953552 and parameters: {'num_conv_layers': 5, 'num_filter_0': 48.0, 'num_filter_1': 48.0, 'num_filter_2': 128.0, 'num_filter_3': 96.0, 'num_filter_4': 32.0, 'n_epochs': 10, 'lr': 0.026825781949328862}. Best is trial 1 with value: 0.9264999628067017.\u001b[0m\n",
            "\u001b[32m[I 2023-04-26 14:51:34,421]\u001b[0m Trial 5 pruned. \u001b[0m\n",
            "\u001b[32m[I 2023-04-26 14:51:52,867]\u001b[0m Trial 6 pruned. \u001b[0m\n",
            "\u001b[32m[I 2023-04-26 14:52:15,811]\u001b[0m Trial 7 pruned. \u001b[0m\n",
            "\u001b[32m[I 2023-04-26 14:52:37,103]\u001b[0m Trial 8 pruned. \u001b[0m\n",
            "\u001b[32m[I 2023-04-26 14:53:02,001]\u001b[0m Trial 9 pruned. \u001b[0m\n",
            "\u001b[32m[I 2023-04-26 15:06:38,380]\u001b[0m Trial 10 finished with value: 0.9332999587059021 and parameters: {'num_conv_layers': 3, 'num_filter_0': 128.0, 'num_filter_1': 128.0, 'num_filter_2': 96.0, 'n_epochs': 40, 'lr': 0.00010741424122969193}. Best is trial 10 with value: 0.9332999587059021.\u001b[0m\n",
            "\u001b[32m[I 2023-04-26 15:20:11,334]\u001b[0m Trial 11 finished with value: 0.9369999766349792 and parameters: {'num_conv_layers': 3, 'num_filter_0': 128.0, 'num_filter_1': 128.0, 'num_filter_2': 96.0, 'n_epochs': 40, 'lr': 0.00012004653498416662}. Best is trial 11 with value: 0.9369999766349792.\u001b[0m\n",
            "\u001b[32m[I 2023-04-26 15:21:31,819]\u001b[0m Trial 12 pruned. \u001b[0m\n",
            "\u001b[32m[I 2023-04-26 15:22:15,251]\u001b[0m Trial 13 pruned. \u001b[0m\n",
            "\u001b[32m[I 2023-04-26 15:32:19,653]\u001b[0m Trial 14 pruned. \u001b[0m\n",
            "\u001b[32m[I 2023-04-26 15:33:16,611]\u001b[0m Trial 15 pruned. \u001b[0m\n",
            "\u001b[32m[I 2023-04-26 15:33:38,505]\u001b[0m Trial 16 pruned. \u001b[0m\n",
            "\u001b[32m[I 2023-04-26 15:41:58,359]\u001b[0m Trial 17 pruned. \u001b[0m\n",
            "\u001b[32m[I 2023-04-26 15:51:11,554]\u001b[0m Trial 18 pruned. \u001b[0m\n",
            "\u001b[32m[I 2023-04-26 15:55:13,444]\u001b[0m Trial 19 pruned. \u001b[0m\n",
            "\u001b[32m[I 2023-04-26 15:55:35,444]\u001b[0m Trial 20 pruned. \u001b[0m\n",
            "\u001b[32m[I 2023-04-26 16:04:57,864]\u001b[0m Trial 21 finished with value: 0.9336999654769897 and parameters: {'num_conv_layers': 3, 'num_filter_0': 80.0, 'num_filter_1': 96.0, 'num_filter_2': 112.0, 'n_epochs': 30, 'lr': 0.00017763845507526272}. Best is trial 11 with value: 0.9369999766349792.\u001b[0m\n",
            "\u001b[32m[I 2023-04-26 16:14:33,339]\u001b[0m Trial 22 finished with value: 0.9377999901771545 and parameters: {'num_conv_layers': 3, 'num_filter_0': 80.0, 'num_filter_1': 112.0, 'num_filter_2': 112.0, 'n_epochs': 30, 'lr': 0.0001855278632212517}. Best is trial 22 with value: 0.9377999901771545.\u001b[0m\n",
            "\u001b[32m[I 2023-04-26 16:15:28,867]\u001b[0m Trial 23 pruned. \u001b[0m\n",
            "\u001b[32m[I 2023-04-26 16:24:44,653]\u001b[0m Trial 24 pruned. \u001b[0m\n",
            "\u001b[32m[I 2023-04-26 16:25:07,292]\u001b[0m Trial 25 pruned. \u001b[0m\n",
            "\u001b[32m[I 2023-04-26 16:34:45,972]\u001b[0m Trial 26 finished with value: 0.9335999488830566 and parameters: {'num_conv_layers': 3, 'num_filter_0': 64.0, 'num_filter_1': 112.0, 'num_filter_2': 128.0, 'n_epochs': 30, 'lr': 0.000423999937943932}. Best is trial 22 with value: 0.9377999901771545.\u001b[0m\n",
            "\u001b[32m[I 2023-04-26 16:40:17,504]\u001b[0m Trial 27 pruned. \u001b[0m\n",
            "\u001b[32m[I 2023-04-26 16:41:35,741]\u001b[0m Trial 28 pruned. \u001b[0m\n",
            "\u001b[32m[I 2023-04-26 16:46:26,731]\u001b[0m Trial 29 pruned. \u001b[0m\n",
            "\u001b[32m[I 2023-04-26 16:47:12,769]\u001b[0m Trial 30 pruned. \u001b[0m\n",
            "\u001b[32m[I 2023-04-26 16:56:51,322]\u001b[0m Trial 31 finished with value: 0.9337999820709229 and parameters: {'num_conv_layers': 3, 'num_filter_0': 64.0, 'num_filter_1': 112.0, 'num_filter_2': 128.0, 'n_epochs': 30, 'lr': 0.000518922006102272}. Best is trial 22 with value: 0.9377999901771545.\u001b[0m\n",
            "\u001b[32m[I 2023-04-26 16:58:48,607]\u001b[0m Trial 32 pruned. \u001b[0m\n",
            "\u001b[32m[I 2023-04-26 16:59:26,467]\u001b[0m Trial 33 pruned. \u001b[0m\n",
            "\u001b[32m[I 2023-04-26 17:04:17,621]\u001b[0m Trial 34 pruned. \u001b[0m\n",
            "\u001b[32m[I 2023-04-26 17:04:56,863]\u001b[0m Trial 35 pruned. \u001b[0m\n",
            "\u001b[32m[I 2023-04-26 17:05:18,743]\u001b[0m Trial 36 pruned. \u001b[0m\n",
            "\u001b[32m[I 2023-04-26 17:05:44,897]\u001b[0m Trial 37 pruned. \u001b[0m\n",
            "\u001b[32m[I 2023-04-26 17:06:07,059]\u001b[0m Trial 38 pruned. \u001b[0m\n",
            "\u001b[32m[I 2023-04-26 17:09:49,806]\u001b[0m Trial 39 pruned. \u001b[0m\n",
            "\u001b[32m[I 2023-04-26 17:14:35,458]\u001b[0m Trial 40 pruned. \u001b[0m\n",
            "\u001b[32m[I 2023-04-26 17:24:12,639]\u001b[0m Trial 41 finished with value: 0.9343000054359436 and parameters: {'num_conv_layers': 3, 'num_filter_0': 64.0, 'num_filter_1': 112.0, 'num_filter_2': 128.0, 'n_epochs': 30, 'lr': 0.0004289561965368742}. Best is trial 22 with value: 0.9377999901771545.\u001b[0m\n",
            "\u001b[32m[I 2023-04-26 17:33:19,925]\u001b[0m Trial 42 finished with value: 0.9346999526023865 and parameters: {'num_conv_layers': 3, 'num_filter_0': 64.0, 'num_filter_1': 112.0, 'num_filter_2': 128.0, 'n_epochs': 30, 'lr': 0.0004088845111048085}. Best is trial 22 with value: 0.9377999901771545.\u001b[0m\n",
            "\u001b[32m[I 2023-04-26 17:42:56,126]\u001b[0m Trial 43 finished with value: 0.9351999759674072 and parameters: {'num_conv_layers': 3, 'num_filter_0': 64.0, 'num_filter_1': 112.0, 'num_filter_2': 128.0, 'n_epochs': 30, 'lr': 0.0004789773045828158}. Best is trial 22 with value: 0.9377999901771545.\u001b[0m\n",
            "\u001b[32m[I 2023-04-26 17:44:08,442]\u001b[0m Trial 44 pruned. \u001b[0m\n",
            "\u001b[32m[I 2023-04-26 17:47:32,156]\u001b[0m Trial 45 pruned. \u001b[0m\n",
            "\u001b[32m[I 2023-04-26 17:51:57,097]\u001b[0m Trial 46 pruned. \u001b[0m\n",
            "\u001b[32m[I 2023-04-26 18:01:36,779]\u001b[0m Trial 47 finished with value: 0.9347999691963196 and parameters: {'num_conv_layers': 3, 'num_filter_0': 48.0, 'num_filter_1': 112.0, 'num_filter_2': 128.0, 'n_epochs': 30, 'lr': 0.00031696272760200095}. Best is trial 22 with value: 0.9377999901771545.\u001b[0m\n",
            "\u001b[32m[I 2023-04-26 18:01:54,987]\u001b[0m Trial 48 pruned. \u001b[0m\n",
            "\u001b[32m[I 2023-04-26 18:02:21,424]\u001b[0m Trial 49 pruned. \u001b[0m\n",
            "\u001b[32m[I 2023-04-26 18:02:43,560]\u001b[0m Trial 50 pruned. \u001b[0m\n",
            "\u001b[32m[I 2023-04-26 18:12:18,448]\u001b[0m Trial 51 finished with value: 0.9384999871253967 and parameters: {'num_conv_layers': 3, 'num_filter_0': 64.0, 'num_filter_1': 112.0, 'num_filter_2': 128.0, 'n_epochs': 30, 'lr': 0.0004589245878674681}. Best is trial 51 with value: 0.9384999871253967.\u001b[0m\n",
            "\u001b[32m[I 2023-04-26 18:15:14,580]\u001b[0m Trial 52 pruned. \u001b[0m\n",
            "\u001b[32m[I 2023-04-26 18:16:50,427]\u001b[0m Trial 53 pruned. \u001b[0m\n",
            "\u001b[32m[I 2023-04-26 18:17:28,898]\u001b[0m Trial 54 pruned. \u001b[0m\n",
            "\u001b[32m[I 2023-04-26 18:17:48,595]\u001b[0m Trial 55 pruned. \u001b[0m\n",
            "\u001b[32m[I 2023-04-26 18:18:47,851]\u001b[0m Trial 56 pruned. \u001b[0m\n",
            "\u001b[32m[I 2023-04-26 18:23:36,803]\u001b[0m Trial 57 pruned. \u001b[0m\n",
            "\u001b[32m[I 2023-04-26 18:24:01,022]\u001b[0m Trial 58 pruned. \u001b[0m\n",
            "\u001b[32m[I 2023-04-26 18:34:30,258]\u001b[0m Trial 59 pruned. \u001b[0m\n",
            "\u001b[32m[I 2023-04-26 18:35:29,932]\u001b[0m Trial 60 pruned. \u001b[0m\n",
            "\u001b[32m[I 2023-04-26 18:45:16,009]\u001b[0m Trial 61 finished with value: 0.9350000023841858 and parameters: {'num_conv_layers': 3, 'num_filter_0': 64.0, 'num_filter_1': 112.0, 'num_filter_2': 128.0, 'n_epochs': 30, 'lr': 0.00039992141603456625}. Best is trial 51 with value: 0.9384999871253967.\u001b[0m\n",
            "\u001b[32m[I 2023-04-26 18:52:47,049]\u001b[0m Trial 62 pruned. \u001b[0m\n",
            "\u001b[32m[I 2023-04-26 18:53:45,964]\u001b[0m Trial 63 pruned. \u001b[0m\n",
            "\u001b[32m[I 2023-04-26 18:54:24,138]\u001b[0m Trial 64 pruned. \u001b[0m\n",
            "\u001b[32m[I 2023-04-26 18:54:43,605]\u001b[0m Trial 65 pruned. \u001b[0m\n",
            "\u001b[32m[I 2023-04-26 18:55:05,399]\u001b[0m Trial 66 pruned. \u001b[0m\n",
            "\u001b[32m[I 2023-04-26 18:56:04,050]\u001b[0m Trial 67 pruned. \u001b[0m\n",
            "\u001b[32m[I 2023-04-26 18:59:00,091]\u001b[0m Trial 68 pruned. \u001b[0m\n",
            "\u001b[32m[I 2023-04-26 18:59:22,503]\u001b[0m Trial 69 pruned. \u001b[0m\n",
            "\u001b[32m[I 2023-04-26 19:02:09,908]\u001b[0m Trial 70 pruned. \u001b[0m\n",
            "\u001b[32m[I 2023-04-26 19:02:49,316]\u001b[0m Trial 71 pruned. \u001b[0m\n",
            "\u001b[32m[I 2023-04-26 19:12:30,223]\u001b[0m Trial 72 finished with value: 0.933899998664856 and parameters: {'num_conv_layers': 3, 'num_filter_0': 64.0, 'num_filter_1': 112.0, 'num_filter_2': 128.0, 'n_epochs': 30, 'lr': 0.0003351049453247665}. Best is trial 51 with value: 0.9384999871253967.\u001b[0m\n",
            "\u001b[32m[I 2023-04-26 19:16:23,789]\u001b[0m Trial 73 pruned. \u001b[0m\n",
            "\u001b[32m[I 2023-04-26 19:17:03,110]\u001b[0m Trial 74 pruned. \u001b[0m\n",
            "\u001b[32m[I 2023-04-26 19:17:22,759]\u001b[0m Trial 75 pruned. \u001b[0m\n",
            "\u001b[32m[I 2023-04-26 19:18:02,757]\u001b[0m Trial 76 pruned. \u001b[0m\n",
            "\u001b[32m[I 2023-04-26 19:25:35,709]\u001b[0m Trial 77 pruned. \u001b[0m\n",
            "\u001b[32m[I 2023-04-26 19:25:55,497]\u001b[0m Trial 78 pruned. \u001b[0m\n",
            "\u001b[32m[I 2023-04-26 19:28:48,509]\u001b[0m Trial 79 pruned. \u001b[0m\n",
            "\u001b[32m[I 2023-04-26 19:29:15,480]\u001b[0m Trial 80 pruned. \u001b[0m\n",
            "\u001b[32m[I 2023-04-26 19:30:14,374]\u001b[0m Trial 81 pruned. \u001b[0m\n",
            "\u001b[32m[I 2023-04-26 19:37:38,255]\u001b[0m Trial 82 pruned. \u001b[0m\n",
            "\u001b[32m[I 2023-04-26 19:40:24,239]\u001b[0m Trial 83 pruned. \u001b[0m\n",
            "\u001b[32m[I 2023-04-26 19:41:22,946]\u001b[0m Trial 84 pruned. \u001b[0m\n",
            "\u001b[32m[I 2023-04-26 19:51:01,901]\u001b[0m Trial 85 finished with value: 0.9358999729156494 and parameters: {'num_conv_layers': 3, 'num_filter_0': 80.0, 'num_filter_1': 112.0, 'num_filter_2': 128.0, 'n_epochs': 30, 'lr': 0.0004234640208098698}. Best is trial 51 with value: 0.9384999871253967.\u001b[0m\n",
            "\u001b[32m[I 2023-04-26 19:58:28,749]\u001b[0m Trial 86 pruned. \u001b[0m\n",
            "\u001b[32m[I 2023-04-26 20:00:56,861]\u001b[0m Trial 87 pruned. \u001b[0m\n",
            "\u001b[32m[I 2023-04-26 20:01:32,102]\u001b[0m Trial 88 pruned. \u001b[0m\n",
            "\u001b[32m[I 2023-04-26 20:11:14,547]\u001b[0m Trial 89 finished with value: 0.9336999654769897 and parameters: {'num_conv_layers': 3, 'num_filter_0': 48.0, 'num_filter_1': 96.0, 'num_filter_2': 128.0, 'n_epochs': 30, 'lr': 0.00049513102324036}. Best is trial 51 with value: 0.9384999871253967.\u001b[0m\n",
            "\u001b[32m[I 2023-04-26 20:16:09,105]\u001b[0m Trial 90 pruned. \u001b[0m\n",
            "\u001b[32m[I 2023-04-26 20:16:48,023]\u001b[0m Trial 91 pruned. \u001b[0m\n",
            "\u001b[32m[I 2023-04-26 20:19:23,076]\u001b[0m Trial 92 pruned. \u001b[0m\n",
            "\u001b[32m[I 2023-04-26 20:19:42,755]\u001b[0m Trial 93 pruned. \u001b[0m\n",
            "\u001b[32m[I 2023-04-26 20:29:26,621]\u001b[0m Trial 94 finished with value: 0.9340999722480774 and parameters: {'num_conv_layers': 3, 'num_filter_0': 80.0, 'num_filter_1': 128.0, 'num_filter_2': 128.0, 'n_epochs': 30, 'lr': 0.00046772110574099863}. Best is trial 51 with value: 0.9384999871253967.\u001b[0m\n",
            "\u001b[32m[I 2023-04-26 20:30:05,852]\u001b[0m Trial 95 pruned. \u001b[0m\n",
            "\u001b[32m[I 2023-04-26 20:32:38,925]\u001b[0m Trial 96 pruned. \u001b[0m\n",
            "\u001b[32m[I 2023-04-26 20:42:26,643]\u001b[0m Trial 97 finished with value: 0.9362999796867371 and parameters: {'num_conv_layers': 3, 'num_filter_0': 80.0, 'num_filter_1': 128.0, 'num_filter_2': 128.0, 'n_epochs': 30, 'lr': 0.0005621657376785513}. Best is trial 51 with value: 0.9384999871253967.\u001b[0m\n",
            "\u001b[32m[I 2023-04-26 20:42:53,833]\u001b[0m Trial 98 pruned. \u001b[0m\n",
            "\u001b[32m[I 2023-04-26 20:44:49,415]\u001b[0m Trial 99 pruned. \u001b[0m\n"
          ]
        },
        {
          "name": "stdout",
          "output_type": "stream",
          "text": [
            "\n",
            "Study statistics: \n",
            "  Number of finished trials:  100\n",
            "  Number of pruned trials:  78\n",
            "  Number of complete trials:  22\n",
            "Best trial:\n",
            "  Value:  0.9384999871253967\n",
            "  Params: \n",
            "    num_conv_layers: 3\n",
            "    num_filter_0: 64.0\n",
            "    num_filter_1: 112.0\n",
            "    num_filter_2: 128.0\n",
            "    n_epochs: 30\n",
            "    lr: 0.0004589245878674681\n",
            "\n",
            "Overall Results (ordered by accuracy):\n",
            "     number   value  params_lr  params_n_epochs  params_num_conv_layers   \n",
            "3        3  0.1000   0.084493               20                       4  \\\n",
            "4        4  0.1000   0.026826               10                       5   \n",
            "2        2  0.8749   0.005476               10                       5   \n",
            "0        0  0.9243   0.000984               30                       5   \n",
            "1        1  0.9265   0.000179               10                       3   \n",
            "10      10  0.9333   0.000107               40                       3   \n",
            "26      26  0.9336   0.000424               30                       3   \n",
            "89      89  0.9337   0.000495               30                       3   \n",
            "21      21  0.9337   0.000178               30                       3   \n",
            "31      31  0.9338   0.000519               30                       3   \n",
            "72      72  0.9339   0.000335               30                       3   \n",
            "94      94  0.9341   0.000468               30                       3   \n",
            "41      41  0.9343   0.000429               30                       3   \n",
            "42      42  0.9347   0.000409               30                       3   \n",
            "47      47  0.9348   0.000317               30                       3   \n",
            "61      61  0.9350   0.000400               30                       3   \n",
            "43      43  0.9352   0.000479               30                       3   \n",
            "85      85  0.9359   0.000423               30                       3   \n",
            "97      97  0.9363   0.000562               30                       3   \n",
            "11      11  0.9370   0.000120               40                       3   \n",
            "22      22  0.9378   0.000186               30                       3   \n",
            "51      51  0.9385   0.000459               30                       3   \n",
            "\n",
            "    params_num_filter_0  params_num_filter_1  params_num_filter_2   \n",
            "3                  32.0                 32.0                 48.0  \\\n",
            "4                  48.0                 48.0                128.0   \n",
            "2                  48.0                 32.0                 32.0   \n",
            "0                  16.0                 32.0                 96.0   \n",
            "1                  16.0                 96.0                112.0   \n",
            "10                128.0                128.0                 96.0   \n",
            "26                 64.0                112.0                128.0   \n",
            "89                 48.0                 96.0                128.0   \n",
            "21                 80.0                 96.0                112.0   \n",
            "31                 64.0                112.0                128.0   \n",
            "72                 64.0                112.0                128.0   \n",
            "94                 80.0                128.0                128.0   \n",
            "41                 64.0                112.0                128.0   \n",
            "42                 64.0                112.0                128.0   \n",
            "47                 48.0                112.0                128.0   \n",
            "61                 64.0                112.0                128.0   \n",
            "43                 64.0                112.0                128.0   \n",
            "85                 80.0                112.0                128.0   \n",
            "97                 80.0                128.0                128.0   \n",
            "11                128.0                128.0                 96.0   \n",
            "22                 80.0                112.0                112.0   \n",
            "51                 64.0                112.0                128.0   \n",
            "\n",
            "    params_num_filter_3  params_num_filter_4  params_num_filter_5  \n",
            "3                  80.0                  NaN                  NaN  \n",
            "4                  96.0                 32.0                  NaN  \n",
            "2                  80.0                112.0                  NaN  \n",
            "0                  32.0                112.0                  NaN  \n",
            "1                   NaN                  NaN                  NaN  \n",
            "10                  NaN                  NaN                  NaN  \n",
            "26                  NaN                  NaN                  NaN  \n",
            "89                  NaN                  NaN                  NaN  \n",
            "21                  NaN                  NaN                  NaN  \n",
            "31                  NaN                  NaN                  NaN  \n",
            "72                  NaN                  NaN                  NaN  \n",
            "94                  NaN                  NaN                  NaN  \n",
            "41                  NaN                  NaN                  NaN  \n",
            "42                  NaN                  NaN                  NaN  \n",
            "47                  NaN                  NaN                  NaN  \n",
            "61                  NaN                  NaN                  NaN  \n",
            "43                  NaN                  NaN                  NaN  \n",
            "85                  NaN                  NaN                  NaN  \n",
            "97                  NaN                  NaN                  NaN  \n",
            "11                  NaN                  NaN                  NaN  \n",
            "22                  NaN                  NaN                  NaN  \n",
            "51                  NaN                  NaN                  NaN  \n",
            "\n",
            "Most important hyperparameters:\n",
            "  lr:             72.05%\n",
            "  num_filter_0:   13.27%\n",
            "  num_filter_2:   6.28%\n",
            "  num_filter_1:   5.26%\n",
            "  n_epochs:       3.14%\n",
            "  num_conv_layers:0.01%\n"
          ]
        }
      ],
      "source": [
        "train_loader = torch.utils.data.DataLoader(\n",
        "    torchvision.datasets.FashionMNIST('/files/', train=True, download=True,\n",
        "                                transform=torchvision.transforms.Compose([\n",
        "                                    torchvision.transforms.ToTensor(),\n",
        "                                    torchvision.transforms.Normalize((0.1307,), (0.3081,))])),\n",
        "    batch_size=batch_size_train, shuffle=True)\n",
        "\n",
        "test_loader = torch.utils.data.DataLoader(\n",
        "    torchvision.datasets.FashionMNIST('/files/', train=False, download=True,\n",
        "                                transform=torchvision.transforms.Compose([\n",
        "                                    torchvision.transforms.ToTensor(),\n",
        "                                    torchvision.transforms.Normalize((0.1307,), (0.3081,))])),\n",
        "    batch_size=batch_size_test, shuffle=True)\n",
        "\n",
        "# Create an Optuna study to maximize test accuracy\n",
        "study = optuna.create_study(direction=\"maximize\")\n",
        "study.optimize(objective, n_trials=number_of_trials)\n",
        "\n",
        "pruned_trials = study.get_trials(deepcopy=False, states=[TrialState.PRUNED])\n",
        "complete_trials = study.get_trials(deepcopy=False, states=[TrialState.COMPLETE])\n",
        "\n",
        "# Display the study statistics\n",
        "print(\"\\nStudy statistics: \")\n",
        "print(\"  Number of finished trials: \", len(study.trials))\n",
        "print(\"  Number of pruned trials: \", len(pruned_trials))\n",
        "print(\"  Number of complete trials: \", len(complete_trials))\n",
        "\n",
        "trial = study.best_trial\n",
        "print(\"Best trial:\")\n",
        "print(\"  Value: \", trial.value)\n",
        "print(\"  Params: \")\n",
        "for key, value in trial.params.items():\n",
        "    print(\"    {}: {}\".format(key, value))\n",
        "\n",
        "# Save results to csv file\n",
        "df = study.trials_dataframe().drop(['datetime_start', 'datetime_complete', 'duration'], axis=1)  # Exclude columns\n",
        "df = df.loc[df['state'] == 'COMPLETE']        # Keep only results that did not prune\n",
        "df = df.drop('state', axis=1)                 # Exclude state column\n",
        "df = df.sort_values('value')                  # Sort based on accuracy\n",
        "df.to_csv('optuna_results.csv', index=False)  # Save to csv file\n",
        "\n",
        "# Display results in a dataframe\n",
        "print(\"\\nOverall Results (ordered by accuracy):\\n {}\".format(df))\n",
        "\n",
        "# Find the most important hyperparameters\n",
        "most_important_parameters = optuna.importance.get_param_importances(study, target=None)\n",
        "\n",
        "# Display the most important hyperparameters\n",
        "print('\\nMost important hyperparameters:')\n",
        "for key, value in most_important_parameters.items():\n",
        "    print('  {}:{}{:.2f}%'.format(key, (15-len(key))*' ', value*100))"
      ]
    }
  ],
  "metadata": {
    "accelerator": "GPU",
    "colab": {
      "provenance": []
    },
    "gpuClass": "standard",
    "kernelspec": {
      "display_name": "Python 3",
      "name": "python3"
    },
    "language_info": {
      "codemirror_mode": {
        "name": "ipython",
        "version": 3
      },
      "file_extension": ".py",
      "mimetype": "text/x-python",
      "name": "python",
      "nbconvert_exporter": "python",
      "pygments_lexer": "ipython3",
      "version": "3.8.10"
    }
  },
  "nbformat": 4,
  "nbformat_minor": 0
}